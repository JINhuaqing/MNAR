{
 "cells": [
  {
   "cell_type": "code",
   "execution_count": 3,
   "id": "ca9e9e97",
   "metadata": {},
   "outputs": [],
   "source": [
    "from IPython import display\n",
    "import random\n",
    "import numpy as np\n",
    "import torch\n",
    "import pickle\n",
    "import timeit\n",
    "import time\n",
    "import argparse\n",
    "import pprint\n",
    "from pathlib import Path\n",
    "from confs import fn, fn2, fn22, LogFn, sigma\n",
    "#from tqdm import tqdm_notebook as tqdm\n",
    "from tqdm.notebook import tqdm\n",
    "import numpy.random as npr\n",
    "from utilsNew import *"
   ]
  },
  {
   "cell_type": "code",
   "execution_count": 4,
   "id": "393a68a6",
   "metadata": {},
   "outputs": [],
   "source": [
    "import matplotlib.pyplot as plt\n",
    "import pickle"
   ]
  },
  {
   "cell_type": "code",
   "execution_count": 5,
   "id": "5f8624de",
   "metadata": {},
   "outputs": [],
   "source": [
    "cudaid = 2\n",
    "torch.cuda.set_device(cudaid)\n",
    "torch.manual_seed(0) # cpu\n",
    "torch.cuda.manual_seed(0) #gpu\n",
    "np.random.seed(0) #numpy\n",
    "random.seed(0) #random and transforms\n",
    "torch.backends.cudnn.deterministic=True # cudnn"
   ]
  },
  {
   "cell_type": "code",
   "execution_count": 6,
   "id": "a233f753",
   "metadata": {},
   "outputs": [],
   "source": [
    "cuda = torch.cuda.is_available()\n",
    "if cuda:\n",
    "    torch.set_default_tensor_type(torch.cuda.DoubleTensor)"
   ]
  },
  {
   "cell_type": "code",
   "execution_count": 7,
   "id": "f602431e",
   "metadata": {},
   "outputs": [],
   "source": [
    "def emfRun(R, CT, Cb, etaT, etab, maxIter=100, is_plot=False, is_showPro=False):\n",
    "    LamT = LamTfn(CT, n, m, p)\n",
    "    Lamb = Lambfn(Cb, n, m)\n",
    "    betaOld, bThetaOld = betainit, bThetainit\n",
    "    \n",
    "    \n",
    "    Ynew = Y.clone()\n",
    "    Rb = (1-R.to_dense()).to_sparse()\n",
    "    \n",
    "    reCh = 10\n",
    "    Losses = []\n",
    "    betaDiffs = []\n",
    "    bThetaDiffs = []\n",
    "    betaErrs = []\n",
    "    bThetaErrs = []\n",
    "    betaL0s = []\n",
    "    bThetaRanks = []\n",
    "    \n",
    "    if is_showPro:\n",
    "        IterShowBar = tqdm(range(maxIter))\n",
    "    else:\n",
    "        IterShowBar = range(maxIter)\n",
    "    for t in IterShowBar:\n",
    "        # estimate Y at current parameters\n",
    "        Yhat = X.to_dense().matmul(betaOld) + bThetaOld\n",
    "        # impute the missing terms with estimated value\n",
    "        Ynew[Rb.to_dense().bool()] = Yhat[Rb.to_dense().bool()] \n",
    "        \n",
    "        t0 = time.time()\n",
    "        LvNow = emLossL(bThetaOld, betaOld, f, X, Ynew, is_logf=False)\n",
    "        t1 = time.time()\n",
    "       \n",
    "        # update beta\n",
    "        LpbvOld = emLossLpb(bThetaOld, betaOld, conDenfs[:3], X, Ynew)\n",
    "        betaNewRaw = betaOld - etab * LpbvOld\n",
    "        betaNew = SoftTO(betaNewRaw, etab*Lamb)\n",
    "       \n",
    "        t2 = time.time()\n",
    "        LpTvOld = emLossLpT(bThetaOld, betaNew, conDenfs[:3], X, Ynew)\n",
    "        t3 = time.time()\n",
    "        svdres = torch.svd_lowrank(bThetaOld-LpTvOld*etaT, q=10) # it can be very  fast\n",
    "        U, S, V =  svdres\n",
    "        softS = (S-LamT*etaT).clamp_min(0)\n",
    "        bThetaNew = U.matmul(torch.diag(softS)).matmul(V.t())\n",
    "        \n",
    "        LossNow = LossWP(LvNow, softS, betaNew, LamT, Lamb)\n",
    "        Losses.append(LossNow.item())\n",
    "        t4 = time.time()\n",
    "        \n",
    "        ts = np.array([t0, t1, t2, t3, t4])\n",
    "        #print(np.diff(ts), torch.matrix_rank(bThetaOld))\n",
    "    \n",
    "        if t >= 1:\n",
    "            Lk1 = Losses[-1]\n",
    "            Lk = Losses[-2]\n",
    "            reCh = np.abs(Lk1-Lk)/np.max(np.abs((Lk, Lk1, 1))) \n",
    "        betaDiff = (betaOld-betaNew).norm().item()/(betaNew.norm().item()+1e-6)\n",
    "        bThetaDiff = (bThetaOld-bThetaNew).norm().item()/(bThetaNew.norm().item()+1e-6)\n",
    "        betaDiffs.append(betaDiff)\n",
    "        bThetaDiffs.append(bThetaDiff)\n",
    "        betaErrs.append((betaNew-beta0).norm().item())\n",
    "        bThetaErrs.append((bThetaNew-bTheta0).norm().item())\n",
    "        betaL0s.append(len(torch.nonzero(betaNew)))\n",
    "        #bThetaRanks.append(torch.linalg.matrix_rank(bThetaNew).item())\n",
    "        \n",
    "        betaOld, bThetaOld = betaNew, bThetaNew \n",
    "        etaT = etaT * 0.96\n",
    "        etab = etab * 0.95\n",
    "        \n",
    "        \n",
    "        # plot res\n",
    "        if t >= 1 and is_plot:\n",
    "            plt.figure(figsize=[15, 10])\n",
    "            \n",
    "            plt.subplot(231)\n",
    "            plt.xlim([0, maxIter])\n",
    "            #plt.ylim([-10, 5])\n",
    "            plt.title(\"Loss Diff\")\n",
    "            lossDifs = np.log(np.abs(np.diff(Losses)))\n",
    "            plt.plot(list(range(0, t)), lossDifs)\n",
    "            plt.scatter(t-1, lossDifs[-1], color=\"red\", s=20)\n",
    "            plt.axhline(y=np.log(tol), color=\"green\", linewidth=2, linestyle='--')\n",
    "            \n",
    "            plt.subplot(232)\n",
    "            plt.xlim([0, maxIter])\n",
    "            #plt.ylim([-5, 0])\n",
    "            plt.title(\"Beta Err\")\n",
    "            betaErrsArr = np.log(np.array(betaErrs))\n",
    "            plt.plot(list(range(0, t+1)), betaErrsArr)\n",
    "            plt.scatter(t, betaErrsArr[-1], color=\"red\", s=20)\n",
    "            plt.text(t, betaErrsArr[-1], f\"Error is {np.exp(betaErrsArr[-1]):.3e}\")\n",
    "            \n",
    "            plt.subplot(233)\n",
    "            plt.xlim([0, maxIter])\n",
    "            #plt.ylim([-5, 0])\n",
    "            plt.title(\"Theta Err\")\n",
    "            bThetaErrsArr = np.log(np.array(bThetaErrs))\n",
    "            plt.plot(list(range(0, t+1)), bThetaErrsArr)\n",
    "            plt.scatter(t, bThetaErrsArr[-1], color=\"red\", s=20)\n",
    "            plt.text(t, bThetaErrsArr[-1], f\"Error is {np.exp(bThetaErrsArr[-1]):.3e}\")\n",
    "            \n",
    "            plt.subplot(235)\n",
    "            plt.xlim([0, maxIter])\n",
    "            #plt.ylim([0, p])\n",
    "            plt.title(\"Beta L0\")\n",
    "            plt.plot(list(range(0, t+1)), betaL0s)\n",
    "            plt.scatter(t, betaL0s[-1], color=\"red\", s=20)\n",
    "            plt.text(t, betaL0s[-1], f\"L0 norm is {betaL0s[-1]:.0f}\")\n",
    "            plt.axhline(y=5, color=\"green\", linewidth=2, linestyle='--')\n",
    "            \n",
    "            #plt.subplot(236)\n",
    "            #plt.xlim([0, maxIter])\n",
    "            ##plt.ylim([0, np.min([n, m])])\n",
    "            #plt.title(\"Theta Rank\")\n",
    "            #plt.plot(list(range(0, t+1)), bThetaRanks)\n",
    "            #plt.scatter(t, bThetaRanks[-1], color=\"red\", s=20)\n",
    "            #plt.text(t, bThetaRanks[-1], f\"rank is {bThetaRanks[-1]:.0f}\")\n",
    "            #plt.axhline(y=5, color=\"green\", linewidth=2, linestyle='--')\n",
    "            \n",
    "            #if (reCh >= tol) and ((bThetaDiff >= tolT) or (betaDiff >= tolb)) and (t<=(maxIter-1)):\n",
    "            display.clear_output(wait=True)\n",
    "            plt.pause(1e-7)\n",
    "            \n",
    "        if (reCh < tol):\n",
    "            break\n",
    "        \n",
    "        if (bThetaDiff < tolT) and (betaDiff < tolb):\n",
    "            break\n",
    "    \n",
    "    res = {}\n",
    "    res[\"beta\"] = betaNew.cpu().numpy()\n",
    "    res[\"bTheta\"] = bThetaNew.cpu().numpy()\n",
    "    res[\"IterNum\"] = t\n",
    "    res[\"betaDiffs\"] = betaDiffs\n",
    "    res[\"bThetaDiffs\"] = bThetaDiffs\n",
    "    res[\"betaErrs\"] = betaErrs\n",
    "    res[\"bThetaErrs\"] = bThetaErrs\n",
    "    res[\"loss\"] = Losses\n",
    "    res[\"betaNorm0\"] = len(torch.nonzero(betaNew))\n",
    "    #res[\"bThetaRank\"] = torch.linalg.matrix_rank(bThetaNew).item()\n",
    "    return res"
   ]
  },
  {
   "cell_type": "code",
   "execution_count": 8,
   "id": "33b311f4",
   "metadata": {},
   "outputs": [],
   "source": [
    "def marfRun(R, CT, Cb, etaT, etab, maxIter=100, is_plot=False, is_showPro=False):\n",
    "    LamT = LamTfn(CT, n, m, p)\n",
    "    Lamb = Lambfn(Cb, n, m)\n",
    "    betaOld, bThetaOld = betainit, bThetainit\n",
    "    \n",
    "    \n",
    "    reCh = 10\n",
    "    Losses = []\n",
    "    betaDiffs = []\n",
    "    bThetaDiffs = []\n",
    "    betaErrs = []\n",
    "    bThetaErrs = []\n",
    "    betaL0s = []\n",
    "    bThetaRanks = []\n",
    "    \n",
    "    if is_showPro:\n",
    "        IterShowBar = tqdm(range(maxIter))\n",
    "    else:\n",
    "        IterShowBar = range(maxIter)\n",
    "    for t in IterShowBar:\n",
    "        t0 = time.time()\n",
    "        #LvNow = marLinearLossL(X, Y, R, bThetaOld, betaOld, sigma=sigmaY) \n",
    "        LvNow = marLossL(bThetaOld, betaOld, f, X, Y, R, is_logf=False)\n",
    "        t1 = time.time()\n",
    "       \n",
    "        # update beta\n",
    "        LpbvOld = marLossLpb(bThetaOld, betaOld, conDenfs[:3], X, Y, R)\n",
    "        betaNewRaw = betaOld - etab * LpbvOld\n",
    "        #betaNewRaw = marLinearUpdateBeta(X, Y, R, bThetaOld)\n",
    "        betaNew = SoftTO(betaNewRaw, etab*Lamb)\n",
    "       \n",
    "        t2 = time.time()\n",
    "        LpTvOld = marLossLpT(bThetaOld, betaNew, conDenfs[:3], X, Y, R)\n",
    "        #bThetaNewRaw = marLinearUpdateTheta(X, Y, R, bThetaOld, betaNew)\n",
    "        t3 = time.time()\n",
    "        #svdres = torch.svd(bThetaNewRaw)\n",
    "        svdres = torch.svd_lowrank(bThetaOld-LpTvOld*etaT, q=10) # it can be very  fast\n",
    "        #svdres = torch.svd(bThetaOld-LpTvOld*etaT)\n",
    "        U, S, V =  svdres\n",
    "        softS = (S-LamT*etaT).clamp_min(0)\n",
    "        bThetaNew = U.matmul(torch.diag(softS)).matmul(V.t())\n",
    "        \n",
    "        LossNow = LossWP(LvNow, softS, betaNew, LamT, Lamb)\n",
    "        Losses.append(LossNow.item())\n",
    "        t4 = time.time()\n",
    "        \n",
    "        ts = np.array([t0, t1, t2, t3, t4])\n",
    "        #print(np.diff(ts), torch.matrix_rank(bThetaOld))\n",
    "    \n",
    "        if t >= 1:\n",
    "            Lk1 = Losses[-1]\n",
    "            Lk = Losses[-2]\n",
    "            reCh = np.abs(Lk1-Lk)/np.max(np.abs((Lk, Lk1, 1))) \n",
    "        betaDiff = (betaOld-betaNew).norm().item()/(betaNew.norm().item()+1e-6)\n",
    "        bThetaDiff = (bThetaOld-bThetaNew).norm().item()/(bThetaNew.norm().item()+1e-6)\n",
    "        betaDiffs.append(betaDiff)\n",
    "        bThetaDiffs.append(bThetaDiff)\n",
    "        betaErrs.append((betaNew-beta0).norm().item())\n",
    "        bThetaErrs.append((bThetaNew-bTheta0).norm().item())\n",
    "        betaL0s.append(len(torch.nonzero(betaNew)))\n",
    "        #bThetaRanks.append(torch.linalg.matrix_rank(bThetaNew).item())\n",
    "        \n",
    "        betaOld, bThetaOld = betaNew, bThetaNew \n",
    "        etaT = etaT * 0.96\n",
    "        etab = etab * 0.95\n",
    "        \n",
    "        \n",
    "        # plot res\n",
    "        if t >= 1 and is_plot:\n",
    "            plt.figure(figsize=[15, 10])\n",
    "            \n",
    "            plt.subplot(231)\n",
    "            plt.xlim([0, maxIter])\n",
    "            #plt.ylim([-10, 5])\n",
    "            plt.title(\"Loss Diff\")\n",
    "            lossDifs = np.log(np.abs(np.diff(Losses)))\n",
    "            plt.plot(list(range(0, t)), lossDifs)\n",
    "            plt.scatter(t-1, lossDifs[-1], color=\"red\", s=20)\n",
    "            plt.axhline(y=np.log(tol), color=\"green\", linewidth=2, linestyle='--')\n",
    "            \n",
    "            plt.subplot(232)\n",
    "            plt.xlim([0, maxIter])\n",
    "            #plt.ylim([-5, 0])\n",
    "            plt.title(\"Beta Err\")\n",
    "            betaErrsArr = np.log(np.array(betaErrs))\n",
    "            plt.plot(list(range(0, t+1)), betaErrsArr)\n",
    "            plt.scatter(t, betaErrsArr[-1], color=\"red\", s=20)\n",
    "            plt.text(t, betaErrsArr[-1], f\"Error is {np.exp(betaErrsArr[-1]):.3e}\")\n",
    "            \n",
    "            plt.subplot(233)\n",
    "            plt.xlim([0, maxIter])\n",
    "            #plt.ylim([-5, 0])\n",
    "            plt.title(\"Theta Err\")\n",
    "            bThetaErrsArr = np.log(np.array(bThetaErrs))\n",
    "            plt.plot(list(range(0, t+1)), bThetaErrsArr)\n",
    "            plt.scatter(t, bThetaErrsArr[-1], color=\"red\", s=20)\n",
    "            plt.text(t, bThetaErrsArr[-1], f\"Error is {np.exp(bThetaErrsArr[-1]):.3e}\")\n",
    "            \n",
    "            plt.subplot(235)\n",
    "            plt.xlim([0, maxIter])\n",
    "            #plt.ylim([0, p])\n",
    "            plt.title(\"Beta L0\")\n",
    "            plt.plot(list(range(0, t+1)), betaL0s)\n",
    "            plt.scatter(t, betaL0s[-1], color=\"red\", s=20)\n",
    "            plt.text(t, betaL0s[-1], f\"L0 norm is {betaL0s[-1]:.0f}\")\n",
    "            plt.axhline(y=5, color=\"green\", linewidth=2, linestyle='--')\n",
    "            \n",
    "            plt.subplot(236)\n",
    "            plt.xlim([0, maxIter])\n",
    "            #plt.ylim([0, np.min([n, m])])\n",
    "            plt.title(\"Theta Rank\")\n",
    "            plt.plot(list(range(0, t+1)), bThetaRanks)\n",
    "            plt.scatter(t, bThetaRanks[-1], color=\"red\", s=20)\n",
    "            plt.text(t, bThetaRanks[-1], f\"rank is {bThetaRanks[-1]:.0f}\")\n",
    "            plt.axhline(y=5, color=\"green\", linewidth=2, linestyle='--')\n",
    "            \n",
    "            #if (reCh >= tol) and ((bThetaDiff >= tolT) or (betaDiff >= tolb)) and (t<=(maxIter-1)):\n",
    "            display.clear_output(wait=True)\n",
    "            plt.pause(1e-7)\n",
    "            \n",
    "        if (reCh < tol):\n",
    "            break\n",
    "        \n",
    "        if (bThetaDiff < tolT) and (betaDiff < tolb):\n",
    "            break\n",
    "    \n",
    "    res = {}\n",
    "    res[\"beta\"] = betaNew.cpu().numpy()\n",
    "    res[\"bTheta\"] = bThetaNew.cpu().numpy()\n",
    "    res[\"IterNum\"] = t\n",
    "    res[\"betaDiffs\"] = betaDiffs\n",
    "    res[\"bThetaDiffs\"] = bThetaDiffs\n",
    "    res[\"betaErrs\"] = betaErrs\n",
    "    res[\"bThetaErrs\"] = bThetaErrs\n",
    "    res[\"loss\"] = Losses\n",
    "    res[\"betaNorm0\"] = len(torch.nonzero(betaNew))\n",
    "    #res[\"bThetaRank\"] = torch.linalg.matrix_rank(bThetaNew).item()\n",
    "    return res"
   ]
  },
  {
   "cell_type": "code",
   "execution_count": 9,
   "id": "a8296057",
   "metadata": {},
   "outputs": [],
   "source": [
    "def fRun(R, CT, Cb, etaT, etab, maxIter=100, is_plot=False, is_showPro=False):\n",
    "    LamT = LamTfn(CT, n, m, p)\n",
    "    Lamb = Lambfn(Cb, n, m)\n",
    "    betaOld, bThetaOld = betainit, bThetainit\n",
    "    \n",
    "    \n",
    "    reCh = 10\n",
    "    Losses = []\n",
    "    betaDiffs = []\n",
    "    bThetaDiffs = []\n",
    "    betaErrs = []\n",
    "    bThetaErrs = []\n",
    "    betaL0s = []\n",
    "    bThetaRanks = []\n",
    "    \n",
    "    if is_showPro:\n",
    "        IterShowBar = tqdm(range(maxIter))\n",
    "    else:\n",
    "        IterShowBar = range(maxIter)\n",
    "    for t in IterShowBar:\n",
    "        t0 = time.time()\n",
    "        LvNow = lossLBern(bThetaOld, betaOld, f, X, Y, R, probs=prob, fct=fct, is_logf=False)\n",
    "        \n",
    "        t1 = time.time()\n",
    "        # update beta\n",
    "        LpbvOld = lossLpbBern(bThetaOld, betaOld, conDenfs[:3], X, Y, R, probs=prob, fct=fct)\n",
    "        betaNewRaw = betaOld - etab * LpbvOld\n",
    "        betaNew = SoftTO(betaNewRaw, etab*Lamb)\n",
    "       \n",
    "        t2 = time.time()\n",
    "        LpTvOld = lossLpTBern(bThetaOld, betaNew, conDenfs[:3], X, Y, R, probs=prob, fct=fct)\n",
    "       \n",
    "        t3 = time.time()\n",
    "        # update Theta\n",
    "        #svdres = torch.svd(bThetaOld-LpTvOld*etaT)\n",
    "        svdres = torch.svd_lowrank(bThetaOld-LpTvOld*etaT, q=10) # it can be very  fast\n",
    "        U, S, V =  svdres\n",
    "        softS = (S-LamT*etaT).clamp_min(0)\n",
    "        bThetaNew = U.matmul(torch.diag(softS)).matmul(V.t())\n",
    "        \n",
    "        LossNow = LossWP(LvNow, softS, betaNew, LamT, Lamb)\n",
    "        Losses.append(LossNow.item())\n",
    "        t4 = time.time()\n",
    "        \n",
    "        ts = np.array([t0, t1, t2, t3, t4])\n",
    "        #print(np.diff(ts), torch.matrix_rank(bThetaOld))\n",
    "    \n",
    "        if t >= 1:\n",
    "            Lk1 = Losses[-1]\n",
    "            Lk = Losses[-2]\n",
    "            reCh = np.abs(Lk1-Lk)/np.max(np.abs((Lk, Lk1, 1))) \n",
    "        betaDiff = (betaOld-betaNew).norm().item()/(betaNew.norm().item()+1e-6)\n",
    "        bThetaDiff = (bThetaOld-bThetaNew).norm().item()/(bThetaNew.norm().item()+1e-6)\n",
    "        betaDiffs.append(betaDiff)\n",
    "        bThetaDiffs.append(bThetaDiff)\n",
    "        betaErrs.append((betaNew-beta0).norm().item())\n",
    "        bThetaErrs.append((bThetaNew-bTheta0).norm().item())\n",
    "        betaL0s.append(len(torch.nonzero(betaNew)))\n",
    "        #bThetaRanks.append(torch.linalg.matrix_rank(bThetaNew).item())\n",
    "        \n",
    "        betaOld, bThetaOld = betaNew, bThetaNew \n",
    "        etaT = etaT * 0.96\n",
    "        etab = etab * 0.95\n",
    "        \n",
    "        \n",
    "        # plot res\n",
    "        if t >= 1 and is_plot:\n",
    "            plt.figure(figsize=[15, 10])\n",
    "            \n",
    "            plt.subplot(231)\n",
    "            plt.xlim([0, maxIter])\n",
    "            #plt.ylim([-10, 5])\n",
    "            plt.title(\"Loss Diff\")\n",
    "            lossDifs = np.log(np.abs(np.diff(Losses)))\n",
    "            plt.plot(list(range(0, t)), lossDifs)\n",
    "            plt.scatter(t-1, lossDifs[-1], color=\"red\", s=20)\n",
    "            plt.axhline(y=np.log(tol), color=\"green\", linewidth=2, linestyle='--')\n",
    "            \n",
    "            plt.subplot(232)\n",
    "            plt.xlim([0, maxIter])\n",
    "            #plt.ylim([-5, 0])\n",
    "            plt.title(\"Beta Err\")\n",
    "            betaErrsArr = np.log(np.array(betaErrs))\n",
    "            plt.plot(list(range(0, t+1)), betaErrsArr)\n",
    "            plt.scatter(t, betaErrsArr[-1], color=\"red\", s=20)\n",
    "            plt.text(t, betaErrsArr[-1], f\"Error is {np.exp(betaErrsArr[-1]):.3e}\")\n",
    "            \n",
    "            plt.subplot(233)\n",
    "            plt.xlim([0, maxIter])\n",
    "            #plt.ylim([-5, 0])\n",
    "            plt.title(\"Theta Err\")\n",
    "            bThetaErrsArr = np.log(np.array(bThetaErrs))\n",
    "            plt.plot(list(range(0, t+1)), bThetaErrsArr)\n",
    "            plt.scatter(t, bThetaErrsArr[-1], color=\"red\", s=20)\n",
    "            plt.text(t, bThetaErrsArr[-1], f\"Error is {np.exp(bThetaErrsArr[-1]):.3e}\")\n",
    "            \n",
    "            plt.subplot(235)\n",
    "            plt.xlim([0, maxIter])\n",
    "            #plt.ylim([0, p])\n",
    "            plt.title(\"Beta L0\")\n",
    "            plt.plot(list(range(0, t+1)), betaL0s)\n",
    "            plt.scatter(t, betaL0s[-1], color=\"red\", s=20)\n",
    "            plt.text(t, betaL0s[-1], f\"L0 norm is {betaL0s[-1]:.0f}\")\n",
    "            plt.axhline(y=5, color=\"green\", linewidth=2, linestyle='--')\n",
    "            \n",
    "            # plt.subplot(236)\n",
    "            # plt.xlim([0, maxIter])\n",
    "            # #plt.ylim([0, np.min([n, m])])\n",
    "            # plt.title(\"Theta Rank\")\n",
    "            # plt.plot(list(range(0, t+1)), bThetaRanks)\n",
    "            # plt.scatter(t, bThetaRanks[-1], color=\"red\", s=20)\n",
    "            # plt.text(t, bThetaRanks[-1], f\"rank is {bThetaRanks[-1]:.0f}\")\n",
    "            # plt.axhline(y=5, color=\"green\", linewidth=2, linestyle='--')\n",
    "            \n",
    "            #if (reCh >= tol) and ((bThetaDiff >= tolT) or (betaDiff >= tolb)) and (t<=(maxIter-1)):\n",
    "            display.clear_output(wait=True)\n",
    "            plt.pause(1e-7)\n",
    "            \n",
    "        if (reCh < tol):\n",
    "            break\n",
    "        if (bThetaDiff < tolT) and (betaDiff < tolb):\n",
    "            break\n",
    "    \n",
    "    res = {}\n",
    "    res[\"beta\"] = betaNew.cpu().numpy()\n",
    "    res[\"bTheta\"] = bThetaNew.cpu().numpy()\n",
    "    res[\"IterNum\"] = t\n",
    "    res[\"betaDiffs\"] = betaDiffs\n",
    "    res[\"bThetaDiffs\"] = bThetaDiffs\n",
    "    res[\"betaErrs\"] = betaErrs\n",
    "    res[\"bThetaErrs\"] = bThetaErrs\n",
    "    res[\"loss\"] = Losses\n",
    "    res[\"betaNorm0\"] = len(torch.nonzero(betaNew))\n",
    "    #res[\"bThetaRank\"] = torch.linalg.matrix_rank(bThetaNew).item()\n",
    "    return res"
   ]
  },
  {
   "cell_type": "code",
   "execution_count": 10,
   "id": "7f84d02c",
   "metadata": {},
   "outputs": [],
   "source": [
    "def genR2(Y, D=3):\n",
    "    probs = torch.zeros_like(Y)\n",
    "    Ystd = Y - torch.mean(Y)\n",
    "    probs = torch.exp(Ystd - D)\n",
    "    probs = probs/(1 + probs)\n",
    "    #probs[Ystd<0]\n",
    "    uniSps = torch.rand_like(probs)\n",
    "    R = uniSps <= probs\n",
    "    R = R.type_as(Y).to_sparse()\n",
    "    return R"
   ]
  },
  {
   "cell_type": "code",
   "execution_count": 9,
   "id": "8be96cd6",
   "metadata": {},
   "outputs": [
    {
     "data": {
      "text/plain": [
       "tensor(0.1032)"
      ]
     },
     "execution_count": 9,
     "metadata": {},
     "output_type": "execute_result"
    }
   ],
   "source": [
    "n = m = 100\n",
    "p = 2\n",
    "prob = 0.2\n",
    "\n",
    "sigmaY = 5.0\n",
    "\n",
    "# generate the parameters\n",
    "beta0 = torch.tensor([1.0, -2.0])\n",
    "bTheta0 = genbTheta(n, m, sigVs=np.array([50, 9, 8, 7, 6])*10)/50\n",
    "initbetapref = 1 + (torch.rand(p)-1/2)/1 #[0.875, 1.125]\n",
    "initthetapref = 1 + (torch.rand(n, m)-1/2)/4\n",
    "betainit = beta0 * initbetapref\n",
    "bThetainit = bTheta0 * initthetapref\n",
    "\n",
    "X = genXBin(n, m, p, prob=prob) \n",
    "Y = genYnorm(X, bTheta0, beta0, sigmaY)\n",
    "R = genR2(Y, D=6.8)\n",
    "R.to_dense().mean()"
   ]
  },
  {
   "cell_type": "code",
   "execution_count": 10,
   "id": "e2d8d84d",
   "metadata": {},
   "outputs": [],
   "source": [
    "def f(y, m, bsXs=None, sigma=sigmaY):\n",
    "    return fn(y, m, bsXs, sigma)\n",
    "def f2(y, m, bsXs=None, sigma=sigmaY):\n",
    "    return fn2(y, m, bsXs, sigma)\n",
    "conDenfs = [f, f2, fn22]"
   ]
  },
  {
   "cell_type": "code",
   "execution_count": 11,
   "id": "73f4dbbd",
   "metadata": {},
   "outputs": [],
   "source": [
    "tol = 1e-6\n",
    "tolT = 0\n",
    "tolb = 0"
   ]
  },
  {
   "cell_type": "code",
   "execution_count": 12,
   "id": "45f6adf0",
   "metadata": {},
   "outputs": [],
   "source": [
    "TErr = lambda x: np.linalg.norm(x[\"bTheta\"]-bTheta0.cpu().numpy())\n",
    "BErr = lambda x: np.linalg.norm(x[\"beta\"]-beta0.cpu().numpy())\n",
    "TRank = lambda x: x[\"bThetaRank\"]\n",
    "BL0Norm = lambda x: x[\"betaNorm0\"]"
   ]
  },
  {
   "cell_type": "markdown",
   "id": "795f6123",
   "metadata": {},
   "source": [
    "### test for 10 reps"
   ]
  },
  {
   "cell_type": "code",
   "execution_count": 21,
   "id": "36c3437f",
   "metadata": {},
   "outputs": [],
   "source": [
    "optParasMNAR = {}\n",
    "optParasMNAR[100] = [1e-3, 0,  1e2, 5e2] \n",
    "optParasMNAR[200] = [1e-3, 0,  1e2, 5e2]\n",
    "optParasMNAR[400] = [1e-3, 0,  1e2, 5e2]\n",
    "optParasMNAR[800] = [1e-3, 0,  1e2, 5e2] # 800\n",
    "optParasMNAR[1600] = [1e-3, 0,  1e2, 5e2] # 1600\n",
    "optParasMNAR[3200] = [1e-3, 0,  1e2, 5e2] # 3200\n",
    "optParasMNAR[6400] = [1e-3, 0,  1e2, 5e2] #6400\n",
    "\n",
    "optParasMAR = {}\n",
    "optParasMAR[100] = [1e-3, 0,  1e2, 2.5] \n",
    "optParasMAR[200] = [1e-3, 0,  1e2, 2.2] \n",
    "optParasMAR[400] = [1e-3, 0,  1e2, 1.5] \n",
    "optParasMAR[800] = [1e-3, 0,  1e2, 1] #800\n",
    "optParasMAR[1600] = [1e-3, 0,  1e2, 0.5] #1600\n",
    "optParasMAR[3200] = [1e-3, 0,  1e2, 0.1] #3200\n",
    "optParasMAR[6400] = [1e-3, 0,  1e2, 0.1] # 6400\n",
    "\n",
    "optParasEM = {}\n",
    "optParasEM[100] = [1e-3, 0,  1.1*1e2, 2.5]\n",
    "optParasEM[200] = [1e-3, 0,  0.98*1e2, 2.2]\n",
    "optParasEM[400] = [1e-3, 0,  0.98*1e2, 1.5] \n",
    "optParasEM[800] = [1e-3, 0,  0.98*1e2, 1] #800\n",
    "optParasEM[1600] = [1e-3, 0,  0.98*1e2, 0.5] #1600\n",
    "optParasEM[3200] = [1e-3, 0,  1.1*1e2, 0.1] #3200\n",
    "optParasEM[6400] = [1e-3, 0,  1.1*1e2, 0.1] #6400"
   ]
  },
  {
   "cell_type": "code",
   "execution_count": 22,
   "id": "6a6d3dd9",
   "metadata": {},
   "outputs": [
    {
     "data": {
      "application/vnd.jupyter.widget-view+json": {
       "model_id": "3a7b234021cf4af287508e4dcb10b738",
       "version_major": 2,
       "version_minor": 0
      },
      "text/plain": [
       "  0%|          | 0/10 [00:00<?, ?it/s]"
      ]
     },
     "metadata": {},
     "output_type": "display_data"
    }
   ],
   "source": [
    "fct = 1\n",
    "for n in [1600]:\n",
    "    m = n\n",
    "    \n",
    "    beta0 = torch.tensor([1.0, -2.0])\n",
    "    bTheta0 = genbTheta(n, m, sigVs=np.array([50, 9, 8, 7, 6])*10)/50\n",
    "    \n",
    "    ressMAR = []\n",
    "    ressEM = []\n",
    "    ressMNAR = []\n",
    "    paraXEM = optParasEM[n]\n",
    "    paraXMAR = optParasMAR[n]\n",
    "    paraXMNAR = optParasMNAR[n]\n",
    "    for j in tqdm(range(10)):\n",
    "        initbetapref = 1 + (torch.rand(p)-1/2)/4  \n",
    "        initthetapref = 1 + (torch.rand(n, m)-1/2)/4\n",
    "        betainit = beta0 * initbetapref\n",
    "        bThetainit = bTheta0 * initthetapref\n",
    "        X = genXBin(n, m, p, prob=prob) \n",
    "        Y = genYnorm(X, bTheta0, beta0, sigmaY)\n",
    "        R = genR2(Y, D=6.8)\n",
    "        resEM = emfRun(R, CT=paraXEM[0], Cb=paraXEM[1], etaT=paraXEM[2], etab=paraXEM[3], maxIter=100, is_plot=0, is_showPro=0)\n",
    "        resMAR = marfRun(R, CT=paraXMAR[0], Cb=paraXMAR[1], etaT=paraXMAR[2], etab=paraXMAR[3], maxIter=100, is_plot=0, is_showPro=0)\n",
    "        #resMNAR = fRun(R, CT=paraXMNAR[0], Cb=paraXMNAR[1], etaT=paraXMNAR[2], etab=paraXMNAR[3], maxIter=100, is_plot=0, is_showPro=0)\n",
    "        #ressMNAR.append((np.linalg.norm(beta0.cpu().numpy()-resMNAR[\"beta\"]), np.linalg.norm(bTheta0.cpu().numpy()-resMNAR[\"bTheta\"])))\n",
    "        ressMAR.append((np.linalg.norm(beta0.cpu().numpy()-resMAR[\"beta\"]), np.linalg.norm(bTheta0.cpu().numpy()-resMAR[\"bTheta\"])))\n",
    "        ressEM.append((np.linalg.norm(beta0.cpu().numpy()-resEM[\"beta\"]), np.linalg.norm(bTheta0.cpu().numpy()-resEM[\"bTheta\"])))\n"
   ]
  },
  {
   "cell_type": "code",
   "execution_count": 23,
   "id": "85955a94",
   "metadata": {},
   "outputs": [
    {
     "name": "stdout",
     "output_type": "stream",
     "text": [
      "The n is 1600! and para is [0.001, 0, 100.0, 0.5] and [0.001, 0, 98.0, 0.5]\n",
      "[0.17758187 0.36896704] [0.17687834 0.34253344]\n"
     ]
    }
   ],
   "source": [
    "print(f\"The n is {n}! and para is {optParasMAR[n]} and {optParasEM[n]}\")\n",
    "print(np.array(ressMAR).mean(axis=0), np.array(ressEM).mean(axis=0))"
   ]
  },
  {
   "cell_type": "code",
   "execution_count": 193,
   "id": "baead03a",
   "metadata": {},
   "outputs": [
    {
     "name": "stdout",
     "output_type": "stream",
     "text": [
      "The n is 100! and para is [0.001, 0, 100.0, 2.5] and [0.001, 0, 110.00000000000001, 2.5]\n",
      "[0.47164436 1.39048005] [0.47040316 1.50636126]\n"
     ]
    }
   ],
   "source": [
    "print(f\"The n is {n}! and para is {optParasMAR[n]} and {optParasEM[n]}\")\n",
    "print(np.array(ressMAR).mean(axis=0), np.array(ressEM).mean(axis=0))"
   ]
  },
  {
   "cell_type": "code",
   "execution_count": 190,
   "id": "186b1968",
   "metadata": {},
   "outputs": [
    {
     "name": "stdout",
     "output_type": "stream",
     "text": [
      "The n is 200! and para is [0.001, 0, 100.0, 2.2] and [0.001, 0, 98.0, 2.2]\n",
      "[0.39753246 0.93987301] [0.39546985 0.91152225]\n"
     ]
    }
   ],
   "source": [
    "print(f\"The n is {n}! and para is {optParasMAR[n]} and {optParasEM[n]}\")\n",
    "print(np.array(ressMAR).mean(axis=0), np.array(ressEM).mean(axis=0))"
   ]
  },
  {
   "cell_type": "code",
   "execution_count": 178,
   "id": "f10790a2",
   "metadata": {},
   "outputs": [
    {
     "name": "stdout",
     "output_type": "stream",
     "text": [
      "The n is 400! and para is [0.001, 0, 100.0, 1.5] and [0.001, 0, 98.0, 1.5]\n",
      "[0.33812267 0.68777364] [0.33540051 0.65960215]\n"
     ]
    }
   ],
   "source": [
    "print(f\"The n is {n}! and para is {optParasMAR[n]} and {optParasEM[n]}\")\n",
    "print(np.array(ressMAR).mean(axis=0), np.array(ressEM).mean(axis=0))"
   ]
  },
  {
   "cell_type": "code",
   "execution_count": 166,
   "id": "b5d72200",
   "metadata": {},
   "outputs": [
    {
     "name": "stdout",
     "output_type": "stream",
     "text": [
      "The n is 800! and para is [0.001, 0, 100.0, 1] and [0.001, 0, 98.0, 1]\n",
      "[0.21734779 0.50694661] [0.21532303 0.48200095]\n"
     ]
    }
   ],
   "source": [
    "print(f\"The n is {n}! and para is {optParasMAR[n]} and {optParasEM[n]}\")\n",
    "print(np.array(ressMAR).mean(axis=0), np.array(ressEM).mean(axis=0))"
   ]
  },
  {
   "cell_type": "code",
   "execution_count": 160,
   "id": "04abff75",
   "metadata": {},
   "outputs": [
    {
     "name": "stdout",
     "output_type": "stream",
     "text": [
      "The n is 1600! and para is [0.001, 0, 100.0, 0.8] and [0.001, 0, 98.0, 0.8]\n",
      "[0.19435621 0.37336732] [0.19239266 0.35247337]\n"
     ]
    }
   ],
   "source": [
    "print(f\"The n is {n}! and para is {optParasMAR[n]} and {optParasEM[n]}\")\n",
    "print(np.array(ressMAR).mean(axis=0), np.array(ressEM).mean(axis=0))"
   ]
  },
  {
   "cell_type": "code",
   "execution_count": 145,
   "id": "20eaa9a4",
   "metadata": {},
   "outputs": [
    {
     "name": "stdout",
     "output_type": "stream",
     "text": [
      "The n is 3200! and para is [0.001, 0, 100.0, 0.1] and [0.001, 0, 110.00000000000001, 0.1]\n",
      "[0.16222808 0.24532767] [0.16204609 0.21531473]\n"
     ]
    }
   ],
   "source": [
    "print(f\"The n is {n}! and para is {optParasMAR[n]} and {optParasEM[n]}\")\n",
    "print(np.array(ressMAR).mean(axis=0), np.array(ressEM).mean(axis=0))"
   ]
  },
  {
   "cell_type": "code",
   "execution_count": 148,
   "id": "eccbe7e5",
   "metadata": {},
   "outputs": [
    {
     "name": "stdout",
     "output_type": "stream",
     "text": [
      "The n is 6400! and para is [0.001, 0, 100.0, 0.1] and [0.001, 0, 110.00000000000001, 0.1]\n",
      "[0.1468373  0.17840715] [0.14717627 0.15409447]\n"
     ]
    }
   ],
   "source": [
    "print(f\"The n is {n}! and para is {optParasMAR[n]} and {optParasEM[n]}\")\n",
    "print(np.array(ressMAR).mean(axis=0), np.array(ressEM).mean(axis=0))"
   ]
  },
  {
   "cell_type": "code",
   "execution_count": 118,
   "id": "9a5e02f2",
   "metadata": {},
   "outputs": [
    {
     "data": {
      "text/plain": [
       "array([[0.13327412, 1.17469561],\n",
       "       [0.15558545, 0.86010447],\n",
       "       [0.1391492 , 0.61351492],\n",
       "       [0.14454898, 0.40988616],\n",
       "       [0.13564442, 0.24273128],\n",
       "       [0.14497614, 0.13289887],\n",
       "       [0.14508941, 0.0836269 ]])"
      ]
     },
     "execution_count": 118,
     "metadata": {},
     "output_type": "execute_result"
    }
   ],
   "source": [
    "errMNARmean"
   ]
  },
  {
   "cell_type": "code",
   "execution_count": 131,
   "id": "3f7a94cf",
   "metadata": {},
   "outputs": [
    {
     "name": "stdout",
     "output_type": "stream",
     "text": [
      "The n is 100! and para is [0.001, 0, 100.0, 500.0]\n"
     ]
    },
    {
     "data": {
      "text/plain": [
       "array([0.21982237, 1.16433681])"
      ]
     },
     "execution_count": 131,
     "metadata": {},
     "output_type": "execute_result"
    }
   ],
   "source": [
    "print(f\"The n is {n}! and para is {optParasMNAR[n]}\")\n",
    "np.array(ressMNAR).mean(axis=0)"
   ]
  },
  {
   "cell_type": "code",
   "execution_count": 128,
   "id": "49060418",
   "metadata": {},
   "outputs": [
    {
     "name": "stdout",
     "output_type": "stream",
     "text": [
      "The n is 200! and para is [0.001, 0, 100.0, 500.0]\n"
     ]
    },
    {
     "data": {
      "text/plain": [
       "array([0.09460318, 0.86266797])"
      ]
     },
     "execution_count": 128,
     "metadata": {},
     "output_type": "execute_result"
    }
   ],
   "source": [
    "print(f\"The n is {n}! and para is {optParasMNAR[n]}\")\n",
    "np.array(ressMNAR).mean(axis=0)"
   ]
  },
  {
   "cell_type": "code",
   "execution_count": 125,
   "id": "0bbd75fe",
   "metadata": {},
   "outputs": [
    {
     "name": "stdout",
     "output_type": "stream",
     "text": [
      "The n is 400! and para is [0.001, 0, 100.0, 500.0]\n"
     ]
    },
    {
     "data": {
      "text/plain": [
       "array([0.06626796, 0.61127832])"
      ]
     },
     "execution_count": 125,
     "metadata": {},
     "output_type": "execute_result"
    }
   ],
   "source": [
    "print(f\"The n is {n}! and para is {optParasMNAR[n]}\")\n",
    "np.array(ressMNAR).mean(axis=0)"
   ]
  },
  {
   "cell_type": "code",
   "execution_count": 122,
   "id": "02d96a14",
   "metadata": {},
   "outputs": [
    {
     "name": "stdout",
     "output_type": "stream",
     "text": [
      "The n is 800! and para is [0.001, 0, 100.0, 500.0]\n"
     ]
    },
    {
     "data": {
      "text/plain": [
       "array([0.03929394, 0.40811661])"
      ]
     },
     "execution_count": 122,
     "metadata": {},
     "output_type": "execute_result"
    }
   ],
   "source": [
    "print(f\"The n is {n}! and para is {optParasMNAR[n]}\")\n",
    "np.array(ressMNAR).mean(axis=0)"
   ]
  },
  {
   "cell_type": "code",
   "execution_count": 119,
   "id": "847b2a0d",
   "metadata": {},
   "outputs": [
    {
     "name": "stdout",
     "output_type": "stream",
     "text": [
      "The n is 1600! and para is [0.001, 0, 100.0, 500.0]\n"
     ]
    },
    {
     "data": {
      "text/plain": [
       "array([0.02186474, 0.23488108])"
      ]
     },
     "execution_count": 119,
     "metadata": {},
     "output_type": "execute_result"
    }
   ],
   "source": [
    "print(f\"The n is {n}! and para is {optParasMNAR[n]}\")\n",
    "np.array(ressMNAR).mean(axis=0)"
   ]
  },
  {
   "cell_type": "code",
   "execution_count": 114,
   "id": "47bfcc0a",
   "metadata": {},
   "outputs": [
    {
     "name": "stdout",
     "output_type": "stream",
     "text": [
      "The n is 3200! and para is [0.001, 0, 100.0, 500.0]\n"
     ]
    },
    {
     "data": {
      "text/plain": [
       "array([0.01063899, 0.12528888])"
      ]
     },
     "execution_count": 114,
     "metadata": {},
     "output_type": "execute_result"
    }
   ],
   "source": [
    "print(f\"The n is {n}! and para is {optParasMNAR[n]}\")\n",
    "np.array(ressMNAR).mean(axis=0)"
   ]
  },
  {
   "cell_type": "code",
   "execution_count": 111,
   "id": "34734d44",
   "metadata": {},
   "outputs": [
    {
     "name": "stdout",
     "output_type": "stream",
     "text": [
      "The n is 6400! and para is [0.001, 0, 100.0, 500.0]\n"
     ]
    },
    {
     "data": {
      "text/plain": [
       "array([0.0051086 , 0.07588549])"
      ]
     },
     "execution_count": 111,
     "metadata": {},
     "output_type": "execute_result"
    }
   ],
   "source": [
    "print(f\"The n is {n}! and para is {optParasMNAR[n]}\")\n",
    "np.array(ressMNAR).mean(axis=0)"
   ]
  },
  {
   "cell_type": "markdown",
   "id": "03e1f6d9",
   "metadata": {},
   "source": [
    "# SIMU"
   ]
  },
  {
   "cell_type": "code",
   "execution_count": 13,
   "id": "0f349db8",
   "metadata": {},
   "outputs": [],
   "source": [
    "optParasMNAR = {}\n",
    "optParasMNAR[100] = [1e-3, 0,  1e2, 5e2] \n",
    "optParasMNAR[200] = [1e-3, 0,  1e2, 5e2]\n",
    "optParasMNAR[400] = [1e-3, 0,  1e2, 5e2]\n",
    "optParasMNAR[800] = [1e-3, 0,  1e2, 5e2] # 800\n",
    "optParasMNAR[1600] = [1e-3, 0,  1e2, 5e2] # 1600\n",
    "optParasMNAR[3200] = [1e-3, 0,  1e2, 5e2] # 3200\n",
    "optParasMNAR[6400] = [1e-3, 0,  1e2, 5e2] #6400\n",
    "optParasMNAR[12800] = [1e-3, 0,  1e2, 5e2] #6400\n",
    "\n",
    "optParasMAR = {}\n",
    "optParasMAR[100] = [1e-3, 0,  1e2, 2.5] \n",
    "optParasMAR[200] = [1e-3, 0,  1e2, 2.2] \n",
    "optParasMAR[400] = [1e-3, 0,  1e2, 1.5] \n",
    "optParasMAR[800] = [1e-3, 0,  1e2, 1] #800\n",
    "optParasMAR[1600] = [1e-3, 0,  1e2, 0.5] #1600\n",
    "optParasMAR[3200] = [1e-3, 0,  1e2, 0.1] #3200\n",
    "optParasMAR[6400] = [1e-3, 0,  1e2, 0.1] # 6400\n",
    "optParasMAR[12800] = [1e-3, 0,  1e2, 0.1] # 6400\n",
    "\n",
    "optParasEM = {}\n",
    "optParasEM[100] = [1e-3, 0,  1.1*1e2, 2.5]\n",
    "optParasEM[200] = [1e-3, 0,  0.98*1e2, 2.2]\n",
    "optParasEM[400] = [1e-3, 0,  0.98*1e2, 1.5] \n",
    "optParasEM[800] = [1e-3, 0,  0.98*1e2, 1] #800\n",
    "optParasEM[1600] = [1e-3, 0,  0.98*1e2, 0.5] #1600\n",
    "optParasEM[3200] = [1e-3, 0,  1.1*1e2, 0.1] #3200\n",
    "optParasEM[6400] = [1e-3, 0,  1.1*1e2, 0.1] #6400\n",
    "optParasEM[12800] = [1e-3, 0,  1.1*1e2, 0.1] #6400"
   ]
  },
  {
   "cell_type": "code",
   "execution_count": null,
   "id": "7a344343",
   "metadata": {},
   "outputs": [
    {
     "data": {
      "application/vnd.jupyter.widget-view+json": {
       "model_id": "db6277a2480a4bda8ed41c2aa169871b",
       "version_major": 2,
       "version_minor": 0
      },
      "text/plain": [
       "  0%|          | 0/50 [00:00<?, ?it/s]"
      ]
     },
     "metadata": {},
     "output_type": "display_data"
    }
   ],
   "source": [
    "fct = 10\n",
    "for n in [12800]:\n",
    "    m = n\n",
    "    \n",
    "    beta0 = torch.tensor([1.0, -2.0])\n",
    "    bTheta0 = genbTheta(n, m, sigVs=np.array([50, 9, 8, 7, 6])*10)/50\n",
    "    \n",
    "    ressMAR = []\n",
    "    ressEM = []\n",
    "    ressMNAR = []\n",
    "    paraXEM = optParasEM[n]\n",
    "    paraXMAR = optParasMAR[n]\n",
    "    paraXMNAR = optParasMNAR[n]\n",
    "    for j in tqdm(range(50)):\n",
    "        initbetapref = 1 + (torch.rand(p)-1/2)/4  \n",
    "        initthetapref = 1 + (torch.rand(n, m)-1/2)/4\n",
    "        betainit = beta0 * initbetapref\n",
    "        bThetainit = bTheta0 * initthetapref\n",
    "        X = genXBin(n, m, p, prob=prob) \n",
    "        Y = genYnorm(X, bTheta0, beta0, sigmaY)\n",
    "        R = genR2(Y, D=6.8)\n",
    "        resEM = emfRun(R, CT=paraXEM[0], Cb=paraXEM[1], etaT=paraXEM[2], etab=paraXEM[3], maxIter=100, is_plot=0, is_showPro=0)\n",
    "        resMAR = marfRun(R, CT=paraXMAR[0], Cb=paraXMAR[1], etaT=paraXMAR[2], etab=paraXMAR[3], maxIter=100, is_plot=0, is_showPro=0)\n",
    "        resMNAR = fRun(R, CT=paraXMNAR[0], Cb=paraXMNAR[1], etaT=paraXMNAR[2], etab=paraXMNAR[3], maxIter=100, is_plot=0, is_showPro=0)\n",
    "        if n <= 50:\n",
    "            ressMAR.append(resMAR)\n",
    "            ressEM.append(resEM)\n",
    "            ressMNAR.append(resMNAR)\n",
    "        else:\n",
    "            ressMNAR.append((np.linalg.norm(beta0.cpu().numpy()-resMNAR[\"beta\"]), np.linalg.norm(bTheta0.cpu().numpy()-resMNAR[\"bTheta\"])))\n",
    "            ressMAR.append((np.linalg.norm(beta0.cpu().numpy()-resMAR[\"beta\"]), np.linalg.norm(bTheta0.cpu().numpy()-resMAR[\"bTheta\"])))\n",
    "            ressEM.append((np.linalg.norm(beta0.cpu().numpy()-resEM[\"beta\"]), np.linalg.norm(bTheta0.cpu().numpy()-resEM[\"bTheta\"])))\n",
    "            \n",
    "    # with open(f\"./JMLRR2_linearSmallp_n{n}.pkl\", \"rb\") as rf:\n",
    "    #     oldRes = pickle.load(rf)\n",
    "    \n",
    "    ressDic = {}\n",
    "    ressDic[\"ressEM\"] = ressEM\n",
    "    ressDic[\"ressMAR\"] = ressMAR\n",
    "    ressDic[\"ressMNAR\"] = ressMNAR\n",
    "    #ressDic[\"ressEM\"] = oldRes[\"ressEM\"]\n",
    "    #ressDic[\"ressMAR\"] = oldRes[\"ressMAR\"]\n",
    "    #ressDic[\"ressMNAR\"] = oldRes[\"ressMNAR\"]\n",
    "    ressDic[\"beta0\"] = beta0\n",
    "    ressDic[\"bTheta0\"] = bTheta0\n",
    "    with open(f\"./JMLRR2_linearSmallp_n{n}.pkl\", \"wb\") as wf:\n",
    "        pickle.dump(ressDic, wf)"
   ]
  },
  {
   "cell_type": "code",
   "execution_count": 11,
   "id": "04c27648",
   "metadata": {},
   "outputs": [],
   "source": [
    "errssMARs = []\n",
    "errssEMs = []\n",
    "errssMNARs = []\n",
    "ns = [100, 200, 400, 800, 1600, 3200, 6400, 12800]\n",
    "for n in ns:\n",
    "    with open(f\"./JMLRR2_linearSmallp_n{n}.pkl\", \"rb\") as rf:\n",
    "        ressDic = pickle.load(rf)\n",
    "        \n",
    "    #errs = [(np.linalg.norm(res[\"beta\"]-ressDic[\"beta0\"].cpu().numpy()), np.linalg.norm(res[\"bTheta\"]-ressDic[\"bTheta0\"].cpu().numpy())) for res in ressDic[\"ressMAR\"]]\n",
    "    #errssMARs.append(np.array(errs))\n",
    "    #errs = [(np.linalg.norm(res[\"beta\"]-ressDic[\"beta0\"].cpu().numpy()), np.linalg.norm(res[\"bTheta\"]-ressDic[\"bTheta0\"].cpu().numpy())) for res in ressDic[\"ressMNAR\"]]\n",
    "    #errssMNARs.append(np.array(errs))\n",
    "    #errs = [(np.linalg.norm(res[\"beta\"]-ressDic[\"beta0\"].cpu().numpy()), np.linalg.norm(res[\"bTheta\"]-ressDic[\"bTheta0\"].cpu().numpy())) for res in ressDic[\"ressEM\"]]\n",
    "    #errssEMs.append(np.array(errs))\n",
    "    errssMARs.append(np.array(ressDic[\"ressMAR\"]))\n",
    "    errssMNARs.append(np.array(ressDic[\"ressMNAR\"]))\n",
    "    errssEMs.append(np.array(ressDic[\"ressEM\"]))\n",
    "        "
   ]
  },
  {
   "cell_type": "code",
   "execution_count": 12,
   "id": "1d301449",
   "metadata": {},
   "outputs": [],
   "source": [
    "errEMmean =  np.array([res.mean(axis=0) for res in errssEMs])\n",
    "errMARmean =  np.array([res.mean(axis=0) for res in errssMARs])\n",
    "errMNARmean = np.array([res.mean(axis=0) for res in errssMNARs])"
   ]
  },
  {
   "cell_type": "code",
   "execution_count": null,
   "id": "63b087de",
   "metadata": {},
   "outputs": [],
   "source": [
    "font_y = {\"size\": 15, \"va\":\"baseline\"}\n",
    "font_x = {\"size\": 15}\n",
    "plt.figure(figsize=[5, 5])\n",
    "# plt.ylim([0, 3.8])\n",
    "plt.xlabel(\"m=n\", font_x)\n",
    "plt.ylabel(r\"$\\Vert\\widehat{\\mathbf{\\beta}} - \\mathbf{\\beta}_0\\Vert_2$\", font_y)\n",
    "plt.xscale(\"log\", base=2)\n",
    "plt.plot(ms, errBs[\"MNAR\"][:], \"g-.h\", label=\"MNAR\", linewidth=1)\n",
    "plt.plot(ms[:], errBs[\"MAR\"][:], \"r--o\", label=\"MAR\", linewidth=1)\n",
    "plt.plot(ms[:], errBs[\"EM\"][:], \"b-*\", label=\"EM\", linewidth=1)\n",
    "plt.legend(loc=1)\n",
    "plt.savefig(\"Simu_logi_beta_p50.jpg\", bbox_inches=\"tight\")"
   ]
  },
  {
   "cell_type": "code",
   "execution_count": 16,
   "id": "23bdaa2c",
   "metadata": {},
   "outputs": [
    {
     "data": {
      "text/plain": [
       "<matplotlib.legend.Legend at 0x7f67781a05c0>"
      ]
     },
     "execution_count": 16,
     "metadata": {},
     "output_type": "execute_result"
    },
    {
     "data": {
      "image/png": "[encoded data removed]",
      "text/plain": [
       "<Figure size 720x360 with 2 Axes>"
      ]
     },
     "metadata": {
      "needs_background": "light"
     },
     "output_type": "display_data"
    }
   ],
   "source": [
    "ns = [100, 200, 400, 800, 1600, 3200, 6400, 12800]\n",
    "plt.figure(figsize=[10, 5])\n",
    "plt.subplot(121)\n",
    "plt.plot(ns, errMNARmean[:, 0], \"-o\", label=\"MNAR\")\n",
    "plt.plot(ns, errMARmean[:, 0], \"-o\", label=\"MAR\")\n",
    "plt.plot(ns, errEMmean[:, 0], \"-o\", label=\"EM\")\n",
    "plt.xscale(\"log\", base=2)\n",
    "plt.legend()\n",
    "\n",
    "plt.subplot(122)\n",
    "plt.title(\"bTheta\")\n",
    "plt.plot(ns, (errMNARmean[:, 1]), \"-o\", label=\"MNAR\")\n",
    "plt.plot(ns, (errMARmean[:, 1]), \"-o\", label=\"MAR\")\n",
    "plt.plot(ns, errEMmean[:, 1], \"-o\", label=\"EM\")\n",
    "plt.xscale(\"log\", base=2)\n",
    "plt.legend()"
   ]
  },
  {
   "cell_type": "markdown",
   "id": "710acb85",
   "metadata": {},
   "source": [
    "### Plots for paper"
   ]
  },
  {
   "cell_type": "code",
   "execution_count": 22,
   "id": "151ee316",
   "metadata": {},
   "outputs": [
    {
     "data": {
      "image/png": "[encoded data removed]",
      "text/plain": [
       "<Figure size 1200x1200 with 1 Axes>"
      ]
     },
     "metadata": {
      "needs_background": "light"
     },
     "output_type": "display_data"
    }
   ],
   "source": [
    "ns = [100, 200, 400, 800, 1600, 3200, 6400, 12800]\n",
    "plt.figure(figsize=[6, 6], dpi=200)\n",
    "font_y = {\"size\": 15, \"va\":\"baseline\"}\n",
    "font_x = {\"size\": 15}\n",
    "plt.xlabel(\"m=n\", font_x)\n",
    "plt.ylabel(r\"$\\Vert\\widehat{\\mathbf{\\beta}} - \\mathbf{\\beta}_0\\Vert_2$\", font_y)\n",
    "plt.plot(ns, errMNARmean[:, 0], \"g-.h\", label=\"MNAR\")\n",
    "plt.plot(ns, errMARmean[:, 0], \"r--o\", label=\"MAR\")\n",
    "plt.plot(ns, errEMmean[:, 0], \"b-*\", label=\"EM\")\n",
    "plt.xscale(\"log\", base=2)\n",
    "plt.legend()\n",
    "plt.savefig(\"./JMLRR2/Linearp2beta.jpg\", bbox_inches='tight')"
   ]
  },
  {
   "cell_type": "code",
   "execution_count": 23,
   "id": "860b7589",
   "metadata": {},
   "outputs": [
    {
     "data": {
      "image/png": "[encoded data removed]",
      "text/plain": [
       "<Figure size 1200x1200 with 1 Axes>"
      ]
     },
     "metadata": {
      "needs_background": "light"
     },
     "output_type": "display_data"
    }
   ],
   "source": [
    "ns = [100, 200, 400, 800, 1600, 3200, 6400, 12800]\n",
    "plt.figure(figsize=[6, 6], dpi=200)\n",
    "font_y = {\"size\": 15, \"va\":\"baseline\"}\n",
    "font_x = {\"size\": 15}\n",
    "plt.xlabel(\"m=n\", font_x)\n",
    "plt.ylabel(r\"$\\Vert\\widehat{\\mathbf{\\Theta}} - \\mathbf{\\Theta}_0\\Vert_F$\", font_y)\n",
    "plt.plot(ns, errMNARmean[:, 1], \"g-.h\", label=\"MNAR\")\n",
    "plt.plot(ns, errMARmean[:, 1], \"r--o\", label=\"MAR\")\n",
    "plt.plot(ns, errEMmean[:, 1], \"b-*\", label=\"EM\")\n",
    "plt.xscale(\"log\", base=2)\n",
    "plt.legend()\n",
    "plt.savefig(\"./JMLRR2/Linearp2theta.jpg\", bbox_inches='tight')"
   ]
  },
  {
   "cell_type": "code",
   "execution_count": null,
   "id": "b265afa9",
   "metadata": {},
   "outputs": [],
   "source": []
  },
  {
   "cell_type": "code",
   "execution_count": null,
   "id": "c5593cd8",
   "metadata": {},
   "outputs": [],
   "source": []
  }
 ],
 "metadata": {
  "kernelspec": {
   "display_name": "Python 3",
   "language": "python",
   "name": "python3"
  },
  "language_info": {
   "codemirror_mode": {
    "name": "ipython",
    "version": 3
   },
   "file_extension": ".py",
   "mimetype": "text/x-python",
   "name": "python",
   "nbconvert_exporter": "python",
   "pygments_lexer": "ipython3",
   "version": "3.6.10"
  }
 },
 "nbformat": 4,
 "nbformat_minor": 5
}

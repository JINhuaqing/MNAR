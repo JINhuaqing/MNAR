{
 "cells": [
  {
   "cell_type": "code",
   "execution_count": 24,
   "metadata": {},
   "outputs": [],
   "source": [
    "from pathlib import Path\n",
    "import matplotlib.pyplot as plt\n",
    "import numpy as np \n",
    "import pickle"
   ]
  },
  {
   "cell_type": "code",
   "execution_count": 25,
   "metadata": {},
   "outputs": [],
   "source": [
    "def name2mn(v):\n",
    "    return int(v.stem.split(\"_\")[3][1:])"
   ]
  },
  {
   "cell_type": "code",
   "execution_count": 49,
   "metadata": {},
   "outputs": [],
   "source": [
    "def prefixBeta(n, m, p, s, alpha0b=1):\n",
    "    item1 = np.sqrt(s)*np.sqrt(np.log(p)/m/n)\n",
    "    item2 = (np.log(p)/m/n)**(1/4) / np.sqrt(alpha0b)\n",
    "    item3 = np.sqrt(s) * Lambfn(Cbs[m], n, m)/alpha0b\n",
    "    itm = np.max([item1, item2, item3])\n",
    "    return 1/itm\n",
    "\n",
    "def prefixTheta(n, m, p, r, alpha0t=1):\n",
    "    d = np.sqrt(m*n)\n",
    "    item1 = np.sqrt(r) *  np.sqrt(d*np.log(d)/m/n)\n",
    "    item2 = (d*np.log(d)/m/n)**(1/4)/np.sqrt(alpha0t)\n",
    "    item3 = np.sqrt(r) * LamTfn(CTs[m], n, m, p)/alpha0t\n",
    "    itm = np.max([item1, item2, item3])\n",
    "    return 1/itm\n",
    "\n",
    "# just constant before the penalty item of beta\n",
    "def Lambfn(C, n, m):\n",
    "    rawv = np.sqrt(np.log(m+n))/m/n\n",
    "    return C*rawv\n",
    "\n",
    "\n",
    "# To compute the Lambda_bTheta\n",
    "# just constant before the penalty item of bTheta\n",
    "def LamTfn(C, n, m, p):\n",
    "    d = np.sqrt(m*n)\n",
    "    rawvs = [np.sqrt(np.log(d)/d), (np.log(p))**(1/4)/np.sqrt(d)]\n",
    "    rawv = np.max(rawvs)\n",
    "    return C*rawv"
   ]
  },
  {
   "cell_type": "code",
   "execution_count": 30,
   "metadata": {},
   "outputs": [],
   "source": [
    "root = Path(\"./results\")\n",
    "fils = list(root.glob(\"Simu*.pkl\"))\n",
    "#fils = sorted(fils, key=name2mn)"
   ]
  },
  {
   "cell_type": "code",
   "execution_count": 32,
   "metadata": {},
   "outputs": [
    {
     "data": {
      "text/plain": [
       "[PosixPath('results/Simu_m400_all.pkl'),\n",
       " PosixPath('results/Simu_m100_all.pkl'),\n",
       " PosixPath('results/Simu_m200_all.pkl'),\n",
       " PosixPath('results/Simu_m1600_all.pkl'),\n",
       " PosixPath('results/Simu_m800_all.pkl')]"
      ]
     },
     "execution_count": 32,
     "metadata": {},
     "output_type": "execute_result"
    }
   ],
   "source": [
    "fils"
   ]
  },
  {
   "cell_type": "markdown",
   "metadata": {},
   "source": [
    "some parameters "
   ]
  },
  {
   "cell_type": "code",
   "execution_count": 50,
   "metadata": {},
   "outputs": [],
   "source": [
    "# The rank of Theta0 and sparsity of beta0\n",
    "r, s = 5, 5\n",
    "p = 50\n",
    "Cbs = {}\n",
    "Cbs[100] = 1000\n",
    "Cbs[200] = 600\n",
    "Cbs[400] = 600\n",
    "Cbs[800] = 600\n",
    "Cbs[1600] = 600\n",
    "\n",
    "CTs = {}\n",
    "CTs[100] = 10e-2\n",
    "CTs[200] = 2.4e-2\n",
    "CTs[400] = 4e-2\n",
    "CTs[800] = 4e-2\n",
    "CTs[1600] = 4e-2"
   ]
  },
  {
   "cell_type": "code",
   "execution_count": 68,
   "metadata": {},
   "outputs": [],
   "source": [
    "ms = [100, 200, 400, 800, 1600]\n",
    "adjErrTs = []\n",
    "adjErrBs = []\n",
    "errTs = []\n",
    "errBs = []\n",
    "for m in ms:\n",
    "    n = m\n",
    "    curFil = [fil for fil in fils if int(fil.stem.split(\"_\")[1][1:])==m][0]\n",
    "    with open(curFil, \"rb\") as f:\n",
    "        errs = pickle.load(f)\n",
    "    errb = np.mean([err[\"errb\"] for err in errs])\n",
    "    errT = np.mean([err[\"errT\"] for err in errs])\n",
    "    preB = prefixBeta(n, m, p, s)\n",
    "    preT = prefixTheta(n, m, p, r)\n",
    "    \n",
    "    errTs.append(errT)\n",
    "    errBs.append(errb)\n",
    "    adjErrTs.append(preT*errT)\n",
    "    adjErrBs.append(preB*errb)"
   ]
  },
  {
   "cell_type": "code",
   "execution_count": 69,
   "metadata": {},
   "outputs": [
    {
     "data": {
      "text/plain": [
       "[1.0041794895867655,\n",
       " 0.5777745045615839,\n",
       " 0.4542858242240939,\n",
       " 0.211139577442628,\n",
       " 0.28405708925155776]"
      ]
     },
     "execution_count": 69,
     "metadata": {},
     "output_type": "execute_result"
    }
   ],
   "source": [
    "errTs"
   ]
  },
  {
   "cell_type": "code",
   "execution_count": 70,
   "metadata": {},
   "outputs": [
    {
     "data": {
      "text/plain": [
       "[10.547667696712168,\n",
       " 2.250430561067265,\n",
       " 0.8513637336867174,\n",
       " 0.5769625731011964,\n",
       " 2.250829865797054]"
      ]
     },
     "execution_count": 70,
     "metadata": {},
     "output_type": "execute_result"
    }
   ],
   "source": [
    "errBs"
   ]
  },
  {
   "cell_type": "code",
   "execution_count": 64,
   "metadata": {},
   "outputs": [
    {
     "data": {
      "text/plain": [
       "<matplotlib.legend.Legend at 0x7fedc8a11bd0>"
      ]
     },
     "execution_count": 64,
     "metadata": {},
     "output_type": "execute_result"
    },
    {
     "data": {
      "image/png": "[encoded data removed]",
      "text/plain": [
       "<Figure size 432x288 with 1 Axes>"
      ]
     },
     "metadata": {
      "needs_background": "light"
     },
     "output_type": "display_data"
    }
   ],
   "source": [
    "font_y = {\"size\": 15, \"va\":\"baseline\"}\n",
    "font_x = {\"size\": 15}\n",
    "# plot AjMNAR for logistic and Linear\n",
    "plt.xlabel(\"m=n\", font_x)\n",
    "plt.ylabel(r\"$\\Vert\\Delta_{\\mathrm{\\beta}, adj}\\Vert_2$\", font_y)\n",
    "plt.xscale(\"log\", basex=2)\n",
    "plt.plot(ms, adjErrBs, \"g-.h\", label=\"Adjusted Errors\", linewidth=4)\n",
    "plt.legend(loc=1)"
   ]
  },
  {
   "cell_type": "code",
   "execution_count": 66,
   "metadata": {},
   "outputs": [
    {
     "data": {
      "text/plain": [
       "<matplotlib.legend.Legend at 0x7fedc87edfd0>"
      ]
     },
     "execution_count": 66,
     "metadata": {},
     "output_type": "execute_result"
    },
    {
     "data": {
      "image/png": "[encoded data removed]",
      "text/plain": [
       "<Figure size 432x288 with 1 Axes>"
      ]
     },
     "metadata": {
      "needs_background": "light"
     },
     "output_type": "display_data"
    }
   ],
   "source": [
    "plt.xlabel(\"m=n\", font_x)\n",
    "#plt.ylim([1.4, 2.1]) #for p=200 linear\n",
    "plt.ylabel(r\"$\\Vert\\Delta_{\\mathrm{\\Theta}, adj}\\Vert_F$\", font_y)\n",
    "plt.plot(ms, adjErrTs, \"g-.h\", label=\"Adjusted Error\", linewidth=4)\n",
    "plt.xscale(\"log\", basex=2)\n",
    "plt.legend(loc=1)"
   ]
  },
  {
   "cell_type": "code",
   "execution_count": null,
   "metadata": {},
   "outputs": [],
   "source": []
  }
 ],
 "metadata": {
  "kernelspec": {
   "display_name": "Python 3",
   "language": "python",
   "name": "python3"
  },
  "language_info": {
   "codemirror_mode": {
    "name": "ipython",
    "version": 3
   },
   "file_extension": ".py",
   "mimetype": "text/x-python",
   "name": "python",
   "nbconvert_exporter": "python",
   "pygments_lexer": "ipython3",
   "version": "3.7.4"
  }
 },
 "nbformat": 4,
 "nbformat_minor": 2
}

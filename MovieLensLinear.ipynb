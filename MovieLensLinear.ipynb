{
 "cells": [
  {
   "cell_type": "code",
   "execution_count": 1,
   "id": "e1bf1aa5",
   "metadata": {},
   "outputs": [],
   "source": [
    "from IPython import display\n",
    "import random\n",
    "import numpy as np\n",
    "import torch\n",
    "import pickle\n",
    "import timeit\n",
    "import time\n",
    "import argparse\n",
    "import pprint\n",
    "from pathlib import Path\n",
    "from confs import fn, fn2\n",
    "#from tqdm import tqdm_notebook as tqdm\n",
    "from tqdm.notebook import tqdm\n",
    "import numpy.random as npr\n",
    "from utilsNew import *"
   ]
  },
  {
   "cell_type": "code",
   "execution_count": 2,
   "id": "a74b5b78",
   "metadata": {},
   "outputs": [],
   "source": [
    "import matplotlib.pyplot as plt\n",
    "import pickle"
   ]
  },
  {
   "cell_type": "code",
   "execution_count": 3,
   "id": "28f69a68",
   "metadata": {},
   "outputs": [],
   "source": [
    "from implicit.als import AlternatingLeastSquares\n",
    "from collections import defaultdict as ddict\n",
    "from scipy.sparse import csr_matrix \n",
    "from implicit.nearest_neighbours import bm25_weight"
   ]
  },
  {
   "cell_type": "code",
   "execution_count": 4,
   "id": "a4cfa64a",
   "metadata": {},
   "outputs": [],
   "source": [
    "cudaid = 2\n",
    "torch.cuda.set_device(cudaid)\n",
    "torch.manual_seed(0) # cpu\n",
    "torch.cuda.manual_seed(0) #gpu\n",
    "np.random.seed(0) #numpy\n",
    "random.seed(0) #random and transforms\n",
    "torch.backends.cudnn.deterministic=True # cudnn"
   ]
  },
  {
   "cell_type": "code",
   "execution_count": 5,
   "id": "854e2ff5",
   "metadata": {},
   "outputs": [],
   "source": [
    "torch.set_default_dtype(torch.float64)\n",
    "cuda = torch.cuda.is_available()\n",
    "if cuda:\n",
    "    torch.set_default_tensor_type(torch.cuda.DoubleTensor)"
   ]
  },
  {
   "cell_type": "code",
   "execution_count": 51,
   "id": "4a2f3756",
   "metadata": {},
   "outputs": [],
   "source": [
    "def fRun(R, etaT, etab, Rall, maxIter=100, nR=16, a=0.1, is_plot=False, is_showPro=False, is_res=False):\n",
    "    #LamT = LamTfn(CT, n, m, p)\n",
    "    LamT = 0\n",
    "    Lamb = 0\n",
    "    betaOld, bThetaOld = betainit, bThetainit\n",
    "    \n",
    "    \n",
    "    reCh = 10\n",
    "    Losses = []\n",
    "    betaDiffs = []\n",
    "    bThetaDiffs = []\n",
    "    betaNorms = []\n",
    "    bThetaNorms = []\n",
    "    betaL0s = []\n",
    "    bThetaRanks = []\n",
    "    \n",
    "    if is_showPro:\n",
    "        IterShowBar = tqdm(range(maxIter))\n",
    "    else:\n",
    "        IterShowBar = range(maxIter)\n",
    "    for t in IterShowBar:\n",
    "        if is_res:\n",
    "            res = RankMetricIter(betaOld, bThetaOld, Rall, R)\n",
    "            print(res)\n",
    "        t0 = time.time()\n",
    "        LvNow = lossLBern(bThetaOld, betaOld, f, X, Y, R, probs=probs, fct=fct, is_logf=False)\n",
    "        \n",
    "        t1 = time.time()\n",
    "        # update beta\n",
    "        LpbvOld = lossLpbBern(bThetaOld, betaOld, conDenfs[:3], X, Y, R, probs=probs, fct=fct)\n",
    "        betaNewRaw = betaOld - etab * LpbvOld\n",
    "        betaNew = betaNewRaw.clone()\n",
    "        betaNew[betaNew.abs()>=a] = betaNewRaw[betaNewRaw.abs()>=a].sign()*a\n",
    "        #betaNew = SoftTO(betaNewRaw, etab*Lamb)\n",
    "       \n",
    "        t2 = time.time()\n",
    "        LpTvOld = lossLpTBern(bThetaOld, betaNew, conDenfs[:3], X, Y, R, probs=probs, fct=fct)\n",
    "        #print(LpTvOld.norm(), betaNewRaw, betaNew)\n",
    "       \n",
    "        t3 = time.time()\n",
    "        # update Theta\n",
    "        #svdres = torch.svd(bThetaOld-LpTvOld*etaT)\n",
    "        svdres = torch.svd_lowrank(bThetaOld-LpTvOld*etaT, q=40) # it can be very  fast\n",
    "        U, S, V =  svdres\n",
    "        bThetaNew = U[:, :nR].matmul(torch.diag(S[:nR])).matmul(V[:, :nR].t())\n",
    "        #softS = (S-LamT*etaT).clamp_min(0)\n",
    "        #bThetaNew = U.matmul(torch.diag(softS)).matmul(V.t())\n",
    "        \n",
    "        LossNow = LossWP(LvNow, S, betaNew, LamT, Lamb)\n",
    "        Losses.append(LossNow.item())\n",
    "        t4 = time.time()\n",
    "        \n",
    "        ts = np.array([t0, t1, t2, t3, t4])\n",
    "        #print(np.diff(ts), torch.matrix_rank(bThetaOld))\n",
    "    \n",
    "        if t >= 1:\n",
    "            Lk1 = Losses[-1]\n",
    "            Lk = Losses[-2]\n",
    "            reCh = np.abs(Lk1-Lk)/np.max(np.abs((Lk, Lk1, 1))) \n",
    "        betaDiff = (betaOld-betaNew).norm().item()/(betaNew.norm().item()+1e-6)\n",
    "        bThetaDiff = (bThetaOld-bThetaNew).norm().item()/(bThetaNew.norm().item()+1e-6)\n",
    "        betaDiffs.append(betaDiff)\n",
    "        bThetaDiffs.append(bThetaDiff)\n",
    "        bThetaNorms.append(bThetaNew.norm().item())\n",
    "        betaNorms.append(betaNew.norm().item())\n",
    "        betaL0s.append(len(torch.nonzero(betaNew)))\n",
    "        bThetaRanks.append(torch.linalg.matrix_rank(bThetaNew).item())\n",
    "        \n",
    "        betaOld, bThetaOld = betaNew, bThetaNew \n",
    "        #etaT = 10/LpTvOld.norm().item()\n",
    "        etaT = etaT * 0.96\n",
    "        etab = etab * 0.95\n",
    "        \n",
    "        \n",
    "        # plot res\n",
    "        if t >= 1 and is_plot:\n",
    "            plt.figure(figsize=[15, 5])\n",
    "            \n",
    "            plt.subplot(131)\n",
    "            plt.xlim([0, maxIter])\n",
    "            #plt.ylim([-10, 5])\n",
    "            plt.title(\"Loss Diff\")\n",
    "            lossDifs = np.log(np.abs(np.diff(Losses)))\n",
    "            plt.plot(list(range(0, t)), lossDifs)\n",
    "            plt.scatter(t-1, lossDifs[-1], color=\"red\", s=20)\n",
    "            plt.axhline(y=np.log(tol), color=\"green\", linewidth=2, linestyle='--')\n",
    "            \n",
    "            \n",
    "            plt.subplot(132)\n",
    "            plt.xlim([0, maxIter])\n",
    "            #plt.ylim([0, p])\n",
    "            plt.title(\"Theta Norm\")\n",
    "            plt.plot(list(range(0, t+1)), bThetaNorms)\n",
    "            plt.scatter(t, bThetaNorms[-1], color=\"red\", s=20)\n",
    "            plt.text(t, bThetaNorms[-1], f\"Theta norm is {bThetaNorms[-1]:.3f}\")\n",
    "            #plt.axhline(y=5, color=\"green\", linewidth=2, linestyle='--')\n",
    "            \n",
    "            plt.subplot(133)\n",
    "            plt.xlim([0, maxIter])\n",
    "            #plt.ylim([0, np.min([n, m])])\n",
    "            plt.title(\"beta norm\")\n",
    "            plt.plot(list(range(0, t+1)), betaNorms)\n",
    "            plt.scatter(t, betaNorms[-1], color=\"red\", s=20)\n",
    "            plt.text(t, betaNorms[-1], f\"Beta norm is {betaNorms[-1]:.3f}\")\n",
    "            \n",
    "            #if (reCh >= tol) and ((bThetaDiff >= tolT) or (betaDiff >= tolb)) and (t<=(maxIter-1)):\n",
    "            display.clear_output(wait=True)\n",
    "            plt.pause(1e-7)\n",
    "            \n",
    "        if (reCh < tol):\n",
    "            break\n",
    "        if (bThetaDiff < tolT) and (betaDiff < tolb):\n",
    "            break\n",
    "    \n",
    "    res = {}\n",
    "    res[\"beta\"] = betaNew.cpu().numpy()\n",
    "    res[\"bTheta\"] = bThetaNew.cpu().numpy()\n",
    "    res[\"IterNum\"] = t\n",
    "    res[\"betaDiffs\"] = betaDiffs\n",
    "    res[\"bThetaDiffs\"] = bThetaDiffs\n",
    "    res[\"loss\"] = Losses\n",
    "    res[\"betaNorm0\"] = len(torch.nonzero(betaNew))\n",
    "    res[\"bThetaRank\"] = torch.linalg.matrix_rank(bThetaNew).item()\n",
    "    return res"
   ]
  },
  {
   "cell_type": "code",
   "execution_count": 52,
   "id": "9c16e4f2",
   "metadata": {},
   "outputs": [],
   "source": [
    "def marfRun(R, etaT, etab, Rall, maxIter=100, nR=16, is_plot=False, is_showPro=False):\n",
    "    #LamT = LamTfn(CT, n, m, p)\n",
    "    #Lamb = Lambfn(Cb, n, m)\n",
    "    Lamb = 0\n",
    "    LamT = 0\n",
    "    betaOld, bThetaOld = betainit, bThetainit\n",
    "    \n",
    "    \n",
    "    reCh = 10\n",
    "    Losses = []\n",
    "    betaDiffs = []\n",
    "    bThetaDiffs = []\n",
    "    betaNorms = []\n",
    "    bThetaNorms = []\n",
    "    betaL0s = []\n",
    "    bThetaRanks = []\n",
    "    \n",
    "    if is_showPro:\n",
    "        IterShowBar = tqdm(range(maxIter))\n",
    "    else:\n",
    "        IterShowBar = range(maxIter)\n",
    "    for t in IterShowBar:\n",
    "        res = RankMetricIter(betaOld, bThetaOld, Rall, R)\n",
    "        #print(res) \n",
    "        t0 = time.time()\n",
    "        #LvNow = marLinearLossL(X, Y, R, bThetaOld, betaOld, sigma=sigmaY) \n",
    "        LvNow = marLossL(bThetaOld, betaOld, f, X, Y, R, is_logf=False)\n",
    "        t1 = time.time()\n",
    "       \n",
    "        # update beta\n",
    "        LpbvOld = marLossLpb(bThetaOld, betaOld, conDenfs[:3], X, Y, R)\n",
    "        #print(LpbvOld.norm().item())\n",
    "        betaNewRaw = betaOld - etab * LpbvOld\n",
    "        betaNew = betaNewRaw\n",
    "        #betaNew = SoftTO(betaNewRaw, etab*Lamb)\n",
    "       \n",
    "        t2 = time.time()\n",
    "        LpTvOld = marLossLpT(bThetaOld, betaNew, conDenfs[:3], X, Y, R)\n",
    "        # print(LpTvOld.norm().item())\n",
    "        t3 = time.time()\n",
    "        svdres = torch.svd_lowrank(bThetaOld-LpTvOld*etaT, q=40) # it can be very  fast\n",
    "        #svdres = torch.svd(bThetaOld-LpTvOld*etaT)\n",
    "        U, S, V =  svdres\n",
    "        bThetaNew = U[:, :nR].matmul(torch.diag(S[:nR])).matmul(V[:, :nR].t())\n",
    "        #softS = (S-LamT*etaT).clamp_min(0)\n",
    "        #bThetaNew = U.matmul(torch.diag(softS)).matmul(V.t())\n",
    "        \n",
    "        LossNow = LossWP(LvNow, S[:nR], betaNew, LamT, Lamb)\n",
    "        #LossNow = LossWP(LvNow, softS, betaNew, LamT, Lamb)\n",
    "        Losses.append(LossNow.item())\n",
    "        t4 = time.time()\n",
    "        \n",
    "        ts = np.array([t0, t1, t2, t3, t4])\n",
    "        #print(np.diff(ts), torch.matrix_rank(bThetaOld))\n",
    "    \n",
    "        if t >= 1:\n",
    "            Lk1 = Losses[-1]\n",
    "            Lk = Losses[-2]\n",
    "            reCh = np.abs(Lk1-Lk)/np.max(np.abs((Lk, Lk1, 1))) \n",
    "        betaDiff = (betaOld-betaNew).norm().item()/(betaNew.norm().item()+1e-6)\n",
    "        bThetaDiff = (bThetaOld-bThetaNew).norm().item()/(bThetaNew.norm().item()+1e-6)\n",
    "        bThetaNorms.append(bThetaNew.norm().item())\n",
    "        betaNorms.append(betaNew.norm().item())\n",
    "        betaDiffs.append(betaDiff)\n",
    "        bThetaDiffs.append(bThetaDiff)\n",
    "        betaL0s.append(len(torch.nonzero(betaNew)))\n",
    "        bThetaRanks.append(torch.linalg.matrix_rank(bThetaNew).item())\n",
    "        \n",
    "        betaOld, bThetaOld = betaNew, bThetaNew \n",
    "        etaT = etaT * 0.96\n",
    "        etab = etab * 0.95\n",
    "        \n",
    "        \n",
    "        # plot res\n",
    "        if t >= 1 and is_plot:\n",
    "            plt.figure(figsize=[15, 5])\n",
    "            \n",
    "            plt.subplot(131)\n",
    "            plt.xlim([0, maxIter])\n",
    "            #plt.ylim([-10, 5])\n",
    "            plt.title(\"Loss Diff\")\n",
    "            lossDifs = np.log(np.abs(np.diff(Losses)))\n",
    "            plt.plot(list(range(0, t)), lossDifs)\n",
    "            plt.scatter(t-1, lossDifs[-1], color=\"red\", s=20)\n",
    "            plt.axhline(y=np.log(tol), color=\"green\", linewidth=2, linestyle='--')\n",
    "            \n",
    "            \n",
    "            plt.subplot(132)\n",
    "            plt.xlim([0, maxIter])\n",
    "            #plt.ylim([0, p])\n",
    "            plt.title(\"Theta Norm\")\n",
    "            plt.plot(list(range(0, t+1)), bThetaNorms)\n",
    "            plt.scatter(t, bThetaNorms[-1], color=\"red\", s=20)\n",
    "            plt.text(t, bThetaNorms[-1], f\"Theta norm is {bThetaNorms[-1]:.3f}\")\n",
    "            #plt.axhline(y=5, color=\"green\", linewidth=2, linestyle='--')\n",
    "            \n",
    "            plt.subplot(133)\n",
    "            plt.xlim([0, maxIter])\n",
    "            #plt.ylim([0, np.min([n, m])])\n",
    "            plt.title(\"beta norm\")\n",
    "            plt.plot(list(range(0, t+1)), betaNorms)\n",
    "            plt.scatter(t, betaNorms[-1], color=\"red\", s=20)\n",
    "            plt.text(t, betaNorms[-1], f\"Beta norm is {betaNorms[-1]:.3f}\")\n",
    "            #plt.axhline(y=5, color=\"green\", linewidth=2, linestyle='--')\n",
    "            \n",
    "            #if (reCh >= tol) and ((bThetaDiff >= tolT) or (betaDiff >= tolb)) and (t<=(maxIter-1)):\n",
    "            display.clear_output(wait=True)\n",
    "            plt.pause(1e-7)\n",
    "            \n",
    "        if (reCh < tol):\n",
    "            break\n",
    "        \n",
    "        if (bThetaDiff < tolT) and (betaDiff < tolb):\n",
    "            break\n",
    "    \n",
    "    res = {}\n",
    "    res[\"beta\"] = betaNew.cpu().numpy()\n",
    "    res[\"bTheta\"] = bThetaNew.cpu().numpy()\n",
    "    res[\"IterNum\"] = t\n",
    "    res[\"betaDiffs\"] = betaDiffs\n",
    "    res[\"bThetaDiffs\"] = bThetaDiffs\n",
    "    res[\"loss\"] = Losses\n",
    "    res[\"betaNorm0\"] = len(torch.nonzero(betaNew))\n",
    "    res[\"bThetaRank\"] = torch.linalg.matrix_rank(bThetaNew).item()\n",
    "    return res"
   ]
  },
  {
   "cell_type": "code",
   "execution_count": 9,
   "id": "74049979",
   "metadata": {},
   "outputs": [],
   "source": [
    "def GenMissing(Yraw, OR=0.03, y1ratio=0.5):\n",
    "    \"\"\"\n",
    "    OR: observed ratio.\n",
    "    y1ratio: num of 1 / (num of 1 and 0) in the removed part\n",
    "    \"\"\"\n",
    "    # get the R\n",
    "    R = Yraw.clone()\n",
    "    R[Yraw!=0] = 1\n",
    "\n",
    "    rawOR = R.sum()/R.numel()\n",
    "    assert OR <= rawOR\n",
    "    \n",
    "    numrv = R.numel() * (rawOR-OR) # number of samples to remove\n",
    "    numrv1 = int(numrv*y1ratio) # number of 1 to remove\n",
    "    numrv0 = int(numrv) - numrv1 # number of 0 to remove\n",
    "\n",
    "    mask1 = (Yraw > 4.5) & (R==1) # matrix with observed 1 as True\n",
    "    mask0 = (Yraw < 4.5) & (R==1) # matrix with observed 0 as True\n",
    "    selidx1 = np.random.choice(int(torch.sum(mask1)), numrv1, replace=0)\n",
    "    selidx0 = np.random.choice(int(torch.sum(mask0)), numrv0, replace=0)\n",
    "\n",
    "    tmp1 = R[mask1] \n",
    "    tmp1[selidx1] = 0\n",
    "    R[mask1] = tmp1\n",
    "\n",
    "    tmp0 = R[mask0] \n",
    "    tmp0[selidx0] = 0\n",
    "    R[mask0] = tmp0\n",
    "\n",
    "    return R.double().to_sparse()\n"
   ]
  },
  {
   "cell_type": "code",
   "execution_count": 10,
   "id": "aaa37da5",
   "metadata": {},
   "outputs": [],
   "source": [
    "def RankMetric(res, R, Rtrain):\n",
    "    eProbs = X.to_dense().matmul(torch.tensor(res[\"beta\"])) + torch.tensor(res[\"bTheta\"])\n",
    "    Rdiff = R.to_dense() - Rtrain.to_dense()\n",
    "    eProbsQ = eProbs.argsort(axis=1, descending=True).argsort(axis=1)/eProbs.shape[1]\n",
    "    testProbsQ = eProbsQ[Rdiff==1]\n",
    "    testYraw = Yraw.to_dense()[Rdiff==1]\n",
    "    metric = torch.sum(testProbsQ * testYraw)/torch.sum(testYraw)\n",
    "    return metric"
   ]
  },
  {
   "cell_type": "code",
   "execution_count": 11,
   "id": "6c7fb170",
   "metadata": {},
   "outputs": [],
   "source": [
    "def RankMetricIter(beta, bTheta, R, Rtrain):\n",
    "    eProbs = X.to_dense().matmul(beta) + bTheta\n",
    "    Rdiff = R.to_dense() - Rtrain.to_dense()\n",
    "    eProbsQ = eProbs.argsort(axis=1, descending=True).argsort(axis=1)/eProbs.shape[1]\n",
    "    testProbsQ = eProbsQ[Rdiff==1]\n",
    "    testYraw = Yraw.to_dense()[Rdiff==1]\n",
    "    metric = torch.sum(testProbsQ * testYraw)/torch.sum(testYraw)\n",
    "    return metric"
   ]
  },
  {
   "cell_type": "code",
   "execution_count": 49,
   "id": "14d6f185",
   "metadata": {},
   "outputs": [],
   "source": [
    "def RankMetricALS(res, R, Rtrain):\n",
    "    eProbs = torch.tensor(np.matmul(res.item_factors, res.user_factors.T))\n",
    "    Rdiff = R.to_dense() - Rtrain.to_dense()\n",
    "    eProbsQ = eProbs.argsort(axis=1, descending=True).argsort(axis=1)/eProbs.shape[1]\n",
    "    testProbsQ = eProbsQ[Rdiff==1]\n",
    "    testYraw = Yraw.to_dense()[Rdiff==1]\n",
    "    metric = torch.sum(testProbsQ * testYraw)/torch.sum(testYraw)\n",
    "    return metric"
   ]
  },
  {
   "cell_type": "markdown",
   "id": "91f03288",
   "metadata": {},
   "source": [
    "### Load the data"
   ]
  },
  {
   "cell_type": "code",
   "execution_count": 6,
   "id": "92318422",
   "metadata": {},
   "outputs": [],
   "source": [
    "datDir = Path(\"./MovieLens/JMLR-R2/\")"
   ]
  },
  {
   "cell_type": "code",
   "execution_count": 7,
   "id": "133d3903",
   "metadata": {},
   "outputs": [],
   "source": [
    "with open(datDir/\"mvlensX.pkl\", \"rb\") as f:\n",
    "    X = pickle.load(f)\n",
    "with open(datDir/\"mvlensY.pkl\", \"rb\") as f:\n",
    "    Yraw = pickle.load(f)\n",
    "with open(datDir/\"mvlensR.pkl\", \"rb\") as f:\n",
    "    R = pickle.load(f)"
   ]
  },
  {
   "cell_type": "code",
   "execution_count": 15,
   "id": "2f181d80",
   "metadata": {},
   "outputs": [],
   "source": [
    "Yb = Yraw.clone().to_dense()\n",
    "R = R.cuda().double()\n",
    "Y = Yb.cuda().double()\n",
    "X = X.cuda().double()\n",
    "Yraw = Yraw.cuda()"
   ]
  },
  {
   "cell_type": "markdown",
   "id": "2f4b72c6",
   "metadata": {},
   "source": [
    "## WFS tuning"
   ]
  },
  {
   "cell_type": "code",
   "execution_count": 18,
   "id": "4703c4f9",
   "metadata": {},
   "outputs": [],
   "source": [
    "numFcts = [1, 2, 4, 8, 16, 32, 64, 128]\n",
    "K1s = [1.2, 1.4, 1.6, 1.8, 2.0]"
   ]
  },
  {
   "cell_type": "code",
   "execution_count": 20,
   "id": "23b25134",
   "metadata": {},
   "outputs": [
    {
     "data": {
      "application/vnd.jupyter.widget-view+json": {
       "model_id": "bc70220dace94b7eb792442d0dcf17da",
       "version_major": 2,
       "version_minor": 0
      },
      "text/plain": [
       "Main loop:   0%|          | 0/5 [00:00<?, ?it/s]"
      ]
     },
     "metadata": {},
     "output_type": "display_data"
    },
    {
     "data": {
      "application/vnd.jupyter.widget-view+json": {
       "model_id": "11dbb9dbd4244637a5b3410cea9600e4",
       "version_major": 2,
       "version_minor": 0
      },
      "text/plain": [
       "  0%|          | 0/8 [00:00<?, ?it/s]"
      ]
     },
     "metadata": {},
     "output_type": "display_data"
    },
    {
     "name": "stderr",
     "output_type": "stream",
     "text": [
      "WARNING:root:OpenBLAS detected. Its highly recommend to set the environment variable 'export OPENBLAS_NUM_THREADS=1' to disable its internal multithreading\n"
     ]
    },
    {
     "data": {
      "application/vnd.jupyter.widget-view+json": {
       "model_id": "fc37d6cb86634cabad6ddefcb8221809",
       "version_major": 2,
       "version_minor": 0
      },
      "text/plain": [
       "  0%|          | 0/8 [00:00<?, ?it/s]"
      ]
     },
     "metadata": {},
     "output_type": "display_data"
    },
    {
     "data": {
      "application/vnd.jupyter.widget-view+json": {
       "model_id": "9f91a02104f94904a4a72a2472f5f02d",
       "version_major": 2,
       "version_minor": 0
      },
      "text/plain": [
       "  0%|          | 0/8 [00:00<?, ?it/s]"
      ]
     },
     "metadata": {},
     "output_type": "display_data"
    },
    {
     "data": {
      "application/vnd.jupyter.widget-view+json": {
       "model_id": "8cdee34243944afd9a79291829e4e584",
       "version_major": 2,
       "version_minor": 0
      },
      "text/plain": [
       "  0%|          | 0/8 [00:00<?, ?it/s]"
      ]
     },
     "metadata": {},
     "output_type": "display_data"
    },
    {
     "data": {
      "application/vnd.jupyter.widget-view+json": {
       "model_id": "8017d3c1514c456385e0fb6fc7cd3693",
       "version_major": 2,
       "version_minor": 0
      },
      "text/plain": [
       "  0%|          | 0/8 [00:00<?, ?it/s]"
      ]
     },
     "metadata": {},
     "output_type": "display_data"
    }
   ],
   "source": [
    "ressALS = []\n",
    "for K1 in tqdm(K1s, desc=\"Main loop\"):\n",
    "    resALS = ddict(list)\n",
    "    for numFct in tqdm(numFcts):\n",
    "        for i in range(10):\n",
    "            # remove some data\n",
    "            Rtrain = GenMissing(Yraw.to_dense(), 0.03, 0.65)\n",
    "            Yn = Yraw.clone().to_dense()\n",
    "            Yn[Rtrain.to_dense()==0] = 0\n",
    "            \n",
    "            # obtain data for training\n",
    "            YtrainArr = csr_matrix(Yn.cpu().numpy())\n",
    "            YtrainArr.data[YtrainArr.data < 1] = 0\n",
    "            YtrainArr.eliminate_zeros()\n",
    "            YtrainArr = bm25_weight(YtrainArr, B=0.75, K1=K1).tocsr()\n",
    "            \n",
    "            ALSmodel = AlternatingLeastSquares(numFct, use_gpu=False)\n",
    "            ALSmodel.fit(YtrainArr, show_progress=False)\n",
    "            \n",
    "            res = RankMetricALS(ALSmodel, R, Rtrain)\n",
    "            resALS[numFct].append(res.item())\n",
    "    ressALS.append(resALS)"
   ]
  },
  {
   "cell_type": "code",
   "execution_count": 21,
   "id": "5f2abe91",
   "metadata": {},
   "outputs": [],
   "source": [
    "ressMeans = []\n",
    "ressVars = []\n",
    "\n",
    "for resALS in ressALS:\n",
    "    ressMean = []\n",
    "    ressVar = []\n",
    "    for numFct in numFcts:\n",
    "        resMean = torch.tensor(resALS[numFct]).mean()\n",
    "        resVar = torch.tensor(resALS[numFct]).var()\n",
    "        ressMean.append(resMean.item())\n",
    "        ressVar.append(resVar.item())\n",
    "    ressMeans.append(ressMean)\n",
    "    ressVars.append(ressVar)"
   ]
  },
  {
   "cell_type": "code",
   "execution_count": 22,
   "id": "cb9337bc",
   "metadata": {},
   "outputs": [
    {
     "data": {
      "text/plain": [
       "<matplotlib.legend.Legend at 0x7f4d93bedf28>"
      ]
     },
     "execution_count": 22,
     "metadata": {},
     "output_type": "execute_result"
    },
    {
     "data": {
      "image/png": "[encoded data removed]",
      "text/plain": [
       "<Figure size 432x432 with 1 Axes>"
      ]
     },
     "metadata": {
      "needs_background": "light"
     },
     "output_type": "display_data"
    }
   ],
   "source": [
    "pchs = [\"o-r\", \"h--b\", \"H-.y\", \"*-g\", \"v--k\"]\n",
    "plt.figure(figsize=[6, 6])\n",
    "for idx in range(len(ressMeans)):\n",
    "    ressMean = ressMeans[idx]\n",
    "    plt.plot(numFcts, ressMean, pchs[idx], label=f\"K1 is {K1s[idx]:.2f}\")\n",
    "#plt.text(optNumFct, minErr, f\"The optimal num is {optNumFct}.\")\n",
    "plt.ylabel(\"Expected percentile ranking\")\n",
    "plt.xscale(\"log\", base=2)\n",
    "plt.legend()"
   ]
  },
  {
   "cell_type": "code",
   "execution_count": 23,
   "id": "950b080a",
   "metadata": {},
   "outputs": [
    {
     "name": "stdout",
     "output_type": "stream",
     "text": [
      "Optimal K1 is 2.0, optimal num of facts is  16, optimal ranking is 0.1077.\n"
     ]
    }
   ],
   "source": [
    "ressMeans = np.array(ressMeans)\n",
    "idxss = np.unravel_index(ressMeans.argmin(), ressMeans.shape)\n",
    "optK1 = K1s[idxss[0]]\n",
    "optNumFct = numFcts[idxss[1]]\n",
    "print(f\"Optimal K1 is {K1s[idxss[0]]}, \"\n",
    "      f\"optimal num of facts is  {numFcts[idxss[1]]}, \"\n",
    "      f\"optimal ranking is {ressMeans.min():.4f}.\")"
   ]
  },
  {
   "cell_type": "code",
   "execution_count": 111,
   "id": "914107ad",
   "metadata": {},
   "outputs": [],
   "source": [
    "with open(\"./JMLRR2/MovieLensWCFTuning.pkl\", \"wb\") as wf:\n",
    "    pickle.dump(ressMeans, wf)"
   ]
  },
  {
   "cell_type": "code",
   "execution_count": 109,
   "id": "f8c2bf9e",
   "metadata": {},
   "outputs": [
    {
     "data": {
      "image/png": "[encoded data removed]",
      "text/plain": [
       "<Figure size 1000x1000 with 1 Axes>"
      ]
     },
     "metadata": {
      "needs_background": "light"
     },
     "output_type": "display_data"
    }
   ],
   "source": [
    "optMeans = ressMeans[idxss[0], :]\n",
    "plt.figure(figsize=[5, 5], dpi=200)\n",
    "plt.plot(numFcts, optMeans*100, \"o-r\")\n",
    "plt.ylabel(\"Expected percentile ranking (%)\")\n",
    "plt.xlabel(\"Number of factors\")\n",
    "plt.xscale(\"log\", base=2)\n",
    "plt.savefig(\"./JMLRR2/MovieLensWCF.jpg\", bbox_inches='tight')"
   ]
  },
  {
   "cell_type": "markdown",
   "id": "c03c966d",
   "metadata": {},
   "source": [
    "### MNAR tuning"
   ]
  },
  {
   "cell_type": "code",
   "execution_count": 53,
   "id": "09d95380",
   "metadata": {},
   "outputs": [],
   "source": [
    "n, m = R.shape\n",
    "p = 2\n",
    "tol = 1e-8\n",
    "tolT = 0\n",
    "tolb = 0\n",
    "probs = X.to_dense().mean(axis=[0, 1]).cpu().numpy()"
   ]
  },
  {
   "cell_type": "code",
   "execution_count": 54,
   "id": "fe4ddd8f",
   "metadata": {},
   "outputs": [],
   "source": [
    "sigmaY =2\n",
    "def f(y, m, bsXs=None, sigma=sigmaY):\n",
    "    return fn(y, m, bsXs, sigma)\n",
    "def f2(y, m, bsXs=None, sigma=sigmaY):\n",
    "    return fn2(y, m, bsXs, sigma)\n",
    "conDenfs = [f, f2, f2]"
   ]
  },
  {
   "cell_type": "code",
   "execution_count": 55,
   "id": "0dc943ad",
   "metadata": {},
   "outputs": [],
   "source": [
    "paraXs = [\n",
    "    [2e7, 3e0], \n",
    "    [1e7, 1e0], \n",
    "    [1e8, 1e0], \n",
    "    [1e6, 1e0], \n",
    "    [1e7, 1e1], \n",
    "    [1e7, 1e2], \n",
    "    [1e9, 1e1], \n",
    "    [1e9, 1e0], \n",
    "    [1e9, 1e0], \n",
    "    [1e8, 1e1], \n",
    "]\n",
    "fct = 1"
   ]
  },
  {
   "cell_type": "code",
   "execution_count": null,
   "id": "9b4b665e",
   "metadata": {},
   "outputs": [
    {
     "data": {
      "application/vnd.jupyter.widget-view+json": {
       "model_id": "b0755d6af03d4f4aa2605ea5fbc6cb5a",
       "version_major": 2,
       "version_minor": 0
      },
      "text/plain": [
       "Main Loop:   0%|          | 0/10 [00:00<?, ?it/s]"
      ]
     },
     "metadata": {},
     "output_type": "display_data"
    },
    {
     "data": {
      "application/vnd.jupyter.widget-view+json": {
       "model_id": "3e0053b5e1b140b9aaee641fb6e6e1fb",
       "version_major": 2,
       "version_minor": 0
      },
      "text/plain": [
       "Inner Loop:   0%|          | 0/100 [00:00<?, ?it/s]"
      ]
     },
     "metadata": {},
     "output_type": "display_data"
    },
    {
     "data": {
      "application/vnd.jupyter.widget-view+json": {
       "model_id": "fc8d94eba8994744a5a37824900e486d",
       "version_major": 2,
       "version_minor": 0
      },
      "text/plain": [
       "Inner Loop:   0%|          | 0/100 [00:00<?, ?it/s]"
      ]
     },
     "metadata": {},
     "output_type": "display_data"
    },
    {
     "data": {
      "application/vnd.jupyter.widget-view+json": {
       "model_id": "d97f73ac22134098b94c7eb21f2f29aa",
       "version_major": 2,
       "version_minor": 0
      },
      "text/plain": [
       "Inner Loop:   0%|          | 0/100 [00:00<?, ?it/s]"
      ]
     },
     "metadata": {},
     "output_type": "display_data"
    },
    {
     "data": {
      "application/vnd.jupyter.widget-view+json": {
       "model_id": "bef4506773ba42c9a81c4a26ac1703c7",
       "version_major": 2,
       "version_minor": 0
      },
      "text/plain": [
       "Inner Loop:   0%|          | 0/100 [00:00<?, ?it/s]"
      ]
     },
     "metadata": {},
     "output_type": "display_data"
    },
    {
     "data": {
      "application/vnd.jupyter.widget-view+json": {
       "model_id": "eac581d2f7424add9a2e19c76a4cec60",
       "version_major": 2,
       "version_minor": 0
      },
      "text/plain": [
       "Inner Loop:   0%|          | 0/100 [00:00<?, ?it/s]"
      ]
     },
     "metadata": {},
     "output_type": "display_data"
    }
   ],
   "source": [
    "resMNARss = []\n",
    "for paraX in tqdm(paraXs, desc=\"Main Loop\"):\n",
    "    etaT, etab = paraX\n",
    "    resMNARs = []\n",
    "    for i in tqdm(range(100), desc=\"Inner Loop\"):\n",
    "        Rtrain = GenMissing(Yraw.to_dense(), 0.03, 0.65)\n",
    "        \n",
    "        betainit = torch.zeros(p) \n",
    "        bThetainit = torch.rand(n, m)\n",
    "        try:\n",
    "            resMAR = marfRun(Rtrain, Rall=R, etaT=1e8, etab=0, maxIter=50, nR=16, is_plot=0, is_showPro=0)\n",
    "            bThetainit = torch.tensor(resMAR['bTheta'])\n",
    "            betainit = torch.tensor(resMAR['beta'])\n",
    "            resMNAR = fRun(Rtrain, Rall=R, etaT=etaT, etab=etab, maxIter=50, a=0.5, nR=16, is_plot=0, is_showPro=0, is_res=0)\n",
    "        except: \n",
    "            pass\n",
    "        else:\n",
    "            resMNARs.append(RankMetric(resMNAR, R, Rtrain).item())\n",
    "        if len(resMNARs) >= 10:\n",
    "            break\n",
    "    resMNARss.append((paraX, resMNARs))"
   ]
  },
  {
   "cell_type": "code",
   "execution_count": 74,
   "id": "f54fc1c1",
   "metadata": {},
   "outputs": [
    {
     "name": "stdout",
     "output_type": "stream",
     "text": [
      "The optimal parameters are [10000000.0, 100.0], the ranking is 0.0914.\n"
     ]
    }
   ],
   "source": [
    "resMs = [np.mean(resMNARs[1]) for resMNARs in resMNARss]\n",
    "optX = resMNARss[np.argmin(resMs)][0]\n",
    "print(f\"The optimal parameters are {optX}, the ranking is {np.min(resMs):.4f}.\")"
   ]
  },
  {
   "cell_type": "markdown",
   "id": "8229dd81",
   "metadata": {},
   "source": [
    "### Compare MNAR with ALS"
   ]
  },
  {
   "cell_type": "code",
   "execution_count": 78,
   "id": "d2123acc",
   "metadata": {},
   "outputs": [],
   "source": [
    "optNumFct = 16\n",
    "optK1 = 2\n",
    "etaT, etab = 1e7, 1e2"
   ]
  },
  {
   "cell_type": "code",
   "execution_count": 79,
   "id": "812e85f0",
   "metadata": {},
   "outputs": [
    {
     "data": {
      "application/vnd.jupyter.widget-view+json": {
       "model_id": "9e5f351b34574b4ba72b48f7e75adec0",
       "version_major": 2,
       "version_minor": 0
      },
      "text/plain": [
       "Loop:   0%|          | 0/20 [00:00<?, ?it/s]"
      ]
     },
     "metadata": {},
     "output_type": "display_data"
    }
   ],
   "source": [
    "resRanks = []\n",
    "for i in tqdm(range(20), desc=\"Loop\"):\n",
    "    Rtrain = GenMissing(Yraw.to_dense(), 0.03, 0.65)\n",
    "    Yn = Yraw.clone().to_dense()\n",
    "    Yn[Rtrain.to_dense()==0] = 0\n",
    "    \n",
    "    # obtain data for training\n",
    "    YtrainArr = csr_matrix(Yn.cpu().numpy())\n",
    "    YtrainArr.data[YtrainArr.data < 1] = 0\n",
    "    YtrainArr.eliminate_zeros()\n",
    "    YtrainArr = bm25_weight(YtrainArr, B=0.75, K1=optK1).tocsr()\n",
    "    \n",
    "    ALSmodel = AlternatingLeastSquares(optNumFct, use_gpu=False)\n",
    "    ALSmodel.fit(YtrainArr, show_progress=False)\n",
    "    \n",
    "    resALSrank = RankMetricALS(ALSmodel, R, Rtrain).item()\n",
    "    \n",
    "    betainit = torch.zeros(p) \n",
    "    bThetainit = torch.rand(n, m)\n",
    "    try:\n",
    "        resMAR = marfRun(Rtrain, Rall=R, etaT=1e8, etab=0, maxIter=50, nR=16, is_plot=0, is_showPro=0)\n",
    "        bThetainit = torch.tensor(resMAR['bTheta'])\n",
    "        betainit = torch.tensor(resMAR['beta'])\n",
    "        resMNAR = fRun(Rtrain, Rall=R, etaT=etaT, etab=etab, maxIter=50, a=0.5, nR=16, is_plot=0, is_showPro=0, is_res=0)\n",
    "    except: \n",
    "        pass\n",
    "    else:\n",
    "        resMNARrank = RankMetric(resMNAR, R, Rtrain).item()\n",
    "        resRanks.append([resALSrank, resMNARrank])\n",
    "    "
   ]
  },
  {
   "cell_type": "code",
   "execution_count": 80,
   "id": "2d9b3d9e",
   "metadata": {},
   "outputs": [],
   "source": [
    "ms = np.mean(resRanks, axis=0)\n",
    "stds = np.std(resRanks, axis=0)"
   ]
  },
  {
   "cell_type": "code",
   "execution_count": 81,
   "id": "fe86e757",
   "metadata": {},
   "outputs": [],
   "source": [
    "ups = ms + 1.96*stds\n",
    "lowers = ms - 1.96*stds"
   ]
  },
  {
   "cell_type": "code",
   "execution_count": 82,
   "id": "d32fa669",
   "metadata": {},
   "outputs": [
    {
     "name": "stdout",
     "output_type": "stream",
     "text": [
      "95% CI for ALS is (0.1071, 0.1082).\n"
     ]
    }
   ],
   "source": [
    "print(f\"95% CI for ALS is ({lowers[0]:.4f}, {ups[0]:.4f}).\")"
   ]
  },
  {
   "cell_type": "code",
   "execution_count": 83,
   "id": "19353686",
   "metadata": {},
   "outputs": [
    {
     "name": "stdout",
     "output_type": "stream",
     "text": [
      "95% CI for MNAR is (0.0912, 0.0919).\n"
     ]
    }
   ],
   "source": [
    "print(f\"95% CI for MNAR is ({lowers[1]:.4f}, {ups[1]:.4f}).\")"
   ]
  },
  {
   "cell_type": "code",
   "execution_count": 112,
   "id": "99ca01a6",
   "metadata": {},
   "outputs": [],
   "source": [
    "with open(\"./JMLRR2/MovieLensFinalRes.pkl\", \"wb\") as wf:\n",
    "    pickle.dump(resRanks, wf)"
   ]
  },
  {
   "cell_type": "code",
   "execution_count": 110,
   "id": "ae4a5f5e",
   "metadata": {},
   "outputs": [
    {
     "data": {
      "image/png": "[encoded data removed]",
      "text/plain": [
       "<Figure size 1000x1000 with 1 Axes>"
      ]
     },
     "metadata": {
      "needs_background": "light"
     },
     "output_type": "display_data"
    }
   ],
   "source": [
    "plt.figure(figsize=[5, 5], dpi=200)\n",
    "plt.boxplot(np.array(resRanks)*100)\n",
    "plt.ylabel(\"Expected percentile ranking (%)\")\n",
    "_ = plt.xticks([1, 2], [\"WCF\", \"MNAR\"])\n",
    "plt.savefig(\"./JMLRR2/MovieLensBoxplot.jpg\", bbox_inches='tight')"
   ]
  },
  {
   "cell_type": "code",
   "execution_count": null,
   "id": "d03cbf24",
   "metadata": {},
   "outputs": [],
   "source": []
  }
 ],
 "metadata": {
  "kernelspec": {
   "display_name": "Python 3",
   "language": "python",
   "name": "python3"
  },
  "language_info": {
   "codemirror_mode": {
    "name": "ipython",
    "version": 3
   },
   "file_extension": ".py",
   "mimetype": "text/x-python",
   "name": "python",
   "nbconvert_exporter": "python",
   "pygments_lexer": "ipython3",
   "version": "3.6.10"
  },
  "toc": {
   "base_numbering": 1,
   "nav_menu": {},
   "number_sections": true,
   "sideBar": true,
   "skip_h1_title": false,
   "title_cell": "Table of Contents",
   "title_sidebar": "Contents",
   "toc_cell": false,
   "toc_position": {},
   "toc_section_display": true,
   "toc_window_display": false
  }
 },
 "nbformat": 4,
 "nbformat_minor": 5
}

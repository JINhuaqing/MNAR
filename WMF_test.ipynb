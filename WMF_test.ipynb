{
 "cells": [
  {
   "cell_type": "code",
   "execution_count": 38,
   "metadata": {},
   "outputs": [],
   "source": [
    "from __future__ import print_function\n",
    "\n",
    "import argparse\n",
    "import codecs\n",
    "import logging\n",
    "import time\n",
    "\n",
    "import numpy as np\n",
    "import tqdm\n",
    "\n",
    "from implicit.als import AlternatingLeastSquares\n",
    "from implicit.bpr import BayesianPersonalizedRanking\n",
    "from implicit.datasets.movielens import get_movielens\n",
    "from implicit.lmf import LogisticMatrixFactorization\n",
    "from implicit.nearest_neighbours import (\n",
    "    BM25Recommender,\n",
    "    CosineRecommender,\n",
    "    TFIDFRecommender,\n",
    "    bm25_weight,\n",
    ")\n",
    "\n",
    "log = logging.getLogger(\"implicit\")\n",
    "import matplotlib.pyplot as plt\n",
    "import seaborn as sns"
   ]
  },
  {
   "cell_type": "code",
   "execution_count": 2,
   "metadata": {},
   "outputs": [],
   "source": [
    "def calculate_similar_movies(output_filename, model_name=\"als\", min_rating=4.0, variant=\"20m\"):\n",
    "    # read in the input data file\n",
    "    start = time.time()\n",
    "    titles, ratings = get_movielens(variant)\n",
    "\n",
    "    # remove things < min_rating, and convert to implicit dataset\n",
    "    # by considering ratings as a binary preference only\n",
    "    ratings.data[ratings.data < min_rating] = 0\n",
    "    ratings.eliminate_zeros()\n",
    "    ratings.data = np.ones(len(ratings.data))\n",
    "\n",
    "    log.info(\"read data file in %s\", time.time() - start)\n",
    "\n",
    "    # generate a recommender model based off the input params\n",
    "    if model_name == \"als\":\n",
    "        model = AlternatingLeastSquares()\n",
    "\n",
    "        # lets weight these models by bm25weight.\n",
    "        log.debug(\"weighting matrix by bm25_weight\")\n",
    "        ratings = (bm25_weight(ratings, B=0.9) * 5).tocsr()\n",
    "\n",
    "    elif model_name == \"bpr\":\n",
    "        model = BayesianPersonalizedRanking()\n",
    "\n",
    "    elif model_name == \"lmf\":\n",
    "        model = LogisticMatrixFactorization()\n",
    "\n",
    "    elif model_name == \"tfidf\":\n",
    "        model = TFIDFRecommender()\n",
    "\n",
    "    elif model_name == \"cosine\":\n",
    "        model = CosineRecommender()\n",
    "\n",
    "    elif model_name == \"bm25\":\n",
    "        model = BM25Recommender(B=0.2)\n",
    "\n",
    "    else:\n",
    "        raise NotImplementedError(\"TODO: model %s\" % model_name)\n",
    "\n",
    "    # train the model\n",
    "    log.debug(\"training model %s\", model_name)\n",
    "    start = time.time()\n",
    "    model.fit(ratings)\n",
    "    log.debug(\"trained model '%s' in %s\", model_name, time.time() - start)\n",
    "    log.debug(\"calculating top movies\")\n",
    "\n",
    "    user_count = np.ediff1d(ratings.indptr)\n",
    "    to_generate = sorted(np.arange(len(titles)), key=lambda x: -user_count[x])\n",
    "\n",
    "    log.debug(\"calculating similar movies\")\n",
    "    with tqdm.tqdm(total=len(to_generate)) as progress:\n",
    "        with codecs.open(output_filename, \"w\", \"utf8\") as o:\n",
    "            for movieid in to_generate:\n",
    "                # if this movie has no ratings, skip over (for instance 'Graffiti Bridge' has\n",
    "                # no ratings > 4 meaning we've filtered out all data for it.\n",
    "                if ratings.indptr[movieid] != ratings.indptr[movieid + 1]:\n",
    "                    title = titles[movieid]\n",
    "                    for other, score in model.similar_items(movieid, 11):\n",
    "                        o.write(\"%s\\t%s\\t%s\\n\" % (title, titles[other], score))\n",
    "                progress.update(1)\n"
   ]
  },
  {
   "cell_type": "code",
   "execution_count": 4,
   "metadata": {},
   "outputs": [
    {
     "data": {
      "application/vnd.jupyter.widget-view+json": {
       "model_id": "f55d3a0aafd34d6abb2fbc4cd4bc84df",
       "version_major": 2,
       "version_minor": 0
      },
      "text/plain": [
       "HBox(children=(IntProgress(value=1, bar_style='info', max=1), HTML(value='')))"
      ]
     },
     "metadata": {},
     "output_type": "display_data"
    },
    {
     "name": "stdout",
     "output_type": "stream",
     "text": [
      "\n"
     ]
    }
   ],
   "source": [
    "titles, ratings = get_movielens(\"100k\")"
   ]
  },
  {
   "cell_type": "code",
   "execution_count": 15,
   "metadata": {},
   "outputs": [
    {
     "data": {
      "text/plain": [
       "(array([ 6110.,     0., 11370.,     0.,     0., 27145.,     0., 34174.,\n",
       "            0., 21201.]),\n",
       " array([1. , 1.4, 1.8, 2.2, 2.6, 3. , 3.4, 3.8, 4.2, 4.6, 5. ],\n",
       "       dtype=float32),\n",
       " <BarContainer object of 10 artists>)"
      ]
     },
     "execution_count": 15,
     "metadata": {},
     "output_type": "execute_result"
    },
    {
     "data": {
      "image/png": "[encoded data removed]",
      "text/plain": [
       "<Figure size 432x288 with 1 Axes>"
      ]
     },
     "metadata": {
      "needs_background": "light"
     },
     "output_type": "display_data"
    }
   ],
   "source": [
    "plt.hist(ratings.data)"
   ]
  },
  {
   "cell_type": "code",
   "execution_count": 18,
   "metadata": {},
   "outputs": [],
   "source": [
    "model = AlternatingLeastSquares(64)"
   ]
  },
  {
   "cell_type": "code",
   "execution_count": 19,
   "metadata": {},
   "outputs": [
    {
     "data": {
      "application/vnd.jupyter.widget-view+json": {
       "model_id": "0688d93934dc4b8ca3c733f59c3ea594",
       "version_major": 2,
       "version_minor": 0
      },
      "text/plain": [
       "HBox(children=(IntProgress(value=0, max=15), HTML(value='')))"
      ]
     },
     "metadata": {},
     "output_type": "display_data"
    },
    {
     "name": "stdout",
     "output_type": "stream",
     "text": [
      "\n"
     ]
    }
   ],
   "source": [
    "model.fit(ratings)"
   ]
  },
  {
   "cell_type": "code",
   "execution_count": 20,
   "metadata": {},
   "outputs": [],
   "source": [
    "user_count = np.ediff1d(ratings.indptr)"
   ]
  },
  {
   "cell_type": "code",
   "execution_count": 23,
   "metadata": {},
   "outputs": [],
   "source": [
    "to_generate = sorted(np.arange(len(titles)), key=lambda x: -user_count[x])"
   ]
  },
  {
   "cell_type": "code",
   "execution_count": 26,
   "metadata": {},
   "outputs": [],
   "source": [
    "outfil = \"test_movie.csv\""
   ]
  },
  {
   "cell_type": "code",
   "execution_count": 28,
   "metadata": {},
   "outputs": [
    {
     "name": "stderr",
     "output_type": "stream",
     "text": [
      "100%|██████████| 1683/1683 [00:00<00:00, 3757.59it/s]\n"
     ]
    }
   ],
   "source": [
    "with tqdm.tqdm(total=len(to_generate)) as progress:\n",
    "        with codecs.open(outfil, \"w\", \"utf8\") as o:\n",
    "            for movieid in to_generate:\n",
    "                # if this movie has no ratings, skip over (for instance 'Graffiti Bridge' has\n",
    "                # no ratings > 4 meaning we've filtered out all data for it.\n",
    "                if ratings.indptr[movieid] != ratings.indptr[movieid + 1]:\n",
    "                    title = titles[movieid]\n",
    "                    for other, score in model.similar_items(movieid, 11):\n",
    "                        o.write(\"%s\\t%s\\t%s\\n\" % (title, titles[other], score))\n",
    "                progress.update(1)"
   ]
  },
  {
   "cell_type": "code",
   "execution_count": 30,
   "metadata": {},
   "outputs": [
    {
     "data": {
      "text/plain": [
       "(1683, 64)"
      ]
     },
     "execution_count": 30,
     "metadata": {},
     "output_type": "execute_result"
    }
   ],
   "source": [
    "model.item_factors.shape"
   ]
  },
  {
   "cell_type": "code",
   "execution_count": 39,
   "metadata": {},
   "outputs": [],
   "source": [
    "scs = np.matmul(model.item_factors, model.user_factors.T)"
   ]
  },
  {
   "cell_type": "code",
   "execution_count": 45,
   "metadata": {},
   "outputs": [
    {
     "data": {
      "text/plain": [
       "-1.0765804"
      ]
     },
     "execution_count": 45,
     "metadata": {},
     "output_type": "execute_result"
    }
   ],
   "source": [
    "np.min(scs)"
   ]
  },
  {
   "cell_type": "code",
   "execution_count": 53,
   "metadata": {},
   "outputs": [
    {
     "data": {
      "text/plain": [
       "0.12124813"
      ]
     },
     "execution_count": 53,
     "metadata": {},
     "output_type": "execute_result"
    }
   ],
   "source": [
    "model.item_norms[2]"
   ]
  },
  {
   "cell_type": "code",
   "execution_count": 54,
   "metadata": {},
   "outputs": [
    {
     "data": {
      "text/plain": [
       "0.12124813"
      ]
     },
     "execution_count": 54,
     "metadata": {},
     "output_type": "execute_result"
    }
   ],
   "source": [
    "np.linalg.norm(model.item_factors[2, ])"
   ]
  },
  {
   "cell_type": "code",
   "execution_count": null,
   "metadata": {},
   "outputs": [],
   "source": []
  }
 ],
 "metadata": {
  "kernelspec": {
   "display_name": "Python 3",
   "language": "python",
   "name": "python3"
  },
  "language_info": {
   "codemirror_mode": {
    "name": "ipython",
    "version": 3
   },
   "file_extension": ".py",
   "mimetype": "text/x-python",
   "name": "python",
   "nbconvert_exporter": "python",
   "pygments_lexer": "ipython3",
   "version": "3.6.10"
  }
 },
 "nbformat": 4,
 "nbformat_minor": 4
}

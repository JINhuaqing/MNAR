{
 "cells": [
  {
   "cell_type": "code",
   "execution_count": 32,
   "metadata": {},
   "outputs": [],
   "source": [
    "from pathlib import Path\n",
    "import matplotlib.pyplot as plt\n",
    "\n",
    "import numpy as np \n",
    "import pickle"
   ]
  },
  {
   "cell_type": "code",
   "execution_count": 33,
   "metadata": {},
   "outputs": [],
   "source": [
    "root = Path(\"./results\")\n",
    "filsMNAR = list(root.glob(\"./MNAR_logi_*.pkl\"))\n",
    "filsMAR = list(root.glob(\"./MAR_logi_*.pkl\"))\n",
    "filsEM = list(root.glob(\"./EM_logi_*.pkl\"))\n",
    "#fils = sorted(fils, key=name2mn)"
   ]
  },
  {
   "cell_type": "code",
   "execution_count": 34,
   "metadata": {},
   "outputs": [],
   "source": [
    "def path2m(fil):\n",
    "    m = int(fil.stem.split(\"m\")[1].split(\"_\")[0])\n",
    "    return m"
   ]
  },
  {
   "cell_type": "code",
   "execution_count": 35,
   "metadata": {},
   "outputs": [],
   "source": [
    "filsMNAR = sorted(filsMNAR, key=path2m)\n",
    "filsMAR = sorted(filsMAR, key=path2m)\n",
    "filsEM = sorted(filsEM, key=path2m)"
   ]
  },
  {
   "cell_type": "code",
   "execution_count": 36,
   "metadata": {},
   "outputs": [
    {
     "data": {
      "text/plain": [
       "[PosixPath('results/MNAR_logi_p100_m100_simu3_iter1000.pkl'),\n",
       " PosixPath('results/MNAR_logi_p100_m100_simu1_iter1000.pkl'),\n",
       " PosixPath('results/MNAR_logi_p100_m100_simu6_iter1000.pkl'),\n",
       " PosixPath('results/MNAR_logi_p100_m100_simu4_iter1000.pkl'),\n",
       " PosixPath('results/MNAR_logi_p100_m100_simu7_iter1000.pkl'),\n",
       " PosixPath('results/MNAR_logi_p100_m100_simu5_iter1000.pkl'),\n",
       " PosixPath('results/MNAR_logi_p100_m100_simu9_iter1000.pkl'),\n",
       " PosixPath('results/MNAR_logi_p100_m100_simu10_iter1000.pkl'),\n",
       " PosixPath('results/MNAR_logi_p100_m100_simu2_iter1000.pkl'),\n",
       " PosixPath('results/MNAR_logi_p100_m100_simu8_iter1000.pkl'),\n",
       " PosixPath('results/MNAR_logi_p100_m200_simu2_iter945.pkl'),\n",
       " PosixPath('results/MNAR_logi_p100_m200_simu3_iter945.pkl'),\n",
       " PosixPath('results/MNAR_logi_p100_m200_simu7_iter945.pkl'),\n",
       " PosixPath('results/MNAR_logi_p100_m200_simu4_iter945.pkl'),\n",
       " PosixPath('results/MNAR_logi_p100_m200_simu6_iter945.pkl'),\n",
       " PosixPath('results/MNAR_logi_p100_m200_simu8_iter945.pkl'),\n",
       " PosixPath('results/MNAR_logi_p100_m200_simu10_iter945.pkl'),\n",
       " PosixPath('results/MNAR_logi_p100_m200_simu5_iter945.pkl'),\n",
       " PosixPath('results/MNAR_logi_p100_m200_simu9_iter945.pkl'),\n",
       " PosixPath('results/MNAR_logi_p100_m200_simu1_iter945.pkl'),\n",
       " PosixPath('results/MNAR_logi_p100_m400_simu5_iter932.pkl'),\n",
       " PosixPath('results/MNAR_logi_p100_m400_simu3_iter932.pkl'),\n",
       " PosixPath('results/MNAR_logi_p100_m400_simu10_iter932.pkl'),\n",
       " PosixPath('results/MNAR_logi_p100_m400_simu6_iter932.pkl'),\n",
       " PosixPath('results/MNAR_logi_p100_m400_simu2_iter932.pkl'),\n",
       " PosixPath('results/MNAR_logi_p100_m400_simu1_iter932.pkl'),\n",
       " PosixPath('results/MNAR_logi_p100_m400_simu7_iter932.pkl'),\n",
       " PosixPath('results/MNAR_logi_p100_m400_simu4_iter932.pkl'),\n",
       " PosixPath('results/MNAR_logi_p100_m400_simu8_iter932.pkl'),\n",
       " PosixPath('results/MNAR_logi_p100_m400_simu9_iter932.pkl'),\n",
       " PosixPath('results/MNAR_logi_p100_m800_simu3_iter754.pkl'),\n",
       " PosixPath('results/MNAR_logi_p100_m800_simu1_iter754.pkl'),\n",
       " PosixPath('results/MNAR_logi_p100_m800_simu4_iter754.pkl'),\n",
       " PosixPath('results/MNAR_logi_p100_m800_simu6_iter754.pkl'),\n",
       " PosixPath('results/MNAR_logi_p100_m800_simu8_iter754.pkl'),\n",
       " PosixPath('results/MNAR_logi_p100_m800_simu2_iter754.pkl'),\n",
       " PosixPath('results/MNAR_logi_p100_m800_simu5_iter754.pkl'),\n",
       " PosixPath('results/MNAR_logi_p100_m800_simu7_iter754.pkl'),\n",
       " PosixPath('results/MNAR_logi_p100_m800_simu9_iter754.pkl'),\n",
       " PosixPath('results/MNAR_logi_p100_m800_simu10_iter754.pkl'),\n",
       " PosixPath('results/MNAR_logi_p100_m1600_simu3_iter512.pkl'),\n",
       " PosixPath('results/MNAR_logi_p100_m1600_simu7_iter512.pkl'),\n",
       " PosixPath('results/MNAR_logi_p100_m1600_simu8_iter512.pkl'),\n",
       " PosixPath('results/MNAR_logi_p100_m1600_simu5_iter512.pkl'),\n",
       " PosixPath('results/MNAR_logi_p100_m1600_simu6_iter512.pkl'),\n",
       " PosixPath('results/MNAR_logi_p100_m1600_simu4_iter512.pkl'),\n",
       " PosixPath('results/MNAR_logi_p100_m1600_simu9_iter512.pkl'),\n",
       " PosixPath('results/MNAR_logi_p100_m1600_simu1_iter512.pkl'),\n",
       " PosixPath('results/MNAR_logi_p100_m1600_simu10_iter512.pkl'),\n",
       " PosixPath('results/MNAR_logi_p100_m1600_simu2_iter512.pkl')]"
      ]
     },
     "execution_count": 36,
     "metadata": {},
     "output_type": "execute_result"
    }
   ],
   "source": [
    "filsMNAR"
   ]
  },
  {
   "cell_type": "markdown",
   "metadata": {},
   "source": [
    "some parameters "
   ]
  },
  {
   "cell_type": "code",
   "execution_count": 37,
   "metadata": {},
   "outputs": [],
   "source": [
    "from collections import defaultdict as ddict\n",
    "\n",
    "errTsMNAR = ddict(list)\n",
    "errBsMNAR = ddict(list)\n",
    "for curFil in filsMNAR:\n",
    "    m = path2m(curFil)\n",
    "    with open(curFil, \"rb\") as f:\n",
    "         res = pickle.load(f)\n",
    "    errb = res[1][\"errb\"]\n",
    "    errT = res[1][\"errT\"]\n",
    "    \n",
    "    errTsMNAR[m].append(errT)\n",
    "    errBsMNAR[m].append(errb)"
   ]
  },
  {
   "cell_type": "code",
   "execution_count": 38,
   "metadata": {},
   "outputs": [],
   "source": [
    "errTsMAR = ddict(list)\n",
    "errBsMAR = ddict(list)\n",
    "for curFil in filsMAR:\n",
    "    m = path2m(curFil)\n",
    "    with open(curFil, \"rb\") as f:\n",
    "         res = pickle.load(f)\n",
    "    errb = res[1][\"errb\"]\n",
    "    errT = res[1][\"errT\"]\n",
    "    \n",
    "    errTsMAR[m].append(errT)\n",
    "    errBsMAR[m].append(errb)"
   ]
  },
  {
   "cell_type": "code",
   "execution_count": 39,
   "metadata": {},
   "outputs": [],
   "source": [
    "errTsEM = ddict(list)\n",
    "errBsEM = ddict(list)\n",
    "for curFil in filsEM:\n",
    "    m = path2m(curFil)\n",
    "    with open(curFil, \"rb\") as f:\n",
    "         res = pickle.load(f)\n",
    "    errb = res[1][\"errb\"]\n",
    "    errT = res[1][\"errT\"]\n",
    "    \n",
    "    errTsEM[m].append(errT)\n",
    "    errBsEM[m].append(errb)"
   ]
  },
  {
   "cell_type": "code",
   "execution_count": 40,
   "metadata": {},
   "outputs": [],
   "source": [
    "ms = [100, 200, 400, 800, 1600]\n",
    "errBs = ddict(list)\n",
    "errTs = ddict(list)\n",
    "for m in ms:\n",
    "    errBs[\"MNAR\"].append(np.mean(errBsMNAR[m]))\n",
    "    errBs[\"MAR\"].append(np.mean(errBsMAR[m]))\n",
    "    errBs[\"EM\"].append(np.mean(errBsEM[m]))\n",
    "    \n",
    "    errTs[\"MNAR\"].append(np.mean(errTsMNAR[m]))\n",
    "    errTs[\"MAR\"].append(np.mean(errTsMAR[m]))\n",
    "    errTs[\"EM\"].append(np.mean(errTsEM[m]))"
   ]
  },
  {
   "cell_type": "code",
   "execution_count": 41,
   "metadata": {},
   "outputs": [
    {
     "data": {
      "text/plain": [
       "<matplotlib.legend.Legend at 0x7f64ebd4fa90>"
      ]
     },
     "execution_count": 41,
     "metadata": {},
     "output_type": "execute_result"
    },
    {
     "data": {
      "image/png": "[encoded data removed]",
      "text/plain": [
       "<Figure size 432x288 with 1 Axes>"
      ]
     },
     "metadata": {
      "needs_background": "light"
     },
     "output_type": "display_data"
    }
   ],
   "source": [
    "font_y = {\"size\": 15, \"va\":\"baseline\"}\n",
    "font_x = {\"size\": 15}\n",
    "# plt.ylim([0, 3.8])\n",
    "plt.xlabel(\"m=n\", font_x)\n",
    "plt.ylabel(r\"$\\Vert\\Delta_{\\mathrm{\\beta}}\\Vert_2$\", font_y)\n",
    "plt.xscale(\"log\", base=2)\n",
    "plt.plot(ms, errBs[\"MNAR\"][:], \"g-.h\", label=\"MNAR\", linewidth=1)\n",
    "plt.plot(ms[:], errBs[\"MAR\"][:], \"r--o\", label=\"MAR\", linewidth=1)\n",
    "plt.plot(ms[:], errBs[\"EM\"][:], \"b-*\", label=\"EM\", linewidth=1)\n",
    "plt.legend(loc=1)"
   ]
  },
  {
   "cell_type": "code",
   "execution_count": 42,
   "metadata": {},
   "outputs": [
    {
     "data": {
      "text/plain": [
       "<matplotlib.legend.Legend at 0x7f64ebd3e048>"
      ]
     },
     "execution_count": 42,
     "metadata": {},
     "output_type": "execute_result"
    },
    {
     "data": {
      "image/png": "[encoded data removed]",
      "text/plain": [
       "<Figure size 432x288 with 1 Axes>"
      ]
     },
     "metadata": {
      "needs_background": "light"
     },
     "output_type": "display_data"
    }
   ],
   "source": [
    "plt.xlabel(\"m=n\", font_x)\n",
    "# plt.ylim([0, 1]) #for p=200 linear\n",
    "plt.ylabel(r\"$\\Vert\\Delta_{\\mathrm{\\Theta}}\\Vert_F$\", font_y)\n",
    "plt.plot(ms, errTs[\"MNAR\"], \"g-.h\", label=\"MNAR\", linewidth=1)\n",
    "plt.plot(ms, errTs[\"MAR\"], \"r--o\", label=\"MAR\", linewidth=1)\n",
    "plt.plot(ms, errTs[\"EM\"], \"b-*\", label=\"EM\", linewidth=1)\n",
    "plt.xscale(\"log\", base=2)\n",
    "plt.legend(loc=1)"
   ]
  },
  {
   "cell_type": "code",
   "execution_count": 43,
   "metadata": {},
   "outputs": [
    {
     "data": {
      "text/plain": [
       "[3.957763969973283,\n",
       " 3.2799391277995538,\n",
       " 1.1861792344593032,\n",
       " 1.0287764044126297,\n",
       " 1.033123584518711]"
      ]
     },
     "execution_count": 43,
     "metadata": {},
     "output_type": "execute_result"
    }
   ],
   "source": [
    "errBs[\"MAR\"]"
   ]
  },
  {
   "cell_type": "code",
   "execution_count": 44,
   "metadata": {},
   "outputs": [
    {
     "data": {
      "text/plain": [
       "[3.560531700119647,\n",
       " 1.523461977591483,\n",
       " 1.0383952846056652,\n",
       " 1.0234708358064846,\n",
       " 0.9384001408303192]"
      ]
     },
     "execution_count": 44,
     "metadata": {},
     "output_type": "execute_result"
    }
   ],
   "source": [
    "errBs[\"EM\"]"
   ]
  },
  {
   "cell_type": "code",
   "execution_count": 45,
   "metadata": {},
   "outputs": [
    {
     "data": {
      "text/plain": [
       "[2.968428209254714,\n",
       " 1.0814557079587956,\n",
       " 1.003636552861462,\n",
       " 0.99838581260705,\n",
       " 0.9815567962616228]"
      ]
     },
     "execution_count": 45,
     "metadata": {},
     "output_type": "execute_result"
    }
   ],
   "source": [
    "errBs[\"MNAR\"]"
   ]
  },
  {
   "cell_type": "code",
   "execution_count": 17,
   "metadata": {},
   "outputs": [
    {
     "data": {
      "text/plain": [
       "[0.6619277430538404,\n",
       " 0.44719774685527475,\n",
       " 0.3663801740352091,\n",
       " 0.1975256445932475,\n",
       " nan]"
      ]
     },
     "execution_count": 17,
     "metadata": {},
     "output_type": "execute_result"
    }
   ],
   "source": [
    "errTs[\"MNAR\"]"
   ]
  },
  {
   "cell_type": "code",
   "execution_count": 38,
   "metadata": {},
   "outputs": [
    {
     "data": {
      "text/plain": [
       "dict_keys(['numI', 'Cb', 'CT', 'errb', 'errT', 'Berrs', 'Terrs', 'beta0', 'bTheta0', 'betahat', 'bThetahat'])"
      ]
     },
     "execution_count": 38,
     "metadata": {},
     "output_type": "execute_result"
    }
   ],
   "source": [
    "res[1].keys()"
   ]
  },
  {
   "cell_type": "code",
   "execution_count": 40,
   "metadata": {},
   "outputs": [
    {
     "data": {
      "text/plain": [
       "defaultdict(list,\n",
       "            {100: [array(0.82260282),\n",
       "              array(0.82225651),\n",
       "              array(0.82212745),\n",
       "              array(0.82220176),\n",
       "              array(0.82244481),\n",
       "              array(0.82269417),\n",
       "              array(0.82258817),\n",
       "              array(0.82183469),\n",
       "              array(0.82187488),\n",
       "              array(0.82216431)],\n",
       "             200: [array(0.57708604),\n",
       "              array(0.57733699),\n",
       "              array(0.57699551),\n",
       "              array(0.57696313),\n",
       "              array(0.57682816),\n",
       "              array(0.5771124),\n",
       "              array(0.57709104),\n",
       "              array(0.57701936),\n",
       "              array(0.57708815),\n",
       "              array(0.57700326)],\n",
       "             400: [array(0.41204713),\n",
       "              array(0.41211713),\n",
       "              array(0.41211259),\n",
       "              array(0.41206115),\n",
       "              array(0.41210506),\n",
       "              array(0.4120782),\n",
       "              array(0.41210488),\n",
       "              array(0.41210453),\n",
       "              array(0.41205675),\n",
       "              array(0.41208552)],\n",
       "             800: [array(0.34048696),\n",
       "              array(0.3404829),\n",
       "              array(0.34046196),\n",
       "              array(0.34048399),\n",
       "              array(0.34047847),\n",
       "              array(0.34047123),\n",
       "              array(0.34045887),\n",
       "              array(0.34049356),\n",
       "              array(0.34047878),\n",
       "              array(0.34049192)],\n",
       "             1600: [array(0.24920741),\n",
       "              array(0.24920369),\n",
       "              array(0.24920608),\n",
       "              array(0.24920873),\n",
       "              array(0.24920226),\n",
       "              array(0.22585625),\n",
       "              array(0.24920694),\n",
       "              array(0.22585531),\n",
       "              array(0.24920675),\n",
       "              array(0.24920683),\n",
       "              array(0.22585499),\n",
       "              array(0.24920859),\n",
       "              array(0.22585449),\n",
       "              array(0.22585749),\n",
       "              array(0.22585188),\n",
       "              array(0.24920399),\n",
       "              array(0.22584773),\n",
       "              array(0.22585498),\n",
       "              array(0.22585304),\n",
       "              array(0.22585405)]})"
      ]
     },
     "execution_count": 40,
     "metadata": {},
     "output_type": "execute_result"
    }
   ],
   "source": [
    "errTsEM"
   ]
  },
  {
   "cell_type": "code",
   "execution_count": null,
   "metadata": {},
   "outputs": [],
   "source": []
  }
 ],
 "metadata": {
  "kernelspec": {
   "display_name": "Python 3",
   "language": "python",
   "name": "python3"
  },
  "language_info": {
   "codemirror_mode": {
    "name": "ipython",
    "version": 3
   },
   "file_extension": ".py",
   "mimetype": "text/x-python",
   "name": "python",
   "nbconvert_exporter": "python",
   "pygments_lexer": "ipython3",
   "version": "3.6.10"
  }
 },
 "nbformat": 4,
 "nbformat_minor": 2
}

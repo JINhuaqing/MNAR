{
 "cells": [
  {
   "cell_type": "code",
   "execution_count": 1,
   "metadata": {},
   "outputs": [],
   "source": [
    "from pathlib import Path\n",
    "import matplotlib.pyplot as plt\n",
    "import numpy as np \n",
    "import pickle"
   ]
  },
  {
   "cell_type": "code",
   "execution_count": 8,
   "metadata": {},
   "outputs": [],
   "source": [
    "root = Path(\"./results\")\n",
    "filsMNARLog = list(root.glob(\"./MNAR_logi*.pkl\"))\n",
    "filsMNARLin = list(root.glob(\"./MNAR_linear*.pkl\"))"
   ]
  },
  {
   "cell_type": "code",
   "execution_count": 9,
   "metadata": {},
   "outputs": [],
   "source": [
    "def path2m(fil):\n",
    "    m = int(fil.stem.split(\"m\")[1].split(\"_\")[0])\n",
    "    return m"
   ]
  },
  {
   "cell_type": "code",
   "execution_count": 10,
   "metadata": {},
   "outputs": [
    {
     "data": {
      "text/plain": [
       "[PosixPath('results/MNAR_logi_p50_m200_simu3_iter909_emp.pkl'),\n",
       " PosixPath('results/MNAR_logi_p50_m200_simu6_iter909_emp.pkl'),\n",
       " PosixPath('results/MNAR_logi_p50_m200_simu4_iter909_emp.pkl'),\n",
       " PosixPath('results/MNAR_logi_p50_m200_simu9_iter909_emp.pkl'),\n",
       " PosixPath('results/MNAR_logi_p50_m200_simu1_iter909_emp.pkl'),\n",
       " PosixPath('results/MNAR_logi_p50_m200_simu5_iter909_emp.pkl'),\n",
       " PosixPath('results/MNAR_logi_p50_m200_simu2_iter909_emp.pkl'),\n",
       " PosixPath('results/MNAR_logi_p50_m200_simu8_iter909_emp.pkl'),\n",
       " PosixPath('results/MNAR_logi_p50_m200_simu10_iter909_emp.pkl'),\n",
       " PosixPath('results/MNAR_logi_p50_m200_simu7_iter909_emp.pkl')]"
      ]
     },
     "execution_count": 10,
     "metadata": {},
     "output_type": "execute_result"
    }
   ],
   "source": [
    "filsMNARLog"
   ]
  },
  {
   "cell_type": "markdown",
   "metadata": {},
   "source": [
    "some parameters "
   ]
  },
  {
   "cell_type": "code",
   "execution_count": 11,
   "metadata": {},
   "outputs": [],
   "source": [
    "from collections import defaultdict as ddict\n",
    "\n",
    "errTsMNARlog = []\n",
    "errBsMNARlog = []\n",
    "for curFil in filsMNARLog:\n",
    "    with open(curFil, \"rb\") as f:\n",
    "         res = pickle.load(f)\n",
    "    errb = res[1][\"errb\"]\n",
    "    errT = res[1][\"errT\"]\n",
    "    \n",
    "    errTsMNARlog.append(errT)\n",
    "    errBsMNARlog.append(errb)"
   ]
  },
  {
   "cell_type": "code",
   "execution_count": 12,
   "metadata": {},
   "outputs": [],
   "source": [
    "errTsMNARlin = []\n",
    "errBsMNARlin = []\n",
    "for curFil in filsMNARLin:\n",
    "    with open(curFil, \"rb\") as f:\n",
    "         res = pickle.load(f)\n",
    "    errb = res[1][\"errb\"]\n",
    "    errT = res[1][\"errT\"]\n",
    "    \n",
    "    errTsMNARlin.append(errT)\n",
    "    errBsMNARlin.append(errb)"
   ]
  },
  {
   "cell_type": "code",
   "execution_count": 13,
   "metadata": {},
   "outputs": [
    {
     "data": {
      "text/plain": [
       "(0.33514705113960636,\n",
       " 0.9321953118629922,\n",
       " 0.46663186004313345,\n",
       " 0.8738347834945893)"
      ]
     },
     "execution_count": 13,
     "metadata": {},
     "output_type": "execute_result"
    }
   ],
   "source": [
    "(np.mean(errTsMNARlin), np.mean(errBsMNARlin), np.mean(errTsMNARlog), np.mean(errBsMNARlog))"
   ]
  },
  {
   "cell_type": "code",
   "execution_count": null,
   "metadata": {},
   "outputs": [],
   "source": []
  }
 ],
 "metadata": {
  "kernelspec": {
   "display_name": "Python 3",
   "language": "python",
   "name": "python3"
  },
  "language_info": {
   "codemirror_mode": {
    "name": "ipython",
    "version": 3
   },
   "file_extension": ".py",
   "mimetype": "text/x-python",
   "name": "python",
   "nbconvert_exporter": "python",
   "pygments_lexer": "ipython3",
   "version": "3.6.10"
  }
 },
 "nbformat": 4,
 "nbformat_minor": 2
}

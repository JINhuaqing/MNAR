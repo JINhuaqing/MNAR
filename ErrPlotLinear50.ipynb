{
 "cells": [
  {
   "cell_type": "code",
   "execution_count": 2,
   "metadata": {},
   "outputs": [],
   "source": [
    "from pathlib import Path\n",
    "import matplotlib.pyplot as plt\n",
    "import numpy as np \n",
    "import pickle"
   ]
  },
  {
   "cell_type": "code",
   "execution_count": 3,
   "metadata": {},
   "outputs": [],
   "source": [
    "root = Path(\"./results\")\n",
    "filsMNAR = list(root.glob(\"./Linear_p50/MNARRes/MNAR_linear_*.pkl\"))\n",
    "filsMAR = list(root.glob(\"./Linear_p50/MARRes/MAR_linear_*.pkl\"))\n",
    "filsEM = list(root.glob(\"./Linear_p50/EMRes/EM_linear_*.pkl\"))\n",
    "#fils = sorted(fils, key=name2mn)"
   ]
  },
  {
   "cell_type": "code",
   "execution_count": 4,
   "metadata": {},
   "outputs": [],
   "source": [
    "def path2m(fil):\n",
    "    m = int(fil.stem.split(\"m\")[1].split(\"_\")[0])\n",
    "    return m"
   ]
  },
  {
   "cell_type": "code",
   "execution_count": 5,
   "metadata": {},
   "outputs": [
    {
     "data": {
      "text/plain": [
       "[PosixPath('results/Linear_p50/MNARRes/MNAR_linear_p50_m100_simu1_iter110.pkl'),\n",
       " PosixPath('results/Linear_p50/MNARRes/MNAR_linear_p50_m100_simu44_iter384.pkl'),\n",
       " PosixPath('results/Linear_p50/MNARRes/MNAR_linear_p50_m100_simu45_iter386.pkl'),\n",
       " PosixPath('results/Linear_p50/MNARRes/MNAR_linear_p50_m100_simu5_iter356.pkl'),\n",
       " PosixPath('results/Linear_p50/MNARRes/MNAR_linear_p50_m100_simu17_iter370.pkl'),\n",
       " PosixPath('results/Linear_p50/MNARRes/MNAR_linear_p50_m100_simu3_iter376.pkl'),\n",
       " PosixPath('results/Linear_p50/MNARRes/MNAR_linear_p50_m100_simu33_iter206.pkl'),\n",
       " PosixPath('results/Linear_p50/MNARRes/MNAR_linear_p50_m100_simu14_iter371.pkl'),\n",
       " PosixPath('results/Linear_p50/MNARRes/MNAR_linear_p50_m100_simu49_iter362.pkl'),\n",
       " PosixPath('results/Linear_p50/MNARRes/MNAR_linear_p50_m100_simu28_iter377.pkl'),\n",
       " PosixPath('results/Linear_p50/MNARRes/MNAR_linear_p50_m100_simu8_iter234.pkl'),\n",
       " PosixPath('results/Linear_p50/MNARRes/MNAR_linear_p50_m100_simu24_iter390.pkl'),\n",
       " PosixPath('results/Linear_p50/MNARRes/MNAR_linear_p50_m100_simu38_iter203.pkl'),\n",
       " PosixPath('results/Linear_p50/MNARRes/MNAR_linear_p50_m100_simu16_iter362.pkl'),\n",
       " PosixPath('results/Linear_p50/MNARRes/MNAR_linear_p50_m100_simu48_iter362.pkl'),\n",
       " PosixPath('results/Linear_p50/MNARRes/MNAR_linear_p50_m100_simu37_iter384.pkl'),\n",
       " PosixPath('results/Linear_p50/MNARRes/MNAR_linear_p50_m100_simu50_iter360.pkl'),\n",
       " PosixPath('results/Linear_p50/MNARRes/MNAR_linear_p50_m100_simu27_iter360.pkl'),\n",
       " PosixPath('results/Linear_p50/MNARRes/MNAR_linear_p50_m100_simu46_iter220.pkl'),\n",
       " PosixPath('results/Linear_p50/MNARRes/MNAR_linear_p50_m100_simu21_iter368.pkl'),\n",
       " PosixPath('results/Linear_p50/MNARRes/MNAR_linear_p50_m100_simu29_iter470.pkl'),\n",
       " PosixPath('results/Linear_p50/MNARRes/MNAR_linear_p50_m100_simu15_iter225.pkl'),\n",
       " PosixPath('results/Linear_p50/MNARRes/MNAR_linear_p50_m100_simu31_iter371.pkl'),\n",
       " PosixPath('results/Linear_p50/MNARRes/MNAR_linear_p50_m100_simu43_iter391.pkl'),\n",
       " PosixPath('results/Linear_p50/MNARRes/MNAR_linear_p50_m100_simu6_iter405.pkl'),\n",
       " PosixPath('results/Linear_p50/MNARRes/MNAR_linear_p50_m100_simu40_iter213.pkl'),\n",
       " PosixPath('results/Linear_p50/MNARRes/MNAR_linear_p50_m100_simu32_iter1000.pkl'),\n",
       " PosixPath('results/Linear_p50/MNARRes/MNAR_linear_p50_m100_simu47_iter211.pkl'),\n",
       " PosixPath('results/Linear_p50/MNARRes/MNAR_linear_p50_m100_simu7_iter389.pkl'),\n",
       " PosixPath('results/Linear_p50/MNARRes/MNAR_linear_p50_m100_simu23_iter222.pkl'),\n",
       " PosixPath('results/Linear_p50/MNARRes/MNAR_linear_p50_m100_simu39_iter392.pkl'),\n",
       " PosixPath('results/Linear_p50/MNARRes/MNAR_linear_p50_m100_simu10_iter367.pkl'),\n",
       " PosixPath('results/Linear_p50/MNARRes/MNAR_linear_p50_m100_simu30_iter392.pkl'),\n",
       " PosixPath('results/Linear_p50/MNARRes/MNAR_linear_p50_m100_simu26_iter366.pkl'),\n",
       " PosixPath('results/Linear_p50/MNARRes/MNAR_linear_p50_m100_simu12_iter383.pkl'),\n",
       " PosixPath('results/Linear_p50/MNARRes/MNAR_linear_p50_m100_simu42_iter401.pkl'),\n",
       " PosixPath('results/Linear_p50/MNARRes/MNAR_linear_p50_m100_simu25_iter384.pkl'),\n",
       " PosixPath('results/Linear_p50/MNARRes/MNAR_linear_p50_m100_simu2_iter365.pkl'),\n",
       " PosixPath('results/Linear_p50/MNARRes/MNAR_linear_p50_m100_simu36_iter363.pkl'),\n",
       " PosixPath('results/Linear_p50/MNARRes/MNAR_linear_p50_m100_simu9_iter381.pkl'),\n",
       " PosixPath('results/Linear_p50/MNARRes/MNAR_linear_p50_m100_simu19_iter369.pkl'),\n",
       " PosixPath('results/Linear_p50/MNARRes/MNAR_linear_p50_m100_simu35_iter389.pkl'),\n",
       " PosixPath('results/Linear_p50/MNARRes/MNAR_linear_p50_m100_simu22_iter402.pkl'),\n",
       " PosixPath('results/Linear_p50/MNARRes/MNAR_linear_p50_m100_simu4_iter246.pkl'),\n",
       " PosixPath('results/Linear_p50/MNARRes/MNAR_linear_p50_m100_simu11_iter384.pkl'),\n",
       " PosixPath('results/Linear_p50/MNARRes/MNAR_linear_p50_m100_simu20_iter380.pkl'),\n",
       " PosixPath('results/Linear_p50/MNARRes/MNAR_linear_p50_m100_simu34_iter384.pkl'),\n",
       " PosixPath('results/Linear_p50/MNARRes/MNAR_linear_p50_m100_simu18_iter356.pkl'),\n",
       " PosixPath('results/Linear_p50/MNARRes/MNAR_linear_p50_m100_simu13_iter359.pkl'),\n",
       " PosixPath('results/Linear_p50/MNARRes/MNAR_linear_p50_m100_simu41_iter355.pkl'),\n",
       " PosixPath('results/Linear_p50/MNARRes/MNAR_linear_p50_m200_simu21_iter948.pkl'),\n",
       " PosixPath('results/Linear_p50/MNARRes/MNAR_linear_p50_m200_simu6_iter919.pkl'),\n",
       " PosixPath('results/Linear_p50/MNARRes/MNAR_linear_p50_m200_simu31_iter932.pkl'),\n",
       " PosixPath('results/Linear_p50/MNARRes/MNAR_linear_p50_m200_simu20_iter944.pkl'),\n",
       " PosixPath('results/Linear_p50/MNARRes/MNAR_linear_p50_m200_simu3_iter937.pkl'),\n",
       " PosixPath('results/Linear_p50/MNARRes/MNAR_linear_p50_m200_simu7_iter988.pkl'),\n",
       " PosixPath('results/Linear_p50/MNARRes/MNAR_linear_p50_m200_simu5_iter940.pkl'),\n",
       " PosixPath('results/Linear_p50/MNARRes/MNAR_linear_p50_m200_simu15_iter960.pkl'),\n",
       " PosixPath('results/Linear_p50/MNARRes/MNAR_linear_p50_m200_simu2_iter933.pkl'),\n",
       " PosixPath('results/Linear_p50/MNARRes/MNAR_linear_p50_m200_simu32_iter1000.pkl'),\n",
       " PosixPath('results/Linear_p50/MNARRes/MNAR_linear_p50_m200_simu28_iter942.pkl'),\n",
       " PosixPath('results/Linear_p50/MNARRes/MNAR_linear_p50_m200_simu33_iter949.pkl'),\n",
       " PosixPath('results/Linear_p50/MNARRes/MNAR_linear_p50_m200_simu24_iter950.pkl'),\n",
       " PosixPath('results/Linear_p50/MNARRes/MNAR_linear_p50_m200_simu1_iter939.pkl'),\n",
       " PosixPath('results/Linear_p50/MNARRes/MNAR_linear_p50_m200_simu50_iter942.pkl'),\n",
       " PosixPath('results/Linear_p50/MNARRes/MNAR_linear_p50_m200_simu45_iter918.pkl'),\n",
       " PosixPath('results/Linear_p50/MNARRes/MNAR_linear_p50_m200_simu27_iter946.pkl'),\n",
       " PosixPath('results/Linear_p50/MNARRes/MNAR_linear_p50_m200_simu36_iter941.pkl'),\n",
       " PosixPath('results/Linear_p50/MNARRes/MNAR_linear_p50_m200_simu44_iter965.pkl'),\n",
       " PosixPath('results/Linear_p50/MNARRes/MNAR_linear_p50_m200_simu39_iter946.pkl'),\n",
       " PosixPath('results/Linear_p50/MNARRes/MNAR_linear_p50_m200_simu9_iter957.pkl'),\n",
       " PosixPath('results/Linear_p50/MNARRes/MNAR_linear_p50_m200_simu19_iter922.pkl'),\n",
       " PosixPath('results/Linear_p50/MNARRes/MNAR_linear_p50_m200_simu12_iter898.pkl'),\n",
       " PosixPath('results/Linear_p50/MNARRes/MNAR_linear_p50_m200_simu41_iter963.pkl'),\n",
       " PosixPath('results/Linear_p50/MNARRes/MNAR_linear_p50_m200_simu48_iter947.pkl'),\n",
       " PosixPath('results/Linear_p50/MNARRes/MNAR_linear_p50_m200_simu10_iter931.pkl'),\n",
       " PosixPath('results/Linear_p50/MNARRes/MNAR_linear_p50_m200_simu18_iter935.pkl'),\n",
       " PosixPath('results/Linear_p50/MNARRes/MNAR_linear_p50_m200_simu34_iter951.pkl'),\n",
       " PosixPath('results/Linear_p50/MNARRes/MNAR_linear_p50_m200_simu43_iter949.pkl'),\n",
       " PosixPath('results/Linear_p50/MNARRes/MNAR_linear_p50_m200_simu14_iter939.pkl'),\n",
       " PosixPath('results/Linear_p50/MNARRes/MNAR_linear_p50_m200_simu22_iter913.pkl'),\n",
       " PosixPath('results/Linear_p50/MNARRes/MNAR_linear_p50_m200_simu29_iter926.pkl'),\n",
       " PosixPath('results/Linear_p50/MNARRes/MNAR_linear_p50_m200_simu23_iter946.pkl'),\n",
       " PosixPath('results/Linear_p50/MNARRes/MNAR_linear_p50_m200_simu8_iter937.pkl'),\n",
       " PosixPath('results/Linear_p50/MNARRes/MNAR_linear_p50_m200_simu35_iter955.pkl'),\n",
       " PosixPath('results/Linear_p50/MNARRes/MNAR_linear_p50_m200_simu11_iter946.pkl'),\n",
       " PosixPath('results/Linear_p50/MNARRes/MNAR_linear_p50_m200_simu38_iter952.pkl'),\n",
       " PosixPath('results/Linear_p50/MNARRes/MNAR_linear_p50_m200_simu13_iter950.pkl'),\n",
       " PosixPath('results/Linear_p50/MNARRes/MNAR_linear_p50_m200_simu26_iter924.pkl'),\n",
       " PosixPath('results/Linear_p50/MNARRes/MNAR_linear_p50_m200_simu4_iter946.pkl'),\n",
       " PosixPath('results/Linear_p50/MNARRes/MNAR_linear_p50_m200_simu47_iter949.pkl'),\n",
       " PosixPath('results/Linear_p50/MNARRes/MNAR_linear_p50_m200_simu49_iter934.pkl'),\n",
       " PosixPath('results/Linear_p50/MNARRes/MNAR_linear_p50_m200_simu37_iter970.pkl'),\n",
       " PosixPath('results/Linear_p50/MNARRes/MNAR_linear_p50_m200_simu46_iter935.pkl'),\n",
       " PosixPath('results/Linear_p50/MNARRes/MNAR_linear_p50_m200_simu40_iter947.pkl'),\n",
       " PosixPath('results/Linear_p50/MNARRes/MNAR_linear_p50_m200_simu42_iter1000.pkl'),\n",
       " PosixPath('results/Linear_p50/MNARRes/MNAR_linear_p50_m200_simu30_iter913.pkl'),\n",
       " PosixPath('results/Linear_p50/MNARRes/MNAR_linear_p50_m200_simu25_iter942.pkl'),\n",
       " PosixPath('results/Linear_p50/MNARRes/MNAR_linear_p50_m200_simu16_iter949.pkl'),\n",
       " PosixPath('results/Linear_p50/MNARRes/MNAR_linear_p50_m200_simu17_iter917.pkl'),\n",
       " PosixPath('results/Linear_p50/MNARRes/MNAR_linear_p50_m400_simu30_iter871.pkl'),\n",
       " PosixPath('results/Linear_p50/MNARRes/MNAR_linear_p50_m400_simu6_iter865.pkl'),\n",
       " PosixPath('results/Linear_p50/MNARRes/MNAR_linear_p50_m400_simu37_iter865.pkl'),\n",
       " PosixPath('results/Linear_p50/MNARRes/MNAR_linear_p50_m400_simu32_iter880.pkl'),\n",
       " PosixPath('results/Linear_p50/MNARRes/MNAR_linear_p50_m400_simu44_iter870.pkl'),\n",
       " PosixPath('results/Linear_p50/MNARRes/MNAR_linear_p50_m400_simu10_iter875.pkl'),\n",
       " PosixPath('results/Linear_p50/MNARRes/MNAR_linear_p50_m400_simu15_iter865.pkl'),\n",
       " PosixPath('results/Linear_p50/MNARRes/MNAR_linear_p50_m400_simu31_iter868.pkl'),\n",
       " PosixPath('results/Linear_p50/MNARRes/MNAR_linear_p50_m400_simu27_iter879.pkl'),\n",
       " PosixPath('results/Linear_p50/MNARRes/MNAR_linear_p50_m400_simu3_iter862.pkl'),\n",
       " PosixPath('results/Linear_p50/MNARRes/MNAR_linear_p50_m400_simu1_iter867.pkl'),\n",
       " PosixPath('results/Linear_p50/MNARRes/MNAR_linear_p50_m400_simu9_iter866.pkl'),\n",
       " PosixPath('results/Linear_p50/MNARRes/MNAR_linear_p50_m400_simu40_iter870.pkl'),\n",
       " PosixPath('results/Linear_p50/MNARRes/MNAR_linear_p50_m400_simu23_iter865.pkl'),\n",
       " PosixPath('results/Linear_p50/MNARRes/MNAR_linear_p50_m400_simu45_iter875.pkl'),\n",
       " PosixPath('results/Linear_p50/MNARRes/MNAR_linear_p50_m400_simu48_iter868.pkl'),\n",
       " PosixPath('results/Linear_p50/MNARRes/MNAR_linear_p50_m400_simu12_iter868.pkl'),\n",
       " PosixPath('results/Linear_p50/MNARRes/MNAR_linear_p50_m400_simu24_iter877.pkl'),\n",
       " PosixPath('results/Linear_p50/MNARRes/MNAR_linear_p50_m400_simu29_iter876.pkl'),\n",
       " PosixPath('results/Linear_p50/MNARRes/MNAR_linear_p50_m400_simu18_iter881.pkl'),\n",
       " PosixPath('results/Linear_p50/MNARRes/MNAR_linear_p50_m400_simu2_iter878.pkl'),\n",
       " PosixPath('results/Linear_p50/MNARRes/MNAR_linear_p50_m400_simu11_iter868.pkl'),\n",
       " PosixPath('results/Linear_p50/MNARRes/MNAR_linear_p50_m400_simu5_iter864.pkl'),\n",
       " PosixPath('results/Linear_p50/MNARRes/MNAR_linear_p50_m400_simu26_iter869.pkl'),\n",
       " PosixPath('results/Linear_p50/MNARRes/MNAR_linear_p50_m400_simu50_iter869.pkl'),\n",
       " PosixPath('results/Linear_p50/MNARRes/MNAR_linear_p50_m400_simu22_iter865.pkl'),\n",
       " PosixPath('results/Linear_p50/MNARRes/MNAR_linear_p50_m400_simu38_iter871.pkl'),\n",
       " PosixPath('results/Linear_p50/MNARRes/MNAR_linear_p50_m400_simu33_iter865.pkl'),\n",
       " PosixPath('results/Linear_p50/MNARRes/MNAR_linear_p50_m400_simu20_iter874.pkl'),\n",
       " PosixPath('results/Linear_p50/MNARRes/MNAR_linear_p50_m400_simu28_iter873.pkl'),\n",
       " PosixPath('results/Linear_p50/MNARRes/MNAR_linear_p50_m400_simu39_iter872.pkl'),\n",
       " PosixPath('results/Linear_p50/MNARRes/MNAR_linear_p50_m400_simu34_iter875.pkl'),\n",
       " PosixPath('results/Linear_p50/MNARRes/MNAR_linear_p50_m400_simu46_iter880.pkl'),\n",
       " PosixPath('results/Linear_p50/MNARRes/MNAR_linear_p50_m400_simu7_iter873.pkl'),\n",
       " PosixPath('results/Linear_p50/MNARRes/MNAR_linear_p50_m400_simu13_iter866.pkl'),\n",
       " PosixPath('results/Linear_p50/MNARRes/MNAR_linear_p50_m400_simu19_iter873.pkl'),\n",
       " PosixPath('results/Linear_p50/MNARRes/MNAR_linear_p50_m400_simu36_iter879.pkl'),\n",
       " PosixPath('results/Linear_p50/MNARRes/MNAR_linear_p50_m400_simu8_iter870.pkl'),\n",
       " PosixPath('results/Linear_p50/MNARRes/MNAR_linear_p50_m400_simu21_iter868.pkl'),\n",
       " PosixPath('results/Linear_p50/MNARRes/MNAR_linear_p50_m400_simu25_iter873.pkl'),\n",
       " PosixPath('results/Linear_p50/MNARRes/MNAR_linear_p50_m400_simu16_iter867.pkl'),\n",
       " PosixPath('results/Linear_p50/MNARRes/MNAR_linear_p50_m400_simu4_iter874.pkl'),\n",
       " PosixPath('results/Linear_p50/MNARRes/MNAR_linear_p50_m400_simu14_iter876.pkl'),\n",
       " PosixPath('results/Linear_p50/MNARRes/MNAR_linear_p50_m400_simu49_iter862.pkl'),\n",
       " PosixPath('results/Linear_p50/MNARRes/MNAR_linear_p50_m400_simu41_iter874.pkl'),\n",
       " PosixPath('results/Linear_p50/MNARRes/MNAR_linear_p50_m400_simu43_iter876.pkl'),\n",
       " PosixPath('results/Linear_p50/MNARRes/MNAR_linear_p50_m400_simu17_iter869.pkl'),\n",
       " PosixPath('results/Linear_p50/MNARRes/MNAR_linear_p50_m400_simu42_iter879.pkl'),\n",
       " PosixPath('results/Linear_p50/MNARRes/MNAR_linear_p50_m400_simu47_iter868.pkl'),\n",
       " PosixPath('results/Linear_p50/MNARRes/MNAR_linear_p50_m400_simu35_iter869.pkl'),\n",
       " PosixPath('results/Linear_p50/MNARRes/MNAR_linear_p50_m800_simu18_iter686.pkl'),\n",
       " PosixPath('results/Linear_p50/MNARRes/MNAR_linear_p50_m800_simu21_iter691.pkl'),\n",
       " PosixPath('results/Linear_p50/MNARRes/MNAR_linear_p50_m800_simu5_iter688.pkl'),\n",
       " PosixPath('results/Linear_p50/MNARRes/MNAR_linear_p50_m800_simu38_iter690.pkl'),\n",
       " PosixPath('results/Linear_p50/MNARRes/MNAR_linear_p50_m800_simu12_iter700.pkl'),\n",
       " PosixPath('results/Linear_p50/MNARRes/MNAR_linear_p50_m800_simu2_iter678.pkl'),\n",
       " PosixPath('results/Linear_p50/MNARRes/MNAR_linear_p50_m800_simu30_iter688.pkl'),\n",
       " PosixPath('results/Linear_p50/MNARRes/MNAR_linear_p50_m800_simu37_iter708.pkl'),\n",
       " PosixPath('results/Linear_p50/MNARRes/MNAR_linear_p50_m800_simu47_iter678.pkl'),\n",
       " PosixPath('results/Linear_p50/MNARRes/MNAR_linear_p50_m800_simu31_iter687.pkl'),\n",
       " PosixPath('results/Linear_p50/MNARRes/MNAR_linear_p50_m800_simu35_iter690.pkl'),\n",
       " PosixPath('results/Linear_p50/MNARRes/MNAR_linear_p50_m800_simu36_iter678.pkl'),\n",
       " PosixPath('results/Linear_p50/MNARRes/MNAR_linear_p50_m800_simu39_iter688.pkl'),\n",
       " PosixPath('results/Linear_p50/MNARRes/MNAR_linear_p50_m800_simu19_iter695.pkl'),\n",
       " PosixPath('results/Linear_p50/MNARRes/MNAR_linear_p50_m800_simu15_iter687.pkl'),\n",
       " PosixPath('results/Linear_p50/MNARRes/MNAR_linear_p50_m800_simu49_iter690.pkl'),\n",
       " PosixPath('results/Linear_p50/MNARRes/MNAR_linear_p50_m800_simu34_iter690.pkl'),\n",
       " PosixPath('results/Linear_p50/MNARRes/MNAR_linear_p50_m800_simu20_iter693.pkl'),\n",
       " PosixPath('results/Linear_p50/MNARRes/MNAR_linear_p50_m800_simu32_iter680.pkl'),\n",
       " PosixPath('results/Linear_p50/MNARRes/MNAR_linear_p50_m800_simu8_iter696.pkl'),\n",
       " PosixPath('results/Linear_p50/MNARRes/MNAR_linear_p50_m800_simu9_iter697.pkl'),\n",
       " PosixPath('results/Linear_p50/MNARRes/MNAR_linear_p50_m800_simu42_iter686.pkl'),\n",
       " PosixPath('results/Linear_p50/MNARRes/MNAR_linear_p50_m800_simu1_iter695.pkl'),\n",
       " PosixPath('results/Linear_p50/MNARRes/MNAR_linear_p50_m800_simu43_iter693.pkl'),\n",
       " PosixPath('results/Linear_p50/MNARRes/MNAR_linear_p50_m800_simu4_iter691.pkl'),\n",
       " PosixPath('results/Linear_p50/MNARRes/MNAR_linear_p50_m800_simu41_iter695.pkl'),\n",
       " PosixPath('results/Linear_p50/MNARRes/MNAR_linear_p50_m800_simu16_iter690.pkl'),\n",
       " PosixPath('results/Linear_p50/MNARRes/MNAR_linear_p50_m800_simu11_iter694.pkl'),\n",
       " PosixPath('results/Linear_p50/MNARRes/MNAR_linear_p50_m800_simu33_iter680.pkl'),\n",
       " PosixPath('results/Linear_p50/MNARRes/MNAR_linear_p50_m800_simu40_iter690.pkl'),\n",
       " PosixPath('results/Linear_p50/MNARRes/MNAR_linear_p50_m800_simu10_iter697.pkl'),\n",
       " PosixPath('results/Linear_p50/MNARRes/MNAR_linear_p50_m800_simu50_iter691.pkl'),\n",
       " PosixPath('results/Linear_p50/MNARRes/MNAR_linear_p50_m800_simu25_iter704.pkl'),\n",
       " PosixPath('results/Linear_p50/MNARRes/MNAR_linear_p50_m800_simu48_iter693.pkl'),\n",
       " PosixPath('results/Linear_p50/MNARRes/MNAR_linear_p50_m800_simu44_iter700.pkl'),\n",
       " PosixPath('results/Linear_p50/MNARRes/MNAR_linear_p50_m800_simu28_iter697.pkl'),\n",
       " PosixPath('results/Linear_p50/MNARRes/MNAR_linear_p50_m800_simu3_iter680.pkl'),\n",
       " PosixPath('results/Linear_p50/MNARRes/MNAR_linear_p50_m800_simu23_iter691.pkl'),\n",
       " PosixPath('results/Linear_p50/MNARRes/MNAR_linear_p50_m800_simu24_iter686.pkl'),\n",
       " PosixPath('results/Linear_p50/MNARRes/MNAR_linear_p50_m800_simu27_iter691.pkl'),\n",
       " PosixPath('results/Linear_p50/MNARRes/MNAR_linear_p50_m800_simu46_iter702.pkl'),\n",
       " PosixPath('results/Linear_p50/MNARRes/MNAR_linear_p50_m800_simu29_iter696.pkl'),\n",
       " PosixPath('results/Linear_p50/MNARRes/MNAR_linear_p50_m800_simu26_iter687.pkl'),\n",
       " PosixPath('results/Linear_p50/MNARRes/MNAR_linear_p50_m800_simu45_iter690.pkl'),\n",
       " PosixPath('results/Linear_p50/MNARRes/MNAR_linear_p50_m800_simu14_iter695.pkl'),\n",
       " PosixPath('results/Linear_p50/MNARRes/MNAR_linear_p50_m800_simu7_iter688.pkl'),\n",
       " PosixPath('results/Linear_p50/MNARRes/MNAR_linear_p50_m800_simu22_iter701.pkl'),\n",
       " PosixPath('results/Linear_p50/MNARRes/MNAR_linear_p50_m800_simu6_iter690.pkl'),\n",
       " PosixPath('results/Linear_p50/MNARRes/MNAR_linear_p50_m800_simu17_iter690.pkl'),\n",
       " PosixPath('results/Linear_p50/MNARRes/MNAR_linear_p50_m800_simu13_iter688.pkl'),\n",
       " PosixPath('results/Linear_p50/MNARRes/MNAR_linear_p50_m1600_simu12_iter445.pkl'),\n",
       " PosixPath('results/Linear_p50/MNARRes/MNAR_linear_p50_m1600_simu1_iter461.pkl'),\n",
       " PosixPath('results/Linear_p50/MNARRes/MNAR_linear_p50_m1600_simu31_iter455.pkl'),\n",
       " PosixPath('results/Linear_p50/MNARRes/MNAR_linear_p50_m1600_simu41_iter464.pkl'),\n",
       " PosixPath('results/Linear_p50/MNARRes/MNAR_linear_p50_m1600_simu18_iter466.pkl'),\n",
       " PosixPath('results/Linear_p50/MNARRes/MNAR_linear_p50_m1600_simu2_iter451.pkl'),\n",
       " PosixPath('results/Linear_p50/MNARRes/MNAR_linear_p50_m1600_simu46_iter467.pkl'),\n",
       " PosixPath('results/Linear_p50/MNARRes/MNAR_linear_p50_m1600_simu50_iter446.pkl'),\n",
       " PosixPath('results/Linear_p50/MNARRes/MNAR_linear_p50_m1600_simu40_iter458.pkl'),\n",
       " PosixPath('results/Linear_p50/MNARRes/MNAR_linear_p50_m1600_simu35_iter451.pkl'),\n",
       " PosixPath('results/Linear_p50/MNARRes/MNAR_linear_p50_m1600_simu47_iter455.pkl'),\n",
       " PosixPath('results/Linear_p50/MNARRes/MNAR_linear_p50_m1600_simu3_iter470.pkl'),\n",
       " PosixPath('results/Linear_p50/MNARRes/MNAR_linear_p50_m1600_simu29_iter447.pkl'),\n",
       " PosixPath('results/Linear_p50/MNARRes/MNAR_linear_p50_m1600_simu7_iter458.pkl'),\n",
       " PosixPath('results/Linear_p50/MNARRes/MNAR_linear_p50_m1600_simu9_iter457.pkl'),\n",
       " PosixPath('results/Linear_p50/MNARRes/MNAR_linear_p50_m1600_simu13_iter466.pkl'),\n",
       " PosixPath('results/Linear_p50/MNARRes/MNAR_linear_p50_m1600_simu45_iter467.pkl'),\n",
       " PosixPath('results/Linear_p50/MNARRes/MNAR_linear_p50_m1600_simu6_iter455.pkl'),\n",
       " PosixPath('results/Linear_p50/MNARRes/MNAR_linear_p50_m1600_simu34_iter460.pkl'),\n",
       " PosixPath('results/Linear_p50/MNARRes/MNAR_linear_p50_m1600_simu19_iter453.pkl'),\n",
       " PosixPath('results/Linear_p50/MNARRes/MNAR_linear_p50_m1600_simu23_iter452.pkl'),\n",
       " PosixPath('results/Linear_p50/MNARRes/MNAR_linear_p50_m1600_simu25_iter459.pkl'),\n",
       " PosixPath('results/Linear_p50/MNARRes/MNAR_linear_p50_m1600_simu24_iter458.pkl'),\n",
       " PosixPath('results/Linear_p50/MNARRes/MNAR_linear_p50_m1600_simu16_iter464.pkl'),\n",
       " PosixPath('results/Linear_p50/MNARRes/MNAR_linear_p50_m1600_simu28_iter467.pkl'),\n",
       " PosixPath('results/Linear_p50/MNARRes/MNAR_linear_p50_m1600_simu30_iter456.pkl'),\n",
       " PosixPath('results/Linear_p50/MNARRes/MNAR_linear_p50_m1600_simu22_iter450.pkl'),\n",
       " PosixPath('results/Linear_p50/MNARRes/MNAR_linear_p50_m1600_simu26_iter464.pkl'),\n",
       " PosixPath('results/Linear_p50/MNARRes/MNAR_linear_p50_m1600_simu17_iter460.pkl'),\n",
       " PosixPath('results/Linear_p50/MNARRes/MNAR_linear_p50_m1600_simu49_iter453.pkl'),\n",
       " PosixPath('results/Linear_p50/MNARRes/MNAR_linear_p50_m1600_simu27_iter457.pkl'),\n",
       " PosixPath('results/Linear_p50/MNARRes/MNAR_linear_p50_m1600_simu20_iter472.pkl'),\n",
       " PosixPath('results/Linear_p50/MNARRes/MNAR_linear_p50_m1600_simu8_iter460.pkl'),\n",
       " PosixPath('results/Linear_p50/MNARRes/MNAR_linear_p50_m1600_simu38_iter453.pkl'),\n",
       " PosixPath('results/Linear_p50/MNARRes/MNAR_linear_p50_m1600_simu5_iter447.pkl'),\n",
       " PosixPath('results/Linear_p50/MNARRes/MNAR_linear_p50_m1600_simu21_iter458.pkl'),\n",
       " PosixPath('results/Linear_p50/MNARRes/MNAR_linear_p50_m1600_simu48_iter460.pkl'),\n",
       " PosixPath('results/Linear_p50/MNARRes/MNAR_linear_p50_m1600_simu44_iter454.pkl'),\n",
       " PosixPath('results/Linear_p50/MNARRes/MNAR_linear_p50_m1600_simu14_iter461.pkl'),\n",
       " PosixPath('results/Linear_p50/MNARRes/MNAR_linear_p50_m1600_simu32_iter446.pkl'),\n",
       " PosixPath('results/Linear_p50/MNARRes/MNAR_linear_p50_m1600_simu42_iter461.pkl'),\n",
       " PosixPath('results/Linear_p50/MNARRes/MNAR_linear_p50_m1600_simu43_iter459.pkl'),\n",
       " PosixPath('results/Linear_p50/MNARRes/MNAR_linear_p50_m1600_simu10_iter461.pkl'),\n",
       " PosixPath('results/Linear_p50/MNARRes/MNAR_linear_p50_m1600_simu4_iter462.pkl'),\n",
       " PosixPath('results/Linear_p50/MNARRes/MNAR_linear_p50_m1600_simu11_iter456.pkl'),\n",
       " PosixPath('results/Linear_p50/MNARRes/MNAR_linear_p50_m1600_simu37_iter455.pkl'),\n",
       " PosixPath('results/Linear_p50/MNARRes/MNAR_linear_p50_m1600_simu33_iter462.pkl'),\n",
       " PosixPath('results/Linear_p50/MNARRes/MNAR_linear_p50_m1600_simu39_iter456.pkl'),\n",
       " PosixPath('results/Linear_p50/MNARRes/MNAR_linear_p50_m1600_simu15_iter465.pkl'),\n",
       " PosixPath('results/Linear_p50/MNARRes/MNAR_linear_p50_m1600_simu36_iter464.pkl')]"
      ]
     },
     "execution_count": 5,
     "metadata": {},
     "output_type": "execute_result"
    }
   ],
   "source": [
    "filsMNAR = sorted(filsMNAR, key=path2m)\n",
    "filsMNAR"
   ]
  },
  {
   "cell_type": "markdown",
   "metadata": {},
   "source": [
    "some parameters "
   ]
  },
  {
   "cell_type": "code",
   "execution_count": 6,
   "metadata": {},
   "outputs": [],
   "source": [
    "from collections import defaultdict as ddict\n",
    "\n",
    "errTsMNAR = ddict(list)\n",
    "errBsMNAR = ddict(list)\n",
    "for curFil in filsMNAR:\n",
    "    m = path2m(curFil)\n",
    "    with open(curFil, \"rb\") as f:\n",
    "         res = pickle.load(f)\n",
    "    errb = res[1][\"errb\"]\n",
    "    errT = res[1][\"errT\"]\n",
    "    \n",
    "    errTsMNAR[m].append(errT)\n",
    "    errBsMNAR[m].append(errb)"
   ]
  },
  {
   "cell_type": "code",
   "execution_count": 7,
   "metadata": {},
   "outputs": [],
   "source": [
    "errTsMAR = ddict(list)\n",
    "errBsMAR = ddict(list)\n",
    "for curFil in filsMAR:\n",
    "    m = path2m(curFil)\n",
    "    with open(curFil, \"rb\") as f:\n",
    "         res = pickle.load(f)\n",
    "    errb = res[1][\"errb\"]\n",
    "    errT = res[1][\"errT\"]\n",
    "    \n",
    "    errTsMAR[m].append(errT)\n",
    "    errBsMAR[m].append(errb)"
   ]
  },
  {
   "cell_type": "code",
   "execution_count": 8,
   "metadata": {},
   "outputs": [],
   "source": [
    "errTsEM = ddict(list)\n",
    "errBsEM = ddict(list)\n",
    "for curFil in filsEM:\n",
    "    m = path2m(curFil)\n",
    "    with open(curFil, \"rb\") as f:\n",
    "         res = pickle.load(f)\n",
    "    errb = res[1][\"errb\"]\n",
    "    errT = res[1][\"errT\"]\n",
    "    \n",
    "    errTsEM[m].append(errT)\n",
    "    errBsEM[m].append(errb)"
   ]
  },
  {
   "cell_type": "code",
   "execution_count": 9,
   "metadata": {},
   "outputs": [],
   "source": [
    "ms = [100, 200, 400, 800, 1600]\n",
    "errBs = ddict(list)\n",
    "errTs = ddict(list)\n",
    "for m in ms:\n",
    "    errBs[\"MNAR\"].append(np.mean(errBsMNAR[m]))\n",
    "    errBs[\"MAR\"].append(np.mean(errBsMAR[m]))\n",
    "    errBs[\"EM\"].append(np.mean(errBsEM[m]))\n",
    "    \n",
    "    errTs[\"MNAR\"].append(np.mean(errTsMNAR[m]))\n",
    "    errTs[\"MAR\"].append(np.mean(errTsMAR[m]))\n",
    "    errTs[\"EM\"].append(np.mean(errTsEM[m]))"
   ]
  },
  {
   "cell_type": "code",
   "execution_count": 10,
   "metadata": {},
   "outputs": [
    {
     "data": {
      "text/plain": [
       "<matplotlib.legend.Legend at 0x7f47a11e44a8>"
      ]
     },
     "execution_count": 10,
     "metadata": {},
     "output_type": "execute_result"
    },
    {
     "data": {
      "image/png": "[encoded data removed]",
      "text/plain": [
       "<Figure size 432x288 with 1 Axes>"
      ]
     },
     "metadata": {
      "needs_background": "light"
     },
     "output_type": "display_data"
    }
   ],
   "source": [
    "font_y = {\"size\": 15, \"va\":\"baseline\"}\n",
    "font_x = {\"size\": 15}\n",
    "# plt.ylim([0, 3.8])\n",
    "plt.xlabel(\"m=n\", font_x)\n",
    "plt.ylabel(r\"$\\Vert\\Delta_{\\mathrm{\\beta}}\\Vert_2$\", font_y)\n",
    "plt.xscale(\"log\", base=2)\n",
    "plt.plot(ms, errBs[\"MNAR\"][:], \"g-.h\", label=\"MNAR\", linewidth=1)\n",
    "plt.plot(ms, errBs[\"MAR\"], \"r--o\", label=\"MAR\", linewidth=1)\n",
    "plt.plot(ms[:], errBs[\"EM\"][:], \"b-*\", label=\"EM\", linewidth=1)\n",
    "plt.legend(loc=1)"
   ]
  },
  {
   "cell_type": "code",
   "execution_count": 11,
   "metadata": {},
   "outputs": [
    {
     "data": {
      "text/plain": [
       "<matplotlib.legend.Legend at 0x7f47a10011d0>"
      ]
     },
     "execution_count": 11,
     "metadata": {},
     "output_type": "execute_result"
    },
    {
     "data": {
      "image/png": "[encoded data removed]",
      "text/plain": [
       "<Figure size 432x288 with 1 Axes>"
      ]
     },
     "metadata": {
      "needs_background": "light"
     },
     "output_type": "display_data"
    }
   ],
   "source": [
    "plt.xlabel(\"m=n\", font_x)\n",
    "# plt.ylim([0, 1]) #for p=200 linear\n",
    "plt.ylabel(r\"$\\Vert\\Delta_{\\mathrm{\\Theta}}\\Vert_F$\", font_y)\n",
    "plt.plot(ms, errTs[\"MNAR\"], \"g-.h\", label=\"MNAR\", linewidth=1)\n",
    "plt.plot(ms, errTs[\"MAR\"], \"r--o\", label=\"MAR\", linewidth=1)\n",
    "plt.plot(ms, errTs[\"EM\"], \"b-*\", label=\"EM\", linewidth=1)\n",
    "plt.xscale(\"log\", base=2)\n",
    "plt.legend(loc=1)"
   ]
  },
  {
   "cell_type": "code",
   "execution_count": 12,
   "metadata": {},
   "outputs": [
    {
     "data": {
      "text/plain": [
       "[1.5414114745402958,\n",
       " 1.0229073307850591,\n",
       " 0.5501512896172999,\n",
       " 0.5818631120499054,\n",
       " 0.5719805524179807]"
      ]
     },
     "execution_count": 12,
     "metadata": {},
     "output_type": "execute_result"
    }
   ],
   "source": [
    "errBs[\"MNAR\"]"
   ]
  },
  {
   "cell_type": "code",
   "execution_count": 13,
   "metadata": {},
   "outputs": [
    {
     "data": {
      "text/plain": [
       "[0.3943217814402379,\n",
       " 0.3373941307766713,\n",
       " 0.3506120448229112,\n",
       " 0.19826405218776064,\n",
       " 0.1241350402586405]"
      ]
     },
     "execution_count": 13,
     "metadata": {},
     "output_type": "execute_result"
    }
   ],
   "source": [
    "errTs[\"MNAR\"]"
   ]
  },
  {
   "cell_type": "code",
   "execution_count": null,
   "metadata": {},
   "outputs": [],
   "source": []
  }
 ],
 "metadata": {
  "kernelspec": {
   "display_name": "Python 3",
   "language": "python",
   "name": "python3"
  },
  "language_info": {
   "codemirror_mode": {
    "name": "ipython",
    "version": 3
   },
   "file_extension": ".py",
   "mimetype": "text/x-python",
   "name": "python",
   "nbconvert_exporter": "python",
   "pygments_lexer": "ipython3",
   "version": "3.6.10"
  }
 },
 "nbformat": 4,
 "nbformat_minor": 2
}

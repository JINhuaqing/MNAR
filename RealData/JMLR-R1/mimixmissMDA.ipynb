{
 "cells": [
  {
   "cell_type": "code",
   "execution_count": 52,
   "metadata": {},
   "outputs": [],
   "source": [
    "library(mimi)\n",
    "library(missMDA)\n",
    "library(reticulate)\n",
    "library(ROCR)\n",
    "np <- import(\"numpy\")"
   ]
  },
  {
   "cell_type": "code",
   "execution_count": 59,
   "metadata": {},
   "outputs": [],
   "source": [
    "mca.logi.fn <- function(Y, R, ncp=4, maxit=100){\n",
    "    Y[R==0] <- NA\n",
    "    Y <- as.data.frame(Y)\n",
    "    nC <- dim(Y)[2]\n",
    "    for (i in 1:nC){\n",
    "        Y[, i] <- as.factor(Y[, i])\n",
    "    }\n",
    "    res <- imputeMCA(Y, ncp=ncp, maxit=maxit, method=\"EM\")\n",
    "    return(res)\n",
    "}\n",
    "\n",
    "post.mca.fn <- function(res){\n",
    "    probs <- res$tab.disj\n",
    "    probs[probs<=0] = 0\n",
    "    probs[probs>=1] = 1\n",
    "    idxs <- seq(2, dim(probs)[2], 2)\n",
    "}"
   ]
  },
  {
   "cell_type": "code",
   "execution_count": 54,
   "metadata": {},
   "outputs": [],
   "source": [
    "mimi.logi.fn <- function(Y, X, R, CT, Cb, alp.init, theta.init, trace.it=T, maxit=100){\n",
    "  p <- ncol(X)\n",
    "  m <- dim(Y)[1]\n",
    "  n <- dim(Y)[2]\n",
    "  var.type <- rep(\"binomial\", n)\n",
    "  Y.miss <- Y\n",
    "  Y.miss[R==0] <- NA\n",
    "  res <- mimi(Y.miss, model=\"c\", x=X, var.type=var.type, lambda1=CT, lambda2 = Cb, \n",
    "              alpha0=alp.init, theta0=theta.init, algo=\"bc\", maxit=maxit, trace.it = trace.it, max.rank=10)\n",
    "  return(res)\n",
    "}\n",
    "\n",
    "post.mimi.fn <- function(res){\n",
    "    probs <-  exp(res$param)/(1+exp(res$param))\n",
    "    return(probs)\n",
    "}"
   ]
  },
  {
   "cell_type": "code",
   "execution_count": 90,
   "metadata": {},
   "outputs": [],
   "source": [
    "probs2auc <- function(probs, Ynp, rYnp, Rnp){\n",
    "    idxMat <- rYnp != -1 & Rnp == 0\n",
    "    obs <- Ynp[idxMat]\n",
    "    eProbs <- probs[idxMat]\n",
    "    pred <- prediction(eProbs, obs)\n",
    "    auc.res <- performance(pred, \"auc\")\n",
    "    return(auc.res@y.values)\n",
    "}"
   ]
  },
  {
   "cell_type": "code",
   "execution_count": 124,
   "metadata": {},
   "outputs": [],
   "source": [
    "aucs2Idxs <- function(aucs){\n",
    "    Cb.idx <- ifelse(which.max(aucs) %% 3==0, which.max(aucs) %/% 3, which.max(aucs) %/% 3 + 1)\n",
    "    CT.idx <- ifelse(which.max(aucs) %% 3==0, 3, which.max(aucs) %% 3)\n",
    "    return(c(Cb.idx, CT.idx))\n",
    "}"
   ]
  },
  {
   "cell_type": "code",
   "execution_count": 56,
   "metadata": {},
   "outputs": [],
   "source": [
    "Ynp <- np$load(\"./npData/Y.npz\")\n",
    "rYnp <- np$load(\"./npData/rY.npz\")\n",
    "Xnp <- np$load(\"./npData/X.npz\")\n",
    "Rnp <- np$load(\"./npData/R_50_1.npz\")"
   ]
  },
  {
   "cell_type": "code",
   "execution_count": 57,
   "metadata": {},
   "outputs": [],
   "source": [
    "m = dim(Xnp)[1]\n",
    "n = dim(Xnp)[2]\n",
    "p = dim(Xnp)[3]\n",
    "alp.init <- rep(0, p)\n",
    "theta.init <- matrix(rnorm(n*m), nrow=m) + 0.1\n",
    "matX <- matrix(Xnp, nrow=m*n)"
   ]
  },
  {
   "cell_type": "code",
   "execution_count": 63,
   "metadata": {},
   "outputs": [
    {
     "name": "stdout",
     "output_type": "stream",
     "text": [
      "[1] \"iter  1 : error  1  - objective:  153426.409720027\"\n",
      "[1] \"iter  2 : error  0.852542145118306  - objective:  22623.9292595152\"\n",
      "[1] \"iter  3 : error  0.0756587473728733  - objective:  20912.2311110878\"\n",
      "[1] \"iter  4 : error  1.73964164214063e-16  - objective:  20912.2311110878\"\n"
     ]
    }
   ],
   "source": [
    "res <- mimi.logi.fn(Ynp, matX, Rnp, CT=1, Cb=1, alp.init=alp.init, theta.init=theta.init)"
   ]
  },
  {
   "cell_type": "code",
   "execution_count": 91,
   "metadata": {},
   "outputs": [
    {
     "data": {
      "text/html": [
       "<ol>\n",
       "\t<li>0.57246353861996</li>\n",
       "</ol>\n"
      ],
      "text/latex": [
       "\\begin{enumerate}\n",
       "\\item 0.57246353861996\n",
       "\\end{enumerate}\n"
      ],
      "text/markdown": [
       "1. 0.57246353861996\n",
       "\n",
       "\n"
      ],
      "text/plain": [
       "[[1]]\n",
       "[1] 0.5724635\n"
      ]
     },
     "metadata": {},
     "output_type": "display_data"
    }
   ],
   "source": [
    "probs <- post.mimi.fn(res)\n",
    "probs2auc(probs, Ynp, rYnp, Rnp)"
   ]
  },
  {
   "cell_type": "code",
   "execution_count": 92,
   "metadata": {},
   "outputs": [],
   "source": [
    "Rnp.ps <- dir(\"./npData/.\", pattern=\"R_50.*npz\", full.name=1)\n",
    "Rnp0 <- np$load(Rnp.ps[1])"
   ]
  },
  {
   "cell_type": "code",
   "execution_count": 99,
   "metadata": {},
   "outputs": [],
   "source": [
    "Ynp <- Ynp[1:30, 1:40]\n",
    "Xnp <- Xnp[1:30, 1:40, ]\n",
    "Rnp0 <- Rnp0[1:30, 1:40]\n",
    "rYnp <- rYnp[1:30, 1:40]"
   ]
  },
  {
   "cell_type": "code",
   "execution_count": 103,
   "metadata": {},
   "outputs": [],
   "source": [
    "m = dim(Xnp)[1]\n",
    "n = dim(Xnp)[2]\n",
    "p = dim(Xnp)[3]\n",
    "alp.init <- rep(0, p)\n",
    "theta.init <- matrix(rnorm(n*m), nrow=m) + 0.1\n",
    "matX <- matrix(Xnp, nrow=m*n)"
   ]
  },
  {
   "cell_type": "code",
   "execution_count": 101,
   "metadata": {},
   "outputs": [],
   "source": [
    "CTs <- c(1, 1e2, 1e3)\n",
    "Cbs <- c(1, 1e2, 1e3)"
   ]
  },
  {
   "cell_type": "code",
   "execution_count": 104,
   "metadata": {},
   "outputs": [
    {
     "name": "stdout",
     "output_type": "stream",
     "text": [
      "[1] \"iter  1 : error  1  - objective:  368.223383328066\"\n",
      "[1] \"iter  2 : error  0.444972590378452  - objective:  204.374070610659\"\n",
      "[1] \"iter  3 : error  0.00542153991039408  - objective:  203.266048430193\"\n",
      "[1] \"iter  4 : error  2.79650336589927e-16  - objective:  203.266048430193\"\n",
      "[1] \"iter  1 : error  1  - objective:  368.223383328066\"\n",
      "[1] \"iter  2 : error  46.1653973485353  - objective:  17367.4021876902\"\n",
      "[1] \"iter  3 : error  0  - objective:  17367.4021876902\"\n",
      "[1] \"iter  1 : error  1  - objective:  368.223383328066\"\n",
      "[1] \"iter  2 : error  469.790901046871  - objective:  173356.218423547\"\n",
      "[1] \"iter  3 : error  0  - objective:  173356.218423547\"\n",
      "[1] \"iter  1 : error  1  - objective:  368.223383328066\"\n",
      "[1] \"iter  2 : error  0.444972590378452  - objective:  204.374070610659\"\n",
      "[1] \"iter  3 : error  0.00542153991039408  - objective:  203.266048430193\"\n",
      "[1] \"iter  4 : error  2.79650336589927e-16  - objective:  203.266048430193\"\n",
      "[1] \"iter  1 : error  1  - objective:  368.223383328066\"\n",
      "[1] \"iter  2 : error  46.1653973485353  - objective:  17367.4021876902\"\n",
      "[1] \"iter  3 : error  0  - objective:  17367.4021876902\"\n",
      "[1] \"iter  1 : error  1  - objective:  368.223383328066\"\n",
      "[1] \"iter  2 : error  469.790901046871  - objective:  173356.218423547\"\n",
      "[1] \"iter  3 : error  0  - objective:  173356.218423547\"\n",
      "[1] \"iter  1 : error  1  - objective:  368.223383328066\"\n",
      "[1] \"iter  2 : error  0.444972590378452  - objective:  204.374070610659\"\n",
      "[1] \"iter  3 : error  0.00542153991039408  - objective:  203.266048430193\"\n",
      "[1] \"iter  4 : error  2.79650336589927e-16  - objective:  203.266048430193\"\n",
      "[1] \"iter  1 : error  1  - objective:  368.223383328066\"\n",
      "[1] \"iter  2 : error  46.1653973485353  - objective:  17367.4021876902\"\n",
      "[1] \"iter  3 : error  0  - objective:  17367.4021876902\"\n",
      "[1] \"iter  1 : error  1  - objective:  368.223383328066\"\n",
      "[1] \"iter  2 : error  469.790901046871  - objective:  173356.218423547\"\n",
      "[1] \"iter  3 : error  0  - objective:  173356.218423547\"\n"
     ]
    }
   ],
   "source": [
    "alp.init <- rep(0, p)\n",
    "theta.init <- matrix(rnorm(n*m), nrow=m) + 0.1\n",
    "aucs <- c()\n",
    "for (Cb in Cbs){\n",
    "    for (CT in CTs){\n",
    "        res <- mimi.logi.fn(Ynp, matX, Rnp0, CT=CT, Cb=Cb, alp.init=alp.init, theta.init=theta.init)\n",
    "        probs <- post.mimi.fn(res)\n",
    "        cur.auc <- probs2auc(probs, Ynp, rYnp, Rnp0) \n",
    "        aucs <- c(aucs, cur.auc)\n",
    "    }\n",
    "}"
   ]
  },
  {
   "cell_type": "code",
   "execution_count": 126,
   "metadata": {},
   "outputs": [],
   "source": [
    "idxs <- aucs2Idxs(aucs)\n",
    "selCb <- Cbs[idxs[1]]\n",
    "selCT <- CTs[idxs[2]]"
   ]
  },
  {
   "cell_type": "code",
   "execution_count": 130,
   "metadata": {},
   "outputs": [],
   "source": [
    "fName <- paste0(\"./\", \"MIMI_\", OR, \".RData\")"
   ]
  },
  {
   "cell_type": "code",
   "execution_count": null,
   "metadata": {},
   "outputs": [],
   "source": []
  }
 ],
 "metadata": {
  "kernelspec": {
   "display_name": "R",
   "language": "R",
   "name": "ir"
  },
  "language_info": {
   "codemirror_mode": "r",
   "file_extension": ".r",
   "mimetype": "text/x-r-source",
   "name": "R",
   "pygments_lexer": "r",
   "version": "3.6.3"
  }
 },
 "nbformat": 4,
 "nbformat_minor": 2
}

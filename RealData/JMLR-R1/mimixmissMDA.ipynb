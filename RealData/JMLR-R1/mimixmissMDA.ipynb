{
 "cells": [
  {
   "cell_type": "code",
   "execution_count": 2,
   "metadata": {},
   "outputs": [],
   "source": [
    "library(mimi)\n",
    "library(missMDA)\n",
    "library(reticulate)\n",
    "library(ROCR)\n",
    "np <- import(\"numpy\")\n",
    "library(parallel)"
   ]
  },
  {
   "cell_type": "code",
   "execution_count": 3,
   "metadata": {},
   "outputs": [],
   "source": [
    "mca.logi.fn <- function(Y, R, ncp=4, maxit=100){\n",
    "    Y[R==0] <- NA\n",
    "    Y <- as.data.frame(Y)\n",
    "    nC <- dim(Y)[2]\n",
    "    for (i in 1:nC){\n",
    "        Y[, i] <- as.factor(Y[, i])\n",
    "    }\n",
    "    res <- imputeMCA(Y, ncp=ncp, maxit=maxit, method=\"EM\")\n",
    "    return(res)\n",
    "}\n",
    "\n",
    "post.mca.fn <- function(res){\n",
    "    probs <- res$tab.disj\n",
    "    probs[probs<=0] = 0\n",
    "    probs[probs>=1] = 1\n",
    "    idxs <- seq(2, dim(probs)[2], 2)\n",
    "}"
   ]
  },
  {
   "cell_type": "code",
   "execution_count": 4,
   "metadata": {},
   "outputs": [],
   "source": [
    "mimi.logi.fn <- function(Y, X, R, CT, Cb, alp.init, theta.init, trace.it=T, maxit=100){\n",
    "  p <- ncol(X)\n",
    "  m <- dim(Y)[1]\n",
    "  n <- dim(Y)[2]\n",
    "  var.type <- rep(\"binomial\", n)\n",
    "  Y.miss <- Y\n",
    "  Y.miss[R==0] <- NA\n",
    "  res <- mimi(Y.miss, model=\"c\", x=X, var.type=var.type, lambda1=CT, lambda2 = Cb, \n",
    "              alpha0=alp.init, theta0=theta.init, algo=\"bc\", maxit=maxit, trace.it = trace.it, max.rank=10)\n",
    "  return(res)\n",
    "}\n",
    "\n",
    "post.mimi.fn <- function(res){\n",
    "    probs <-  exp(res$param)/(1+exp(res$param))\n",
    "    return(probs)\n",
    "}"
   ]
  },
  {
   "cell_type": "code",
   "execution_count": 5,
   "metadata": {},
   "outputs": [],
   "source": [
    "probs2auc <- function(probs, Ynp, rYnp, Rnp){\n",
    "    idxMat <- rYnp != -1 & Rnp == 0\n",
    "    obs <- Ynp[idxMat]\n",
    "    eProbs <- probs[idxMat]\n",
    "    pred <- prediction(eProbs, obs)\n",
    "    auc.res <- performance(pred, \"auc\")\n",
    "    return(auc.res@y.values)\n",
    "}"
   ]
  },
  {
   "cell_type": "code",
   "execution_count": 6,
   "metadata": {},
   "outputs": [],
   "source": [
    "aucs2Idxs <- function(aucs){\n",
    "    Cb.idx <- ifelse(which.max(aucs) %% 3==0, which.max(aucs) %/% 3, which.max(aucs) %/% 3 + 1)\n",
    "    CT.idx <- ifelse(which.max(aucs) %% 3==0, 3, which.max(aucs) %% 3)\n",
    "    return(c(Cb.idx, CT.idx))\n",
    "}"
   ]
  },
  {
   "cell_type": "code",
   "execution_count": 7,
   "metadata": {},
   "outputs": [],
   "source": [
    "Ynp <- np$load(\"./npData/Y.npz\")\n",
    "rYnp <- np$load(\"./npData/rY.npz\")\n",
    "Xnp <- np$load(\"./npData/X.npz\")"
   ]
  },
  {
   "cell_type": "code",
   "execution_count": 8,
   "metadata": {},
   "outputs": [],
   "source": [
    "m = dim(Xnp)[1]\n",
    "n = dim(Xnp)[2]\n",
    "p = dim(Xnp)[3]\n",
    "alp.init <- rep(0, p)\n",
    "theta.init <- matrix(rnorm(n*m), nrow=m) + 0.1\n",
    "matX <- matrix(Xnp, nrow=m*n)"
   ]
  },
  {
   "cell_type": "code",
   "execution_count": 9,
   "metadata": {},
   "outputs": [],
   "source": [
    "OR <- 50\n",
    "Rnp.ps <- paste0(\"./npData/R_\", OR, \"_\", 1:20, \".npz\")\n",
    "Rnp0 <- np$load(Rnp.ps[1])\n",
    "CTs <- c(1, 1e2, 1e3)\n",
    "Cbs <- c(1, 1e2, 1e3)"
   ]
  },
  {
   "cell_type": "code",
   "execution_count": 10,
   "metadata": {},
   "outputs": [],
   "source": [
    "CbTs <- list()\n",
    "CbTs[[1]] <- c(1, 1)\n",
    "CbTs[[2]] <- c(1, 1e2)\n",
    "CbTs[[3]] <- c(1, 1e3)\n",
    "CbTs[[4]] <- c(1e2, 1)\n",
    "CbTs[[5]] <- c(1e2, 1e2)\n",
    "CbTs[[6]] <- c(1e2, 1e3)\n",
    "CbTs[[7]] <- c(1e3, 1)\n",
    "CbTs[[8]] <- c(1e3, 1e2)\n",
    "CbTs[[9]] <- c(1e3, 1e3)"
   ]
  },
  {
   "cell_type": "code",
   "execution_count": 12,
   "metadata": {},
   "outputs": [],
   "source": [
    "alp.init <- rep(0, p)\n",
    "theta.init <- matrix(rnorm(n*m), nrow=m) + 0.1\n",
    "runfn.CbT <- function(idx){\n",
    "    print(idx)\n",
    "    Cb <- CbTs[[idx]][1]\n",
    "    CT <- CbTs[[idx]][2]\n",
    "    res <- mimi.logi.fn(Ynp, matX, Rnp0, CT=CT, Cb=Cb, alp.init=alp.init, theta.init=theta.init)\n",
    "    probs <- post.mimi.fn(res)\n",
    "    cur.auc <- probs2auc(probs, Ynp, rYnp, Rnp0) \n",
    "    res <- list()\n",
    "    res$v <- cur.auc\n",
    "    res$CbT <- CbTs[[idx]]\n",
    "    res\n",
    "}"
   ]
  },
  {
   "cell_type": "code",
   "execution_count": 15,
   "metadata": {},
   "outputs": [],
   "source": [
    "res.aucs <- mclapply(1:9, runfn.CbT, mc.cores=5)"
   ]
  },
  {
   "cell_type": "code",
   "execution_count": 18,
   "metadata": {},
   "outputs": [],
   "source": [
    "selCb <- 1\n",
    "selCT <- 1"
   ]
  },
  {
   "cell_type": "code",
   "execution_count": 19,
   "metadata": {},
   "outputs": [],
   "source": [
    "runfn <- function(idx){\n",
    "    Rnp.p <- Rnp.ps[idx]\n",
    "    print(Rnp.p)\n",
    "    Rnp <- np$load(Rnp.p)\n",
    "    alp.init <- rep(0, p)\n",
    "    theta.init <- matrix(rnorm(n*m), nrow=m) + 0.1\n",
    "    res <- mimi.logi.fn(Ynp, matX, Rnp, CT=selCT, Cb=selCb, alp.init=alp.init, theta.init=theta.init)\n",
    "    probs <- post.mimi.fn(res)\n",
    "    cur.auc <- probs2auc(probs, Ynp, rYnp, Rnp) \n",
    "    res <- list()\n",
    "    res$v <- cur.auc\n",
    "    res$idx <- idx\n",
    "    res\n",
    "}"
   ]
  },
  {
   "cell_type": "code",
   "execution_count": 20,
   "metadata": {},
   "outputs": [],
   "source": [
    "test.res.aucs <- mclapply(1:5, runfn, mc.cores=5)"
   ]
  },
  {
   "cell_type": "code",
   "execution_count": 21,
   "metadata": {},
   "outputs": [
    {
     "data": {
      "text/html": [
       "<ol>\n",
       "\t<li><dl>\n",
       "\t<dt>$v</dt>\n",
       "\t\t<dd><ol>\n",
       "\t<li>0.579641149045378</li>\n",
       "</ol>\n",
       "</dd>\n",
       "\t<dt>$idx</dt>\n",
       "\t\t<dd>1</dd>\n",
       "</dl>\n",
       "</li>\n",
       "\t<li><dl>\n",
       "\t<dt>$v</dt>\n",
       "\t\t<dd><ol>\n",
       "\t<li>0.578209383442597</li>\n",
       "</ol>\n",
       "</dd>\n",
       "\t<dt>$idx</dt>\n",
       "\t\t<dd>2</dd>\n",
       "</dl>\n",
       "</li>\n",
       "\t<li><dl>\n",
       "\t<dt>$v</dt>\n",
       "\t\t<dd><ol>\n",
       "\t<li>0.576416677128707</li>\n",
       "</ol>\n",
       "</dd>\n",
       "\t<dt>$idx</dt>\n",
       "\t\t<dd>3</dd>\n",
       "</dl>\n",
       "</li>\n",
       "\t<li><dl>\n",
       "\t<dt>$v</dt>\n",
       "\t\t<dd><ol>\n",
       "\t<li>0.579491031900752</li>\n",
       "</ol>\n",
       "</dd>\n",
       "\t<dt>$idx</dt>\n",
       "\t\t<dd>4</dd>\n",
       "</dl>\n",
       "</li>\n",
       "\t<li><dl>\n",
       "\t<dt>$v</dt>\n",
       "\t\t<dd><ol>\n",
       "\t<li>0.581466084916048</li>\n",
       "</ol>\n",
       "</dd>\n",
       "\t<dt>$idx</dt>\n",
       "\t\t<dd>5</dd>\n",
       "</dl>\n",
       "</li>\n",
       "</ol>\n"
      ],
      "text/latex": [
       "\\begin{enumerate}\n",
       "\\item \\begin{description}\n",
       "\\item[\\$v] \\begin{enumerate}\n",
       "\\item 0.579641149045378\n",
       "\\end{enumerate}\n",
       "\n",
       "\\item[\\$idx] 1\n",
       "\\end{description}\n",
       "\n",
       "\\item \\begin{description}\n",
       "\\item[\\$v] \\begin{enumerate}\n",
       "\\item 0.578209383442597\n",
       "\\end{enumerate}\n",
       "\n",
       "\\item[\\$idx] 2\n",
       "\\end{description}\n",
       "\n",
       "\\item \\begin{description}\n",
       "\\item[\\$v] \\begin{enumerate}\n",
       "\\item 0.576416677128707\n",
       "\\end{enumerate}\n",
       "\n",
       "\\item[\\$idx] 3\n",
       "\\end{description}\n",
       "\n",
       "\\item \\begin{description}\n",
       "\\item[\\$v] \\begin{enumerate}\n",
       "\\item 0.579491031900752\n",
       "\\end{enumerate}\n",
       "\n",
       "\\item[\\$idx] 4\n",
       "\\end{description}\n",
       "\n",
       "\\item \\begin{description}\n",
       "\\item[\\$v] \\begin{enumerate}\n",
       "\\item 0.581466084916048\n",
       "\\end{enumerate}\n",
       "\n",
       "\\item[\\$idx] 5\n",
       "\\end{description}\n",
       "\n",
       "\\end{enumerate}\n"
      ],
      "text/markdown": [
       "1. $v\n",
       ":   1. 0.579641149045378\n",
       "\n",
       "\n",
       "\n",
       "$idx\n",
       ":   1\n",
       "\n",
       "\n",
       "\n",
       "2. $v\n",
       ":   1. 0.578209383442597\n",
       "\n",
       "\n",
       "\n",
       "$idx\n",
       ":   2\n",
       "\n",
       "\n",
       "\n",
       "3. $v\n",
       ":   1. 0.576416677128707\n",
       "\n",
       "\n",
       "\n",
       "$idx\n",
       ":   3\n",
       "\n",
       "\n",
       "\n",
       "4. $v\n",
       ":   1. 0.579491031900752\n",
       "\n",
       "\n",
       "\n",
       "$idx\n",
       ":   4\n",
       "\n",
       "\n",
       "\n",
       "5. $v\n",
       ":   1. 0.581466084916048\n",
       "\n",
       "\n",
       "\n",
       "$idx\n",
       ":   5\n",
       "\n",
       "\n",
       "\n",
       "\n",
       "\n"
      ],
      "text/plain": [
       "[[1]]\n",
       "[[1]]$v\n",
       "[[1]]$v[[1]]\n",
       "[1] 0.5796411\n",
       "\n",
       "\n",
       "[[1]]$idx\n",
       "[1] 1\n",
       "\n",
       "\n",
       "[[2]]\n",
       "[[2]]$v\n",
       "[[2]]$v[[1]]\n",
       "[1] 0.5782094\n",
       "\n",
       "\n",
       "[[2]]$idx\n",
       "[1] 2\n",
       "\n",
       "\n",
       "[[3]]\n",
       "[[3]]$v\n",
       "[[3]]$v[[1]]\n",
       "[1] 0.5764167\n",
       "\n",
       "\n",
       "[[3]]$idx\n",
       "[1] 3\n",
       "\n",
       "\n",
       "[[4]]\n",
       "[[4]]$v\n",
       "[[4]]$v[[1]]\n",
       "[1] 0.579491\n",
       "\n",
       "\n",
       "[[4]]$idx\n",
       "[1] 4\n",
       "\n",
       "\n",
       "[[5]]\n",
       "[[5]]$v\n",
       "[[5]]$v[[1]]\n",
       "[1] 0.5814661\n",
       "\n",
       "\n",
       "[[5]]$idx\n",
       "[1] 5\n",
       "\n"
      ]
     },
     "metadata": {},
     "output_type": "display_data"
    }
   ],
   "source": [
    "test.res.aucs"
   ]
  },
  {
   "cell_type": "code",
   "execution_count": 30,
   "metadata": {},
   "outputs": [],
   "source": [
    "argidx <- which.max(sapply(res.aucs, function(x)x$v))\n",
    "CbT <- res.aucs[[argidx]]$CbT"
   ]
  },
  {
   "cell_type": "code",
   "execution_count": 31,
   "metadata": {},
   "outputs": [
    {
     "data": {
      "text/html": [
       "<style>\n",
       ".list-inline {list-style: none; margin:0; padding: 0}\n",
       ".list-inline>li {display: inline-block}\n",
       ".list-inline>li:not(:last-child)::after {content: \"\\00b7\"; padding: 0 .5ex}\n",
       "</style>\n",
       "<ol class=list-inline><li>1</li><li>1</li></ol>\n"
      ],
      "text/latex": [
       "\\begin{enumerate*}\n",
       "\\item 1\n",
       "\\item 1\n",
       "\\end{enumerate*}\n"
      ],
      "text/markdown": [
       "1. 1\n",
       "2. 1\n",
       "\n",
       "\n"
      ],
      "text/plain": [
       "[1] 1 1"
      ]
     },
     "metadata": {},
     "output_type": "display_data"
    }
   ],
   "source": [
    "CbT"
   ]
  },
  {
   "cell_type": "code",
   "execution_count": null,
   "metadata": {},
   "outputs": [],
   "source": []
  }
 ],
 "metadata": {
  "kernelspec": {
   "display_name": "R",
   "language": "R",
   "name": "ir"
  },
  "language_info": {
   "codemirror_mode": "r",
   "file_extension": ".r",
   "mimetype": "text/x-r-source",
   "name": "R",
   "pygments_lexer": "r",
   "version": "3.6.3"
  }
 },
 "nbformat": 4,
 "nbformat_minor": 2
}

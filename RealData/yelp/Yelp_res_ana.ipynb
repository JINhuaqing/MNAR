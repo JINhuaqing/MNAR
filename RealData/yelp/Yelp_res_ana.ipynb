{
 "cells": [
  {
   "cell_type": "markdown",
   "metadata": {},
   "source": [
    "### Analysis of Yelp data result"
   ]
  },
  {
   "cell_type": "code",
   "execution_count": 12,
   "metadata": {},
   "outputs": [],
   "source": [
    "import pickle\n",
    "import torch\n",
    "import matplotlib.pyplot as plt\n",
    "import seaborn as sns\n",
    "import pandas as pd\n",
    "import numpy as np\n",
    "from sklearn import metrics\n",
    "%matplotlib inline"
   ]
  },
  {
   "cell_type": "code",
   "execution_count": 13,
   "metadata": {},
   "outputs": [
    {
     "name": "stdout",
     "output_type": "stream",
     "text": [
      "-rw-r--r-- 1 root root  3343534 Mar  7 06:34 MNARxMARyelp_log35_28.pkl\r\n",
      "-rw-r--r-- 1 root root  3488134 Mar  7 06:31 MNARxMARyelp_log35_25.pkl\r\n",
      "-rw-r--r-- 1 root root  3632134 Mar  7 06:05 MNARxMARyelp_log35_22.pkl\r\n",
      "-rw-r--r-- 1 root root  3776134 Mar  7 03:52 MNARxMARyelp_log35_19.pkl\r\n",
      "-rw-r--r-- 1 root root   168342 Mar  5 10:10 MARyelp_log35_25.pkl\r\n",
      "-rw-r--r-- 1 root root   264342 Mar  5 10:10 MARyelp_log35_22.pkl\r\n",
      "-rw-r--r-- 1 root root   360342 Mar  5 10:09 MARyelp_log35_19.pkl\r\n",
      "-rw-r--r-- 1 root root    71942 Mar  5 10:09 MARyelp_log35_28.pkl\r\n",
      "-rw-r--r-- 1 1004 1004    53960 Feb 14 16:52 MNARyelp_linear.pkl\r\n",
      "-rw-r--r-- 1 1004 1004    53960 Feb 12 12:47 MARyelp_linear.pkl\r\n",
      "-rw-rw-r-- 1 1004 1004    80160 Feb 11 09:27 Ymat.pkl\r\n",
      "-rw-rw-r-- 1 1004 1004 41600163 Feb 11 09:27 Xsps.pkl\r\n",
      "-rw-rw-r-- 1 1004 1004  2080162 Feb 11 09:27 Xmat.pkl\r\n"
     ]
    }
   ],
   "source": [
    "!ls -alt *.pkl"
   ]
  },
  {
   "cell_type": "code",
   "execution_count": 14,
   "metadata": {},
   "outputs": [],
   "source": [
    "MARress = []\n",
    "MNARress = []"
   ]
  },
  {
   "cell_type": "code",
   "execution_count": 15,
   "metadata": {},
   "outputs": [],
   "source": [
    "with open(\"./MNARxMARyelp_log35_28.pkl\", \"rb\") as f:\n",
    "    MNARxMAR28 = pickle.load(f)\n",
    "MARress.append(MNARxMAR28[\"MARres\"])\n",
    "MNARress.append(MNARxMAR28[\"MNARres\"])"
   ]
  },
  {
   "cell_type": "code",
   "execution_count": 16,
   "metadata": {},
   "outputs": [],
   "source": [
    "with open(\"./MARyelp_log35_25.pkl\", \"rb\") as f:\n",
    "    MARres = pickle.load(f)\n",
    "with open(\"./MNARxMARyelp_log35_25.pkl\", \"rb\") as f:\n",
    "    MNARxMAR25 = pickle.load(f)\n",
    "\n",
    "#MARress.append(MARres)\n",
    "MARress.append(MNARxMAR25[\"MARres\"])\n",
    "MNARress.append(MNARxMAR25[\"MNARres\"])"
   ]
  },
  {
   "cell_type": "code",
   "execution_count": 17,
   "metadata": {},
   "outputs": [],
   "source": [
    "with open(\"./MNARxMARyelp_log35_22.pkl\", \"rb\") as f:\n",
    "    MNARxMAR22 = pickle.load(f)\n",
    "\n",
    "MARress.append(MNARxMAR22[\"MARres\"])\n",
    "MNARress.append(MNARxMAR22[\"MNARres\"])"
   ]
  },
  {
   "cell_type": "code",
   "execution_count": 18,
   "metadata": {},
   "outputs": [],
   "source": [
    "with open(\"./MNARxMARyelp_log35_19.pkl\", \"rb\") as f:\n",
    "    MNARxMAR19 = pickle.load(f)\n",
    "\n",
    "MARress.append(MNARxMAR19[\"MARres\"])\n",
    "MNARress.append(MNARxMAR19[\"MNARres\"])"
   ]
  },
  {
   "cell_type": "code",
   "execution_count": 19,
   "metadata": {},
   "outputs": [],
   "source": [
    "def AUCplot(MARres, MNARres, i, is_plot=False):\n",
    "    marres,  mnarres = MARres[i], MNARres[i]\n",
    "    marprobs, margts = marres[0].cpu().numpy(), marres[1].cpu().numpy()\n",
    "    mnarprobs, mnargts = mnarres[0].cpu().numpy(), mnarres[1].cpu().numpy()\n",
    "    marfpr, martpr, marthre = metrics.roc_curve(margts, marprobs)\n",
    "    mnarfpr, mnartpr, mnarthre = metrics.roc_curve(mnargts, mnarprobs)\n",
    "    marauc = metrics.roc_auc_score(margts, marprobs)\n",
    "    mnarauc = metrics.roc_auc_score(mnargts, mnarprobs)\n",
    "    if is_plot:\n",
    "        plt.title(\"ROC curve\")\n",
    "        plt.xlabel(\"FPR\")\n",
    "        plt.ylabel(\"TPR\")\n",
    "        plt.plot(marfpr, martpr, \"--r\", label=\"MAR\")\n",
    "        plt.plot(mnarfpr, mnartpr, label=\"MNAR\")\n",
    "        plt.legend()\n",
    "    return marauc, mnarauc\n",
    "    "
   ]
  },
  {
   "cell_type": "code",
   "execution_count": 20,
   "metadata": {},
   "outputs": [],
   "source": [
    "allaucdfs = []"
   ]
  },
  {
   "cell_type": "code",
   "execution_count": 21,
   "metadata": {},
   "outputs": [],
   "source": [
    "for MARres, MNARres in zip(MARress, MNARress):\n",
    "    allaucs = [AUCplot(MARres, MNARres, i)  for i in range(1, 21)] \n",
    "    allaucs = np.array(allaucs)\n",
    "    allaucdf = pd.DataFrame(allaucs)\n",
    "    allaucdf.columns = [\"MAR\", \"MNAR\"]\n",
    "    allaucdfs.append(allaucdf)"
   ]
  },
  {
   "cell_type": "markdown",
   "metadata": {},
   "source": [
    "## Handle data in a single missing rate"
   ]
  },
  {
   "cell_type": "code",
   "execution_count": 38,
   "metadata": {},
   "outputs": [],
   "source": [
    "MNARres, MARres = MNARress[0], MARress[0]\n",
    "MARprobs = []\n",
    "MARgt = []\n",
    "MNARprobs = []\n",
    "MNARgt = []\n",
    "for i in range(1, len(MNARres)+1):\n",
    "    mnarres = MNARres[i]\n",
    "    MNARprobs.append(mnarres[0].cpu().numpy())\n",
    "    MNARgt.append(mnarres[1].cpu().numpy())\n",
    "for i in range(1, len(MARres)+1):\n",
    "    marres = MARres[i]\n",
    "    MARprobs.append(marres[0].cpu().numpy())\n",
    "    MARgt.append(marres[1].cpu().numpy())"
   ]
  },
  {
   "cell_type": "code",
   "execution_count": 39,
   "metadata": {},
   "outputs": [],
   "source": [
    "MARgt = np.concatenate(MARgt)\n",
    "MNARgt = np.concatenate(MNARgt)\n",
    "MARprobs = np.concatenate(MARprobs)\n",
    "MNARprobs = np.concatenate(MNARprobs)"
   ]
  },
  {
   "cell_type": "code",
   "execution_count": 40,
   "metadata": {},
   "outputs": [],
   "source": [
    "Data = {\n",
    "    \"Probs\": np.concatenate([MNARprobs, MARprobs]),\n",
    "    \"Method\": [\"MNAR\"] * len(MNARprobs) + [\"MAR\"] * len(MARprobs),\n",
    "    \"GT\": np.concatenate([MNARgt, MARgt])\n",
    "}\n",
    "dfdata = pd.DataFrame(Data)"
   ]
  },
  {
   "cell_type": "code",
   "execution_count": 41,
   "metadata": {},
   "outputs": [
    {
     "data": {
      "text/plain": [
       "<matplotlib.axes._subplots.AxesSubplot at 0x7f7d13cc94e0>"
      ]
     },
     "execution_count": 41,
     "metadata": {},
     "output_type": "execute_result"
    },
    {
     "data": {
      "image/png": "[encoded data removed]",
      "text/plain": [
       "<Figure size 432x288 with 1 Axes>"
      ]
     },
     "metadata": {
      "needs_background": "light"
     },
     "output_type": "display_data"
    }
   ],
   "source": [
    "sns.boxplot(data=dfdata, x=\"Method\", y=\"Probs\", hue=\"GT\")"
   ]
  },
  {
   "cell_type": "code",
   "execution_count": 42,
   "metadata": {},
   "outputs": [
    {
     "data": {
      "text/plain": [
       "[<matplotlib.lines.Line2D at 0x7f7d13c6b048>]"
      ]
     },
     "execution_count": 42,
     "metadata": {},
     "output_type": "execute_result"
    },
    {
     "data": {
      "image/png": "[encoded data removed]",
      "text/plain": [
       "<Figure size 432x288 with 1 Axes>"
      ]
     },
     "metadata": {
      "needs_background": "light"
     },
     "output_type": "display_data"
    }
   ],
   "source": [
    "#plt.plot(MARgt[:200], \"bo\")\n",
    "#plt.plot(MARgt[:200], MARprobs[:200], \"rh\")\n",
    "#plt.plot(MARgt[:200], MNARprobs[:200], \"g*\")\n",
    "plt.plot(MARprobs[:], MNARprobs[:], \"g*\")\n",
    "plt.plot(np.arange(0, 1, 0.01), np.arange(0, 1, 0.01))"
   ]
  },
  {
   "cell_type": "code",
   "execution_count": 43,
   "metadata": {},
   "outputs": [],
   "source": [
    "dfdatagrp = dfdata.groupby([\"Method\", \"GT\"])"
   ]
  },
  {
   "cell_type": "code",
   "execution_count": 44,
   "metadata": {},
   "outputs": [
    {
     "data": {
      "text/html": [
       "<div>\n",
       "<style scoped>\n",
       "    .dataframe tbody tr th:only-of-type {\n",
       "        vertical-align: middle;\n",
       "    }\n",
       "\n",
       "    .dataframe tbody tr th {\n",
       "        vertical-align: top;\n",
       "    }\n",
       "\n",
       "    .dataframe thead tr th {\n",
       "        text-align: left;\n",
       "    }\n",
       "\n",
       "    .dataframe thead tr:last-of-type th {\n",
       "        text-align: right;\n",
       "    }\n",
       "</style>\n",
       "<table border=\"1\" class=\"dataframe\">\n",
       "  <thead>\n",
       "    <tr>\n",
       "      <th></th>\n",
       "      <th></th>\n",
       "      <th colspan=\"8\" halign=\"left\">Probs</th>\n",
       "    </tr>\n",
       "    <tr>\n",
       "      <th></th>\n",
       "      <th></th>\n",
       "      <th>count</th>\n",
       "      <th>mean</th>\n",
       "      <th>std</th>\n",
       "      <th>min</th>\n",
       "      <th>25%</th>\n",
       "      <th>50%</th>\n",
       "      <th>75%</th>\n",
       "      <th>max</th>\n",
       "    </tr>\n",
       "    <tr>\n",
       "      <th>Method</th>\n",
       "      <th>GT</th>\n",
       "      <th></th>\n",
       "      <th></th>\n",
       "      <th></th>\n",
       "      <th></th>\n",
       "      <th></th>\n",
       "      <th></th>\n",
       "      <th></th>\n",
       "      <th></th>\n",
       "    </tr>\n",
       "  </thead>\n",
       "  <tbody>\n",
       "    <tr>\n",
       "      <th rowspan=\"2\" valign=\"top\">MAR</th>\n",
       "      <th>0.0</th>\n",
       "      <td>1860.0</td>\n",
       "      <td>0.633426</td>\n",
       "      <td>0.106887</td>\n",
       "      <td>0.016876</td>\n",
       "      <td>0.561936</td>\n",
       "      <td>0.648620</td>\n",
       "      <td>0.712443</td>\n",
       "      <td>0.945278</td>\n",
       "    </tr>\n",
       "    <tr>\n",
       "      <th>1.0</th>\n",
       "      <td>1860.0</td>\n",
       "      <td>0.705627</td>\n",
       "      <td>0.085787</td>\n",
       "      <td>0.329229</td>\n",
       "      <td>0.663502</td>\n",
       "      <td>0.714578</td>\n",
       "      <td>0.759696</td>\n",
       "      <td>0.972571</td>\n",
       "    </tr>\n",
       "    <tr>\n",
       "      <th rowspan=\"2\" valign=\"top\">MNAR</th>\n",
       "      <th>0.0</th>\n",
       "      <td>1860.0</td>\n",
       "      <td>0.598231</td>\n",
       "      <td>0.165609</td>\n",
       "      <td>0.000378</td>\n",
       "      <td>0.479674</td>\n",
       "      <td>0.623685</td>\n",
       "      <td>0.724833</td>\n",
       "      <td>0.986515</td>\n",
       "    </tr>\n",
       "    <tr>\n",
       "      <th>1.0</th>\n",
       "      <td>1860.0</td>\n",
       "      <td>0.726287</td>\n",
       "      <td>0.124004</td>\n",
       "      <td>0.217999</td>\n",
       "      <td>0.664266</td>\n",
       "      <td>0.744660</td>\n",
       "      <td>0.806898</td>\n",
       "      <td>0.997841</td>\n",
       "    </tr>\n",
       "  </tbody>\n",
       "</table>\n",
       "</div>"
      ],
      "text/plain": [
       "             Probs                                                    \\\n",
       "             count      mean       std       min       25%       50%   \n",
       "Method GT                                                              \n",
       "MAR    0.0  1860.0  0.633426  0.106887  0.016876  0.561936  0.648620   \n",
       "       1.0  1860.0  0.705627  0.085787  0.329229  0.663502  0.714578   \n",
       "MNAR   0.0  1860.0  0.598231  0.165609  0.000378  0.479674  0.623685   \n",
       "       1.0  1860.0  0.726287  0.124004  0.217999  0.664266  0.744660   \n",
       "\n",
       "                                \n",
       "                 75%       max  \n",
       "Method GT                       \n",
       "MAR    0.0  0.712443  0.945278  \n",
       "       1.0  0.759696  0.972571  \n",
       "MNAR   0.0  0.724833  0.986515  \n",
       "       1.0  0.806898  0.997841  "
      ]
     },
     "execution_count": 44,
     "metadata": {},
     "output_type": "execute_result"
    }
   ],
   "source": [
    "dfdatagrp.describe()"
   ]
  },
  {
   "cell_type": "code",
   "execution_count": 45,
   "metadata": {},
   "outputs": [],
   "source": [
    "from sklearn import metrics"
   ]
  },
  {
   "cell_type": "code",
   "execution_count": 46,
   "metadata": {},
   "outputs": [
    {
     "data": {
      "text/plain": [
       "0.7005616256214591"
      ]
     },
     "execution_count": 46,
     "metadata": {},
     "output_type": "execute_result"
    }
   ],
   "source": [
    "metrics.roc_auc_score(MARgt, MARprobs)"
   ]
  },
  {
   "cell_type": "code",
   "execution_count": 47,
   "metadata": {},
   "outputs": [
    {
     "data": {
      "text/plain": [
       "0.7315363047751186"
      ]
     },
     "execution_count": 47,
     "metadata": {},
     "output_type": "execute_result"
    }
   ],
   "source": [
    "metrics.roc_auc_score(MNARgt, MNARprobs)"
   ]
  },
  {
   "cell_type": "code",
   "execution_count": 48,
   "metadata": {},
   "outputs": [],
   "source": [
    "marfpr, martpr, marthre = metrics.roc_curve(MARgt, MARprobs)\n",
    "mnarfpr, mnartpr, mnarthre = metrics.roc_curve(MNARgt, MNARprobs)"
   ]
  },
  {
   "cell_type": "code",
   "execution_count": 49,
   "metadata": {},
   "outputs": [
    {
     "data": {
      "text/plain": [
       "<matplotlib.legend.Legend at 0x7f7d13b8be48>"
      ]
     },
     "execution_count": 49,
     "metadata": {},
     "output_type": "execute_result"
    },
    {
     "data": {
      "image/png": "[encoded data removed]",
      "text/plain": [
       "<Figure size 432x288 with 1 Axes>"
      ]
     },
     "metadata": {
      "needs_background": "light"
     },
     "output_type": "display_data"
    }
   ],
   "source": [
    "plt.title(\"ROC curve\")\n",
    "plt.xlabel(\"FPR\")\n",
    "plt.ylabel(\"TPR\")\n",
    "plt.plot(marfpr, martpr, \"--r\", label=\"MAR\")\n",
    "plt.plot(mnarfpr, mnartpr, label=\"MNAR\")\n",
    "plt.legend()"
   ]
  },
  {
   "cell_type": "markdown",
   "metadata": {},
   "source": [
    "## Plot the figures in paper"
   ]
  },
  {
   "cell_type": "code",
   "execution_count": 22,
   "metadata": {},
   "outputs": [
    {
     "name": "stdout",
     "output_type": "stream",
     "text": [
      "0.7326627355763673 0.701358538559371\n",
      "0.7213764082844227 0.6822994670444581\n",
      "0.7149536301520258 0.6664868059053746\n",
      "0.6984110944101399 0.6289296934243311\n"
     ]
    }
   ],
   "source": [
    "diffs = []\n",
    "CIs = []\n",
    "qCIs = []\n",
    "mdiffs = []\n",
    "for allaucdf in allaucdfs:\n",
    "    marres = np.array(allaucdf[\"MAR\"])\n",
    "    mnarres = np.array(allaucdf[\"MNAR\"])\n",
    "    diff = mnarres - marres\n",
    "    print(np.mean(mnarres), np.mean(marres))\n",
    "    mdiffs.append(np.mean(diff))\n",
    "    diffs.append(diff)\n",
    "    qCIs.append([np.quantile(diff, 0.025), np.quantile(diff, 0.975)])\n",
    "    CIs.append([np.mean(diff) - 1.96* np.std(diff)/np.sqrt(len(diff)), np.mean(diff) + 1.96* np.std(diff)/np.sqrt(len(diff))])"
   ]
  },
  {
   "cell_type": "code",
   "execution_count": 23,
   "metadata": {},
   "outputs": [],
   "source": [
    "CIs = np.array(CIs)\n",
    "qCIs = np.array(qCIs)\n",
    "diffs = np.array(diffs)\n",
    "mdiffs = np.array(mdiffs)"
   ]
  },
  {
   "cell_type": "code",
   "execution_count": 24,
   "metadata": {},
   "outputs": [
    {
     "data": {
      "text/plain": [
       "<matplotlib.legend.Legend at 0x7f868612a630>"
      ]
     },
     "execution_count": 24,
     "metadata": {},
     "output_type": "execute_result"
    },
    {
     "data": {
      "image/png": "[encoded data removed]",
      "text/plain": [
       "<Figure size 720x720 with 1 Axes>"
      ]
     },
     "metadata": {
      "needs_background": "light"
     },
     "output_type": "display_data"
    }
   ],
   "source": [
    "fig = plt.figure(figsize=(10, 10))\n",
    "plt.xlabel(\"Missing Rate\")\n",
    "plt.ylabel(\"AUC Difference\")\n",
    "plt.plot([0.72, 0.75, 0.78, 0.81], mdiffs, \"r-o\", label=\"mean\")\n",
    "plt.plot([0.72, 0.75, 0.78, 0.81], qCIs[:, 0], \"g--h\", label=\"95% CI\")\n",
    "plt.plot([0.72, 0.75, 0.78, 0.81], qCIs[:, 1], \"g--h\")\n",
    "plt.axhline(0)\n",
    "plt.legend()"
   ]
  },
  {
   "cell_type": "code",
   "execution_count": 25,
   "metadata": {},
   "outputs": [
    {
     "data": {
      "text/plain": [
       "array([[0.02115852, 0.00416233, 0.02890508, 0.03006128, 0.04601688,\n",
       "        0.02428026, 0.01907735, 0.02011793, 0.03214244, 0.01942421,\n",
       "        0.05757891, 0.05422592, 0.03676726, 0.00832466, 0.01456816,\n",
       "        0.05341658, 0.0552665 , 0.04520754, 0.02023355, 0.03514857],\n",
       "       [0.01084463, 0.02636106, 0.05555556, 0.04573973, 0.0594178 ,\n",
       "        0.042316  , 0.0348951 , 0.04567227, 0.03853808, 0.02484315,\n",
       "        0.04290629, 0.04472779, 0.02545031, 0.03848749, 0.04132092,\n",
       "        0.04987182, 0.03821763, 0.04353032, 0.03263509, 0.04020779],\n",
       "       [0.0351003 , 0.03920125, 0.06750752, 0.04594361, 0.04802315,\n",
       "        0.0417587 , 0.04660234, 0.05422301, 0.04870126, 0.04241097,\n",
       "        0.04930833, 0.04802315, 0.03271722, 0.04662818, 0.04794565,\n",
       "        0.06019685, 0.05152995, 0.05308637, 0.05408093, 0.05634776],\n",
       "       [0.05809907, 0.05508274, 0.08724339, 0.05742539, 0.05613219,\n",
       "        0.08139692, 0.05409084, 0.07902381, 0.05890816, 0.07006283,\n",
       "        0.08044565, 0.07138988, 0.07160993, 0.07030996, 0.05947013,\n",
       "        0.08582155, 0.05835974, 0.0931271 , 0.0546528 , 0.08697595]])"
      ]
     },
     "execution_count": 25,
     "metadata": {},
     "output_type": "execute_result"
    }
   ],
   "source": [
    "diffs"
   ]
  },
  {
   "cell_type": "code",
   "execution_count": 26,
   "metadata": {},
   "outputs": [
    {
     "data": {
      "text/plain": [
       "Text(0.04, 0.5, 'AUC Difference')"
      ]
     },
     "execution_count": 26,
     "metadata": {},
     "output_type": "execute_result"
    },
    {
     "data": {
      "image/png": "[encoded data removed]",
      "text/plain": [
       "<Figure size 720x720 with 4 Axes>"
      ]
     },
     "metadata": {
      "needs_background": "light"
     },
     "output_type": "display_data"
    }
   ],
   "source": [
    "fig = plt.figure(figsize=(10, 10))\n",
    "plt.subplots_adjust(wspace=0.3, hspace=0.3)\n",
    "\n",
    "plt.subplot(221)\n",
    "plt.title(\"Missing rate, 0.72\")\n",
    "plt.xticks([])\n",
    "plt.ylim([-0.01, 0.1])\n",
    "plt.plot(diffs[0], \"or\")\n",
    "plt.axhline(0)\n",
    "\n",
    "plt.subplot(222)\n",
    "plt.title(\"Missing rate, 0.75\")\n",
    "plt.plot(diffs[1], \"or\")\n",
    "plt.xticks([])\n",
    "plt.ylim([-0.01, 0.1])\n",
    "plt.axhline(0)\n",
    "\n",
    "plt.subplot(223)\n",
    "plt.title(\"Missing rate, 0.78\")\n",
    "plt.plot(diffs[2], \"or\")\n",
    "plt.xticks([])\n",
    "plt.ylim([-0.01, 0.1])\n",
    "plt.axhline(0)\n",
    "\n",
    "plt.subplot(224)\n",
    "plt.title(\"Missing rate, 0.81\")\n",
    "plt.plot(diffs[3], \"or\")\n",
    "plt.xticks([])\n",
    "plt.ylim([-0.01, 0.1])\n",
    "plt.axhline(0)\n",
    "\n",
    "#fig.text(0.5, 0.04, 'common X', ha='center')\n",
    "fig.text(0.04, 0.5, 'AUC Difference', va='center', rotation='vertical')"
   ]
  },
  {
   "cell_type": "code",
   "execution_count": 16,
   "metadata": {},
   "outputs": [
    {
     "data": {
      "text/plain": [
       "array([[0.00766563, 0.05729275],\n",
       "       [0.01705837, 0.05703257],\n",
       "       [0.0331785 , 0.06348794],\n",
       "       [0.05487945, 0.08969285]])"
      ]
     },
     "execution_count": 16,
     "metadata": {},
     "output_type": "execute_result"
    }
   ],
   "source": [
    "qCIs"
   ]
  },
  {
   "cell_type": "code",
   "execution_count": 17,
   "metadata": {},
   "outputs": [
    {
     "data": {
      "text/plain": [
       "array([[0.02382607, 0.03773018],\n",
       "       [0.03363278, 0.0429644 ],\n",
       "       [0.04447665, 0.05147277],\n",
       "       [0.06402994, 0.07500802]])"
      ]
     },
     "execution_count": 17,
     "metadata": {},
     "output_type": "execute_result"
    }
   ],
   "source": [
    "CIs"
   ]
  },
  {
   "cell_type": "markdown",
   "metadata": {},
   "source": [
    "## Save the result in numpy form"
   ]
  },
  {
   "cell_type": "code",
   "execution_count": 42,
   "metadata": {},
   "outputs": [],
   "source": [
    "SAVEDMARress = {}\n",
    "for MARres, MR in zip(MARress, [0.72, 0.75, 0.78, 0.81]):\n",
    "    res = []\n",
    "    for i in range(1, 21):\n",
    "        res.append([MARres[i][0].cpu().numpy(), MARres[i][1].cpu().numpy()])\n",
    "    SAVEDMARress[MR] = res\n",
    "    "
   ]
  },
  {
   "cell_type": "code",
   "execution_count": 43,
   "metadata": {},
   "outputs": [],
   "source": [
    "SAVEDMNARress = {}\n",
    "for MNARres, MR in zip(MNARress, [0.72, 0.75, 0.78, 0.81]):\n",
    "    res = []\n",
    "    for i in range(1, 21):\n",
    "        res.append([MNARres[i][0].cpu().numpy(), MNARres[i][1].cpu().numpy()])\n",
    "    SAVEDMNARress[MR] = res"
   ]
  },
  {
   "cell_type": "code",
   "execution_count": 61,
   "metadata": {},
   "outputs": [],
   "source": [
    "\n",
    "paras72beta = {\"MNAR\": [], \"MAR\":[]}\n",
    "paras72theta = {\"MNAR\": [], \"MAR\":[]}\n",
    "paras75beta = {\"MNAR\": [], \"MAR\":[]}\n",
    "paras75theta = {\"MNAR\": [], \"MAR\":[]}\n",
    "paras78beta = {\"MNAR\": [], \"MAR\":[]}\n",
    "paras78theta = {\"MNAR\": [], \"MAR\":[]}\n",
    "paras81beta = {\"MNAR\": [], \"MAR\":[]}\n",
    "paras81theta = {\"MNAR\": [], \"MAR\":[]}\n",
    "for i in range(20):\n",
    "    paras72beta[\"MNAR\"].append(MNARxMAR28[\"paras\"][\"MNAR\"][i][\"beta\"].cpu().numpy())\n",
    "    paras72theta[\"MNAR\"].append(MNARxMAR28[\"paras\"][\"MNAR\"][i][\"theta\"].cpu().numpy())\n",
    "    paras72beta[\"MAR\"].append(MNARxMAR28[\"paras\"][\"MAR\"][i][\"beta\"].cpu().numpy())\n",
    "    paras72theta[\"MAR\"].append(MNARxMAR28[\"paras\"][\"MAR\"][i][\"theta\"].cpu().numpy())\n",
    "    \n",
    "    paras75beta[\"MNAR\"].append(MNARxMAR25[\"paras\"][\"MNAR\"][i][\"beta\"].cpu().numpy())\n",
    "    paras75theta[\"MNAR\"].append(MNARxMAR25[\"paras\"][\"MNAR\"][i][\"theta\"].cpu().numpy())\n",
    "    paras75beta[\"MAR\"].append(MNARxMAR25[\"paras\"][\"MAR\"][i][\"beta\"].cpu().numpy())\n",
    "    paras75theta[\"MAR\"].append(MNARxMAR25[\"paras\"][\"MAR\"][i][\"theta\"].cpu().numpy())\n",
    "    \n",
    "    paras78beta[\"MNAR\"].append(MNARxMAR22[\"paras\"][\"MNAR\"][i][\"beta\"].cpu().numpy())\n",
    "    paras78theta[\"MNAR\"].append(MNARxMAR22[\"paras\"][\"MNAR\"][i][\"theta\"].cpu().numpy())\n",
    "    paras78beta[\"MAR\"].append(MNARxMAR22[\"paras\"][\"MAR\"][i][\"beta\"].cpu().numpy())\n",
    "    paras78theta[\"MAR\"].append(MNARxMAR22[\"paras\"][\"MAR\"][i][\"theta\"].cpu().numpy())\n",
    "    \n",
    "    paras81beta[\"MNAR\"].append(MNARxMAR19[\"paras\"][\"MNAR\"][i][\"beta\"].cpu().numpy())\n",
    "    paras81theta[\"MNAR\"].append(MNARxMAR19[\"paras\"][\"MNAR\"][i][\"theta\"].cpu().numpy())\n",
    "    paras81beta[\"MAR\"].append(MNARxMAR19[\"paras\"][\"MAR\"][i][\"beta\"].cpu().numpy())\n",
    "    paras81theta[\"MAR\"].append(MNARxMAR19[\"paras\"][\"MAR\"][i][\"theta\"].cpu().numpy())"
   ]
  },
  {
   "cell_type": "code",
   "execution_count": 62,
   "metadata": {},
   "outputs": [],
   "source": [
    "SAVEDparas = {\n",
    "    0.72: [paras72beta, paras72theta],\n",
    "    0.75: [paras75beta, paras75theta],\n",
    "    0.78: [paras78beta, paras78theta],\n",
    "    0.81: [paras81beta, paras81theta],\n",
    "}"
   ]
  },
  {
   "cell_type": "code",
   "execution_count": 64,
   "metadata": {},
   "outputs": [],
   "source": [
    "with open(\"paras.pkl\", \"wb\") as f:\n",
    "    pickle.dump(SAVEDparas, f)"
   ]
  },
  {
   "cell_type": "code",
   "execution_count": 65,
   "metadata": {},
   "outputs": [],
   "source": [
    "with open(\"MNARresfinal.pkl\", \"wb\") as f:\n",
    "    pickle.dump(SAVEDMNARress, f)"
   ]
  },
  {
   "cell_type": "code",
   "execution_count": 66,
   "metadata": {},
   "outputs": [],
   "source": [
    "with open(\"MARresfinal.pkl\", \"wb\") as f:\n",
    "    pickle.dump(SAVEDMARress, f)"
   ]
  },
  {
   "cell_type": "code",
   "execution_count": null,
   "metadata": {},
   "outputs": [],
   "source": []
  }
 ],
 "metadata": {
  "kernelspec": {
   "display_name": "Python 3",
   "language": "python",
   "name": "python3"
  },
  "language_info": {
   "codemirror_mode": {
    "name": "ipython",
    "version": 3
   },
   "file_extension": ".py",
   "mimetype": "text/x-python",
   "name": "python",
   "nbconvert_exporter": "python",
   "pygments_lexer": "ipython3",
   "version": "3.6.8"
  }
 },
 "nbformat": 4,
 "nbformat_minor": 2
}

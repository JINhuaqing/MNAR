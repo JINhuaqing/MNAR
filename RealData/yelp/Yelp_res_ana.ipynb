{
 "cells": [
  {
   "cell_type": "markdown",
   "metadata": {},
   "source": [
    "### Analysis of Yelp data result"
   ]
  },
  {
   "cell_type": "code",
   "execution_count": 1,
   "metadata": {},
   "outputs": [],
   "source": [
    "import pickle\n",
    "import torch\n",
    "import matplotlib.pyplot as plt\n",
    "import seaborn as sns\n",
    "import pandas as pd\n",
    "import numpy as np\n",
    "from sklearn import metrics\n",
    "%matplotlib inline"
   ]
  },
  {
   "cell_type": "code",
   "execution_count": 2,
   "metadata": {},
   "outputs": [
    {
     "name": "stdout",
     "output_type": "stream",
     "text": [
      "-rw-r--r-- 1 root root  3439414 Mar  3 01:53 MNARxMARyelp_log35_13.pkl\r\n",
      "-rw-r--r-- 1 root root  3580726 Mar  2 23:40 MNARxMARyelp_log35_23.pkl\r\n",
      "-rw-r--r-- 1 root root  3727342 Mar  2 18:55 MNARxMARyelp_log35_33.pkl\r\n",
      "-rw-r--r-- 1 root root    60214 Feb 29 07:14 MNARyelp_log35.pkl\r\n",
      "-rw-r--r-- 1 root root    60214 Feb 19 15:30 MNARyelp_log35_Cb30.pkl\r\n",
      "-rw-r--r-- 1 1004 1004    60214 Feb 16 16:50 MNARyelp_log35_largeCb.pkl\r\n",
      "-rw-r--r-- 1 1004 1004    53960 Feb 14 16:52 MNARyelp_linear.pkl\r\n",
      "-rw-r--r-- 1 1004 1004    53960 Feb 12 12:47 MARyelp_linear.pkl\r\n",
      "-rw-rw-r-- 1 1004 1004    80160 Feb 11 09:27 Ymat.pkl\r\n",
      "-rw-rw-r-- 1 1004 1004 41600163 Feb 11 09:27 Xsps.pkl\r\n",
      "-rw-rw-r-- 1 1004 1004  2080162 Feb 11 09:27 Xmat.pkl\r\n",
      "-rw-rw-r-- 1 1004 1004    60214 Feb 11 09:27 MARyelp_log35.pkl\r\n"
     ]
    }
   ],
   "source": [
    "!ls -alt *.pkl"
   ]
  },
  {
   "cell_type": "code",
   "execution_count": 3,
   "metadata": {},
   "outputs": [],
   "source": [
    "MARress = []\n",
    "MNARress = []"
   ]
  },
  {
   "cell_type": "code",
   "execution_count": 4,
   "metadata": {},
   "outputs": [],
   "source": [
    "#with open(\"./MARyelp_linear.pkl\", \"rb\") as f:\n",
    "with open(\"./MARyelp_log35.pkl\", \"rb\") as f:\n",
    "    MARres = pickle.load(f)\n",
    "    \n",
    "#with open(\"./MNARyelp_linear.pkl\", \"rb\") as f:\n",
    "with open(\"./MNARyelp_log35.pkl\", \"rb\") as f:\n",
    "    MNARres = pickle.load(f)\n",
    "\n",
    "MARress.append(MARres)\n",
    "MNARress.append(MNARres)"
   ]
  },
  {
   "cell_type": "code",
   "execution_count": 5,
   "metadata": {},
   "outputs": [],
   "source": [
    "with open(\"./MNARxMARyelp_log35_13.pkl\", \"rb\") as f:\n",
    "    MNARxMAR13 = pickle.load(f)\n",
    "MARress.append(MNARxMAR13[\"MARres\"])\n",
    "MNARress.append(MNARxMAR13[\"MNARres\"])"
   ]
  },
  {
   "cell_type": "code",
   "execution_count": 6,
   "metadata": {},
   "outputs": [],
   "source": [
    "with open(\"./MNARxMARyelp_log35_23.pkl\", \"rb\") as f:\n",
    "    MNARxMAR23 = pickle.load(f)\n",
    "MARress.append(MNARxMAR23[\"MARres\"])\n",
    "MNARress.append(MNARxMAR23[\"MNARres\"])"
   ]
  },
  {
   "cell_type": "code",
   "execution_count": 7,
   "metadata": {},
   "outputs": [],
   "source": [
    "with open(\"./MNARxMARyelp_log35_33.pkl\", \"rb\") as f:\n",
    "    MNARxMAR33 = pickle.load(f)\n",
    "MARress.append(MNARxMAR33[\"MARres\"])\n",
    "MNARress.append(MNARxMAR33[\"MNARres\"])"
   ]
  },
  {
   "cell_type": "code",
   "execution_count": 8,
   "metadata": {},
   "outputs": [],
   "source": [
    "def AUCplot(MARres, MNARres, i, is_plot=False):\n",
    "    marres,  mnarres = MARres[i], MNARres[i]\n",
    "    marprobs, margts = marres[0].cpu().numpy(), marres[1].cpu().numpy()\n",
    "    mnarprobs, mnargts = mnarres[0].cpu().numpy(), mnarres[1].cpu().numpy()\n",
    "    marfpr, martpr, marthre = metrics.roc_curve(margts, marprobs)\n",
    "    mnarfpr, mnartpr, mnarthre = metrics.roc_curve(mnargts, mnarprobs)\n",
    "    marauc = metrics.roc_auc_score(margts, marprobs)\n",
    "    mnarauc = metrics.roc_auc_score(mnargts, mnarprobs)\n",
    "    if is_plot:\n",
    "        plt.title(\"ROC curve\")\n",
    "        plt.xlabel(\"FPR\")\n",
    "        plt.ylabel(\"TPR\")\n",
    "        plt.plot(marfpr, martpr, \"--r\", label=\"MAR\")\n",
    "        plt.plot(mnarfpr, mnartpr, label=\"MNAR\")\n",
    "        plt.legend()\n",
    "    return marauc, mnarauc\n",
    "    "
   ]
  },
  {
   "cell_type": "code",
   "execution_count": 9,
   "metadata": {},
   "outputs": [],
   "source": [
    "allaucdfs = []"
   ]
  },
  {
   "cell_type": "code",
   "execution_count": 10,
   "metadata": {},
   "outputs": [],
   "source": [
    "for MARres, MNARres in zip(MARress, MNARress):\n",
    "    allaucs = [AUCplot(MARres, MNARres, i)  for i in range(1, 21)] \n",
    "    allaucs = np.array(allaucs)\n",
    "    allaucdf = pd.DataFrame(allaucs)\n",
    "    allaucdf.columns = [\"MAR\", \"MNAR\"]\n",
    "    allaucdfs.append(allaucdf)"
   ]
  },
  {
   "cell_type": "code",
   "execution_count": 8,
   "metadata": {},
   "outputs": [],
   "source": [
    "MARprobs = []\n",
    "MARgt = []\n",
    "MNARprobs = []\n",
    "MNARgt = []\n",
    "for i in range(1, len(MNARres)+1):\n",
    "    mnarres = MNARres[i]\n",
    "    MNARprobs.append(mnarres[0].cpu().numpy())\n",
    "    MNARgt.append(mnarres[1].cpu().numpy())\n",
    "for i in range(1, len(MARres)+1):\n",
    "    marres = MARres[i]\n",
    "    MARprobs.append(marres[0].cpu().numpy())\n",
    "    MARgt.append(marres[1].cpu().numpy())"
   ]
  },
  {
   "cell_type": "code",
   "execution_count": 9,
   "metadata": {},
   "outputs": [],
   "source": [
    "MARgt = np.concatenate(MARgt)\n",
    "MNARgt = np.concatenate(MNARgt)\n",
    "MARprobs = np.concatenate(MARprobs)\n",
    "MNARprobs = np.concatenate(MNARprobs)"
   ]
  },
  {
   "cell_type": "code",
   "execution_count": 10,
   "metadata": {},
   "outputs": [],
   "source": [
    "Data = {\n",
    "    \"Probs\": np.concatenate([MNARprobs, MARprobs]),\n",
    "    \"Method\": [\"MNAR\"] * len(MNARprobs) + [\"MAR\"] * len(MARprobs),\n",
    "    \"GT\": np.concatenate([MNARgt, MARgt])\n",
    "}\n",
    "dfdata = pd.DataFrame(Data)"
   ]
  },
  {
   "cell_type": "code",
   "execution_count": 11,
   "metadata": {},
   "outputs": [
    {
     "data": {
      "text/plain": [
       "<matplotlib.axes._subplots.AxesSubplot at 0x7f9f00560208>"
      ]
     },
     "execution_count": 11,
     "metadata": {},
     "output_type": "execute_result"
    },
    {
     "data": {
      "image/png": "[encoded data removed]",
      "text/plain": [
       "<Figure size 432x288 with 1 Axes>"
      ]
     },
     "metadata": {
      "needs_background": "light"
     },
     "output_type": "display_data"
    }
   ],
   "source": [
    "sns.boxplot(data=dfdata, x=\"Method\", y=\"Probs\", hue=\"GT\")"
   ]
  },
  {
   "cell_type": "code",
   "execution_count": 12,
   "metadata": {},
   "outputs": [
    {
     "data": {
      "text/plain": [
       "[<matplotlib.lines.Line2D at 0x7f9ee9433ef0>]"
      ]
     },
     "execution_count": 12,
     "metadata": {},
     "output_type": "execute_result"
    },
    {
     "data": {
      "image/png": "[encoded data removed]",
      "text/plain": [
       "<Figure size 432x288 with 1 Axes>"
      ]
     },
     "metadata": {
      "needs_background": "light"
     },
     "output_type": "display_data"
    }
   ],
   "source": [
    "#plt.plot(MARgt[:200], \"bo\")\n",
    "#plt.plot(MARgt[:200], MARprobs[:200], \"rh\")\n",
    "#plt.plot(MARgt[:200], MNARprobs[:200], \"g*\")\n",
    "plt.plot(MARprobs[:], MNARprobs[:], \"g*\")\n",
    "plt.plot(np.arange(0, 1, 0.01), np.arange(0, 1, 0.01))"
   ]
  },
  {
   "cell_type": "code",
   "execution_count": 13,
   "metadata": {},
   "outputs": [],
   "source": [
    "dfdatagrp = dfdata.groupby([\"Method\", \"GT\"])"
   ]
  },
  {
   "cell_type": "code",
   "execution_count": 14,
   "metadata": {},
   "outputs": [
    {
     "data": {
      "text/html": [
       "<div>\n",
       "<style scoped>\n",
       "    .dataframe tbody tr th:only-of-type {\n",
       "        vertical-align: middle;\n",
       "    }\n",
       "\n",
       "    .dataframe tbody tr th {\n",
       "        vertical-align: top;\n",
       "    }\n",
       "\n",
       "    .dataframe thead tr th {\n",
       "        text-align: left;\n",
       "    }\n",
       "\n",
       "    .dataframe thead tr:last-of-type th {\n",
       "        text-align: right;\n",
       "    }\n",
       "</style>\n",
       "<table border=\"1\" class=\"dataframe\">\n",
       "  <thead>\n",
       "    <tr>\n",
       "      <th></th>\n",
       "      <th></th>\n",
       "      <th colspan=\"8\" halign=\"left\">Probs</th>\n",
       "    </tr>\n",
       "    <tr>\n",
       "      <th></th>\n",
       "      <th></th>\n",
       "      <th>count</th>\n",
       "      <th>mean</th>\n",
       "      <th>std</th>\n",
       "      <th>min</th>\n",
       "      <th>25%</th>\n",
       "      <th>50%</th>\n",
       "      <th>75%</th>\n",
       "      <th>max</th>\n",
       "    </tr>\n",
       "    <tr>\n",
       "      <th>Method</th>\n",
       "      <th>GT</th>\n",
       "      <th></th>\n",
       "      <th></th>\n",
       "      <th></th>\n",
       "      <th></th>\n",
       "      <th></th>\n",
       "      <th></th>\n",
       "      <th></th>\n",
       "      <th></th>\n",
       "    </tr>\n",
       "  </thead>\n",
       "  <tbody>\n",
       "    <tr>\n",
       "      <th rowspan=\"2\" valign=\"top\">MAR</th>\n",
       "      <th>0.0</th>\n",
       "      <td>956.0</td>\n",
       "      <td>0.632270</td>\n",
       "      <td>0.111974</td>\n",
       "      <td>0.025569</td>\n",
       "      <td>0.555941</td>\n",
       "      <td>0.646408</td>\n",
       "      <td>0.716344</td>\n",
       "      <td>0.953771</td>\n",
       "    </tr>\n",
       "    <tr>\n",
       "      <th>1.0</th>\n",
       "      <td>2031.0</td>\n",
       "      <td>0.704438</td>\n",
       "      <td>0.095415</td>\n",
       "      <td>0.229004</td>\n",
       "      <td>0.653056</td>\n",
       "      <td>0.711972</td>\n",
       "      <td>0.761537</td>\n",
       "      <td>0.984909</td>\n",
       "    </tr>\n",
       "    <tr>\n",
       "      <th rowspan=\"2\" valign=\"top\">MNAR</th>\n",
       "      <th>0.0</th>\n",
       "      <td>956.0</td>\n",
       "      <td>0.588905</td>\n",
       "      <td>0.166331</td>\n",
       "      <td>0.000592</td>\n",
       "      <td>0.466515</td>\n",
       "      <td>0.610935</td>\n",
       "      <td>0.719866</td>\n",
       "      <td>0.990624</td>\n",
       "    </tr>\n",
       "    <tr>\n",
       "      <th>1.0</th>\n",
       "      <td>2031.0</td>\n",
       "      <td>0.714819</td>\n",
       "      <td>0.129726</td>\n",
       "      <td>0.135830</td>\n",
       "      <td>0.647006</td>\n",
       "      <td>0.735316</td>\n",
       "      <td>0.800841</td>\n",
       "      <td>0.996755</td>\n",
       "    </tr>\n",
       "  </tbody>\n",
       "</table>\n",
       "</div>"
      ],
      "text/plain": [
       "             Probs                                                    \\\n",
       "             count      mean       std       min       25%       50%   \n",
       "Method GT                                                              \n",
       "MAR    0.0   956.0  0.632270  0.111974  0.025569  0.555941  0.646408   \n",
       "       1.0  2031.0  0.704438  0.095415  0.229004  0.653056  0.711972   \n",
       "MNAR   0.0   956.0  0.588905  0.166331  0.000592  0.466515  0.610935   \n",
       "       1.0  2031.0  0.714819  0.129726  0.135830  0.647006  0.735316   \n",
       "\n",
       "                                \n",
       "                 75%       max  \n",
       "Method GT                       \n",
       "MAR    0.0  0.716344  0.953771  \n",
       "       1.0  0.761537  0.984909  \n",
       "MNAR   0.0  0.719866  0.990624  \n",
       "       1.0  0.800841  0.996755  "
      ]
     },
     "execution_count": 14,
     "metadata": {},
     "output_type": "execute_result"
    }
   ],
   "source": [
    "dfdatagrp.describe()"
   ]
  },
  {
   "cell_type": "code",
   "execution_count": 15,
   "metadata": {},
   "outputs": [],
   "source": [
    "from sklearn import metrics"
   ]
  },
  {
   "cell_type": "code",
   "execution_count": 16,
   "metadata": {},
   "outputs": [
    {
     "data": {
      "text/plain": [
       "0.6862089495662421"
      ]
     },
     "execution_count": 16,
     "metadata": {},
     "output_type": "execute_result"
    }
   ],
   "source": [
    "metrics.roc_auc_score(MARgt, MARprobs)"
   ]
  },
  {
   "cell_type": "code",
   "execution_count": 17,
   "metadata": {},
   "outputs": [
    {
     "data": {
      "text/plain": [
       "0.7235109979419418"
      ]
     },
     "execution_count": 17,
     "metadata": {},
     "output_type": "execute_result"
    }
   ],
   "source": [
    "metrics.roc_auc_score(MNARgt, MNARprobs)"
   ]
  },
  {
   "cell_type": "code",
   "execution_count": 18,
   "metadata": {},
   "outputs": [],
   "source": [
    "marfpr, martpr, marthre = metrics.roc_curve(MARgt, MARprobs)\n",
    "mnarfpr, mnartpr, mnarthre = metrics.roc_curve(MNARgt, MNARprobs)"
   ]
  },
  {
   "cell_type": "code",
   "execution_count": 19,
   "metadata": {},
   "outputs": [
    {
     "data": {
      "text/plain": [
       "<matplotlib.legend.Legend at 0x7f9eb2360828>"
      ]
     },
     "execution_count": 19,
     "metadata": {},
     "output_type": "execute_result"
    },
    {
     "data": {
      "image/png": "[encoded data removed]",
      "text/plain": [
       "<Figure size 432x288 with 1 Axes>"
      ]
     },
     "metadata": {
      "needs_background": "light"
     },
     "output_type": "display_data"
    }
   ],
   "source": [
    "plt.title(\"ROC curve\")\n",
    "plt.xlabel(\"FPR\")\n",
    "plt.ylabel(\"TPR\")\n",
    "plt.plot(marfpr, martpr, \"--r\", label=\"MAR\")\n",
    "plt.plot(mnarfpr, mnartpr, label=\"MNAR\")\n",
    "plt.legend()"
   ]
  },
  {
   "cell_type": "code",
   "execution_count": 11,
   "metadata": {},
   "outputs": [],
   "source": [
    "diffs = []\n",
    "CIs = []\n",
    "mdiffs = []\n",
    "for allaucdf in allaucdfs:\n",
    "    marres = np.array(allaucdf[\"MAR\"])\n",
    "    mnarres = np.array(allaucdf[\"MNAR\"])\n",
    "    diff = mnarres - marres\n",
    "    mdiffs.append(np.mean(diff))\n",
    "    diffs.append(diff)\n",
    "    CIs.append([np.mean(diff) - 1.96* np.std(diff)/np.sqrt(len(diff)), np.mean(diff) + 1.96* np.std(diff)/np.sqrt(len(diff))])"
   ]
  },
  {
   "cell_type": "code",
   "execution_count": 16,
   "metadata": {},
   "outputs": [
    {
     "data": {
      "text/plain": [
       "[<matplotlib.lines.Line2D at 0x7f98ec040470>]"
      ]
     },
     "execution_count": 16,
     "metadata": {},
     "output_type": "execute_result"
    },
    {
     "data": {
      "image/png": "[encoded data removed]",
      "text/plain": [
       "<Figure size 432x288 with 1 Axes>"
      ]
     },
     "metadata": {
      "needs_background": "light"
     },
     "output_type": "display_data"
    }
   ],
   "source": [
    "plt.xlabel(\"observed rate\")\n",
    "plt.ylabel(\"mean diff\")\n",
    "plt.plot([0.29, 0.26, 0.23, 0.20], mdiffs, \"ro\")"
   ]
  },
  {
   "cell_type": "code",
   "execution_count": 19,
   "metadata": {},
   "outputs": [
    {
     "data": {
      "text/plain": [
       "[array([ 0.08286252,  0.0624    ,  0.00265636,  0.05231931,  0.08668076,\n",
       "         0.03973064,  0.06217693, -0.01758893,  0.0080289 ,  0.00212766,\n",
       "        -0.0036846 ,  0.09497301,  0.01219793,  0.03715729,  0.07252488,\n",
       "         0.02533744,  0.02656503,  0.04754902, -0.00162338,  0.03967697]),\n",
       " array([0.03313466, 0.02161463, 0.03935595, 0.03129512, 0.02194144,\n",
       "        0.02677931, 0.0237545 , 0.05368991, 0.03655174, 0.02313193,\n",
       "        0.04689901, 0.04166667, 0.03401961, 0.05807812, 0.01993518,\n",
       "        0.02337213, 0.0399785 , 0.03371028, 0.04714416, 0.03130995]),\n",
       " array([0.02640384, 0.03443738, 0.03108717, 0.03586404, 0.04006107,\n",
       "        0.02162665, 0.02675107, 0.04598703, 0.03708107, 0.03606198,\n",
       "        0.04261869, 0.04169006, 0.04597087, 0.03609692, 0.02873211,\n",
       "        0.02683096, 0.02684889, 0.01550388, 0.05225011, 0.03471207])]"
      ]
     },
     "execution_count": 19,
     "metadata": {},
     "output_type": "execute_result"
    }
   ],
   "source": [
    "diffs"
   ]
  },
  {
   "cell_type": "code",
   "execution_count": 21,
   "metadata": {},
   "outputs": [
    {
     "data": {
      "text/plain": [
       "<matplotlib.lines.Line2D at 0x7f98e03b0e80>"
      ]
     },
     "execution_count": 21,
     "metadata": {},
     "output_type": "execute_result"
    },
    {
     "data": {
      "image/png": "[encoded data removed]",
      "text/plain": [
       "<Figure size 432x288 with 4 Axes>"
      ]
     },
     "metadata": {
      "needs_background": "light"
     },
     "output_type": "display_data"
    }
   ],
   "source": [
    "plt.subplot(221)\n",
    "plt.title(\"0.29\")\n",
    "plt.plot(diffs[0], \"or\")\n",
    "plt.axhline(0)\n",
    "plt.subplot(222)\n",
    "plt.title(\"0.26\")\n",
    "plt.plot(diffs[1], \"or\")\n",
    "plt.axhline(0)\n",
    "plt.subplot(223)\n",
    "plt.title(\"0.23\")\n",
    "plt.plot(diffs[2], \"or\")\n",
    "plt.axhline(0)\n",
    "plt.subplot(224)\n",
    "plt.title(\"0.20\")\n",
    "plt.plot(diffs[3], \"or\")\n",
    "plt.axhline(0)"
   ]
  },
  {
   "cell_type": "code",
   "execution_count": null,
   "metadata": {},
   "outputs": [],
   "source": [
    "plt.boxplot(diffs)"
   ]
  }
 ],
 "metadata": {
  "kernelspec": {
   "display_name": "Python 3",
   "language": "python",
   "name": "python3"
  },
  "language_info": {
   "codemirror_mode": {
    "name": "ipython",
    "version": 3
   },
   "file_extension": ".py",
   "mimetype": "text/x-python",
   "name": "python",
   "nbconvert_exporter": "python",
   "pygments_lexer": "ipython3",
   "version": "3.6.8"
  }
 },
 "nbformat": 4,
 "nbformat_minor": 2
}

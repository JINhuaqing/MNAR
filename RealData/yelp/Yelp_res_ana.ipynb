{
 "cells": [
  {
   "cell_type": "markdown",
   "metadata": {},
   "source": [
    "### Analysis of Yelp data result"
   ]
  },
  {
   "cell_type": "code",
   "execution_count": 1,
   "metadata": {},
   "outputs": [],
   "source": [
    "import pickle\n",
    "import torch\n",
    "import matplotlib.pyplot as plt\n",
    "import seaborn as sns\n",
    "import pandas as pd\n",
    "import numpy as np\n",
    "from sklearn import metrics\n",
    "%matplotlib inline"
   ]
  },
  {
   "cell_type": "code",
   "execution_count": 2,
   "metadata": {},
   "outputs": [
    {
     "name": "stdout",
     "output_type": "stream",
     "text": [
      "-rw-rw-r-- 1 huaqingj huaqingj    60214 Feb 11 06:03 MNARyelp_log45.pkl\r\n",
      "-rw-rw-r-- 1 huaqingj huaqingj    60214 Feb 10 20:26 MARyelp_log45.pkl\r\n",
      "-rw-rw-r-- 1 huaqingj huaqingj    80160 Feb 10 13:48 Ymat.pkl\r\n",
      "-rw-rw-r-- 1 huaqingj huaqingj 41600163 Feb 10 13:48 Xsps.pkl\r\n",
      "-rw-rw-r-- 1 huaqingj huaqingj  2080162 Feb 10 13:48 Xmat.pkl\r\n",
      "-rw-rw-r-- 1 huaqingj huaqingj    60214 Feb 10 13:48 MNARyelp_log35.pkl\r\n",
      "-rw-rw-r-- 1 huaqingj huaqingj    60214 Feb 10 13:48 MARyelp_log35.pkl\r\n"
     ]
    }
   ],
   "source": [
    "!ls -alt *.pkl"
   ]
  },
  {
   "cell_type": "code",
   "execution_count": 20,
   "metadata": {},
   "outputs": [],
   "source": [
    "with open(\"./MARyelp_log45.pkl\", \"rb\") as f:\n",
    "#with open(\"./results/MARyelp_log35.pkl\", \"rb\") as f:\n",
    "    MARres = pickle.load(f)\n",
    "    \n",
    "with open(\"./MNARyelp_log45.pkl\", \"rb\") as f:\n",
    "#with open(\"./results/MNARyelp_log35_Xsps30k.pkl\", \"rb\") as f:\n",
    "    MNARres = pickle.load(f)"
   ]
  },
  {
   "cell_type": "code",
   "execution_count": 21,
   "metadata": {},
   "outputs": [],
   "source": [
    "def AUCplot(MARres, MNARres, i, is_plot=False):\n",
    "    marres,  mnarres = MARres[i], MNARres[i]\n",
    "    marprobs, margts = marres[0].cpu().numpy(), marres[1].cpu().numpy()\n",
    "    mnarprobs, mnargts = mnarres[0].cpu().numpy(), mnarres[1].cpu().numpy()\n",
    "    marfpr, martpr, marthre = metrics.roc_curve(margts, marprobs)\n",
    "    mnarfpr, mnartpr, mnarthre = metrics.roc_curve(mnargts, mnarprobs)\n",
    "    marauc = metrics.roc_auc_score(margts, marprobs)\n",
    "    mnarauc = metrics.roc_auc_score(mnargts, mnarprobs)\n",
    "    if is_plot:\n",
    "        plt.title(\"ROC curve\")\n",
    "        plt.xlabel(\"FPR\")\n",
    "        plt.ylabel(\"TPR\")\n",
    "        plt.plot(marfpr, martpr, \"--r\", label=\"MAR\")\n",
    "        plt.plot(mnarfpr, mnartpr, label=\"MNAR\")\n",
    "        plt.legend()\n",
    "    return marauc, mnarauc\n",
    "    "
   ]
  },
  {
   "cell_type": "code",
   "execution_count": 22,
   "metadata": {},
   "outputs": [],
   "source": [
    "allaucs = [AUCplot(MARres, MNARres, i)  for i in range(1, 21)] "
   ]
  },
  {
   "cell_type": "code",
   "execution_count": 23,
   "metadata": {},
   "outputs": [
    {
     "data": {
      "text/html": [
       "<div>\n",
       "<style scoped>\n",
       "    .dataframe tbody tr th:only-of-type {\n",
       "        vertical-align: middle;\n",
       "    }\n",
       "\n",
       "    .dataframe tbody tr th {\n",
       "        vertical-align: top;\n",
       "    }\n",
       "\n",
       "    .dataframe thead th {\n",
       "        text-align: right;\n",
       "    }\n",
       "</style>\n",
       "<table border=\"1\" class=\"dataframe\">\n",
       "  <thead>\n",
       "    <tr style=\"text-align: right;\">\n",
       "      <th></th>\n",
       "      <th>MAR</th>\n",
       "      <th>MNAR</th>\n",
       "    </tr>\n",
       "  </thead>\n",
       "  <tbody>\n",
       "    <tr>\n",
       "      <td>0</td>\n",
       "      <td>0.553094</td>\n",
       "      <td>0.533613</td>\n",
       "    </tr>\n",
       "    <tr>\n",
       "      <td>1</td>\n",
       "      <td>0.689305</td>\n",
       "      <td>0.574267</td>\n",
       "    </tr>\n",
       "    <tr>\n",
       "      <td>2</td>\n",
       "      <td>0.616190</td>\n",
       "      <td>0.609048</td>\n",
       "    </tr>\n",
       "    <tr>\n",
       "      <td>3</td>\n",
       "      <td>0.630769</td>\n",
       "      <td>0.592857</td>\n",
       "    </tr>\n",
       "    <tr>\n",
       "      <td>4</td>\n",
       "      <td>0.732243</td>\n",
       "      <td>0.727273</td>\n",
       "    </tr>\n",
       "    <tr>\n",
       "      <td>5</td>\n",
       "      <td>0.670759</td>\n",
       "      <td>0.640067</td>\n",
       "    </tr>\n",
       "    <tr>\n",
       "      <td>6</td>\n",
       "      <td>0.670982</td>\n",
       "      <td>0.578571</td>\n",
       "    </tr>\n",
       "    <tr>\n",
       "      <td>7</td>\n",
       "      <td>0.575669</td>\n",
       "      <td>0.506126</td>\n",
       "    </tr>\n",
       "    <tr>\n",
       "      <td>8</td>\n",
       "      <td>0.557623</td>\n",
       "      <td>0.528211</td>\n",
       "    </tr>\n",
       "    <tr>\n",
       "      <td>9</td>\n",
       "      <td>0.648331</td>\n",
       "      <td>0.585386</td>\n",
       "    </tr>\n",
       "    <tr>\n",
       "      <td>10</td>\n",
       "      <td>0.685990</td>\n",
       "      <td>0.658937</td>\n",
       "    </tr>\n",
       "    <tr>\n",
       "      <td>11</td>\n",
       "      <td>0.733205</td>\n",
       "      <td>0.684211</td>\n",
       "    </tr>\n",
       "    <tr>\n",
       "      <td>12</td>\n",
       "      <td>0.810471</td>\n",
       "      <td>0.786120</td>\n",
       "    </tr>\n",
       "    <tr>\n",
       "      <td>13</td>\n",
       "      <td>0.577823</td>\n",
       "      <td>0.533738</td>\n",
       "    </tr>\n",
       "    <tr>\n",
       "      <td>14</td>\n",
       "      <td>0.831329</td>\n",
       "      <td>0.826257</td>\n",
       "    </tr>\n",
       "    <tr>\n",
       "      <td>15</td>\n",
       "      <td>0.658772</td>\n",
       "      <td>0.631287</td>\n",
       "    </tr>\n",
       "    <tr>\n",
       "      <td>16</td>\n",
       "      <td>0.689815</td>\n",
       "      <td>0.667874</td>\n",
       "    </tr>\n",
       "    <tr>\n",
       "      <td>17</td>\n",
       "      <td>0.695652</td>\n",
       "      <td>0.668896</td>\n",
       "    </tr>\n",
       "    <tr>\n",
       "      <td>18</td>\n",
       "      <td>0.562847</td>\n",
       "      <td>0.536806</td>\n",
       "    </tr>\n",
       "    <tr>\n",
       "      <td>19</td>\n",
       "      <td>0.671289</td>\n",
       "      <td>0.658921</td>\n",
       "    </tr>\n",
       "  </tbody>\n",
       "</table>\n",
       "</div>"
      ],
      "text/plain": [
       "         MAR      MNAR\n",
       "0   0.553094  0.533613\n",
       "1   0.689305  0.574267\n",
       "2   0.616190  0.609048\n",
       "3   0.630769  0.592857\n",
       "4   0.732243  0.727273\n",
       "5   0.670759  0.640067\n",
       "6   0.670982  0.578571\n",
       "7   0.575669  0.506126\n",
       "8   0.557623  0.528211\n",
       "9   0.648331  0.585386\n",
       "10  0.685990  0.658937\n",
       "11  0.733205  0.684211\n",
       "12  0.810471  0.786120\n",
       "13  0.577823  0.533738\n",
       "14  0.831329  0.826257\n",
       "15  0.658772  0.631287\n",
       "16  0.689815  0.667874\n",
       "17  0.695652  0.668896\n",
       "18  0.562847  0.536806\n",
       "19  0.671289  0.658921"
      ]
     },
     "execution_count": 23,
     "metadata": {},
     "output_type": "execute_result"
    }
   ],
   "source": [
    "allaucs = np.array(allaucs)\n",
    "allaucdf = pd.DataFrame(allaucs)\n",
    "allaucdf.columns = [\"MAR\", \"MNAR\"]\n",
    "allaucdf"
   ]
  },
  {
   "cell_type": "code",
   "execution_count": 24,
   "metadata": {},
   "outputs": [],
   "source": [
    "MARprobs = []\n",
    "MARgt = []\n",
    "MNARprobs = []\n",
    "MNARgt = []\n",
    "for i in range(1, len(MNARres)+1):\n",
    "    mnarres = MNARres[i]\n",
    "    MNARprobs.append(mnarres[0].cpu().numpy())\n",
    "    MNARgt.append(mnarres[1].cpu().numpy())\n",
    "for i in range(1, len(MARres)+1):\n",
    "    marres = MARres[i]\n",
    "    MARprobs.append(marres[0].cpu().numpy())\n",
    "    MARgt.append(marres[1].cpu().numpy())"
   ]
  },
  {
   "cell_type": "code",
   "execution_count": 25,
   "metadata": {},
   "outputs": [],
   "source": [
    "MARgt = np.concatenate(MARgt)\n",
    "MNARgt = np.concatenate(MNARgt)\n",
    "MARprobs = np.concatenate(MARprobs)\n",
    "MNARprobs = np.concatenate(MNARprobs)"
   ]
  },
  {
   "cell_type": "code",
   "execution_count": 26,
   "metadata": {},
   "outputs": [],
   "source": [
    "Data = {\n",
    "    \"Probs\": np.concatenate([MNARprobs, MARprobs]),\n",
    "    \"Method\": [\"MNAR\"] * len(MNARprobs) + [\"MAR\"] * len(MARprobs),\n",
    "    \"GT\": np.concatenate([MNARgt, MARgt])\n",
    "}\n",
    "dfdata = pd.DataFrame(Data)"
   ]
  },
  {
   "cell_type": "code",
   "execution_count": 27,
   "metadata": {},
   "outputs": [
    {
     "data": {
      "text/plain": [
       "<matplotlib.axes._subplots.AxesSubplot at 0x7f2e3ec37d10>"
      ]
     },
     "execution_count": 27,
     "metadata": {},
     "output_type": "execute_result"
    },
    {
     "data": {
      "image/png": "[encoded data removed]",
      "text/plain": [
       "<Figure size 432x288 with 1 Axes>"
      ]
     },
     "metadata": {
      "needs_background": "light"
     },
     "output_type": "display_data"
    }
   ],
   "source": [
    "sns.boxplot(data=dfdata, x=\"Method\", y=\"Probs\", hue=\"GT\")"
   ]
  },
  {
   "cell_type": "code",
   "execution_count": 28,
   "metadata": {},
   "outputs": [
    {
     "data": {
      "text/plain": [
       "[<matplotlib.lines.Line2D at 0x7f2e3eb64850>]"
      ]
     },
     "execution_count": 28,
     "metadata": {},
     "output_type": "execute_result"
    },
    {
     "data": {
      "image/png": "[encoded data removed]",
      "text/plain": [
       "<Figure size 432x288 with 1 Axes>"
      ]
     },
     "metadata": {
      "needs_background": "light"
     },
     "output_type": "display_data"
    }
   ],
   "source": [
    "#plt.plot(MARgt[:200], \"bo\")\n",
    "#plt.plot(MARgt[:200], MARprobs[:200], \"rh\")\n",
    "#plt.plot(MARgt[:200], MNARprobs[:200], \"g*\")\n",
    "plt.plot(MARprobs[:], MNARprobs[:], \"g*\")\n",
    "plt.plot(np.arange(0, 1, 0.01), np.arange(0, 1, 0.01))"
   ]
  },
  {
   "cell_type": "code",
   "execution_count": 29,
   "metadata": {},
   "outputs": [],
   "source": [
    "dfdatagrp = dfdata.groupby([\"Method\", \"GT\"])"
   ]
  },
  {
   "cell_type": "code",
   "execution_count": 30,
   "metadata": {},
   "outputs": [
    {
     "data": {
      "text/html": [
       "<div>\n",
       "<style scoped>\n",
       "    .dataframe tbody tr th:only-of-type {\n",
       "        vertical-align: middle;\n",
       "    }\n",
       "\n",
       "    .dataframe tbody tr th {\n",
       "        vertical-align: top;\n",
       "    }\n",
       "\n",
       "    .dataframe thead tr th {\n",
       "        text-align: left;\n",
       "    }\n",
       "\n",
       "    .dataframe thead tr:last-of-type th {\n",
       "        text-align: right;\n",
       "    }\n",
       "</style>\n",
       "<table border=\"1\" class=\"dataframe\">\n",
       "  <thead>\n",
       "    <tr>\n",
       "      <th></th>\n",
       "      <th></th>\n",
       "      <th colspan=\"8\" halign=\"left\">Probs</th>\n",
       "    </tr>\n",
       "    <tr>\n",
       "      <th></th>\n",
       "      <th></th>\n",
       "      <th>count</th>\n",
       "      <th>mean</th>\n",
       "      <th>std</th>\n",
       "      <th>min</th>\n",
       "      <th>25%</th>\n",
       "      <th>50%</th>\n",
       "      <th>75%</th>\n",
       "      <th>max</th>\n",
       "    </tr>\n",
       "    <tr>\n",
       "      <th>Method</th>\n",
       "      <th>GT</th>\n",
       "      <th></th>\n",
       "      <th></th>\n",
       "      <th></th>\n",
       "      <th></th>\n",
       "      <th></th>\n",
       "      <th></th>\n",
       "      <th></th>\n",
       "      <th></th>\n",
       "    </tr>\n",
       "  </thead>\n",
       "  <tbody>\n",
       "    <tr>\n",
       "      <td rowspan=\"2\" valign=\"top\">MAR</td>\n",
       "      <td>0.0</td>\n",
       "      <td>2183.0</td>\n",
       "      <td>0.289955</td>\n",
       "      <td>0.137955</td>\n",
       "      <td>0.029408</td>\n",
       "      <td>0.190930</td>\n",
       "      <td>0.286280</td>\n",
       "      <td>0.378116</td>\n",
       "      <td>0.792216</td>\n",
       "    </tr>\n",
       "    <tr>\n",
       "      <td>1.0</td>\n",
       "      <td>804.0</td>\n",
       "      <td>0.356324</td>\n",
       "      <td>0.139572</td>\n",
       "      <td>0.044135</td>\n",
       "      <td>0.256880</td>\n",
       "      <td>0.352576</td>\n",
       "      <td>0.455144</td>\n",
       "      <td>0.843120</td>\n",
       "    </tr>\n",
       "    <tr>\n",
       "      <td rowspan=\"2\" valign=\"top\">MNAR</td>\n",
       "      <td>0.0</td>\n",
       "      <td>2183.0</td>\n",
       "      <td>0.285898</td>\n",
       "      <td>0.126516</td>\n",
       "      <td>0.028712</td>\n",
       "      <td>0.198163</td>\n",
       "      <td>0.287649</td>\n",
       "      <td>0.375170</td>\n",
       "      <td>0.703036</td>\n",
       "    </tr>\n",
       "    <tr>\n",
       "      <td>1.0</td>\n",
       "      <td>804.0</td>\n",
       "      <td>0.333567</td>\n",
       "      <td>0.123869</td>\n",
       "      <td>0.030658</td>\n",
       "      <td>0.245180</td>\n",
       "      <td>0.334607</td>\n",
       "      <td>0.422694</td>\n",
       "      <td>0.739804</td>\n",
       "    </tr>\n",
       "  </tbody>\n",
       "</table>\n",
       "</div>"
      ],
      "text/plain": [
       "             Probs                                                    \\\n",
       "             count      mean       std       min       25%       50%   \n",
       "Method GT                                                              \n",
       "MAR    0.0  2183.0  0.289955  0.137955  0.029408  0.190930  0.286280   \n",
       "       1.0   804.0  0.356324  0.139572  0.044135  0.256880  0.352576   \n",
       "MNAR   0.0  2183.0  0.285898  0.126516  0.028712  0.198163  0.287649   \n",
       "       1.0   804.0  0.333567  0.123869  0.030658  0.245180  0.334607   \n",
       "\n",
       "                                \n",
       "                 75%       max  \n",
       "Method GT                       \n",
       "MAR    0.0  0.378116  0.792216  \n",
       "       1.0  0.455144  0.843120  \n",
       "MNAR   0.0  0.375170  0.703036  \n",
       "       1.0  0.422694  0.739804  "
      ]
     },
     "execution_count": 30,
     "metadata": {},
     "output_type": "execute_result"
    }
   ],
   "source": [
    "dfdatagrp.describe()"
   ]
  },
  {
   "cell_type": "code",
   "execution_count": 14,
   "metadata": {},
   "outputs": [],
   "source": [
    "from sklearn import metrics"
   ]
  },
  {
   "cell_type": "code",
   "execution_count": 15,
   "metadata": {},
   "outputs": [
    {
     "data": {
      "text/plain": [
       "0.6343614041564966"
      ]
     },
     "execution_count": 15,
     "metadata": {},
     "output_type": "execute_result"
    }
   ],
   "source": [
    "metrics.roc_auc_score(MARgt, MARprobs)"
   ]
  },
  {
   "cell_type": "code",
   "execution_count": 16,
   "metadata": {},
   "outputs": [
    {
     "data": {
      "text/plain": [
       "0.6049681733339715"
      ]
     },
     "execution_count": 16,
     "metadata": {},
     "output_type": "execute_result"
    }
   ],
   "source": [
    "metrics.roc_auc_score(MNARgt, MNARprobs)"
   ]
  },
  {
   "cell_type": "code",
   "execution_count": 17,
   "metadata": {},
   "outputs": [],
   "source": [
    "marfpr, martpr, marthre = metrics.roc_curve(MARgt, MARprobs)\n",
    "mnarfpr, mnartpr, mnarthre = metrics.roc_curve(MNARgt, MNARprobs)"
   ]
  },
  {
   "cell_type": "code",
   "execution_count": 18,
   "metadata": {},
   "outputs": [
    {
     "data": {
      "text/plain": [
       "<matplotlib.legend.Legend at 0x7f2e3ecc6210>"
      ]
     },
     "execution_count": 18,
     "metadata": {},
     "output_type": "execute_result"
    },
    {
     "data": {
      "image/png": "[encoded data removed]",
      "text/plain": [
       "<Figure size 432x288 with 1 Axes>"
      ]
     },
     "metadata": {
      "needs_background": "light"
     },
     "output_type": "display_data"
    }
   ],
   "source": [
    "plt.title(\"ROC curve\")\n",
    "plt.xlabel(\"FPR\")\n",
    "plt.ylabel(\"TPR\")\n",
    "plt.plot(marfpr, martpr, \"--r\", label=\"MAR\")\n",
    "plt.plot(mnarfpr, mnartpr, label=\"MNAR\")\n",
    "plt.legend()"
   ]
  },
  {
   "cell_type": "code",
   "execution_count": 21,
   "metadata": {},
   "outputs": [],
   "source": [
    "with open(\"Ymat.pkl\", \"rb\") as f:\n",
    "    Y = pickle.load(f)"
   ]
  },
  {
   "cell_type": "code",
   "execution_count": 23,
   "metadata": {},
   "outputs": [],
   "source": [
    "Yno = Y[Y!=-1]"
   ]
  },
  {
   "cell_type": "code",
   "execution_count": 26,
   "metadata": {},
   "outputs": [
    {
     "data": {
      "text/plain": [
       "(array([  52.,    0.,  220.,    0.,    0.,  684.,    0., 1227.,    0.,\n",
       "         804.]),\n",
       " array([1. , 1.4, 1.8, 2.2, 2.6, 3. , 3.4, 3.8, 4.2, 4.6, 5. ]),\n",
       " <a list of 10 Patch objects>)"
      ]
     },
     "execution_count": 26,
     "metadata": {},
     "output_type": "execute_result"
    },
    {
     "data": {
      "image/png": "[encoded data removed]",
      "text/plain": [
       "<Figure size 432x288 with 1 Axes>"
      ]
     },
     "metadata": {
      "needs_background": "light"
     },
     "output_type": "display_data"
    }
   ],
   "source": [
    "plt.hist(Yno)"
   ]
  },
  {
   "cell_type": "code",
   "execution_count": null,
   "metadata": {},
   "outputs": [],
   "source": []
  }
 ],
 "metadata": {
  "kernelspec": {
   "display_name": "Python 3",
   "language": "python",
   "name": "python3"
  },
  "language_info": {
   "codemirror_mode": {
    "name": "ipython",
    "version": 3
   },
   "file_extension": ".py",
   "mimetype": "text/x-python",
   "name": "python",
   "nbconvert_exporter": "python",
   "pygments_lexer": "ipython3",
   "version": "3.7.4"
  }
 },
 "nbformat": 4,
 "nbformat_minor": 2
}

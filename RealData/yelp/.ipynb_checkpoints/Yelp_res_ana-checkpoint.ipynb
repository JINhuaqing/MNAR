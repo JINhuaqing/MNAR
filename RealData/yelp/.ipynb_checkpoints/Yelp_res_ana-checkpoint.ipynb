{
 "cells": [
  {
   "cell_type": "markdown",
   "metadata": {},
   "source": [
    "### Analysis of Yelp data result"
   ]
  },
  {
   "cell_type": "code",
   "execution_count": 1,
   "metadata": {},
   "outputs": [],
   "source": [
    "import pickle\n",
    "import torch\n",
    "import matplotlib.pyplot as plt\n",
    "import seaborn as sns\n",
    "import pandas as pd\n",
    "import numpy as np\n",
    "from sklearn import metrics\n",
    "%matplotlib inline"
   ]
  },
  {
   "cell_type": "code",
   "execution_count": 2,
   "metadata": {},
   "outputs": [
    {
     "name": "stdout",
     "output_type": "stream",
     "text": [
      "-rw-r--r-- 1 1004 1004    60214 Feb 16 16:50 MNARyelp_log35.pkl\r\n",
      "-rw-r--r-- 1 1004 1004    53960 Feb 14 16:52 MNARyelp_linear.pkl\r\n",
      "-rw-r--r-- 1 1004 1004    53960 Feb 12 12:47 MARyelp_linear.pkl\r\n",
      "-rw-rw-r-- 1 1004 1004    80160 Feb 11 09:27 Ymat.pkl\r\n",
      "-rw-rw-r-- 1 1004 1004 41600163 Feb 11 09:27 Xsps.pkl\r\n",
      "-rw-rw-r-- 1 1004 1004  2080162 Feb 11 09:27 Xmat.pkl\r\n",
      "-rw-rw-r-- 1 1004 1004    60214 Feb 11 09:27 MARyelp_log35.pkl\r\n"
     ]
    }
   ],
   "source": [
    "!ls -alt *.pkl"
   ]
  },
  {
   "cell_type": "code",
   "execution_count": 3,
   "metadata": {},
   "outputs": [],
   "source": [
    "#with open(\"./MARyelp_linear.pkl\", \"rb\") as f:\n",
    "with open(\"./MARyelp_log35.pkl\", \"rb\") as f:\n",
    "    MARres = pickle.load(f)\n",
    "    \n",
    "#with open(\"./MNARyelp_linear.pkl\", \"rb\") as f:\n",
    "with open(\"./MNARyelp_log35.pkl\", \"rb\") as f:\n",
    "    MNARres = pickle.load(f)"
   ]
  },
  {
   "cell_type": "code",
   "execution_count": 4,
   "metadata": {},
   "outputs": [
    {
     "data": {
      "text/plain": [
       "20"
      ]
     },
     "execution_count": 4,
     "metadata": {},
     "output_type": "execute_result"
    }
   ],
   "source": [
    "len(MNARres)"
   ]
  },
  {
   "cell_type": "code",
   "execution_count": 5,
   "metadata": {},
   "outputs": [],
   "source": [
    "def AUCplot(MARres, MNARres, i, is_plot=False):\n",
    "    marres,  mnarres = MARres[i], MNARres[i]\n",
    "    marprobs, margts = marres[0].cpu().numpy(), marres[1].cpu().numpy()\n",
    "    mnarprobs, mnargts = mnarres[0].cpu().numpy(), mnarres[1].cpu().numpy()\n",
    "    marfpr, martpr, marthre = metrics.roc_curve(margts, marprobs)\n",
    "    mnarfpr, mnartpr, mnarthre = metrics.roc_curve(mnargts, mnarprobs)\n",
    "    marauc = metrics.roc_auc_score(margts, marprobs)\n",
    "    mnarauc = metrics.roc_auc_score(mnargts, mnarprobs)\n",
    "    if is_plot:\n",
    "        plt.title(\"ROC curve\")\n",
    "        plt.xlabel(\"FPR\")\n",
    "        plt.ylabel(\"TPR\")\n",
    "        plt.plot(marfpr, martpr, \"--r\", label=\"MAR\")\n",
    "        plt.plot(mnarfpr, mnartpr, label=\"MNAR\")\n",
    "        plt.legend()\n",
    "    return marauc, mnarauc\n",
    "    "
   ]
  },
  {
   "cell_type": "code",
   "execution_count": 6,
   "metadata": {},
   "outputs": [],
   "source": [
    "allaucs = [AUCplot(MARres, MNARres, i)  for i in range(1, 21)] "
   ]
  },
  {
   "cell_type": "code",
   "execution_count": 7,
   "metadata": {},
   "outputs": [
    {
     "data": {
      "text/html": [
       "<div>\n",
       "<style scoped>\n",
       "    .dataframe tbody tr th:only-of-type {\n",
       "        vertical-align: middle;\n",
       "    }\n",
       "\n",
       "    .dataframe tbody tr th {\n",
       "        vertical-align: top;\n",
       "    }\n",
       "\n",
       "    .dataframe thead th {\n",
       "        text-align: right;\n",
       "    }\n",
       "</style>\n",
       "<table border=\"1\" class=\"dataframe\">\n",
       "  <thead>\n",
       "    <tr style=\"text-align: right;\">\n",
       "      <th></th>\n",
       "      <th>MAR</th>\n",
       "      <th>MNAR</th>\n",
       "    </tr>\n",
       "  </thead>\n",
       "  <tbody>\n",
       "    <tr>\n",
       "      <th>0</th>\n",
       "      <td>0.662335</td>\n",
       "      <td>0.664595</td>\n",
       "    </tr>\n",
       "    <tr>\n",
       "      <th>1</th>\n",
       "      <td>0.743800</td>\n",
       "      <td>0.766600</td>\n",
       "    </tr>\n",
       "    <tr>\n",
       "      <th>2</th>\n",
       "      <td>0.646462</td>\n",
       "      <td>0.635112</td>\n",
       "    </tr>\n",
       "    <tr>\n",
       "      <th>3</th>\n",
       "      <td>0.688421</td>\n",
       "      <td>0.664689</td>\n",
       "    </tr>\n",
       "    <tr>\n",
       "      <th>4</th>\n",
       "      <td>0.749119</td>\n",
       "      <td>0.723984</td>\n",
       "    </tr>\n",
       "    <tr>\n",
       "      <th>5</th>\n",
       "      <td>0.663524</td>\n",
       "      <td>0.667789</td>\n",
       "    </tr>\n",
       "    <tr>\n",
       "      <th>6</th>\n",
       "      <td>0.715552</td>\n",
       "      <td>0.730025</td>\n",
       "    </tr>\n",
       "    <tr>\n",
       "      <th>7</th>\n",
       "      <td>0.691304</td>\n",
       "      <td>0.685375</td>\n",
       "    </tr>\n",
       "    <tr>\n",
       "      <th>8</th>\n",
       "      <td>0.600161</td>\n",
       "      <td>0.594942</td>\n",
       "    </tr>\n",
       "    <tr>\n",
       "      <th>9</th>\n",
       "      <td>0.656839</td>\n",
       "      <td>0.614286</td>\n",
       "    </tr>\n",
       "    <tr>\n",
       "      <th>10</th>\n",
       "      <td>0.755343</td>\n",
       "      <td>0.746868</td>\n",
       "    </tr>\n",
       "    <tr>\n",
       "      <th>11</th>\n",
       "      <td>0.703104</td>\n",
       "      <td>0.732456</td>\n",
       "    </tr>\n",
       "    <tr>\n",
       "      <th>12</th>\n",
       "      <td>0.649942</td>\n",
       "      <td>0.635673</td>\n",
       "    </tr>\n",
       "    <tr>\n",
       "      <th>13</th>\n",
       "      <td>0.711760</td>\n",
       "      <td>0.684524</td>\n",
       "    </tr>\n",
       "    <tr>\n",
       "      <th>14</th>\n",
       "      <td>0.704166</td>\n",
       "      <td>0.700287</td>\n",
       "    </tr>\n",
       "    <tr>\n",
       "      <th>15</th>\n",
       "      <td>0.651669</td>\n",
       "      <td>0.599337</td>\n",
       "    </tr>\n",
       "    <tr>\n",
       "      <th>16</th>\n",
       "      <td>0.660430</td>\n",
       "      <td>0.619543</td>\n",
       "    </tr>\n",
       "    <tr>\n",
       "      <th>17</th>\n",
       "      <td>0.668137</td>\n",
       "      <td>0.659314</td>\n",
       "    </tr>\n",
       "    <tr>\n",
       "      <th>18</th>\n",
       "      <td>0.689732</td>\n",
       "      <td>0.685065</td>\n",
       "    </tr>\n",
       "    <tr>\n",
       "      <th>19</th>\n",
       "      <td>0.654846</td>\n",
       "      <td>0.667135</td>\n",
       "    </tr>\n",
       "  </tbody>\n",
       "</table>\n",
       "</div>"
      ],
      "text/plain": [
       "         MAR      MNAR\n",
       "0   0.662335  0.664595\n",
       "1   0.743800  0.766600\n",
       "2   0.646462  0.635112\n",
       "3   0.688421  0.664689\n",
       "4   0.749119  0.723984\n",
       "5   0.663524  0.667789\n",
       "6   0.715552  0.730025\n",
       "7   0.691304  0.685375\n",
       "8   0.600161  0.594942\n",
       "9   0.656839  0.614286\n",
       "10  0.755343  0.746868\n",
       "11  0.703104  0.732456\n",
       "12  0.649942  0.635673\n",
       "13  0.711760  0.684524\n",
       "14  0.704166  0.700287\n",
       "15  0.651669  0.599337\n",
       "16  0.660430  0.619543\n",
       "17  0.668137  0.659314\n",
       "18  0.689732  0.685065\n",
       "19  0.654846  0.667135"
      ]
     },
     "execution_count": 7,
     "metadata": {},
     "output_type": "execute_result"
    }
   ],
   "source": [
    "allaucs = np.array(allaucs)\n",
    "allaucdf = pd.DataFrame(allaucs)\n",
    "allaucdf.columns = [\"MAR\", \"MNAR\"]\n",
    "allaucdf"
   ]
  },
  {
   "cell_type": "code",
   "execution_count": 8,
   "metadata": {},
   "outputs": [],
   "source": [
    "MARprobs = []\n",
    "MARgt = []\n",
    "MNARprobs = []\n",
    "MNARgt = []\n",
    "for i in range(1, len(MNARres)+1):\n",
    "    mnarres = MNARres[i]\n",
    "    MNARprobs.append(mnarres[0].cpu().numpy())\n",
    "    MNARgt.append(mnarres[1].cpu().numpy())\n",
    "for i in range(1, len(MARres)+1):\n",
    "    marres = MARres[i]\n",
    "    MARprobs.append(marres[0].cpu().numpy())\n",
    "    MARgt.append(marres[1].cpu().numpy())"
   ]
  },
  {
   "cell_type": "code",
   "execution_count": 9,
   "metadata": {},
   "outputs": [],
   "source": [
    "MARgt = np.concatenate(MARgt)\n",
    "MNARgt = np.concatenate(MNARgt)\n",
    "MARprobs = np.concatenate(MARprobs)\n",
    "MNARprobs = np.concatenate(MNARprobs)"
   ]
  },
  {
   "cell_type": "code",
   "execution_count": 10,
   "metadata": {},
   "outputs": [],
   "source": [
    "Data = {\n",
    "    \"Probs\": np.concatenate([MNARprobs, MARprobs]),\n",
    "    \"Method\": [\"MNAR\"] * len(MNARprobs) + [\"MAR\"] * len(MARprobs),\n",
    "    \"GT\": np.concatenate([MNARgt, MARgt])\n",
    "}\n",
    "dfdata = pd.DataFrame(Data)"
   ]
  },
  {
   "cell_type": "code",
   "execution_count": 11,
   "metadata": {},
   "outputs": [
    {
     "data": {
      "text/plain": [
       "<matplotlib.axes._subplots.AxesSubplot at 0x7ff4c8d4e438>"
      ]
     },
     "execution_count": 11,
     "metadata": {},
     "output_type": "execute_result"
    },
    {
     "data": {
      "image/png": "[encoded data removed]",
      "text/plain": [
       "<Figure size 432x288 with 1 Axes>"
      ]
     },
     "metadata": {
      "needs_background": "light"
     },
     "output_type": "display_data"
    }
   ],
   "source": [
    "sns.boxplot(data=dfdata, x=\"Method\", y=\"Probs\", hue=\"GT\")"
   ]
  },
  {
   "cell_type": "code",
   "execution_count": 12,
   "metadata": {},
   "outputs": [
    {
     "data": {
      "text/plain": [
       "[<matplotlib.lines.Line2D at 0x7ff4c8cc1f98>]"
      ]
     },
     "execution_count": 12,
     "metadata": {},
     "output_type": "execute_result"
    },
    {
     "data": {
      "image/png": "[encoded data removed]",
      "text/plain": [
       "<Figure size 432x288 with 1 Axes>"
      ]
     },
     "metadata": {
      "needs_background": "light"
     },
     "output_type": "display_data"
    }
   ],
   "source": [
    "#plt.plot(MARgt[:200], \"bo\")\n",
    "#plt.plot(MARgt[:200], MARprobs[:200], \"rh\")\n",
    "#plt.plot(MARgt[:200], MNARprobs[:200], \"g*\")\n",
    "plt.plot(MARprobs[:], MNARprobs[:], \"g*\")\n",
    "plt.plot(np.arange(0, 1, 0.01), np.arange(0, 1, 0.01))"
   ]
  },
  {
   "cell_type": "code",
   "execution_count": 13,
   "metadata": {},
   "outputs": [],
   "source": [
    "dfdatagrp = dfdata.groupby([\"Method\", \"GT\"])"
   ]
  },
  {
   "cell_type": "code",
   "execution_count": 14,
   "metadata": {},
   "outputs": [
    {
     "data": {
      "text/html": [
       "<div>\n",
       "<style scoped>\n",
       "    .dataframe tbody tr th:only-of-type {\n",
       "        vertical-align: middle;\n",
       "    }\n",
       "\n",
       "    .dataframe tbody tr th {\n",
       "        vertical-align: top;\n",
       "    }\n",
       "\n",
       "    .dataframe thead tr th {\n",
       "        text-align: left;\n",
       "    }\n",
       "\n",
       "    .dataframe thead tr:last-of-type th {\n",
       "        text-align: right;\n",
       "    }\n",
       "</style>\n",
       "<table border=\"1\" class=\"dataframe\">\n",
       "  <thead>\n",
       "    <tr>\n",
       "      <th></th>\n",
       "      <th></th>\n",
       "      <th colspan=\"8\" halign=\"left\">Probs</th>\n",
       "    </tr>\n",
       "    <tr>\n",
       "      <th></th>\n",
       "      <th></th>\n",
       "      <th>count</th>\n",
       "      <th>mean</th>\n",
       "      <th>std</th>\n",
       "      <th>min</th>\n",
       "      <th>25%</th>\n",
       "      <th>50%</th>\n",
       "      <th>75%</th>\n",
       "      <th>max</th>\n",
       "    </tr>\n",
       "    <tr>\n",
       "      <th>Method</th>\n",
       "      <th>GT</th>\n",
       "      <th></th>\n",
       "      <th></th>\n",
       "      <th></th>\n",
       "      <th></th>\n",
       "      <th></th>\n",
       "      <th></th>\n",
       "      <th></th>\n",
       "      <th></th>\n",
       "    </tr>\n",
       "  </thead>\n",
       "  <tbody>\n",
       "    <tr>\n",
       "      <th rowspan=\"2\" valign=\"top\">MAR</th>\n",
       "      <th>0.0</th>\n",
       "      <td>956.0</td>\n",
       "      <td>0.631640</td>\n",
       "      <td>0.111700</td>\n",
       "      <td>0.025142</td>\n",
       "      <td>0.551478</td>\n",
       "      <td>0.652062</td>\n",
       "      <td>0.714221</td>\n",
       "      <td>0.953735</td>\n",
       "    </tr>\n",
       "    <tr>\n",
       "      <th>1.0</th>\n",
       "      <td>2031.0</td>\n",
       "      <td>0.704073</td>\n",
       "      <td>0.095779</td>\n",
       "      <td>0.240222</td>\n",
       "      <td>0.655627</td>\n",
       "      <td>0.710458</td>\n",
       "      <td>0.759943</td>\n",
       "      <td>0.986519</td>\n",
       "    </tr>\n",
       "    <tr>\n",
       "      <th rowspan=\"2\" valign=\"top\">MNAR</th>\n",
       "      <th>0.0</th>\n",
       "      <td>956.0</td>\n",
       "      <td>0.642613</td>\n",
       "      <td>0.086361</td>\n",
       "      <td>0.267665</td>\n",
       "      <td>0.576892</td>\n",
       "      <td>0.657397</td>\n",
       "      <td>0.705805</td>\n",
       "      <td>0.925170</td>\n",
       "    </tr>\n",
       "    <tr>\n",
       "      <th>1.0</th>\n",
       "      <td>2031.0</td>\n",
       "      <td>0.697058</td>\n",
       "      <td>0.077871</td>\n",
       "      <td>0.360262</td>\n",
       "      <td>0.660333</td>\n",
       "      <td>0.698396</td>\n",
       "      <td>0.740506</td>\n",
       "      <td>0.969205</td>\n",
       "    </tr>\n",
       "  </tbody>\n",
       "</table>\n",
       "</div>"
      ],
      "text/plain": [
       "             Probs                                                    \\\n",
       "             count      mean       std       min       25%       50%   \n",
       "Method GT                                                              \n",
       "MAR    0.0   956.0  0.631640  0.111700  0.025142  0.551478  0.652062   \n",
       "       1.0  2031.0  0.704073  0.095779  0.240222  0.655627  0.710458   \n",
       "MNAR   0.0   956.0  0.642613  0.086361  0.267665  0.576892  0.657397   \n",
       "       1.0  2031.0  0.697058  0.077871  0.360262  0.660333  0.698396   \n",
       "\n",
       "                                \n",
       "                 75%       max  \n",
       "Method GT                       \n",
       "MAR    0.0  0.714221  0.953735  \n",
       "       1.0  0.759943  0.986519  \n",
       "MNAR   0.0  0.705805  0.925170  \n",
       "       1.0  0.740506  0.969205  "
      ]
     },
     "execution_count": 14,
     "metadata": {},
     "output_type": "execute_result"
    }
   ],
   "source": [
    "dfdatagrp.describe()"
   ]
  },
  {
   "cell_type": "code",
   "execution_count": 15,
   "metadata": {},
   "outputs": [],
   "source": [
    "from sklearn import metrics"
   ]
  },
  {
   "cell_type": "code",
   "execution_count": 16,
   "metadata": {},
   "outputs": [
    {
     "data": {
      "text/plain": [
       "0.6867456104027738"
      ]
     },
     "execution_count": 16,
     "metadata": {},
     "output_type": "execute_result"
    }
   ],
   "source": [
    "metrics.roc_auc_score(MARgt, MARprobs)"
   ]
  },
  {
   "cell_type": "code",
   "execution_count": 17,
   "metadata": {},
   "outputs": [
    {
     "data": {
      "text/plain": [
       "0.6779478748848909"
      ]
     },
     "execution_count": 17,
     "metadata": {},
     "output_type": "execute_result"
    }
   ],
   "source": [
    "metrics.roc_auc_score(MNARgt, MNARprobs)"
   ]
  },
  {
   "cell_type": "code",
   "execution_count": 18,
   "metadata": {},
   "outputs": [],
   "source": [
    "marfpr, martpr, marthre = metrics.roc_curve(MARgt, MARprobs)\n",
    "mnarfpr, mnartpr, mnarthre = metrics.roc_curve(MNARgt, MNARprobs)"
   ]
  },
  {
   "cell_type": "code",
   "execution_count": 19,
   "metadata": {},
   "outputs": [
    {
     "data": {
      "text/plain": [
       "<matplotlib.legend.Legend at 0x7ff3c0e3e8d0>"
      ]
     },
     "execution_count": 19,
     "metadata": {},
     "output_type": "execute_result"
    },
    {
     "data": {
      "image/png": "[encoded data removed]",
      "text/plain": [
       "<Figure size 432x288 with 1 Axes>"
      ]
     },
     "metadata": {
      "needs_background": "light"
     },
     "output_type": "display_data"
    }
   ],
   "source": [
    "plt.title(\"ROC curve\")\n",
    "plt.xlabel(\"FPR\")\n",
    "plt.ylabel(\"TPR\")\n",
    "plt.plot(marfpr, martpr, \"--r\", label=\"MAR\")\n",
    "plt.plot(mnarfpr, mnartpr, label=\"MNAR\")\n",
    "plt.legend()"
   ]
  },
  {
   "cell_type": "code",
   "execution_count": 21,
   "metadata": {},
   "outputs": [],
   "source": [
    "with open(\"Ymat.pkl\", \"rb\") as f:\n",
    "    Y = pickle.load(f)"
   ]
  },
  {
   "cell_type": "code",
   "execution_count": 23,
   "metadata": {},
   "outputs": [],
   "source": [
    "Yno = Y[Y!=-1]"
   ]
  },
  {
   "cell_type": "code",
   "execution_count": 26,
   "metadata": {},
   "outputs": [
    {
     "data": {
      "text/plain": [
       "(array([  52.,    0.,  220.,    0.,    0.,  684.,    0., 1227.,    0.,\n",
       "         804.]),\n",
       " array([1. , 1.4, 1.8, 2.2, 2.6, 3. , 3.4, 3.8, 4.2, 4.6, 5. ]),\n",
       " <a list of 10 Patch objects>)"
      ]
     },
     "execution_count": 26,
     "metadata": {},
     "output_type": "execute_result"
    },
    {
     "data": {
      "image/png": "[encoded data removed]",
      "text/plain": [
       "<Figure size 432x288 with 1 Axes>"
      ]
     },
     "metadata": {
      "needs_background": "light"
     },
     "output_type": "display_data"
    }
   ],
   "source": [
    "plt.hist(Yno)"
   ]
  },
  {
   "cell_type": "code",
   "execution_count": 5,
   "metadata": {},
   "outputs": [
    {
     "data": {
      "text/plain": [
       "1.289665114701737"
      ]
     },
     "execution_count": 5,
     "metadata": {},
     "output_type": "execute_result"
    }
   ],
   "source": [
    "((MARgt -MARprobs)**2).mean()"
   ]
  },
  {
   "cell_type": "code",
   "execution_count": 6,
   "metadata": {},
   "outputs": [
    {
     "data": {
      "text/plain": [
       "1.4290432255336734"
      ]
     },
     "execution_count": 6,
     "metadata": {},
     "output_type": "execute_result"
    }
   ],
   "source": [
    "((MNARgt - MNARprobs)**2).mean()"
   ]
  },
  {
   "cell_type": "code",
   "execution_count": 13,
   "metadata": {},
   "outputs": [
    {
     "data": {
      "text/plain": [
       "[<matplotlib.lines.Line2D at 0x7fc926c8c3c8>]"
      ]
     },
     "execution_count": 13,
     "metadata": {},
     "output_type": "execute_result"
    },
    {
     "data": {
      "image/png": "[encoded data removed]",
      "text/plain": [
       "<Figure size 432x288 with 1 Axes>"
      ]
     },
     "metadata": {
      "needs_background": "light"
     },
     "output_type": "display_data"
    }
   ],
   "source": [
    "plt.plot(MARgt, logit(MARprobs), \"o\")\n",
    "plt.plot(MNARgt, logit(MNARprobs), \"*r\")"
   ]
  },
  {
   "cell_type": "code",
   "execution_count": 10,
   "metadata": {},
   "outputs": [],
   "source": [
    "from scipy.special import logit"
   ]
  },
  {
   "cell_type": "code",
   "execution_count": 11,
   "metadata": {},
   "outputs": [
    {
     "data": {
      "text/plain": [
       "1.0178259816475603"
      ]
     },
     "execution_count": 11,
     "metadata": {},
     "output_type": "execute_result"
    }
   ],
   "source": [
    "((MARgt -logit(MARprobs))**2).mean()"
   ]
  },
  {
   "cell_type": "code",
   "execution_count": 12,
   "metadata": {},
   "outputs": [
    {
     "data": {
      "text/plain": [
       "1.5366011468047311"
      ]
     },
     "execution_count": 12,
     "metadata": {},
     "output_type": "execute_result"
    }
   ],
   "source": [
    "((MNARgt -logit(MNARprobs))**2).mean()"
   ]
  },
  {
   "cell_type": "code",
   "execution_count": 14,
   "metadata": {},
   "outputs": [
    {
     "data": {
      "text/plain": [
       "0.5134745364385195"
      ]
     },
     "execution_count": 14,
     "metadata": {},
     "output_type": "execute_result"
    }
   ],
   "source": [
    "MARprobs.min()"
   ]
  },
  {
   "cell_type": "code",
   "execution_count": null,
   "metadata": {},
   "outputs": [],
   "source": []
  }
 ],
 "metadata": {
  "kernelspec": {
   "display_name": "Python 3",
   "language": "python",
   "name": "python3"
  },
  "language_info": {
   "codemirror_mode": {
    "name": "ipython",
    "version": 3
   },
   "file_extension": ".py",
   "mimetype": "text/x-python",
   "name": "python",
   "nbconvert_exporter": "python",
   "pygments_lexer": "ipython3",
   "version": "3.6.8"
  }
 },
 "nbformat": 4,
 "nbformat_minor": 2
}

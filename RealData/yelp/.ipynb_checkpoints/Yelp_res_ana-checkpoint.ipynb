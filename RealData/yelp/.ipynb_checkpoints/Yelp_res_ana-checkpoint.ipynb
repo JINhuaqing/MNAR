{
 "cells": [
  {
   "cell_type": "markdown",
   "metadata": {},
   "source": [
    "### Analysis of Yelp data result"
   ]
  },
  {
   "cell_type": "code",
   "execution_count": 13,
   "metadata": {},
   "outputs": [],
   "source": [
    "import pickle\n",
    "import torch\n",
    "import matplotlib.pyplot as plt\n",
    "import seaborn as sns\n",
    "import numpy as np\n",
    "%matplotlib inline"
   ]
  },
  {
   "cell_type": "code",
   "execution_count": 4,
   "metadata": {},
   "outputs": [
    {
     "name": "stdout",
     "output_type": "stream",
     "text": [
      "MARyelp.pkl  MNARyelp.pkl  Xmat.pkl  Xsps.pkl  Ymat.pkl\r\n"
     ]
    }
   ],
   "source": [
    "!ls *.pkl"
   ]
  },
  {
   "cell_type": "code",
   "execution_count": 5,
   "metadata": {},
   "outputs": [],
   "source": [
    "with open(\"MARyelp.pkl\", \"rb\") as f:\n",
    "    MARres = pickle.load(f)\n",
    "    \n",
    "with open(\"MNARyelp.pkl\", \"rb\") as f:\n",
    "    MNARres = pickle.load(f)"
   ]
  },
  {
   "cell_type": "code",
   "execution_count": 12,
   "metadata": {},
   "outputs": [],
   "source": [
    "MARprobs = []\n",
    "MARgt = []\n",
    "MNARprobs = []\n",
    "MNARgt = []\n",
    "for i in range(1, 11):\n",
    "    mnarres = MNARres[i]\n",
    "    MNARprobs.append(mnarres[0].cpu().numpy())\n",
    "    MNARgt.append(mnarres[1].cpu().numpy())\n",
    "    marres = MARres[i]\n",
    "    MARprobs.append(marres[0].cpu().numpy())\n",
    "    MARgt.append(marres[1].cpu().numpy())"
   ]
  },
  {
   "cell_type": "code",
   "execution_count": 17,
   "metadata": {},
   "outputs": [],
   "source": [
    "MARgt = np.concatenate(MARgt)\n",
    "MNARgt = np.concatenate(MNARgt)\n",
    "MARprobs = np.concatenate(MARprobs)\n",
    "MNARprobs = np.concatenate(MNARprobs)"
   ]
  },
  {
   "cell_type": "code",
   "execution_count": null,
   "metadata": {},
   "outputs": [],
   "source": []
  }
 ],
 "metadata": {
  "kernelspec": {
   "display_name": "Python 3",
   "language": "python",
   "name": "python3"
  },
  "language_info": {
   "codemirror_mode": {
    "name": "ipython",
    "version": 3
   },
   "file_extension": ".py",
   "mimetype": "text/x-python",
   "name": "python",
   "nbconvert_exporter": "python",
   "pygments_lexer": "ipython3",
   "version": "3.7.3"
  }
 },
 "nbformat": 4,
 "nbformat_minor": 2
}

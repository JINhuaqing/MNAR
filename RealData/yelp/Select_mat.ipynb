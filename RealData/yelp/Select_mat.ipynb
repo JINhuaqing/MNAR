{
 "cells": [
  {
   "cell_type": "code",
   "execution_count": 1,
   "metadata": {},
   "outputs": [],
   "source": [
    "import pickle\n",
    "import json\n",
    "from collections import defaultdict as ddict \n",
    "from collections import Counter as Cntr\n",
    "import os.path as osp\n",
    "import numpy.random as npr\n",
    "import numpy as np\n",
    "from pathlib import Path\n",
    "import matplotlib.pyplot as plt\n",
    "import seaborn as sns\n",
    "from tqdm import tqdm_notebook as tqdm\n",
    "\n",
    "%matplotlib inline"
   ]
  },
  {
   "cell_type": "code",
   "execution_count": 2,
   "metadata": {},
   "outputs": [],
   "source": [
    "root = Path(\"./rawdataXcode\")"
   ]
  },
  {
   "cell_type": "markdown",
   "metadata": {},
   "source": [
    "## Fisrt way\n",
    "\n",
    "Load all data and extract the submatrix from the whole mat"
   ]
  },
  {
   "cell_type": "markdown",
   "metadata": {},
   "source": [
    "#### Num of reviews for each restaurant"
   ]
  },
  {
   "cell_type": "code",
   "execution_count": 7,
   "metadata": {},
   "outputs": [],
   "source": [
    "RestDic = ddict(set)\n",
    "RestCnt = Cntr()\n",
    "\n",
    "if not osp.isfile(root/\"RestDicCnt.pkl\"):\n",
    "    for idx, oneobs in enumerate(open(root/\"review.json\", \"r\")):\n",
    "        print(f\"Current index is {idx}\")\n",
    "        oneobs = json.loads(oneobs)\n",
    "        RestDic[oneobs[\"business_id\"]].add(oneobs[\"user_id\"])\n",
    "        RestCnt[oneobs[\"business_id\"]]  += 1\n",
    "        if idx == 1000:\n",
    "            pass#break\n",
    "    \n",
    "    with open(root/\"RestDicCnt.pkl\", \"wb\") as f:\n",
    "        pickle.dump([RestDic, RestCnt], f)\n",
    "\n",
    "with open(root/\"RestDicCnt.pkl\", \"rb\") as f:\n",
    "    RestDicCnt = pickle.load(f)\n",
    "\n",
    "RestDic = RestDicCnt[0]\n",
    "RestCnt = RestDicCnt[1]"
   ]
  },
  {
   "cell_type": "markdown",
   "metadata": {},
   "source": [
    "#### Num of reviews for each users"
   ]
  },
  {
   "cell_type": "code",
   "execution_count": 8,
   "metadata": {},
   "outputs": [],
   "source": [
    "UserDic = ddict(set)\n",
    "UserCnt = Cntr()\n",
    "\n",
    "if not osp.isfile(root/\"UserDicCnt.pkl\"):\n",
    "    for idx, oneobs in enumerate(open(root/\"review.json\", \"r\")):\n",
    "        oneobs = json.loads(oneobs)\n",
    "        UserDic[oneobs[\"user_id\"]].add(oneobs[\"business_id\"])\n",
    "        UserCnt[oneobs[\"user_id\"]]  += 1\n",
    "\n",
    "    with open(root/\"UserDicCnt.pkl\", \"wb\") as f:\n",
    "        pickle.dump([UserDic, UserCnt], f)\n",
    "\n",
    "with open(root/\"UserDicCnt.pkl\", \"rb\") as f:\n",
    "    UserDicCnt = pickle.load(f)\n",
    "\n",
    "UserDic = UserDicCnt[0]\n",
    "UserCnt = UserDicCnt[1]"
   ]
  },
  {
   "cell_type": "markdown",
   "metadata": {},
   "source": [
    "#### Sort the count w.r.t the number of reviewers and choose restaurants"
   ]
  },
  {
   "cell_type": "code",
   "execution_count": 9,
   "metadata": {},
   "outputs": [],
   "source": [
    "m = 1000\n",
    "n = 1000\n",
    "sortRCnt = RestCnt.most_common()\n",
    "allRests = [i[0] for i in sortRCnt]\n",
    "selRests = allRests[:m]"
   ]
  },
  {
   "cell_type": "code",
   "execution_count": 10,
   "metadata": {},
   "outputs": [],
   "source": [
    "selUserCnt = Cntr()\n",
    "for user, rests in UserDic.items():\n",
    "    selUserCnt[user] = len(rests.intersection(selRests))"
   ]
  },
  {
   "cell_type": "code",
   "execution_count": 11,
   "metadata": {},
   "outputs": [],
   "source": [
    "selUsers = [i[0] for i in selUserCnt.most_common()[:n]]"
   ]
  },
  {
   "cell_type": "code",
   "execution_count": 12,
   "metadata": {},
   "outputs": [],
   "source": [
    "# funtion ot extract the Y mat\n",
    "def size2mat():\n",
    "    subRests = selRests\n",
    "    subUsers = selUsers\n",
    "    n, m = len(subUsers), len(subRests)\n",
    "    mat = np.zeros((n, m))\n",
    "    \n",
    "    for idxn, user in enumerate(subUsers):\n",
    "        cRests = UserDic[user]\n",
    "        for idxm, rest in enumerate(subRests):\n",
    "            if rest in cRests:\n",
    "                mat[idxn, idxm] = 1\n",
    "    return mat"
   ]
  },
  {
   "cell_type": "code",
   "execution_count": 13,
   "metadata": {},
   "outputs": [
    {
     "data": {
      "text/plain": [
       "0.058635"
      ]
     },
     "execution_count": 13,
     "metadata": {},
     "output_type": "execute_result"
    }
   ],
   "source": [
    "np.mean(size2mat())"
   ]
  },
  {
   "cell_type": "markdown",
   "metadata": {},
   "source": [
    "## Second way\n",
    "\n",
    "Select a mat by city"
   ]
  },
  {
   "cell_type": "code",
   "execution_count": 14,
   "metadata": {},
   "outputs": [],
   "source": [
    "with open(root/\"./CityRest.pkl\", \"rb\") as f:\n",
    "    city = pickle.load(f)"
   ]
  },
  {
   "cell_type": "code",
   "execution_count": 15,
   "metadata": {},
   "outputs": [],
   "source": [
    "cityCnt = Cntr()\n",
    "\n",
    "for key, v in city.items():\n",
    "    cityCnt[key] = len(v)\n",
    "    \n",
    "sortedCityCnt = cityCnt.most_common()\n",
    "sortedCity = [i[0] for i in sortedCityCnt]"
   ]
  },
  {
   "cell_type": "code",
   "execution_count": 16,
   "metadata": {},
   "outputs": [],
   "source": [
    "cCity =sortedCity[0]\n",
    "cCityRests = city[cCity]"
   ]
  },
  {
   "cell_type": "code",
   "execution_count": 17,
   "metadata": {},
   "outputs": [],
   "source": [
    "ccRestCnt = Cntr()\n",
    "ccUserDic = ddict(set)\n",
    "ccUserCnt = Cntr()\n",
    "for ccRest in cCityRests:\n",
    "    ccRestCnt[ccRest] = RestCnt[ccRest]\n",
    "    ccUsers = RestDic[ccRest]\n",
    "    for ccUser in ccUsers:\n",
    "        ccUserDic[ccUser].add(ccRest)\n",
    "        ccUserCnt[ccUser] += 1\n",
    "    \n",
    "sortRCnt = ccRestCnt.most_common()\n",
    "ccRests = [i[0] for i in sortRCnt]\n",
    "sortUCnt = ccUserCnt.most_common()\n",
    "ccUsers = [i[0] for i in sortUCnt]"
   ]
  },
  {
   "cell_type": "code",
   "execution_count": 18,
   "metadata": {},
   "outputs": [],
   "source": [
    "m = 500\n",
    "n = 1000\n",
    "\n",
    "cSelRests = ccRests[:m]"
   ]
  },
  {
   "cell_type": "code",
   "execution_count": 19,
   "metadata": {},
   "outputs": [],
   "source": [
    "cSelUserCnt = Cntr()\n",
    "for user, rests in ccUserDic.items():\n",
    "    cSelUserCnt[user] = len(rests.intersection(cSelRests))"
   ]
  },
  {
   "cell_type": "code",
   "execution_count": 20,
   "metadata": {},
   "outputs": [],
   "source": [
    "cSelUsers = [i[0] for i in cSelUserCnt.most_common()[:n]]"
   ]
  },
  {
   "cell_type": "code",
   "execution_count": 21,
   "metadata": {},
   "outputs": [],
   "source": [
    "# funtion to extract the Y mat\n",
    "def citysize2mat():\n",
    "    subRests = cSelRests\n",
    "    subUsers = cSelUsers\n",
    "    n, m = len(subUsers), len(subRests)\n",
    "    mat = np.zeros((n, m))\n",
    "    \n",
    "    for idxn, user in enumerate(subUsers):\n",
    "        cRests = UserDic[user]\n",
    "        for idxm, rest in enumerate(subRests):\n",
    "            if rest in cRests:\n",
    "                mat[idxn, idxm] = 1\n",
    "    return mat"
   ]
  },
  {
   "cell_type": "code",
   "execution_count": 22,
   "metadata": {},
   "outputs": [
    {
     "data": {
      "text/plain": [
       "0.09109"
      ]
     },
     "execution_count": 22,
     "metadata": {},
     "output_type": "execute_result"
    }
   ],
   "source": [
    "\n",
    "mat = citysize2mat()\n",
    "np.mean(mat)"
   ]
  },
  {
   "cell_type": "code",
   "execution_count": 23,
   "metadata": {},
   "outputs": [
    {
     "data": {
      "text/plain": [
       "<matplotlib.axes._subplots.AxesSubplot at 0x7f4c9f595390>"
      ]
     },
     "execution_count": 23,
     "metadata": {},
     "output_type": "execute_result"
    },
    {
     "data": {
      "image/png": "[encoded data removed]",
      "text/plain": [
       "<Figure size 432x288 with 2 Axes>"
      ]
     },
     "metadata": {
      "needs_background": "light"
     },
     "output_type": "display_data"
    }
   ],
   "source": [
    "sns.heatmap(mat)"
   ]
  },
  {
   "cell_type": "markdown",
   "metadata": {},
   "source": [
    "### The selected resturant and users are \n",
    "\n",
    "`cSelRests` and `cSelUsers`"
   ]
  },
  {
   "cell_type": "markdown",
   "metadata": {},
   "source": [
    "### To data "
   ]
  },
  {
   "cell_type": "code",
   "execution_count": 39,
   "metadata": {},
   "outputs": [],
   "source": [
    "saveRoot = Path(\"./JMLR-R1\")"
   ]
  },
  {
   "cell_type": "code",
   "execution_count": 40,
   "metadata": {},
   "outputs": [],
   "source": [
    "if not osp.isfile(saveRoot/\"Y.pkl\"):\n",
    "    Y = ddict(dict)\n",
    "    for idx, oneobs in enumerate(open(root/\"review.json\", \"r\")):\n",
    "        oneobs = json.loads(oneobs)\n",
    "        crest = oneobs[\"business_id\"]\n",
    "        ccust = oneobs[\"user_id\"] \n",
    "        if (crest in cSelRests) and (ccust in cSelUsers):\n",
    "            Y[crest][ccust] = {\"stars\":oneobs[\"stars\"], \"date\": oneobs[\"date\"], \"UFC\":[oneobs[\"useful\"], oneobs[\"funny\"], oneobs[\"cool\"]]}\n",
    "        if idx == 1000:\n",
    "            pass #break\n",
    "    \n",
    "    with open(saveRoot/\"Y.pkl\", \"wb\") as f:\n",
    "        pickle.dump(Y, f)\n",
    "\n",
    "with open(saveRoot/\"Y.pkl\", \"rb\") as f:\n",
    "    Y = pickle.load(f)"
   ]
  },
  {
   "cell_type": "code",
   "execution_count": 41,
   "metadata": {},
   "outputs": [],
   "source": [
    "if not osp.isfile(saveRoot/\"Xrest.pkl\"):\n",
    "    Xrest = {}\n",
    "    for idx1, oneobs in enumerate(open(root/\"business.json\", \"r\")):\n",
    "        oneobs = json.loads(oneobs)\n",
    "        crest = oneobs[\"business_id\"]\n",
    "        if crest in cSelRests:\n",
    "            Xrest[crest] = oneobs\n",
    "    with open(saveRoot/\"Xrest.pkl\", \"wb\") as f:\n",
    "        pickle.dump(Xrest, f)\n",
    "\n",
    "with open(saveRoot/\"Xrest.pkl\", \"rb\") as f:\n",
    "    Xrest = pickle.load(f)"
   ]
  },
  {
   "cell_type": "code",
   "execution_count": 42,
   "metadata": {},
   "outputs": [],
   "source": [
    "if not osp.isfile(saveRoot/\"Xuser.pkl\"):\n",
    "    Xuser = {}\n",
    "    for idx2, userobs in enumerate(open(root/\"user.json\", \"r\")):\n",
    "        userobs = json.loads(userobs)\n",
    "        ccust = userobs[\"user_id\"]\n",
    "        if ccust in cSelUsers:\n",
    "            Xuser[ccust] = userobs\n",
    "    with open(saveRoot/\"Xuser.pkl\", \"wb\") as f:\n",
    "        pickle.dump(Xuser, f)\n",
    "\n",
    "with open(saveRoot/\"Xuser.pkl\", \"rb\") as f:\n",
    "    Xuser = pickle.load( f)"
   ]
  },
  {
   "cell_type": "markdown",
   "metadata": {},
   "source": [
    " - columns: restuarants, m \n",
    " \n",
    " - rows: customers, n\n",
    " \n",
    " - covariates:\n",
    "   - Reviews: [weekend, Ruseful, Rfunny, Rcool] removed\n",
    "   - users: [review_count, yelping_since, num_of_friends, Uuseful, Ufunny, Ucool, fans, num_of_elite, av_stars, c_hot, c_more, c_p, c_cute, c_list, c_note, c_plain, c_cool,  c_funny, c_writer, c_photos]\n",
    "   - bussiness: [stars, review_count, is_open, RestTakeOut, BPgarage, BPstreet, BPvalidated, BPlot, BPvalet, hrs_weekdays, hrs_weekend] \n"
   ]
  },
  {
   "cell_type": "code",
   "execution_count": 43,
   "metadata": {},
   "outputs": [],
   "source": [
    "from datetime import datetime\n",
    "import ast\n",
    "\n",
    "def date2weekday(datestring):\n",
    "    date = datetime.strptime(datestring, \"%Y-%m-%d\")\n",
    "    weekday = date.weekday()\n",
    "    if weekday >= 5:\n",
    "        return 1\n",
    "    else:\n",
    "        return 0\n",
    "\n",
    "def hours2num(hours):\n",
    "    weekdays = [\"Monday\", \"Tuesday\", \"Wednesday\", \"Thursday\", \"Friday\"]\n",
    "    weekends = [\"Sunday\", \"Saturday\"]\n",
    "    def int2del(intstring):\n",
    "        begint, endt  = intstring.split(\"-\")[0], intstring.split(\"-\")[1]\n",
    "        beginth, begintm = begint.split(\":\")\n",
    "        endth, endtm = endt.split(\":\")\n",
    "        hrs = float(endth)-float(beginth) + (float(endtm) - float(begintm))/60\n",
    "        if hrs == 0:\n",
    "            return 24\n",
    "        else:\n",
    "            return hrs\n",
    "    weekdayhours = np.sum([int2del(hours[weekday]) for weekday in weekdays if weekday in hours.keys()])\n",
    "    weekendhours = np.sum([int2del(hours[weekend]) for weekend in weekends if weekend in hours.keys()])\n",
    "    return weekdayhours, weekendhours\n",
    "\n",
    "# sort the users and restaurants\n",
    "cSelUsers = sorted(cSelUsers)\n",
    "cSelRests = sorted(cSelRests)\n",
    "\n",
    "if not osp.isfile(saveRoot/\"Ymat.pkl\"):\n",
    "    Ymat = np.zeros((n, m)) - 1\n",
    "    for idxcol, restaurant in enumerate(cSelRests):\n",
    "        datarest = Y[restaurant]\n",
    "        userkeys = datarest.keys()\n",
    "        for idxrow, customer in enumerate(cSelUsers):\n",
    "            if customer in userkeys:\n",
    "                Ymat[idxrow, idxcol] = datarest[customer][\"stars\"]\n",
    "    with open(saveRoot/\"Ymat.pkl\", \"wb\") as f:\n",
    "        pickle.dump(Ymat, f)\n",
    "with open(saveRoot/\"Ymat.pkl\", \"rb\") as f:\n",
    "    Ymat = pickle.load(f)\n",
    "\n",
    "\n"
   ]
  },
  {
   "cell_type": "code",
   "execution_count": 44,
   "metadata": {},
   "outputs": [],
   "source": [
    "p = 22\n",
    "if not osp.isfile(saveRoot/\"Xmat.pkl\"):\n",
    "    Xmat = np.zeros((n, m, p)) - 1\n",
    "    for idxcol, restaurant in enumerate(cSelRests):\n",
    "        cRestDat = Xrest[restaurant]\n",
    "        for idxrow, customer in enumerate(cSelUsers):\n",
    "            cCustDat = Xuser[customer]\n",
    "            Xmat[idxrow, idxcol, 0] = cCustDat[\"review_count\"]\n",
    "            Xmat[idxrow, idxcol, 1] = len(cCustDat[\"friends\"])\n",
    "            Xmat[idxrow, idxcol, 2] = cCustDat[\"useful\"]\n",
    "            Xmat[idxrow, idxcol, 3] = cCustDat[\"funny\"]\n",
    "            Xmat[idxrow, idxcol, 4] = cCustDat[\"cool\"]\n",
    "            Xmat[idxrow, idxcol, 5] = cCustDat[\"fans\"]\n",
    "            Xmat[idxrow, idxcol, 6] = len(cCustDat[\"elite\"])\n",
    "            Xmat[idxrow, idxcol, 7] = cCustDat[\"average_stars\"]\n",
    "            Xmat[idxrow, idxcol, 8] = cCustDat[\"compliment_hot\"]\n",
    "            Xmat[idxrow, idxcol, 9] = cCustDat[\"compliment_more\"]\n",
    "            Xmat[idxrow, idxcol, 10] = cCustDat[\"compliment_profile\"]\n",
    "            Xmat[idxrow, idxcol, 11] = cCustDat[\"compliment_cute\"]\n",
    "            Xmat[idxrow, idxcol, 12] = cCustDat[\"compliment_list\"]\n",
    "            Xmat[idxrow, idxcol, 13] = cCustDat[\"compliment_note\"]\n",
    "            Xmat[idxrow, idxcol, 14] = cCustDat[\"compliment_plain\"]\n",
    "            Xmat[idxrow, idxcol, 15] = cCustDat[\"compliment_cool\"]\n",
    "            Xmat[idxrow, idxcol, 16] = cCustDat[\"compliment_funny\"]\n",
    "            Xmat[idxrow, idxcol, 17] = cCustDat[\"compliment_writer\"]\n",
    "            Xmat[idxrow, idxcol, 18] = cCustDat[\"compliment_photos\"]\n",
    "            Xmat[idxrow, idxcol, 19] = cRestDat[\"stars\"]\n",
    "            Xmat[idxrow, idxcol, 20] = cRestDat[\"review_count\"]\n",
    "            Xmat[idxrow, idxcol, 21] = cRestDat[\"is_open\"]\n",
    "    with open(saveRoot/\"Xmat.pkl\", \"wb\") as f:\n",
    "        pickle.dump(Xmat, f)\n",
    "\n",
    "with open(saveRoot/\"Xmat.pkl\", \"rb\") as f:\n",
    "    Xmat = pickle.load(f)"
   ]
  },
  {
   "cell_type": "code",
   "execution_count": null,
   "metadata": {},
   "outputs": [],
   "source": []
  }
 ],
 "metadata": {
  "kernelspec": {
   "display_name": "Python 3",
   "language": "python",
   "name": "python3"
  },
  "language_info": {
   "codemirror_mode": {
    "name": "ipython",
    "version": 3
   },
   "file_extension": ".py",
   "mimetype": "text/x-python",
   "name": "python",
   "nbconvert_exporter": "python",
   "pygments_lexer": "ipython3",
   "version": "3.7.3"
  }
 },
 "nbformat": 4,
 "nbformat_minor": 2
}

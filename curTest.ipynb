{
 "cells": [
  {
   "cell_type": "code",
   "execution_count": 5,
   "id": "5c4459f7",
   "metadata": {},
   "outputs": [],
   "source": [
    "from utils_mar import *\n",
    "from utilsNew import *\n",
    "from utils import *"
   ]
  },
  {
   "cell_type": "code",
   "execution_count": 7,
   "id": "0116a46f",
   "metadata": {},
   "outputs": [],
   "source": [
    "from IPython import display\n",
    "import random\n",
    "import numpy as np\n",
    "import torch\n",
    "import pickle\n",
    "import timeit\n",
    "import time\n",
    "import argparse\n",
    "import pprint\n",
    "from pathlib import Path\n",
    "from confs import fn, fn2, fn22, LogFn\n",
    "#from tqdm import tqdm_notebook as tqdm\n",
    "from tqdm.notebook import tqdm\n",
    "import numpy.random as npr"
   ]
  },
  {
   "cell_type": "code",
   "execution_count": 8,
   "id": "0b3bb9ee",
   "metadata": {},
   "outputs": [],
   "source": [
    "import matplotlib.pyplot as plt\n",
    "import pickle"
   ]
  },
  {
   "cell_type": "code",
   "execution_count": 10,
   "id": "844dd753",
   "metadata": {},
   "outputs": [],
   "source": [
    "cudaid = 2\n",
    "loglv = 2\n",
    "torch.cuda.set_device(cudaid)\n",
    "#------------------------------------------------------------------------------------\n",
    "# fix the random seed for several packages\n",
    "torch.manual_seed(0) # cpu\n",
    "torch.cuda.manual_seed(0) #gpu\n",
    "np.random.seed(0) #numpy\n",
    "random.seed(0) #random and transforms\n",
    "torch.backends.cudnn.deterministic=True # cudnn"
   ]
  },
  {
   "cell_type": "code",
   "execution_count": 11,
   "id": "eeb88f53",
   "metadata": {},
   "outputs": [],
   "source": [
    "cuda = torch.cuda.is_available()\n",
    "if cuda:\n",
    "    torch.set_default_tensor_type(torch.cuda.DoubleTensor)"
   ]
  },
  {
   "cell_type": "code",
   "execution_count": 12,
   "id": "aeae1a4d",
   "metadata": {},
   "outputs": [],
   "source": [
    "conDenfs = [fn, fn2, fn22]\n",
    "f = fn\n",
    "f2 = fn2"
   ]
  },
  {
   "cell_type": "code",
   "execution_count": 13,
   "id": "f8258aa2",
   "metadata": {},
   "outputs": [
    {
     "data": {
      "text/plain": [
       "tensor(0.0502)"
      ]
     },
     "execution_count": 13,
     "metadata": {},
     "output_type": "execute_result"
    }
   ],
   "source": [
    "n = m = 400\n",
    "p = 50\n",
    "prob = 0.2\n",
    "\n",
    "sigmaY = 1.0\n",
    "\n",
    "# generate the parameters\n",
    "beta0 = torch.cat((torch.tensor([1.0, 0, 2, 0, -3, -4, 5]), torch.zeros(p-7))) \n",
    "bTheta0 = genbTheta(n, m, sigVs=np.array([10, 9, 8, 7, 6])*10) \n",
    "initbetapref = 1 + (torch.rand(p)-1/2)/40  #[0.875, 1.125]\n",
    "initthetapref = 1 + (torch.rand(n, m)-1/2)/4\n",
    "betainit = beta0 * initbetapref\n",
    "bThetainit = bTheta0 * initthetapref\n",
    "#betainit = torch.cat((torch.tensor([0.8, 0, 1.5, 0, -2.5, -4.3, 4.8]), torch.zeros(p-7))) * 10\n",
    "#bThetainit = genbTheta(n, m, sigVs=np.array([15, 10, 7, 5, 5])/2) \n",
    "\n",
    "#X = genXUnif(n, m, p) \n",
    "X = genXBin(n, m, p, prob=prob) \n",
    "Y = genYnorm(X, bTheta0, beta0, sigmaY)\n",
    "# around 95% missing rate\n",
    "inps = {}\n",
    "inps[50] = - 8.0\n",
    "inps[100] =  -5.93\n",
    "inps[200] = -5.30\n",
    "inps[400] = -5.2\n",
    "inps[800] = -5.15\n",
    "inps[1600] = -5.1\n",
    "R = genR(Y, \"linear\", inp=inps[n], slop=1)\n",
    "R.to_dense().mean()"
   ]
  },
  {
   "cell_type": "code",
   "execution_count": 15,
   "id": "6feb2bfc",
   "metadata": {},
   "outputs": [],
   "source": [
    "v1 = lossLpb(bTheta0, beta0, conDenfs, X, Y, R, fct=10, N=10000)"
   ]
  },
  {
   "cell_type": "code",
   "execution_count": 16,
   "id": "95c780c4",
   "metadata": {},
   "outputs": [],
   "source": [
    "v1 = marLossLpT(bTheta0, beta0, conDenfs, X, Y, R)\n",
    "v2 = lossLpT(bTheta0, beta0, conDenfs, X, Y, R)"
   ]
  },
  {
   "cell_type": "code",
   "execution_count": 17,
   "id": "4a7049a3",
   "metadata": {},
   "outputs": [
    {
     "data": {
      "text/plain": [
       "tensor(2.6509e-05)"
      ]
     },
     "execution_count": 17,
     "metadata": {},
     "output_type": "execute_result"
    }
   ],
   "source": [
    "torch.norm(v1)"
   ]
  },
  {
   "cell_type": "code",
   "execution_count": 15,
   "id": "77d5cf0f",
   "metadata": {},
   "outputs": [
    {
     "data": {
      "text/plain": [
       "tensor(0.0004)"
      ]
     },
     "execution_count": 15,
     "metadata": {},
     "output_type": "execute_result"
    }
   ],
   "source": [
    "torch.norm(v1  - v2)"
   ]
  },
  {
   "cell_type": "code",
   "execution_count": 106,
   "id": "d105c8a1",
   "metadata": {},
   "outputs": [],
   "source": [
    "etaT = 0.1\n",
    "CT = 20"
   ]
  },
  {
   "cell_type": "code",
   "execution_count": 107,
   "id": "78b19417",
   "metadata": {},
   "outputs": [],
   "source": [
    "bThetaOld = bTheta0\n",
    "betaNew = beta0\n",
    "LamT = LamTfn(CT, n, m, p)"
   ]
  },
  {
   "cell_type": "code",
   "execution_count": 108,
   "id": "a40ab036",
   "metadata": {},
   "outputs": [],
   "source": [
    "LpTvOld = lossLpT(bThetaOld, betaNew, conDenfs, X, Y, R)\n",
    "svdres = torch.svd(bThetaOld-LpTvOld*etaT)\n",
    "U, S, V =  svdres.U, svdres.S, svdres.V\n",
    "softS = (S-LamT*etaT).clamp_min(0)\n",
    "bThetaNew1 = U.matmul(torch.diag(softS)).matmul(V.t())"
   ]
  },
  {
   "cell_type": "code",
   "execution_count": 109,
   "id": "c7c877de",
   "metadata": {},
   "outputs": [],
   "source": [
    "bThetaOld = bTheta0\n",
    "betaNew = beta0\n",
    "LamT = LamTfn(CT, n, m, p)"
   ]
  },
  {
   "cell_type": "code",
   "execution_count": 110,
   "id": "3a0da103",
   "metadata": {},
   "outputs": [],
   "source": [
    "LpTvOld = marLossLpT(bThetaOld, betaNew, conDenfs, X, Y, R)\n",
    "svdres = torch.svd(bThetaOld-LpTvOld*etaT)\n",
    "U, S, V =  svdres.U, svdres.S, svdres.V\n",
    "softS = (S-LamT*etaT).clamp_min(0)\n",
    "bThetaNew2 = U.matmul(torch.diag(softS)).matmul(V.t())"
   ]
  },
  {
   "cell_type": "code",
   "execution_count": 111,
   "id": "99db9d4f",
   "metadata": {},
   "outputs": [
    {
     "data": {
      "text/plain": [
       "tensor(0.0004)"
      ]
     },
     "execution_count": 111,
     "metadata": {},
     "output_type": "execute_result"
    }
   ],
   "source": [
    "torch.norm(bThetaNew1 - bThetaNew2)"
   ]
  },
  {
   "cell_type": "code",
   "execution_count": 43,
   "id": "626f1fce",
   "metadata": {},
   "outputs": [],
   "source": [
    "# calaulte the updated beta under MAR for linear\n",
    "# I didn't check it before. \n",
    "# the beta is before soft-thresholding\n",
    "def marLinearUpdateBeta(X, Y, R, bTheta):\n",
    "    if not R.is_sparse:\n",
    "        R = R.to_sparse()\n",
    "    if not X.is_sparse:\n",
    "        X = X.to_sparse()\n",
    "    YvecP = Y[R.to_dense().bool()] # M \n",
    "    bThetaVecP = bTheta[R.to_dense().bool()] # M \n",
    "    XvecP = X.to_dense()[R.to_dense().bool()].to_sparse() #M x p\n",
    "    itm1 = ((YvecP-bThetaVecP).reshape(-1, 1) * XvecP.to_dense()).sum(axis=0)\n",
    "    itm2inv = XvecP.to_dense().T.matmul(XvecP.to_dense())\n",
    "    itm2 = torch.inverse(itm2inv)\n",
    "    betaHat = itm1.matmul(itm2)\n",
    "    return betaHat"
   ]
  },
  {
   "cell_type": "code",
   "execution_count": 20,
   "id": "43a6ebcf",
   "metadata": {},
   "outputs": [],
   "source": [
    "beta = beta0\n",
    "bThetaOld = bTheta0"
   ]
  },
  {
   "cell_type": "code",
   "execution_count": 36,
   "id": "f1af9774",
   "metadata": {},
   "outputs": [],
   "source": [
    "# calaulte the updated bTheta under MNAR for linear, approximately\n",
    "# I didn't check it before. \n",
    "# the theta is before soft-thresholding\n",
    "def mnarLinearUpdateThetaApprox(X, Y, R, bThetaOld, beta, sigma=5):\n",
    "    bThetaNew = bThetaOld.clone()\n",
    "    betaX = X.to_dense().matmul(beta)\n",
    "    mu = torch.mean(betaX)\n",
    "    sigma2sq = torch.var(betaX)\n",
    "    sigma1sq = sigma**2\n",
    "    YvecP = Y[R.to_dense().bool()] # M \n",
    "    betaXvecP = betaX[R.to_dense().bool()]\n",
    "    bThetaNewVecP = (YvecP * sigma2sq + mu * sigma1sq  - (sigma1sq+sigma2sq)*betaXvecP)/sigma2sq\n",
    "    bThetaNew[R.to_dense().bool()] = bThetaNewVecP\n",
    "    return bThetaNew"
   ]
  },
  {
   "cell_type": "code",
   "execution_count": 38,
   "id": "b51b750d",
   "metadata": {},
   "outputs": [],
   "source": [
    "# calaulte the updated bTheta under MAR for linear\n",
    "# I didn't check it before. \n",
    "# the theta is before soft-thresholding\n",
    "def marLinearUpdateTheta(X, Y, R, bThetaOld, beta):\n",
    "    bThetaNew = bThetaOld.clone()\n",
    "    betaX = X.to_dense().matmul(beta)\n",
    "    YvecP = Y[R.to_dense().bool()] # M \n",
    "    betaXvecP = betaX[R.to_dense().bool()]\n",
    "    bThetaNewVecP = YvecP  - betaXvecP\n",
    "    bThetaNew[R.to_dense().bool()] = bThetaNewVecP\n",
    "    return bThetaNew"
   ]
  },
  {
   "cell_type": "code",
   "execution_count": 40,
   "id": "e8acf34a",
   "metadata": {},
   "outputs": [],
   "source": [
    "sigma = 5"
   ]
  },
  {
   "cell_type": "code",
   "execution_count": 42,
   "id": "52eb752b",
   "metadata": {},
   "outputs": [],
   "source": [
    "beta = beta0\n",
    "bTheta = bTheta0"
   ]
  },
  {
   "cell_type": "code",
   "execution_count": 49,
   "id": "0d1f2efa",
   "metadata": {},
   "outputs": [],
   "source": [
    "# calculate the loss under MAR \n",
    "# unchecked\n",
    "def marLinearLoss(X, Y, R, bTheta, beta, sigma):\n",
    "    n, m = Y.shape\n",
    "    YvecP = Y[R.to_dense().bool()] # M \n",
    "    bThetaVecP = bTheta[R.to_dense().bool()] # M \n",
    "    betaX = X.to_dense().matmul(beta)\n",
    "    betaXvecP = betaX[R.to_dense().bool()]\n",
    "    res = torch.sum(-(YvecP - bThetaVecP - betaXvecP)**2/2/sigma**2)/n/m\n",
    "    return res"
   ]
  },
  {
   "cell_type": "code",
   "execution_count": 48,
   "id": "bff98f24",
   "metadata": {},
   "outputs": [
    {
     "data": {
      "text/plain": [
       "tensor(-0.0014)"
      ]
     },
     "execution_count": 48,
     "metadata": {},
     "output_type": "execute_result"
    }
   ],
   "source": [
    "marLinearLoss(X, Y, R, bTheta, beta, sigma)"
   ]
  },
  {
   "cell_type": "code",
   "execution_count": null,
   "id": "993eea8e",
   "metadata": {},
   "outputs": [],
   "source": []
  }
 ],
 "metadata": {
  "kernelspec": {
   "display_name": "Python 3",
   "language": "python",
   "name": "python3"
  },
  "language_info": {
   "codemirror_mode": {
    "name": "ipython",
    "version": 3
   },
   "file_extension": ".py",
   "mimetype": "text/x-python",
   "name": "python",
   "nbconvert_exporter": "python",
   "pygments_lexer": "ipython3",
   "version": "3.6.10"
  }
 },
 "nbformat": 4,
 "nbformat_minor": 5
}

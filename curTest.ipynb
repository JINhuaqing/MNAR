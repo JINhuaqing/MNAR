{
 "cells": [
  {
   "cell_type": "code",
   "execution_count": 1,
   "id": "5c4459f7",
   "metadata": {},
   "outputs": [],
   "source": [
    "from utils_mar import *"
   ]
  },
  {
   "cell_type": "code",
   "execution_count": 5,
   "id": "0116a46f",
   "metadata": {},
   "outputs": [],
   "source": [
    "from IPython import display\n",
    "from utilsNew import *\n",
    "from utils import *\n",
    "import random\n",
    "import numpy as np\n",
    "import torch\n",
    "import pickle\n",
    "import timeit\n",
    "import time\n",
    "import argparse\n",
    "import pprint\n",
    "from pathlib import Path\n",
    "from confs import fn, fn2, fn22, LogFn\n",
    "#from tqdm import tqdm_notebook as tqdm\n",
    "from tqdm.notebook import tqdm\n",
    "import numpy.random as npr"
   ]
  },
  {
   "cell_type": "code",
   "execution_count": 3,
   "id": "0b3bb9ee",
   "metadata": {},
   "outputs": [],
   "source": [
    "import matplotlib.pyplot as plt\n",
    "import pickle"
   ]
  },
  {
   "cell_type": "code",
   "execution_count": 4,
   "id": "844dd753",
   "metadata": {},
   "outputs": [],
   "source": [
    "cudaid = 2\n",
    "loglv = 2\n",
    "torch.cuda.set_device(cudaid)\n",
    "#------------------------------------------------------------------------------------\n",
    "# fix the random seed for several packages\n",
    "torch.manual_seed(0) # cpu\n",
    "torch.cuda.manual_seed(0) #gpu\n",
    "np.random.seed(0) #numpy\n",
    "random.seed(0) #random and transforms\n",
    "torch.backends.cudnn.deterministic=True # cudnn"
   ]
  },
  {
   "cell_type": "code",
   "execution_count": 5,
   "id": "eeb88f53",
   "metadata": {},
   "outputs": [],
   "source": [
    "cuda = torch.cuda.is_available()\n",
    "if cuda:\n",
    "    torch.set_default_tensor_type(torch.cuda.DoubleTensor)"
   ]
  },
  {
   "cell_type": "code",
   "execution_count": 6,
   "id": "aeae1a4d",
   "metadata": {},
   "outputs": [],
   "source": [
    "conDenfs = [fn, fn2, fn22]\n",
    "f = fn\n",
    "f2 = fn2"
   ]
  },
  {
   "cell_type": "code",
   "execution_count": 7,
   "id": "f8258aa2",
   "metadata": {},
   "outputs": [
    {
     "data": {
      "text/plain": [
       "tensor(0.0502)"
      ]
     },
     "execution_count": 7,
     "metadata": {},
     "output_type": "execute_result"
    }
   ],
   "source": [
    "n = m = 400\n",
    "p = 50\n",
    "prob = 0.2\n",
    "\n",
    "sigmaY = 1.0\n",
    "\n",
    "# generate the parameters\n",
    "beta0 = torch.cat((torch.tensor([1.0, 0, 2, 0, -3, -4, 5]), torch.zeros(p-7))) \n",
    "bTheta0 = genbTheta(n, m, sigVs=np.array([10, 9, 8, 7, 6])*10) \n",
    "initbetapref = 1 + (torch.rand(p)-1/2)/40  #[0.875, 1.125]\n",
    "initthetapref = 1 + (torch.rand(n, m)-1/2)/4\n",
    "betainit = beta0 * initbetapref\n",
    "bThetainit = bTheta0 * initthetapref\n",
    "#betainit = torch.cat((torch.tensor([0.8, 0, 1.5, 0, -2.5, -4.3, 4.8]), torch.zeros(p-7))) * 10\n",
    "#bThetainit = genbTheta(n, m, sigVs=np.array([15, 10, 7, 5, 5])/2) \n",
    "\n",
    "#X = genXUnif(n, m, p) \n",
    "X = genXBin(n, m, p, prob=prob) \n",
    "Y = genYnorm(X, bTheta0, beta0, sigmaY)\n",
    "# around 95% missing rate\n",
    "inps = {}\n",
    "inps[50] = - 8.0\n",
    "inps[100] =  -5.93\n",
    "inps[200] = -5.30\n",
    "inps[400] = -5.2\n",
    "inps[800] = -5.15\n",
    "inps[1600] = -5.1\n",
    "R = genR(Y, \"linear\", inp=inps[n], slop=1)\n",
    "R.to_dense().mean()"
   ]
  },
  {
   "cell_type": "code",
   "execution_count": 8,
   "id": "6feb2bfc",
   "metadata": {},
   "outputs": [],
   "source": [
    "v1 = lossLpb(bTheta0, beta0, conDenfs, X, Y, R, fct=10, N=10000)"
   ]
  },
  {
   "cell_type": "code",
   "execution_count": 10,
   "id": "95c780c4",
   "metadata": {},
   "outputs": [],
   "source": [
    "v1 = marLossLpT(bTheta0, beta0, conDenfs, X, Y, R)\n",
    "v2 = lossLpT(bTheta0, beta0, conDenfs, X, Y, R)"
   ]
  },
  {
   "cell_type": "code",
   "execution_count": 14,
   "id": "4a7049a3",
   "metadata": {},
   "outputs": [
    {
     "data": {
      "text/plain": [
       "tensor(0.0007)"
      ]
     },
     "execution_count": 14,
     "metadata": {},
     "output_type": "execute_result"
    }
   ],
   "source": [
    "torch.norm(v1)"
   ]
  },
  {
   "cell_type": "code",
   "execution_count": 15,
   "id": "77d5cf0f",
   "metadata": {},
   "outputs": [
    {
     "data": {
      "text/plain": [
       "tensor(0.0004)"
      ]
     },
     "execution_count": 15,
     "metadata": {},
     "output_type": "execute_result"
    }
   ],
   "source": [
    "torch.norm(v1  - v2)"
   ]
  },
  {
   "cell_type": "code",
   "execution_count": 106,
   "id": "d105c8a1",
   "metadata": {},
   "outputs": [],
   "source": [
    "etaT = 0.1\n",
    "CT = 20"
   ]
  },
  {
   "cell_type": "code",
   "execution_count": 107,
   "id": "78b19417",
   "metadata": {},
   "outputs": [],
   "source": [
    "bThetaOld = bTheta0\n",
    "betaNew = beta0\n",
    "LamT = LamTfn(CT, n, m, p)"
   ]
  },
  {
   "cell_type": "code",
   "execution_count": 108,
   "id": "a40ab036",
   "metadata": {},
   "outputs": [],
   "source": [
    "LpTvOld = lossLpT(bThetaOld, betaNew, conDenfs, X, Y, R)\n",
    "svdres = torch.svd(bThetaOld-LpTvOld*etaT)\n",
    "U, S, V =  svdres.U, svdres.S, svdres.V\n",
    "softS = (S-LamT*etaT).clamp_min(0)\n",
    "bThetaNew1 = U.matmul(torch.diag(softS)).matmul(V.t())"
   ]
  },
  {
   "cell_type": "code",
   "execution_count": 109,
   "id": "c7c877de",
   "metadata": {},
   "outputs": [],
   "source": [
    "bThetaOld = bTheta0\n",
    "betaNew = beta0\n",
    "LamT = LamTfn(CT, n, m, p)"
   ]
  },
  {
   "cell_type": "code",
   "execution_count": 110,
   "id": "3a0da103",
   "metadata": {},
   "outputs": [],
   "source": [
    "LpTvOld = marLossLpT(bThetaOld, betaNew, conDenfs, X, Y, R)\n",
    "svdres = torch.svd(bThetaOld-LpTvOld*etaT)\n",
    "U, S, V =  svdres.U, svdres.S, svdres.V\n",
    "softS = (S-LamT*etaT).clamp_min(0)\n",
    "bThetaNew2 = U.matmul(torch.diag(softS)).matmul(V.t())"
   ]
  },
  {
   "cell_type": "code",
   "execution_count": 111,
   "id": "99db9d4f",
   "metadata": {},
   "outputs": [
    {
     "data": {
      "text/plain": [
       "tensor(0.0004)"
      ]
     },
     "execution_count": 111,
     "metadata": {},
     "output_type": "execute_result"
    }
   ],
   "source": [
    "torch.norm(bThetaNew1 - bThetaNew2)"
   ]
  },
  {
   "cell_type": "code",
   "execution_count": null,
   "id": "626f1fce",
   "metadata": {},
   "outputs": [],
   "source": []
  }
 ],
 "metadata": {
  "kernelspec": {
   "display_name": "Python 3",
   "language": "python",
   "name": "python3"
  },
  "language_info": {
   "codemirror_mode": {
    "name": "ipython",
    "version": 3
   },
   "file_extension": ".py",
   "mimetype": "text/x-python",
   "name": "python",
   "nbconvert_exporter": "python",
   "pygments_lexer": "ipython3",
   "version": "3.6.10"
  }
 },
 "nbformat": 4,
 "nbformat_minor": 5
}

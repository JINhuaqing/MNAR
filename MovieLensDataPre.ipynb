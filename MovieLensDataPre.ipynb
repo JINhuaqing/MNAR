{
 "cells": [
  {
   "cell_type": "markdown",
   "id": "0c94e20a",
   "metadata": {},
   "source": [
    "## For real data in movie lens"
   ]
  },
  {
   "cell_type": "code",
   "execution_count": 1,
   "id": "84b10b0f",
   "metadata": {},
   "outputs": [],
   "source": [
    "import numpy as np\n",
    "import torch\n",
    "import matplotlib.pyplot as plt\n",
    "from pathlib import Path\n",
    "import seaborn as sns\n",
    "%matplotlib inline"
   ]
  },
  {
   "cell_type": "code",
   "execution_count": 2,
   "id": "395f8ba7",
   "metadata": {},
   "outputs": [],
   "source": [
    "datDir = Path(\"./MovieLens/\")"
   ]
  },
  {
   "cell_type": "markdown",
   "id": "0c3f78b0",
   "metadata": {},
   "source": [
    "All ratings are contained in the file \"ratings.dat\" and are in the\n",
    "following format:\n",
    "\n",
    "UserID::MovieID::Rating::Timestamp\n",
    "\n",
    "- UserIDs range between 1 and 6040 \n",
    "- MovieIDs range between 1 and 3952\n",
    "- Ratings are made on a 5-star scale (whole-star ratings only)\n",
    "- Timestamp is represented in seconds since the epoch as returned by time(2)\n",
    "- Each user has at least 20 ratings\n",
    "- Not all the movies have a ratings"
   ]
  },
  {
   "cell_type": "markdown",
   "id": "9195f764",
   "metadata": {},
   "source": [
    "User information is in the file \"users.dat\" and is in the following\n",
    "format:\n",
    "\n",
    "UserID::Gender::Age::Occupation::Zip-code\n",
    "\n",
    "All demographic information is provided voluntarily by the users and is\n",
    "not checked for accuracy.  Only users who have provided some demographic\n",
    "information are included in this data set.\n",
    "\n",
    "- Gender is denoted by a \"M\" for male and \"F\" for female\n",
    "- Age is chosen from the following ranges:\n",
    "\n",
    "\t*  1:  \"Under 18\"\n",
    "\t* 18:  \"18-24\"\n",
    "\t* 25:  \"25-34\"\n",
    "\t* 35:  \"35-44\"\n",
    "\t* 45:  \"45-49\"\n",
    "\t* 50:  \"50-55\"\n",
    "\t* 56:  \"56+\""
   ]
  },
  {
   "cell_type": "code",
   "execution_count": 3,
   "id": "74e42505",
   "metadata": {},
   "outputs": [],
   "source": [
    "ratings = np.genfromtxt(datDir/\"ratings.dat\", delimiter=\"::\")"
   ]
  },
  {
   "cell_type": "code",
   "execution_count": 4,
   "id": "387ed6d5",
   "metadata": {},
   "outputs": [],
   "source": [
    "locs = ratings[:, 0:2].astype(np.int) - 1\n",
    "scs = ratings[:, 2].astype(np.int)"
   ]
  },
  {
   "cell_type": "code",
   "execution_count": 5,
   "id": "07968ac6",
   "metadata": {},
   "outputs": [],
   "source": [
    "Ymat = torch.sparse_coo_tensor(locs.T, scs, size=(6040, 3952))"
   ]
  },
  {
   "cell_type": "code",
   "execution_count": 6,
   "id": "3aa701a2",
   "metadata": {},
   "outputs": [],
   "source": [
    "R = (Ymat.to_dense() != 0).float().to_sparse()"
   ]
  },
  {
   "cell_type": "markdown",
   "id": "e7893c70",
   "metadata": {},
   "source": [
    "### Obtain Covariates\n",
    "\n",
    "I choose 1 from user and 1 from movies\n",
    "\n",
    "- Gender, 1 if female\n",
    "\n",
    "- Genres, 1 if Drama"
   ]
  },
  {
   "cell_type": "code",
   "execution_count": 7,
   "id": "4d4318df",
   "metadata": {},
   "outputs": [],
   "source": [
    "Users = np.genfromtxt(datDir/\"users.dat\", delimiter=\"::\",dtype=str)"
   ]
  },
  {
   "cell_type": "code",
   "execution_count": 8,
   "id": "fac69df1",
   "metadata": {},
   "outputs": [],
   "source": [
    "filMVs = datDir/\"movies.dat\"\n",
    "with open(filMVs, \"r\", errors=\"ignore\") as f:\n",
    "    MVsRaw = f.readlines()\n",
    "MVs = [MVRaw.split(\"::\")[0:3:2] for MVRaw in MVsRaw]"
   ]
  },
  {
   "cell_type": "code",
   "execution_count": 9,
   "id": "49da85d8",
   "metadata": {},
   "outputs": [
    {
     "data": {
      "text/plain": [
       "array([  91,  221,  323,  622,  646,  677,  686,  689,  740,  817,  883,\n",
       "        995, 1048, 1072, 1074, 1182, 1195, 1229, 1239, 1338, 1402, 1403,\n",
       "       1418, 1435, 1451, 1452, 1469, 1478, 1481, 1491, 1492, 1505, 1506,\n",
       "       1512, 1521, 1530, 1536, 1540, 1560, 1576, 1607, 1618, 1634, 1637,\n",
       "       1638, 1691, 1700, 1712, 1736, 1737, 1745, 1751, 1761, 1763, 1766,\n",
       "       1775, 1778, 1786, 1790, 1800, 1802, 1803, 1808, 1813, 1818, 1823,\n",
       "       1828, 1838, 3815])"
      ]
     },
     "execution_count": 9,
     "metadata": {},
     "output_type": "execute_result"
    }
   ],
   "source": [
    "# the mv ID which has no info for genre\n",
    "mvIDs = [int(MV[0]) for MV in MVs]\n",
    "fullMvIDs = list(range(1, 3953))\n",
    "rmIds = np.setdiff1d(fullMvIDs, mvIDs)\n",
    "rmIds"
   ]
  },
  {
   "cell_type": "code",
   "execution_count": 10,
   "id": "7e0efb4f",
   "metadata": {},
   "outputs": [],
   "source": [
    "# adjust Y accordingly\n",
    "Yarr = np.delete(Ymat.to_dense().cpu().numpy(), rmIds-1, axis=1)\n",
    "Ymat = torch.tensor(Yarr).to_sparse()\n",
    "R = (Ymat.to_dense() != 0).float().to_sparse()"
   ]
  },
  {
   "cell_type": "code",
   "execution_count": 13,
   "id": "d96f373e",
   "metadata": {},
   "outputs": [
    {
     "name": "stdout",
     "output_type": "stream",
     "text": [
      "The final data is of size torch.Size([6040, 3883]).\n"
     ]
    }
   ],
   "source": [
    "print(f\"The final data is of size {Ymat.shape}.\")"
   ]
  },
  {
   "cell_type": "markdown",
   "id": "71e0fb28",
   "metadata": {},
   "source": [
    "#### Count of movie types"
   ]
  },
  {
   "cell_type": "code",
   "execution_count": 11,
   "id": "2f10a9d6",
   "metadata": {},
   "outputs": [
    {
     "name": "stdout",
     "output_type": "stream",
     "text": [
      "Documentary 127\n",
      "Adventure 283\n",
      "Animation 105\n",
      "Sci-Fi 276\n",
      "Comedy 1200\n",
      "Crime 211\n",
      "Children's 251\n",
      "Fantasy 68\n",
      "Musical 114\n",
      "Mystery 106\n",
      "Romance 471\n",
      "War 143\n",
      "Horror 343\n",
      "Film-Noir 44\n",
      "Western 68\n",
      "Action 503\n",
      "Thriller 492\n",
      "Drama 1603\n"
     ]
    }
   ],
   "source": [
    "MVsType = [MV[1].strip().split(\"|\") for MV in MVs]\n",
    "cTypes = set(list(np.concatenate(MVsType)))\n",
    "for cType in cTypes:\n",
    "    print(cType, len([1  for MVType in MVsType if cType in MVType]))"
   ]
  },
  {
   "cell_type": "code",
   "execution_count": 12,
   "id": "63285159",
   "metadata": {},
   "outputs": [
    {
     "data": {
      "text/plain": [
       "0.4128251352047386"
      ]
     },
     "execution_count": 12,
     "metadata": {},
     "output_type": "execute_result"
    }
   ],
   "source": [
    "# if Drama, then 1\n",
    "selType = \"Drama\"\n",
    "mvXs = [selType in MV[1].strip().split(\"|\") for MV in MVs]\n",
    "mvXs = np.array(mvXs).astype(np.int)\n",
    "mvXs.mean()"
   ]
  },
  {
   "cell_type": "code",
   "execution_count": 13,
   "id": "54947f19",
   "metadata": {},
   "outputs": [
    {
     "data": {
      "text/plain": [
       "0.28294701986754967"
      ]
     },
     "execution_count": 13,
     "metadata": {},
     "output_type": "execute_result"
    }
   ],
   "source": [
    "# if Female, then 1\n",
    "userXs = np.array([user[1]==\"F\" for user in Users]).astype(np.int)\n",
    "userXs.mean()"
   ]
  },
  {
   "cell_type": "code",
   "execution_count": 14,
   "id": "75898248",
   "metadata": {},
   "outputs": [],
   "source": [
    "X1 = np.repeat(userXs.reshape(-1, 1), R.shape[1], axis=1)\n",
    "X2 = np.repeat(mvXs.reshape(1, -1), R.shape[0], axis=0)\n",
    "Xarr = np.array([X1, X2]).transpose((1, 2, 0))"
   ]
  },
  {
   "cell_type": "code",
   "execution_count": 15,
   "id": "a6053d59",
   "metadata": {},
   "outputs": [],
   "source": [
    "X = torch.tensor(Xarr).to_sparse()"
   ]
  },
  {
   "cell_type": "markdown",
   "id": "0af84816",
   "metadata": {},
   "source": [
    "### Check whether the dataset is correct or not"
   ]
  },
  {
   "cell_type": "code",
   "execution_count": 215,
   "id": "a3661b1d",
   "metadata": {},
   "outputs": [],
   "source": [
    "def MVID2idx(tMVID):\n",
    "    if tMVID in rmIds:\n",
    "        tMVidx = None\n",
    "    else:\n",
    "        tMVidx = tMVID - 1 - np.sum((rmIds - tMVID)< 0)\n",
    "    return tMVidx"
   ]
  },
  {
   "cell_type": "code",
   "execution_count": 255,
   "id": "ddb2d03d",
   "metadata": {},
   "outputs": [],
   "source": [
    "tUID, tMVID = ratings[200000, :2].astype(int)\n",
    "tUID, tMVID = 3000, 3700"
   ]
  },
  {
   "cell_type": "code",
   "execution_count": 256,
   "id": "16c08be5",
   "metadata": {},
   "outputs": [],
   "source": [
    "tX1 = [int(User[1]==\"F\") for User in Users if int(User[0])==tUID][0]\n",
    "tX2Tp = [MV[1] for MV in MVs if int(MV[0]) == tMVID]\n",
    "tX2 = int(selType in tX2Tp[0])\n",
    "tLoc = (ratings[:, 0] == tUID).astype(np.int) +  (ratings[:, 1] == tMVID).astype(np.int)\n",
    "if np.sum(tLoc == 2)==0:\n",
    "    tY = 0\n",
    "    tR = 0\n",
    "else:\n",
    "    info = ratings[tLoc==2, :][0]\n",
    "    tY = info[2]\n",
    "    tR=1"
   ]
  },
  {
   "cell_type": "code",
   "execution_count": 257,
   "id": "c2cb1b03",
   "metadata": {},
   "outputs": [],
   "source": [
    "if MVID2idx(tMVID) is None:\n",
    "    tdX = None\n",
    "    tdY = None\n",
    "    tdR = None\n",
    "else:\n",
    "    tdX = X.to_dense()[tUID-1, MVID2idx(tMVID)]\n",
    "    tdY = Ymat.to_dense()[tUID-1, MVID2idx(tMVID)]\n",
    "    tdR = R.to_dense()[tUID-1, MVID2idx(tMVID)]"
   ]
  },
  {
   "cell_type": "code",
   "execution_count": 258,
   "id": "090bad41",
   "metadata": {},
   "outputs": [
    {
     "name": "stdout",
     "output_type": "stream",
     "text": [
      "Under such case, \n",
      "the X1 is 0, \n",
      "the X2 is 1 with type ['Drama|Sci-Fi\\n'],\n",
      "the Y is 0 and R is 0\n"
     ]
    }
   ],
   "source": [
    "# results from orginal dataset\n",
    "print(\n",
    "    f\"Under such case, \\n\"\n",
    "    f\"the X1 is {tX1}, \\n\"\n",
    "    f\"the X2 is {tX2} with type {tX2Tp},\\n\"\n",
    "    f\"the Y is {tY} and R is {tR}\"\n",
    "     )"
   ]
  },
  {
   "cell_type": "code",
   "execution_count": 259,
   "id": "228f4f9e",
   "metadata": {},
   "outputs": [
    {
     "name": "stdout",
     "output_type": "stream",
     "text": [
      "Under such case in the data, \n",
      "the Xs are [0 1], \n",
      "the Y is 0 and R is 0.0\n"
     ]
    }
   ],
   "source": [
    "# results from cleaned dataset\n",
    "print(\n",
    "    f\"Under such case in the data, \\n\"\n",
    "    f\"the Xs are {tdX.cpu().numpy()}, \\n\"\n",
    "    f\"the Y is {tdY} and R is {tdR}\"\n",
    "     )"
   ]
  },
  {
   "cell_type": "markdown",
   "id": "c085ff27",
   "metadata": {},
   "source": [
    "###  Save the results"
   ]
  },
  {
   "cell_type": "code",
   "execution_count": 18,
   "id": "e38d4559",
   "metadata": {},
   "outputs": [],
   "source": [
    "import pickle"
   ]
  },
  {
   "cell_type": "code",
   "execution_count": 20,
   "id": "3912a172",
   "metadata": {},
   "outputs": [],
   "source": [
    "with open(datDir/\"mvlensX.pkl\", \"wb\") as f:\n",
    "    pickle.dump(X, f)"
   ]
  },
  {
   "cell_type": "code",
   "execution_count": 21,
   "id": "b025fafb",
   "metadata": {},
   "outputs": [],
   "source": [
    "with open(datDir/\"mvlensY.pkl\", \"wb\") as f:\n",
    "    pickle.dump(Ymat, f)"
   ]
  },
  {
   "cell_type": "code",
   "execution_count": 23,
   "id": "87e3758d",
   "metadata": {},
   "outputs": [],
   "source": [
    "with open(datDir/\"mvlensR.pkl\", \"wb\") as f:\n",
    "    pickle.dump(R, f)"
   ]
  },
  {
   "cell_type": "code",
   "execution_count": null,
   "id": "bcba3b24",
   "metadata": {},
   "outputs": [],
   "source": []
  }
 ],
 "metadata": {
  "kernelspec": {
   "display_name": "Python 3",
   "language": "python",
   "name": "python3"
  },
  "language_info": {
   "codemirror_mode": {
    "name": "ipython",
    "version": 3
   },
   "file_extension": ".py",
   "mimetype": "text/x-python",
   "name": "python",
   "nbconvert_exporter": "python",
   "pygments_lexer": "ipython3",
   "version": "3.6.10"
  }
 },
 "nbformat": 4,
 "nbformat_minor": 5
}

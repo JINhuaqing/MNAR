{
 "cells": [
  {
   "cell_type": "code",
   "execution_count": 1,
   "id": "e1bf1aa5",
   "metadata": {},
   "outputs": [],
   "source": [
    "from IPython import display\n",
    "import random\n",
    "import numpy as np\n",
    "import torch\n",
    "import pickle\n",
    "import timeit\n",
    "import time\n",
    "import argparse\n",
    "import pprint\n",
    "from pathlib import Path\n",
    "from confs import fn, fn2\n",
    "#from tqdm import tqdm_notebook as tqdm\n",
    "from tqdm.notebook import tqdm\n",
    "import numpy.random as npr\n",
    "from utilsNew import *"
   ]
  },
  {
   "cell_type": "code",
   "execution_count": 2,
   "id": "a74b5b78",
   "metadata": {},
   "outputs": [],
   "source": [
    "import matplotlib.pyplot as plt\n",
    "import pickle"
   ]
  },
  {
   "cell_type": "code",
   "execution_count": 4,
   "id": "28f69a68",
   "metadata": {},
   "outputs": [],
   "source": [
    "from implicit.als import AlternatingLeastSquares\n",
    "from collections import defaultdict as ddict\n",
    "from scipy.sparse import csr_matrix \n",
    "from implicit.nearest_neighbours import bm25_weight"
   ]
  },
  {
   "cell_type": "code",
   "execution_count": 5,
   "id": "a4cfa64a",
   "metadata": {},
   "outputs": [],
   "source": [
    "cudaid = 2\n",
    "torch.cuda.set_device(cudaid)\n",
    "torch.manual_seed(0) # cpu\n",
    "torch.cuda.manual_seed(0) #gpu\n",
    "np.random.seed(0) #numpy\n",
    "random.seed(0) #random and transforms\n",
    "torch.backends.cudnn.deterministic=True # cudnn"
   ]
  },
  {
   "cell_type": "code",
   "execution_count": 6,
   "id": "854e2ff5",
   "metadata": {},
   "outputs": [],
   "source": [
    "torch.set_default_dtype(torch.float64)\n",
    "cuda = torch.cuda.is_available()\n",
    "if cuda:\n",
    "    torch.set_default_tensor_type(torch.cuda.DoubleTensor)"
   ]
  },
  {
   "cell_type": "code",
   "execution_count": 7,
   "id": "4a2f3756",
   "metadata": {},
   "outputs": [],
   "source": [
    "def fRun(R, Cb, etaT, etab, Rall, maxIter=100, nR=16, a=0.1, is_plot=False, is_showPro=False, is_res=False):\n",
    "    #LamT = LamTfn(CT, n, m, p)\n",
    "    LamT = 0\n",
    "    #Lamb = 0\n",
    "    Lamb = Lambfn(Cb, n, m)\n",
    "    betaOld, bThetaOld = betainit, bThetainit\n",
    "    \n",
    "    \n",
    "    reCh = 10\n",
    "    Losses = []\n",
    "    betaDiffs = []\n",
    "    bThetaDiffs = []\n",
    "    betaNorms = []\n",
    "    bThetaNorms = []\n",
    "    betaL0s = []\n",
    "    bThetaRanks = []\n",
    "    \n",
    "    if is_showPro:\n",
    "        IterShowBar = tqdm(range(maxIter))\n",
    "    else:\n",
    "        IterShowBar = range(maxIter)\n",
    "    for t in IterShowBar:\n",
    "        t0 = time.time()\n",
    "        #LvNow = lossLBern(bThetaOld, betaOld, f, X, Y, R, probs=probs, fct=fct, is_logf=False)\n",
    "        LvNow = lossL(bThetaOld, betaOld, f, X, Y, R, is_logf=False, fct=fct)\n",
    "        \n",
    "        t1 = time.time()\n",
    "        # update beta\n",
    "        #LpbvOld = lossLpbBern(bThetaOld, betaOld, conDenfs[:3], X, Y, R, probs=probs, fct=fct)\n",
    "        LpbvOld = lossLpb(bThetaOld, betaOld, conDenfs[:3], X, Y, R, fct=fct)\n",
    "        betaNewRaw = betaOld - etab * LpbvOld\n",
    "        #betaNew = betaNewRaw.clone()\n",
    "        #betaNew[betaNew.abs()>=a] = betaNewRaw[betaNewRaw.abs()>=a].sign()*a\n",
    "        betaNew = SoftTO(betaNewRaw, etab*Lamb)\n",
    "       \n",
    "        t2 = time.time()\n",
    "        #LpTvOld = lossLpTBern(bThetaOld, betaNew, conDenfs[:3], X, Y, R, probs=probs, fct=fct)\n",
    "        LpTvOld = lossLpT(bThetaOld, betaNew, conDenfs[:3], X, Y, R, fct=fct)\n",
    "       \n",
    "        t3 = time.time()\n",
    "        # update Theta\n",
    "        #svdres = torch.svd(bThetaOld-LpTvOld*etaT)\n",
    "        svdres = torch.svd_lowrank(bThetaOld-LpTvOld*etaT, q=40) # it can be very  fast\n",
    "        U, S, V =  svdres\n",
    "        bThetaNew = U[:, :nR].matmul(torch.diag(S[:nR])).matmul(V[:, :nR].t())\n",
    "        #softS = (S-LamT*etaT).clamp_min(0)\n",
    "        #bThetaNew = U.matmul(torch.diag(softS)).matmul(V.t())\n",
    "        \n",
    "        LossNow = LossWP(LvNow, S, betaNew, LamT, Lamb)\n",
    "        Losses.append(LossNow.item())\n",
    "        t4 = time.time()\n",
    "        \n",
    "        ts = np.array([t0, t1, t2, t3, t4])\n",
    "        #print(np.diff(ts), torch.matrix_rank(bThetaOld))\n",
    "    \n",
    "        if t >= 1:\n",
    "            Lk1 = Losses[-1]\n",
    "            Lk = Losses[-2]\n",
    "            reCh = np.abs(Lk1-Lk)/np.max(np.abs((Lk, Lk1, 1))) \n",
    "        betaDiff = (betaOld-betaNew).norm().item()/(betaNew.norm().item()+1e-6)\n",
    "        bThetaDiff = (bThetaOld-bThetaNew).norm().item()/(bThetaNew.norm().item()+1e-6)\n",
    "        betaDiffs.append(betaDiff)\n",
    "        bThetaDiffs.append(bThetaDiff)\n",
    "        bThetaNorms.append(bThetaNew.norm().item())\n",
    "        betaNorms.append(betaNew.norm().item())\n",
    "        betaL0s.append(len(torch.nonzero(betaNew)))\n",
    "        bThetaRanks.append(torch.linalg.matrix_rank(bThetaNew).item())\n",
    "        \n",
    "        betaOld, bThetaOld = betaNew, bThetaNew \n",
    "        #etaT = 10/LpTvOld.norm().item()\n",
    "        etaT = etaT * 0.96\n",
    "        etab = etab * 0.95\n",
    "        if is_res:\n",
    "            res = RankMetricIter(betaOld, bThetaOld, Rall, R)\n",
    "            print(f\"The rank metric is {res.item():.4f},\", \n",
    "                  f\"The L0 norm of beta is {len(betaNew.nonzero())},\"\n",
    "                  f\"The norm of LpT is {LpTvOld.norm().item():.4e}.\") \n",
    "        \n",
    "        \n",
    "        # plot res\n",
    "        if t >= 1 and is_plot:\n",
    "            plt.figure(figsize=[15, 5])\n",
    "            \n",
    "            plt.subplot(131)\n",
    "            plt.xlim([0, maxIter])\n",
    "            #plt.ylim([-10, 5])\n",
    "            plt.title(\"Loss Diff\")\n",
    "            lossDifs = np.log(np.abs(np.diff(Losses)))\n",
    "            plt.plot(list(range(0, t)), lossDifs)\n",
    "            plt.scatter(t-1, lossDifs[-1], color=\"red\", s=20)\n",
    "            plt.axhline(y=np.log(tol), color=\"green\", linewidth=2, linestyle='--')\n",
    "            \n",
    "            \n",
    "            plt.subplot(132)\n",
    "            plt.xlim([0, maxIter])\n",
    "            #plt.ylim([0, p])\n",
    "            plt.title(\"Theta Norm\")\n",
    "            plt.plot(list(range(0, t+1)), bThetaNorms)\n",
    "            plt.scatter(t, bThetaNorms[-1], color=\"red\", s=20)\n",
    "            plt.text(t, bThetaNorms[-1], f\"Theta norm is {bThetaNorms[-1]:.3f}\")\n",
    "            #plt.axhline(y=5, color=\"green\", linewidth=2, linestyle='--')\n",
    "            \n",
    "            plt.subplot(133)\n",
    "            plt.xlim([0, maxIter])\n",
    "            #plt.ylim([0, np.min([n, m])])\n",
    "            plt.title(\"beta norm\")\n",
    "            plt.plot(list(range(0, t+1)), betaNorms)\n",
    "            plt.scatter(t, betaNorms[-1], color=\"red\", s=20)\n",
    "            plt.text(t, betaNorms[-1], f\"Beta norm is {betaNorms[-1]:.3f}\")\n",
    "            \n",
    "            #if (reCh >= tol) and ((bThetaDiff >= tolT) or (betaDiff >= tolb)) and (t<=(maxIter-1)):\n",
    "            display.clear_output(wait=True)\n",
    "            plt.pause(1e-7)\n",
    "            \n",
    "        if (reCh < tol):\n",
    "            break\n",
    "        if (bThetaDiff < tolT) and (betaDiff < tolb):\n",
    "            break\n",
    "    \n",
    "    res = {}\n",
    "    res[\"beta\"] = betaNew.cpu().numpy()\n",
    "    res[\"bTheta\"] = bThetaNew.cpu().numpy()\n",
    "    res[\"IterNum\"] = t\n",
    "    res[\"betaDiffs\"] = betaDiffs\n",
    "    res[\"bThetaDiffs\"] = bThetaDiffs\n",
    "    res[\"loss\"] = Losses\n",
    "    res[\"betaNorm0\"] = len(torch.nonzero(betaNew))\n",
    "    res[\"bThetaRank\"] = torch.linalg.matrix_rank(bThetaNew).item()\n",
    "    return res"
   ]
  },
  {
   "cell_type": "code",
   "execution_count": 79,
   "id": "9c16e4f2",
   "metadata": {},
   "outputs": [],
   "source": [
    "def marfRun(R, Cb, etaT, etab, Rall, maxIter=100, nR=16, is_plot=False, is_showPro=False):\n",
    "    #LamT = LamTfn(CT, n, m, p)\n",
    "    Lamb = Lambfn(Cb, n, m)\n",
    "    #Lamb = 0\n",
    "    LamT = 0\n",
    "    betaOld, bThetaOld = betainit, bThetainit\n",
    "    \n",
    "    \n",
    "    reCh = 10\n",
    "    Losses = []\n",
    "    betaDiffs = []\n",
    "    bThetaDiffs = []\n",
    "    betaNorms = []\n",
    "    bThetaNorms = []\n",
    "    betaL0s = []\n",
    "    bThetaRanks = []\n",
    "    \n",
    "    if is_showPro:\n",
    "        IterShowBar = tqdm(range(maxIter))\n",
    "    else:\n",
    "        IterShowBar = range(maxIter)\n",
    "    for t in IterShowBar:\n",
    "        res = RankMetricIter(betaOld, bThetaOld, Rall, R)\n",
    "        t0 = time.time()\n",
    "        #LvNow = marLinearLossL(X, Y, R, bThetaOld, betaOld, sigma=sigmaY) \n",
    "        LvNow = marLossL(bThetaOld, betaOld, f, X, Y, R, is_logf=False)\n",
    "        t1 = time.time()\n",
    "       \n",
    "        # update beta\n",
    "        LpbvOld = marLossLpb(bThetaOld, betaOld, conDenfs[:3], X, Y, R)\n",
    "        #print(LpbvOld.norm().item())\n",
    "        betaNewRaw = betaOld - etab * LpbvOld\n",
    "        #betaNew = betaNewRaw\n",
    "        betaNew = SoftTO(betaNewRaw, etab*Lamb)\n",
    "       \n",
    "        t2 = time.time()\n",
    "        LpTvOld = marLossLpT(bThetaOld, betaNew, conDenfs[:3], X, Y, R)\n",
    "        # print(LpTvOld.norm().item())\n",
    "        t3 = time.time()\n",
    "        #svdres = torch.svd_lowrank(bThetaOld-LpTvOld*etaT, q=40) # it can be very  fast\n",
    "        svdres = torch.svd(bThetaOld-LpTvOld*etaT)\n",
    "        U, S, V =  svdres\n",
    "        bThetaNew = U[:, :nR].matmul(torch.diag(S[:nR])).matmul(V[:, :nR].t())\n",
    "        #softS = (S-LamT*etaT).clamp_min(0)\n",
    "        #bThetaNew = U.matmul(torch.diag(softS)).matmul(V.t())\n",
    "        \n",
    "        LossNow = LossWP(LvNow, S[:nR], betaNew, LamT, Lamb)\n",
    "        #LossNow = LossWP(LvNow, softS, betaNew, LamT, Lamb)\n",
    "        Losses.append(LossNow.item())\n",
    "        t4 = time.time()\n",
    "        \n",
    "        ts = np.array([t0, t1, t2, t3, t4])\n",
    "        #print(np.diff(ts), torch.matrix_rank(bThetaOld))\n",
    "        if False:\n",
    "            print(f\"The rank metric is {res.item():.4f},\", \n",
    "                  f\"The L0 norm of beta is {len(betaNew.nonzero())},\"\n",
    "                  f\"The norm of LpT is {LpTvOld.norm().item():.4e}.\") \n",
    "    \n",
    "        if t >= 1:\n",
    "            Lk1 = Losses[-1]\n",
    "            Lk = Losses[-2]\n",
    "            reCh = np.abs(Lk1-Lk)/np.max(np.abs((Lk, Lk1, 1))) \n",
    "        betaDiff = (betaOld-betaNew).norm().item()/(betaNew.norm().item()+1e-6)\n",
    "        bThetaDiff = (bThetaOld-bThetaNew).norm().item()/(bThetaNew.norm().item()+1e-6)\n",
    "        bThetaNorms.append(bThetaNew.norm().item())\n",
    "        betaNorms.append(betaNew.norm().item())\n",
    "        betaDiffs.append(betaDiff)\n",
    "        bThetaDiffs.append(bThetaDiff)\n",
    "        betaL0s.append(len(torch.nonzero(betaNew)))\n",
    "        bThetaRanks.append(torch.linalg.matrix_rank(bThetaNew).item())\n",
    "        \n",
    "        betaOld, bThetaOld = betaNew, bThetaNew \n",
    "        etaT = etaT * 0.96\n",
    "        etab = etab * 0.95\n",
    "        \n",
    "        \n",
    "        # plot res\n",
    "        if t >= 1 and is_plot:\n",
    "            plt.figure(figsize=[15, 5])\n",
    "            \n",
    "            plt.subplot(131)\n",
    "            plt.xlim([0, maxIter])\n",
    "            #plt.ylim([-10, 5])\n",
    "            plt.title(\"Loss Diff\")\n",
    "            lossDifs = np.log(np.abs(np.diff(Losses)))\n",
    "            plt.plot(list(range(0, t)), lossDifs)\n",
    "            plt.scatter(t-1, lossDifs[-1], color=\"red\", s=20)\n",
    "            plt.axhline(y=np.log(tol), color=\"green\", linewidth=2, linestyle='--')\n",
    "            \n",
    "            \n",
    "            plt.subplot(132)\n",
    "            plt.xlim([0, maxIter])\n",
    "            #plt.ylim([0, p])\n",
    "            plt.title(\"Theta Norm\")\n",
    "            plt.plot(list(range(0, t+1)), bThetaNorms)\n",
    "            plt.scatter(t, bThetaNorms[-1], color=\"red\", s=20)\n",
    "            plt.text(t, bThetaNorms[-1], f\"Theta norm is {bThetaNorms[-1]:.3f}\")\n",
    "            #plt.axhline(y=5, color=\"green\", linewidth=2, linestyle='--')\n",
    "            \n",
    "            plt.subplot(133)\n",
    "            plt.xlim([0, maxIter])\n",
    "            #plt.ylim([0, np.min([n, m])])\n",
    "            plt.title(\"beta norm\")\n",
    "            plt.plot(list(range(0, t+1)), betaNorms)\n",
    "            plt.scatter(t, betaNorms[-1], color=\"red\", s=20)\n",
    "            plt.text(t, betaNorms[-1], f\"Beta norm is {betaNorms[-1]:.3f}\")\n",
    "            #plt.axhline(y=5, color=\"green\", linewidth=2, linestyle='--')\n",
    "            \n",
    "            #if (reCh >= tol) and ((bThetaDiff >= tolT) or (betaDiff >= tolb)) and (t<=(maxIter-1)):\n",
    "            display.clear_output(wait=True)\n",
    "            plt.pause(1e-7)\n",
    "            \n",
    "        if (reCh < tol):\n",
    "            break\n",
    "        \n",
    "        if (bThetaDiff < tolT) and (betaDiff < tolb):\n",
    "            break\n",
    "    \n",
    "    res = {}\n",
    "    res[\"beta\"] = betaNew.cpu().numpy()\n",
    "    res[\"bTheta\"] = bThetaNew.cpu().numpy()\n",
    "    res[\"IterNum\"] = t\n",
    "    res[\"betaDiffs\"] = betaDiffs\n",
    "    res[\"bThetaDiffs\"] = bThetaDiffs\n",
    "    res[\"loss\"] = Losses\n",
    "    res[\"betaNorm0\"] = len(torch.nonzero(betaNew))\n",
    "    res[\"bThetaRank\"] = torch.linalg.matrix_rank(bThetaNew).item()\n",
    "    return res"
   ]
  },
  {
   "cell_type": "code",
   "execution_count": 9,
   "id": "74049979",
   "metadata": {},
   "outputs": [],
   "source": [
    "def GenMissing(Yraw, OR=0.03, y1ratio=0.5):\n",
    "    \"\"\"\n",
    "    OR: observed ratio.\n",
    "    y1ratio: num of 1 / (num of 1 and 0) in the removed part\n",
    "    \"\"\"\n",
    "    # get the R\n",
    "    R = Yraw.clone()\n",
    "    R[Yraw!=0] = 1\n",
    "\n",
    "    rawOR = R.sum()/R.numel()\n",
    "    assert OR <= rawOR\n",
    "    \n",
    "    numrv = R.numel() * (rawOR-OR) # number of samples to remove\n",
    "    numrv1 = int(numrv*y1ratio) # number of 1 to remove\n",
    "    numrv0 = int(numrv) - numrv1 # number of 0 to remove\n",
    "\n",
    "    mask1 = (Yraw > 4.5) & (R==1) # matrix with observed 1 as True\n",
    "    mask0 = (Yraw < 4.5) & (R==1) # matrix with observed 0 as True\n",
    "    selidx1 = np.random.choice(int(torch.sum(mask1)), numrv1, replace=0)\n",
    "    selidx0 = np.random.choice(int(torch.sum(mask0)), numrv0, replace=0)\n",
    "\n",
    "    tmp1 = R[mask1] \n",
    "    tmp1[selidx1] = 0\n",
    "    R[mask1] = tmp1\n",
    "\n",
    "    tmp0 = R[mask0] \n",
    "    tmp0[selidx0] = 0\n",
    "    R[mask0] = tmp0\n",
    "\n",
    "    return R.double().to_sparse()\n"
   ]
  },
  {
   "cell_type": "code",
   "execution_count": 10,
   "id": "aaa37da5",
   "metadata": {},
   "outputs": [],
   "source": [
    "def RankMetric(res, R, Rtrain):\n",
    "    eProbs = X.to_dense().matmul(torch.tensor(res[\"beta\"])) + torch.tensor(res[\"bTheta\"])\n",
    "    Rdiff = R.to_dense() - Rtrain.to_dense()\n",
    "    eProbsQ = eProbs.argsort(axis=1, descending=True).argsort(axis=1)/eProbs.shape[1]\n",
    "    testProbsQ = eProbsQ[Rdiff==1]\n",
    "    testYraw = Yraw.to_dense()[Rdiff==1]\n",
    "    metric = torch.sum(testProbsQ * testYraw)/torch.sum(testYraw)\n",
    "    return metric"
   ]
  },
  {
   "cell_type": "code",
   "execution_count": 11,
   "id": "6c7fb170",
   "metadata": {},
   "outputs": [],
   "source": [
    "def RankMetricIter(beta, bTheta, R, Rtrain):\n",
    "    eProbs = X.to_dense().matmul(beta) + bTheta\n",
    "    Rdiff = R.to_dense() - Rtrain.to_dense()\n",
    "    eProbsQ = eProbs.argsort(axis=1, descending=True).argsort(axis=1)/eProbs.shape[1]\n",
    "    testProbsQ = eProbsQ[Rdiff==1]\n",
    "    testYraw = Yraw.to_dense()[Rdiff==1]\n",
    "    metric = torch.sum(testProbsQ * testYraw)/torch.sum(testYraw)\n",
    "    return metric"
   ]
  },
  {
   "cell_type": "code",
   "execution_count": 12,
   "id": "14d6f185",
   "metadata": {},
   "outputs": [],
   "source": [
    "def RankMetricALS(res, R, Rtrain):\n",
    "    eProbs = torch.tensor(np.matmul(res.item_factors, res.user_factors.T))\n",
    "    Rdiff = R.to_dense() - Rtrain.to_dense()\n",
    "    eProbsQ = eProbs.argsort(axis=1, descending=True).argsort(axis=1)/eProbs.shape[1]\n",
    "    testProbsQ = eProbsQ[Rdiff==1]\n",
    "    testYraw = Yraw.to_dense()[Rdiff==1]\n",
    "    metric = torch.sum(testProbsQ * testYraw)/torch.sum(testYraw)\n",
    "    return metric"
   ]
  },
  {
   "cell_type": "markdown",
   "id": "91f03288",
   "metadata": {},
   "source": [
    "### Load the data"
   ]
  },
  {
   "cell_type": "code",
   "execution_count": 13,
   "id": "92318422",
   "metadata": {},
   "outputs": [],
   "source": [
    "datDir = Path(\"./RealData//JMLR-R1\")"
   ]
  },
  {
   "cell_type": "code",
   "execution_count": 14,
   "id": "133d3903",
   "metadata": {},
   "outputs": [],
   "source": [
    "with open(datDir/\"Xmat.pkl\", \"rb\") as f:\n",
    "    Xarr = pickle.load(f)\n",
    "with open(datDir/\"Ymat.pkl\", \"rb\") as f:\n",
    "    YrawArr = pickle.load(f)\n",
    "\n",
    "YrawArr[YrawArr==-1] = 0\n",
    "means = Xarr.mean(axis=(0, 1))\n",
    "stds = Xarr.std(axis=(0, 1))\n",
    "Xarr = (Xarr-means)/stds"
   ]
  },
  {
   "cell_type": "code",
   "execution_count": 16,
   "id": "b002bb04",
   "metadata": {},
   "outputs": [],
   "source": [
    "X = torch.tensor(Xarr).double().to_sparse()\n",
    "Yraw = torch.tensor(YrawArr).double().to_sparse()\n",
    "R = (Yraw.to_dense() != 0).int().to_sparse()\n",
    "Y = Yraw.clone().to_dense()"
   ]
  },
  {
   "cell_type": "markdown",
   "id": "80bec945",
   "metadata": {},
   "source": [
    "ym = Y[R.to_dense().bool()].mean()\n",
    "yst = Y[R.to_dense().bool()].std()\n",
    "Y = (Y-ym)/yst"
   ]
  },
  {
   "cell_type": "markdown",
   "id": "e40ee318",
   "metadata": {},
   "source": [
    "## WFS tuning"
   ]
  },
  {
   "cell_type": "code",
   "execution_count": 25,
   "id": "3c8610eb",
   "metadata": {},
   "outputs": [],
   "source": [
    "numFcts = [1, 2, 4, 8, 16, 32, 64, 128]\n",
    "K1s = [1.2, 1.4, 1.6, 1.8, 2.0]"
   ]
  },
  {
   "cell_type": "code",
   "execution_count": 26,
   "id": "d0016458",
   "metadata": {},
   "outputs": [
    {
     "data": {
      "application/vnd.jupyter.widget-view+json": {
       "model_id": "be0cd39038a74f59bce3bdf95db101e8",
       "version_major": 2,
       "version_minor": 0
      },
      "text/plain": [
       "Main loop:   0%|          | 0/5 [00:00<?, ?it/s]"
      ]
     },
     "metadata": {},
     "output_type": "display_data"
    },
    {
     "data": {
      "application/vnd.jupyter.widget-view+json": {
       "model_id": "fda6110b3a3e49df881c3f42298bd993",
       "version_major": 2,
       "version_minor": 0
      },
      "text/plain": [
       "  0%|          | 0/8 [00:00<?, ?it/s]"
      ]
     },
     "metadata": {},
     "output_type": "display_data"
    },
    {
     "data": {
      "application/vnd.jupyter.widget-view+json": {
       "model_id": "704623c489e1453ab66d2e523395bc2c",
       "version_major": 2,
       "version_minor": 0
      },
      "text/plain": [
       "  0%|          | 0/8 [00:00<?, ?it/s]"
      ]
     },
     "metadata": {},
     "output_type": "display_data"
    },
    {
     "data": {
      "application/vnd.jupyter.widget-view+json": {
       "model_id": "4bcc935b5b664fb9a565916939b30d74",
       "version_major": 2,
       "version_minor": 0
      },
      "text/plain": [
       "  0%|          | 0/8 [00:00<?, ?it/s]"
      ]
     },
     "metadata": {},
     "output_type": "display_data"
    },
    {
     "data": {
      "application/vnd.jupyter.widget-view+json": {
       "model_id": "f46d01ca8d30490e9c2d1d5bce545000",
       "version_major": 2,
       "version_minor": 0
      },
      "text/plain": [
       "  0%|          | 0/8 [00:00<?, ?it/s]"
      ]
     },
     "metadata": {},
     "output_type": "display_data"
    },
    {
     "data": {
      "application/vnd.jupyter.widget-view+json": {
       "model_id": "b7c1c77485124400a4e6d92707ad7e83",
       "version_major": 2,
       "version_minor": 0
      },
      "text/plain": [
       "  0%|          | 0/8 [00:00<?, ?it/s]"
      ]
     },
     "metadata": {},
     "output_type": "display_data"
    }
   ],
   "source": [
    "ressALS = []\n",
    "for K1 in tqdm(K1s, desc=\"Main loop\"):\n",
    "    resALS = ddict(list)\n",
    "    for numFct in tqdm(numFcts):\n",
    "        for i in range(10):\n",
    "            # remove some data\n",
    "            Rtrain = GenMissing(Yraw.to_dense(), 0.05, 0.65)\n",
    "            Yn = Yraw.clone().to_dense()\n",
    "            Yn[Rtrain.to_dense()==0] = 0\n",
    "            \n",
    "            # obtain data for training\n",
    "            YtrainArr = csr_matrix(Yn.cpu().numpy())\n",
    "            YtrainArr.data[YtrainArr.data < 1] = 0\n",
    "            YtrainArr.eliminate_zeros()\n",
    "            YtrainArr = bm25_weight(YtrainArr, B=0.75, K1=K1).tocsr()\n",
    "            \n",
    "            ALSmodel = AlternatingLeastSquares(numFct, use_gpu=False)\n",
    "            ALSmodel.fit(YtrainArr, show_progress=False)\n",
    "            \n",
    "            res = RankMetricALS(ALSmodel, R, Rtrain)\n",
    "            resALS[numFct].append(res.item())\n",
    "    ressALS.append(resALS)"
   ]
  },
  {
   "cell_type": "code",
   "execution_count": 28,
   "id": "dd039fbc",
   "metadata": {},
   "outputs": [],
   "source": [
    "ressMeans = []\n",
    "ressVars = []\n",
    "\n",
    "for resALS in ressALS:\n",
    "    ressMean = []\n",
    "    ressVar = []\n",
    "    for numFct in numFcts:\n",
    "        resMean = torch.tensor(resALS[numFct]).mean()\n",
    "        resVar = torch.tensor(resALS[numFct]).var()\n",
    "        ressMean.append(resMean.item())\n",
    "        ressVar.append(resVar.item())\n",
    "    ressMeans.append(ressMean)\n",
    "    ressVars.append(ressVar)"
   ]
  },
  {
   "cell_type": "code",
   "execution_count": 30,
   "id": "3b50eacd",
   "metadata": {},
   "outputs": [
    {
     "data": {
      "text/plain": [
       "<matplotlib.legend.Legend at 0x7fde0c1deba8>"
      ]
     },
     "execution_count": 30,
     "metadata": {},
     "output_type": "execute_result"
    },
    {
     "data": {
      "image/png": "[encoded data removed]",
      "text/plain": [
       "<Figure size 432x432 with 1 Axes>"
      ]
     },
     "metadata": {
      "needs_background": "light"
     },
     "output_type": "display_data"
    }
   ],
   "source": [
    "pchs = [\"o-r\", \"h--b\", \"H-.y\", \"*-g\", \"v--k\"]\n",
    "plt.figure(figsize=[6, 6])\n",
    "for idx in range(len(ressMeans)):\n",
    "    ressMean = ressMeans[idx]\n",
    "    plt.plot(numFcts, ressMean, pchs[idx], label=f\"K1 is {K1s[idx]:.2f}\")\n",
    "#plt.text(optNumFct, minErr, f\"The optimal num is {optNumFct}.\")\n",
    "plt.ylabel(\"Expected percentile ranking\")\n",
    "plt.xscale(\"log\", base=2)\n",
    "plt.legend()"
   ]
  },
  {
   "cell_type": "code",
   "execution_count": 45,
   "id": "e5baf763",
   "metadata": {},
   "outputs": [
    {
     "name": "stdout",
     "output_type": "stream",
     "text": [
      "Optimal K1 is 2.0, optimal num of facts is  4, optimal ranking is 0.2944.\n"
     ]
    }
   ],
   "source": [
    "ressMeans = np.array(ressMeans)\n",
    "idxss = np.unravel_index(ressMeans.argmin(), ressMeans.shape)\n",
    "optK1 = K1s[idxss[0]]\n",
    "optNumFct = numFcts[idxss[1]]\n",
    "print(f\"Optimal K1 is {K1s[idxss[0]]}, \"\n",
    "      f\"optimal num of facts is  {numFcts[idxss[1]]}, \"\n",
    "      f\"optimal ranking is {ressMeans.min():.4f}.\")"
   ]
  },
  {
   "cell_type": "code",
   "execution_count": 158,
   "id": "255c8ba0",
   "metadata": {},
   "outputs": [],
   "source": [
    "with open(\"./JMLRR2/YelpWCFTuning.pkl\", \"wb\") as wf:\n",
    "    pickle.dump(ressMeans, wf)"
   ]
  },
  {
   "cell_type": "code",
   "execution_count": 154,
   "id": "49b98795",
   "metadata": {},
   "outputs": [
    {
     "data": {
      "image/png": "[encoded data removed]",
      "text/plain": [
       "<Figure size 1000x1000 with 1 Axes>"
      ]
     },
     "metadata": {
      "needs_background": "light"
     },
     "output_type": "display_data"
    }
   ],
   "source": [
    "optMeans = ressMeans[idxss[0], :]\n",
    "plt.figure(figsize=[5, 5], dpi=200)\n",
    "plt.plot(numFcts, optMeans*100, \"o-r\")\n",
    "plt.ylabel(\"Expected percentile ranking (%)\")\n",
    "plt.xlabel(\"Number of factors\")\n",
    "plt.xscale(\"log\", base=2)\n",
    "plt.savefig(\"./JMLRR2/YelpWCF.jpg\", bbox_inches='tight')"
   ]
  },
  {
   "cell_type": "markdown",
   "id": "c03c966d",
   "metadata": {},
   "source": [
    "### Tuning MNAR"
   ]
  },
  {
   "cell_type": "code",
   "execution_count": 104,
   "id": "9abb4714",
   "metadata": {},
   "outputs": [],
   "source": [
    "n, m, p = X.shape\n",
    "tol = 0\n",
    "tolT = tolb = 0"
   ]
  },
  {
   "cell_type": "code",
   "execution_count": 105,
   "id": "b7abc1f7",
   "metadata": {},
   "outputs": [],
   "source": [
    "sigmaY =2.0\n",
    "def f(y, m, bsXs=None, sigma=sigmaY):\n",
    "    return fn(y, m, bsXs, sigma)\n",
    "def f2(y, m, bsXs=None, sigma=sigmaY):\n",
    "    return fn2(y, m, bsXs, sigma)\n",
    "conDenfs = [f, f2, f2]"
   ]
  },
  {
   "cell_type": "code",
   "execution_count": 106,
   "id": "55f2a7da",
   "metadata": {},
   "outputs": [],
   "source": [
    "paraXs = [\n",
    "    [10, 1e4, 1000], \n",
    "    [10, 1e4, 100], \n",
    "    [10, 1e4, 10], \n",
    "    [10, 1e3, 100], \n",
    "    [10, 1e5, 100], \n",
    "    [5, 1e4, 100], \n",
    "    [1, 1e4, 100], \n",
    "]\n",
    "fct = 10"
   ]
  },
  {
   "cell_type": "code",
   "execution_count": null,
   "id": "ac9db2e8",
   "metadata": {},
   "outputs": [],
   "source": [
    "resMNARss = []\n",
    "for paraX in tqdm(paraXs, desc=\"Main Loop\"):\n",
    "    etab, etaT, Cb = paraX\n",
    "    resMNARs = []\n",
    "    for i in tqdm(range(10), desc=\"Inner Loop\"):\n",
    "        betainit = torch.zeros(p) \n",
    "        bThetainit = torch.rand(n, m)\n",
    "        Rtrain = GenMissing(Yraw.to_dense(), 0.05, 0.65)\n",
    "        resMAR = marfRun(Rtrain, Rall=R, Cb=0, etaT=1e6, etab=0, maxIter=50, nR=4, is_plot=0, is_showPro=0)\n",
    "        bThetainit = torch.tensor(resMAR['bTheta'])\n",
    "        betainit = torch.tensor(resMAR['beta'])\n",
    "        resMNAR = fRun(Rtrain, Rall=R, etaT=etaT, etab=etab, Cb=Cb, maxIter=50, a=0.5, nR=4, is_plot=0, is_showPro=0, is_res=0)\n",
    "        resMNARs.append(RankMetric(resMNAR, R, Rtrain).item())\n",
    "    resMNARss.append((paraX, resMNARs))"
   ]
  },
  {
   "cell_type": "code",
   "execution_count": 115,
   "id": "b0b7b50e",
   "metadata": {},
   "outputs": [
    {
     "name": "stdout",
     "output_type": "stream",
     "text": [
      "The optimal parameters are [10, 10000.0, 10], the ranking is 0.2770.\n"
     ]
    }
   ],
   "source": [
    "resMs = [np.mean(resMNARs[1]) for resMNARs in resMNARss]\n",
    "optX = resMNARss[np.argmin(resMs)][0]\n",
    "print(f\"The optimal parameters are {optX}, the ranking is {np.min(resMs):.4f}.\")"
   ]
  },
  {
   "cell_type": "markdown",
   "id": "2128bfc4",
   "metadata": {},
   "source": [
    "### Compare ALS with MNAR"
   ]
  },
  {
   "cell_type": "code",
   "execution_count": 118,
   "id": "74b8a083",
   "metadata": {},
   "outputs": [],
   "source": [
    "optK1 = 2.0\n",
    "optNumFct = 4\n",
    "etab, etaT, Cb = 10, 1e4, 10"
   ]
  },
  {
   "cell_type": "code",
   "execution_count": 119,
   "id": "9dfa6ec4",
   "metadata": {},
   "outputs": [
    {
     "data": {
      "application/vnd.jupyter.widget-view+json": {
       "model_id": "ac9c19dd0cc343da981888525d8614ee",
       "version_major": 2,
       "version_minor": 0
      },
      "text/plain": [
       "Loop:   0%|          | 0/20 [00:00<?, ?it/s]"
      ]
     },
     "metadata": {},
     "output_type": "display_data"
    }
   ],
   "source": [
    "resRanks = []\n",
    "for i in tqdm(range(20), desc=\"Loop\"):\n",
    "    Rtrain = GenMissing(Yraw.to_dense(), 0.05, 0.65)\n",
    "    Yn = Yraw.clone().to_dense()\n",
    "    Yn[Rtrain.to_dense()==0] = 0\n",
    "    \n",
    "    # obtain data for training\n",
    "    YtrainArr = csr_matrix(Yn.cpu().numpy())\n",
    "    YtrainArr.data[YtrainArr.data < 1] = 0\n",
    "    YtrainArr.eliminate_zeros()\n",
    "    YtrainArr = bm25_weight(YtrainArr, B=0.75, K1=optK1).tocsr()\n",
    "    \n",
    "    ALSmodel = AlternatingLeastSquares(optNumFct, use_gpu=False)\n",
    "    ALSmodel.fit(YtrainArr, show_progress=False)\n",
    "    \n",
    "    resALSrank = RankMetricALS(ALSmodel, R, Rtrain)\n",
    "    \n",
    "    betainit = torch.zeros(p) \n",
    "    bThetainit = torch.rand(n, m)\n",
    "    resMAR = marfRun(Rtrain, Rall=R, Cb=0, etaT=1e6, etab=0, maxIter=50, nR=4, is_plot=0, is_showPro=0)\n",
    "    bThetainit = torch.tensor(resMAR['bTheta'])\n",
    "    betainit = torch.tensor(resMAR['beta'])\n",
    "    resMNAR = fRun(Rtrain, Rall=R, etaT=etaT, etab=etab, Cb=Cb, maxIter=50, a=0.5, nR=4, is_plot=0, is_showPro=0, is_res=0)\n",
    "    resMNARrank = RankMetric(resMNAR, R, Rtrain)\n",
    "    \n",
    "    resRanks.append([resALSrank, resMNARrank])"
   ]
  },
  {
   "cell_type": "code",
   "execution_count": 124,
   "id": "2d9b3d9e",
   "metadata": {},
   "outputs": [],
   "source": [
    "resRanks = [[res[0].item(), res[1].item()] for res in resRanks]"
   ]
  },
  {
   "cell_type": "code",
   "execution_count": 129,
   "id": "57f95ab5",
   "metadata": {},
   "outputs": [],
   "source": [
    "ms = np.mean(resRanks, axis=0)\n",
    "stds = np.std(resRanks, axis=0)"
   ]
  },
  {
   "cell_type": "code",
   "execution_count": 132,
   "id": "d42170db",
   "metadata": {},
   "outputs": [],
   "source": [
    "ups = ms + 1.96*stds\n",
    "lowers = ms - 1.96*stds"
   ]
  },
  {
   "cell_type": "code",
   "execution_count": 133,
   "id": "0485a19e",
   "metadata": {},
   "outputs": [
    {
     "name": "stdout",
     "output_type": "stream",
     "text": [
      "95% CI for ALS is (0.2897, 0.2999).\n"
     ]
    }
   ],
   "source": [
    "print(f\"95% CI for ALS is ({lowers[0]:.4f}, {ups[0]:.4f}).\")"
   ]
  },
  {
   "cell_type": "code",
   "execution_count": 134,
   "id": "f5bf939b",
   "metadata": {},
   "outputs": [
    {
     "name": "stdout",
     "output_type": "stream",
     "text": [
      "95% CI for MNAR is (0.2744, 0.2794).\n"
     ]
    }
   ],
   "source": [
    "print(f\"95% CI for MNAR is ({lowers[1]:.4f}, {ups[1]:.4f}).\")"
   ]
  },
  {
   "cell_type": "code",
   "execution_count": 157,
   "id": "8c0d6f08",
   "metadata": {},
   "outputs": [],
   "source": [
    "with open(\"./JMLRR2/YelpFinalRes.pkl\", \"wb\") as wf:\n",
    "    pickle.dump(resRanks, wf)"
   ]
  },
  {
   "cell_type": "code",
   "execution_count": 155,
   "id": "d958fa54",
   "metadata": {},
   "outputs": [
    {
     "data": {
      "image/png": "[encoded data removed]",
      "text/plain": [
       "<Figure size 1000x1000 with 1 Axes>"
      ]
     },
     "metadata": {
      "needs_background": "light"
     },
     "output_type": "display_data"
    }
   ],
   "source": [
    "plt.figure(figsize=[5, 5], dpi=200)\n",
    "plt.boxplot(np.array(resRanks)*100)\n",
    "plt.ylabel(\"Expected percentile ranking (%)\")\n",
    "_ = plt.xticks([1, 2], [\"WCF\", \"MNAR\"])\n",
    "plt.savefig(\"./JMLRR2/YelpBoxplot.jpg\", bbox_inches='tight')"
   ]
  },
  {
   "cell_type": "code",
   "execution_count": null,
   "id": "37675fb0",
   "metadata": {},
   "outputs": [],
   "source": []
  }
 ],
 "metadata": {
  "kernelspec": {
   "display_name": "Python 3",
   "language": "python",
   "name": "python3"
  },
  "language_info": {
   "codemirror_mode": {
    "name": "ipython",
    "version": 3
   },
   "file_extension": ".py",
   "mimetype": "text/x-python",
   "name": "python",
   "nbconvert_exporter": "python",
   "pygments_lexer": "ipython3",
   "version": "3.6.10"
  }
 },
 "nbformat": 4,
 "nbformat_minor": 5
}

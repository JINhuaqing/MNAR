{
 "cells": [
  {
   "cell_type": "code",
   "execution_count": 1,
   "metadata": {},
   "outputs": [],
   "source": [
    "from utils import *\n",
    "import random\n",
    "import numpy as np\n",
    "import torch\n",
    "import pickle\n",
    "import timeit\n",
    "import time\n",
    "import pprint\n",
    "from pathlib import Path\n"
   ]
  },
  {
   "cell_type": "code",
   "execution_count": 2,
   "metadata": {},
   "outputs": [],
   "source": [
    "cudaid = 2\n",
    "# bs for prob = 1000/n/m \n",
    "bs = {\n",
    "        50: 15.,\n",
    "        100:2.55,\n",
    "        200:0.94,\n",
    "        400:0.80,\n",
    "        800:0.77,\n",
    "        1600:0.76,\n",
    "        3200:0.75,\n",
    "     }"
   ]
  },
  {
   "cell_type": "code",
   "execution_count": 3,
   "metadata": {},
   "outputs": [],
   "source": [
    "torch.cuda.set_device(cudaid)\n",
    "#------------------------------------------------------------------------------------\n",
    "# fix the random seed for several packages\n",
    "torch.manual_seed(0) # cpu\n",
    "torch.cuda.manual_seed(0) #gpu\n",
    "np.random.seed(0) #numpy\n",
    "random.seed(0) #random and transforms\n",
    "torch.backends.cudnn.deterministic=True # cudnn"
   ]
  },
  {
   "cell_type": "code",
   "execution_count": 4,
   "metadata": {},
   "outputs": [],
   "source": [
    "#------------------------------------------------------------------------------------\n",
    "# Whether GPU is available, \n",
    "cuda = torch.cuda.is_available()\n",
    "#cuda = False\n",
    "# Set default data type\n",
    "if cuda:\n",
    "    #torch.set_default_tensor_type(torch.cuda.FloatTensor)\n",
    "    torch.set_default_tensor_type(torch.cuda.DoubleTensor)"
   ]
  },
  {
   "cell_type": "code",
   "execution_count": 5,
   "metadata": {},
   "outputs": [],
   "source": [
    "#------------------------------------------------------------------------------------\n",
    "# Set the number of n, m, p\n",
    "# N is number of samples used for MCMC\n",
    "n = m = 100\n",
    "p = 50"
   ]
  },
  {
   "cell_type": "code",
   "execution_count": 6,
   "metadata": {},
   "outputs": [],
   "source": [
    "initbetapref = 1 + (torch.rand(p)-1/2)/4  #[0.75, 1.25]\n",
    "initthetapref = 1 + (torch.rand(n, m)-1/2)/4\n",
    "#------------------------------------------------------------------------------------\n",
    "# The successful probability of each entry of X\n",
    "prob =  1000/n/m\n",
    "sigmaY = 0.1"
   ]
  },
  {
   "cell_type": "code",
   "execution_count": 7,
   "metadata": {},
   "outputs": [],
   "source": [
    "# generate the parameters\n",
    "beta0 = torch.cat((torch.tensor([1.0, 0, 2, 0, -3, -4, 5]), torch.zeros(p-7))) * 10\n",
    "bTheta0 = genbTheta(n, m, sigVs=np.array([10, 9, 8, 7, 6])/2) \n",
    "TrueParas = [beta0, bTheta0]\n",
    "# initial value of beta and bTheta\n",
    "betainit = beta0 * initbetapref\n",
    "bThetainit = bTheta0 * initthetapref\n"
   ]
  },
  {
   "cell_type": "code",
   "execution_count": 8,
   "metadata": {},
   "outputs": [],
   "source": [
    "X = genXBin(n, m, p, prob=prob, is_sparse=True) \n",
    "Y = genYnorm(X, bTheta0, beta0, sigmaY)\n",
    "R = genR(Y, \"linear\", inp=bs[m], slop=5, is_sparse=True) # \n",
    "X = X.to_dense()\n",
    "R = R.to_dense()"
   ]
  },
  {
   "cell_type": "code",
   "execution_count": 12,
   "metadata": {},
   "outputs": [
    {
     "data": {
      "text/plain": [
       "array([[1., 1., 1., ..., 0., 1., 0.],\n",
       "       [0., 1., 1., ..., 0., 1., 0.],\n",
       "       [1., 1., 1., ..., 1., 1., 1.],\n",
       "       ...,\n",
       "       [1., 1., 1., ..., 0., 1., 0.],\n",
       "       [1., 0., 1., ..., 1., 0., 0.],\n",
       "       [1., 1., 1., ..., 0., 0., 1.]])"
      ]
     },
     "execution_count": 12,
     "metadata": {},
     "output_type": "execute_result"
    }
   ],
   "source": [
    "R.cpu().numpy()"
   ]
  },
  {
   "cell_type": "code",
   "execution_count": 14,
   "metadata": {},
   "outputs": [
    {
     "ename": "ModuleNotFoundError",
     "evalue": "No module named 'rpy2'",
     "output_type": "error",
     "traceback": [
      "\u001b[0;31m---------------------------------------------------------------------------\u001b[0m",
      "\u001b[0;31mModuleNotFoundError\u001b[0m                       Traceback (most recent call last)",
      "\u001b[0;32m<ipython-input-14-2344a8a5a61c>\u001b[0m in \u001b[0;36m<module>\u001b[0;34m\u001b[0m\n\u001b[0;32m----> 1\u001b[0;31m \u001b[0;32mimport\u001b[0m \u001b[0mrpy2\u001b[0m\u001b[0;34m.\u001b[0m\u001b[0mrobjects\u001b[0m \u001b[0;32mas\u001b[0m \u001b[0mrobj\u001b[0m\u001b[0;34m\u001b[0m\u001b[0;34m\u001b[0m\u001b[0m\n\u001b[0m",
      "\u001b[0;31mModuleNotFoundError\u001b[0m: No module named 'rpy2'"
     ]
    }
   ],
   "source": [
    "import rpy2.robjects as robj"
   ]
  },
  {
   "cell_type": "code",
   "execution_count": null,
   "metadata": {},
   "outputs": [],
   "source": []
  }
 ],
 "metadata": {
  "kernelspec": {
   "display_name": "Python 3",
   "language": "python",
   "name": "python3"
  },
  "language_info": {
   "codemirror_mode": {
    "name": "ipython",
    "version": 3
   },
   "file_extension": ".py",
   "mimetype": "text/x-python",
   "name": "python",
   "nbconvert_exporter": "python",
   "pygments_lexer": "ipython3",
   "version": "3.6.10"
  }
 },
 "nbformat": 4,
 "nbformat_minor": 4
}

{
 "cells": [
  {
   "cell_type": "markdown",
   "id": "37c5e680",
   "metadata": {},
   "source": [
    "This script is to run the Code when X is item-specific or user-specific"
   ]
  },
  {
   "cell_type": "code",
   "execution_count": 1,
   "id": "ca9e9e97",
   "metadata": {},
   "outputs": [],
   "source": [
    "from IPython import display\n",
    "import random\n",
    "import numpy as np\n",
    "import torch\n",
    "import pickle\n",
    "import timeit\n",
    "import time\n",
    "import argparse\n",
    "import pprint\n",
    "from pathlib import Path\n",
    "from confs import fn, fn2, fn22, LogFn, sigma\n",
    "#from tqdm import tqdm_notebook as tqdm\n",
    "from tqdm.notebook import tqdm\n",
    "import numpy.random as npr\n",
    "from utilsNew import *"
   ]
  },
  {
   "cell_type": "code",
   "execution_count": 2,
   "id": "393a68a6",
   "metadata": {},
   "outputs": [],
   "source": [
    "import matplotlib.pyplot as plt\n",
    "import pickle"
   ]
  },
  {
   "cell_type": "code",
   "execution_count": 3,
   "id": "5f8624de",
   "metadata": {},
   "outputs": [],
   "source": [
    "cudaid = 2\n",
    "torch.cuda.set_device(cudaid)\n",
    "torch.manual_seed(0) # cpu\n",
    "torch.cuda.manual_seed(0) #gpu\n",
    "np.random.seed(0) #numpy\n",
    "random.seed(0) #random and transforms\n",
    "torch.backends.cudnn.deterministic=True # cudnn"
   ]
  },
  {
   "cell_type": "code",
   "execution_count": 4,
   "id": "a233f753",
   "metadata": {},
   "outputs": [],
   "source": [
    "cuda = torch.cuda.is_available()\n",
    "if cuda:\n",
    "    torch.set_default_tensor_type(torch.cuda.DoubleTensor)"
   ]
  },
  {
   "cell_type": "markdown",
   "id": "6032d796",
   "metadata": {},
   "source": [
    "## Some fns"
   ]
  },
  {
   "cell_type": "code",
   "execution_count": 5,
   "id": "f602431e",
   "metadata": {},
   "outputs": [],
   "source": [
    "def emfRun(R, CT, Cb, etaT, etab, maxIter=100, is_plot=False, is_showPro=False):\n",
    "    LamT = LamTfn(CT, n, m, p)\n",
    "    Lamb = Lambfn(Cb, n, m)\n",
    "    betaOld, bThetaOld = betainit, bThetainit\n",
    "    \n",
    "    \n",
    "    Ynew = Y.clone()\n",
    "    Rb = (1-R.to_dense()).to_sparse()\n",
    "    \n",
    "    reCh = 10\n",
    "    Losses = []\n",
    "    betaDiffs = []\n",
    "    bThetaDiffs = []\n",
    "    betaErrs = []\n",
    "    bThetaErrs = []\n",
    "    betaL0s = []\n",
    "    bThetaRanks = []\n",
    "    \n",
    "    if is_showPro:\n",
    "        IterShowBar = tqdm(range(maxIter))\n",
    "    else:\n",
    "        IterShowBar = range(maxIter)\n",
    "    for t in IterShowBar:\n",
    "        # estimate Y at current parameters\n",
    "        Yhat = X.to_dense().matmul(betaOld) + bThetaOld\n",
    "        # impute the missing terms with estimated value\n",
    "        Ynew[Rb.to_dense().bool()] = Yhat[Rb.to_dense().bool()] \n",
    "        \n",
    "        t0 = time.time()\n",
    "        LvNow = emLossL(bThetaOld, betaOld, f, X, Ynew, is_logf=False)\n",
    "        t1 = time.time()\n",
    "       \n",
    "        # update beta\n",
    "        LpbvOld = emLossLpb(bThetaOld, betaOld, conDenfs[:3], X, Ynew)\n",
    "        betaNewRaw = betaOld - etab * LpbvOld\n",
    "        betaNew = SoftTO(betaNewRaw, etab*Lamb)\n",
    "       \n",
    "        t2 = time.time()\n",
    "        LpTvOld = emLossLpT(bThetaOld, betaNew, conDenfs[:3], X, Ynew)\n",
    "        t3 = time.time()\n",
    "        svdres = torch.svd_lowrank(bThetaOld-LpTvOld*etaT, q=10) # it can be very  fast\n",
    "        U, S, V =  svdres\n",
    "        softS = (S-LamT*etaT).clamp_min(0)\n",
    "        bThetaNew = U.matmul(torch.diag(softS)).matmul(V.t())\n",
    "        \n",
    "        LossNow = LossWP(LvNow, softS, betaNew, LamT, Lamb)\n",
    "        Losses.append(LossNow.item())\n",
    "        t4 = time.time()\n",
    "        \n",
    "        ts = np.array([t0, t1, t2, t3, t4])\n",
    "        #print(np.diff(ts), torch.matrix_rank(bThetaOld))\n",
    "    \n",
    "        if t >= 1:\n",
    "            Lk1 = Losses[-1]\n",
    "            Lk = Losses[-2]\n",
    "            reCh = np.abs(Lk1-Lk)/np.max(np.abs((Lk, Lk1, 1))) \n",
    "        betaDiff = (betaOld-betaNew).norm().item()/(betaNew.norm().item()+1e-6)\n",
    "        bThetaDiff = (bThetaOld-bThetaNew).norm().item()/(bThetaNew.norm().item()+1e-6)\n",
    "        betaDiffs.append(betaDiff)\n",
    "        bThetaDiffs.append(bThetaDiff)\n",
    "        betaErrs.append((betaNew-beta0).norm().item())\n",
    "        bThetaErrs.append((bThetaNew-bTheta0).norm().item())\n",
    "        betaL0s.append(len(torch.nonzero(betaNew)))\n",
    "        bThetaRanks.append(torch.linalg.matrix_rank(bThetaNew).item())\n",
    "        \n",
    "        betaOld, bThetaOld = betaNew, bThetaNew \n",
    "        etaT = etaT * 0.96\n",
    "        etab = etab * 0.95\n",
    "        \n",
    "        \n",
    "        # plot res\n",
    "        if t >= 1 and is_plot:\n",
    "            plt.figure(figsize=[15, 10])\n",
    "            \n",
    "            plt.subplot(231)\n",
    "            plt.xlim([0, maxIter])\n",
    "            #plt.ylim([-10, 5])\n",
    "            plt.title(\"Loss Diff\")\n",
    "            lossDifs = np.log(np.abs(np.diff(Losses)))\n",
    "            plt.plot(list(range(0, t)), lossDifs)\n",
    "            plt.scatter(t-1, lossDifs[-1], color=\"red\", s=20)\n",
    "            plt.axhline(y=np.log(tol), color=\"green\", linewidth=2, linestyle='--')\n",
    "            \n",
    "            plt.subplot(232)\n",
    "            plt.xlim([0, maxIter])\n",
    "            #plt.ylim([-5, 0])\n",
    "            plt.title(\"Beta Err\")\n",
    "            betaErrsArr = np.log(np.array(betaErrs))\n",
    "            plt.plot(list(range(0, t+1)), betaErrsArr)\n",
    "            plt.scatter(t, betaErrsArr[-1], color=\"red\", s=20)\n",
    "            plt.text(t, betaErrsArr[-1], f\"Error is {np.exp(betaErrsArr[-1]):.3e}\")\n",
    "            \n",
    "            plt.subplot(233)\n",
    "            plt.xlim([0, maxIter])\n",
    "            #plt.ylim([-5, 0])\n",
    "            plt.title(\"Theta Err\")\n",
    "            bThetaErrsArr = np.log(np.array(bThetaErrs))\n",
    "            plt.plot(list(range(0, t+1)), bThetaErrsArr)\n",
    "            plt.scatter(t, bThetaErrsArr[-1], color=\"red\", s=20)\n",
    "            plt.text(t, bThetaErrsArr[-1], f\"Error is {np.exp(bThetaErrsArr[-1]):.3e}\")\n",
    "            \n",
    "            plt.subplot(235)\n",
    "            plt.xlim([0, maxIter])\n",
    "            #plt.ylim([0, p])\n",
    "            plt.title(\"Beta L0\")\n",
    "            plt.plot(list(range(0, t+1)), betaL0s)\n",
    "            plt.scatter(t, betaL0s[-1], color=\"red\", s=20)\n",
    "            plt.text(t, betaL0s[-1], f\"L0 norm is {betaL0s[-1]:.0f}\")\n",
    "            plt.axhline(y=5, color=\"green\", linewidth=2, linestyle='--')\n",
    "            \n",
    "            plt.subplot(236)\n",
    "            plt.xlim([0, maxIter])\n",
    "            #plt.ylim([0, np.min([n, m])])\n",
    "            plt.title(\"Theta Rank\")\n",
    "            plt.plot(list(range(0, t+1)), bThetaRanks)\n",
    "            plt.scatter(t, bThetaRanks[-1], color=\"red\", s=20)\n",
    "            plt.text(t, bThetaRanks[-1], f\"rank is {bThetaRanks[-1]:.0f}\")\n",
    "            plt.axhline(y=5, color=\"green\", linewidth=2, linestyle='--')\n",
    "            \n",
    "            #if (reCh >= tol) and ((bThetaDiff >= tolT) or (betaDiff >= tolb)) and (t<=(maxIter-1)):\n",
    "            display.clear_output(wait=True)\n",
    "            plt.pause(1e-7)\n",
    "            \n",
    "        if (reCh < tol):\n",
    "            break\n",
    "        \n",
    "        if (bThetaDiff < tolT) and (betaDiff < tolb):\n",
    "            break\n",
    "    \n",
    "    res = {}\n",
    "    res[\"beta\"] = betaNew.cpu().numpy()\n",
    "    res[\"bTheta\"] = bThetaNew.cpu().numpy()\n",
    "    res[\"IterNum\"] = t\n",
    "    res[\"betaDiffs\"] = betaDiffs\n",
    "    res[\"bThetaDiffs\"] = bThetaDiffs\n",
    "    res[\"betaErrs\"] = betaErrs\n",
    "    res[\"bThetaErrs\"] = bThetaErrs\n",
    "    res[\"loss\"] = Losses\n",
    "    res[\"betaNorm0\"] = len(torch.nonzero(betaNew))\n",
    "    res[\"bThetaRank\"] = torch.linalg.matrix_rank(bThetaNew).item()\n",
    "    return res"
   ]
  },
  {
   "cell_type": "code",
   "execution_count": 6,
   "id": "33b311f4",
   "metadata": {},
   "outputs": [],
   "source": [
    "def marfRun(R, CT, Cb, etaT, etab, maxIter=100, is_plot=False, is_showPro=False):\n",
    "    LamT = LamTfn(CT, n, m, p)\n",
    "    Lamb = Lambfn(Cb, n, m)\n",
    "    betaOld, bThetaOld = betainit, bThetainit\n",
    "    \n",
    "    \n",
    "    reCh = 10\n",
    "    Losses = []\n",
    "    betaDiffs = []\n",
    "    bThetaDiffs = []\n",
    "    betaErrs = []\n",
    "    bThetaErrs = []\n",
    "    betaL0s = []\n",
    "    bThetaRanks = []\n",
    "    \n",
    "    if is_showPro:\n",
    "        IterShowBar = tqdm(range(maxIter))\n",
    "    else:\n",
    "        IterShowBar = range(maxIter)\n",
    "    for t in IterShowBar:\n",
    "        t0 = time.time()\n",
    "        #LvNow = marLinearLossL(X, Y, R, bThetaOld, betaOld, sigma=sigmaY) \n",
    "        LvNow = marLossL(bThetaOld, betaOld, f, X, Y, R, is_logf=False)\n",
    "        t1 = time.time()\n",
    "       \n",
    "        # update beta\n",
    "        LpbvOld = marLossLpb(bThetaOld, betaOld, conDenfs[:3], X, Y, R)\n",
    "        betaNewRaw = betaOld - etab * LpbvOld\n",
    "        #betaNewRaw = marLinearUpdateBeta(X, Y, R, bThetaOld)\n",
    "        betaNew = SoftTO(betaNewRaw, etab*Lamb)\n",
    "       \n",
    "        t2 = time.time()\n",
    "        LpTvOld = marLossLpT(bThetaOld, betaNew, conDenfs[:3], X, Y, R)\n",
    "        #bThetaNewRaw = marLinearUpdateTheta(X, Y, R, bThetaOld, betaNew)\n",
    "        t3 = time.time()\n",
    "        #svdres = torch.svd(bThetaNewRaw)\n",
    "        svdres = torch.svd_lowrank(bThetaOld-LpTvOld*etaT, q=10) # it can be very  fast\n",
    "        #svdres = torch.svd(bThetaOld-LpTvOld*etaT)\n",
    "        U, S, V =  svdres\n",
    "        softS = (S-LamT*etaT).clamp_min(0)\n",
    "        bThetaNew = U.matmul(torch.diag(softS)).matmul(V.t())\n",
    "        \n",
    "        LossNow = LossWP(LvNow, softS, betaNew, LamT, Lamb)\n",
    "        Losses.append(LossNow.item())\n",
    "        t4 = time.time()\n",
    "        \n",
    "        ts = np.array([t0, t1, t2, t3, t4])\n",
    "        #print(np.diff(ts), torch.matrix_rank(bThetaOld))\n",
    "    \n",
    "        if t >= 1:\n",
    "            Lk1 = Losses[-1]\n",
    "            Lk = Losses[-2]\n",
    "            reCh = np.abs(Lk1-Lk)/np.max(np.abs((Lk, Lk1, 1))) \n",
    "        betaDiff = (betaOld-betaNew).norm().item()/(betaNew.norm().item()+1e-6)\n",
    "        bThetaDiff = (bThetaOld-bThetaNew).norm().item()/(bThetaNew.norm().item()+1e-6)\n",
    "        betaDiffs.append(betaDiff)\n",
    "        bThetaDiffs.append(bThetaDiff)\n",
    "        betaErrs.append((betaNew-beta0).norm().item())\n",
    "        bThetaErrs.append((bThetaNew-bTheta0).norm().item())\n",
    "        betaL0s.append(len(torch.nonzero(betaNew)))\n",
    "        bThetaRanks.append(torch.linalg.matrix_rank(bThetaNew).item())\n",
    "        \n",
    "        betaOld, bThetaOld = betaNew, bThetaNew \n",
    "        etaT = etaT * 0.96\n",
    "        etab = etab * 0.95\n",
    "        \n",
    "        \n",
    "        # plot res\n",
    "        if t >= 1 and is_plot:\n",
    "            plt.figure(figsize=[15, 10])\n",
    "            \n",
    "            plt.subplot(231)\n",
    "            plt.xlim([0, maxIter])\n",
    "            #plt.ylim([-10, 5])\n",
    "            plt.title(\"Loss Diff\")\n",
    "            lossDifs = np.log(np.abs(np.diff(Losses)))\n",
    "            plt.plot(list(range(0, t)), lossDifs)\n",
    "            plt.scatter(t-1, lossDifs[-1], color=\"red\", s=20)\n",
    "            plt.axhline(y=np.log(tol), color=\"green\", linewidth=2, linestyle='--')\n",
    "            \n",
    "            plt.subplot(232)\n",
    "            plt.xlim([0, maxIter])\n",
    "            #plt.ylim([-5, 0])\n",
    "            plt.title(\"Beta Err\")\n",
    "            betaErrsArr = np.log(np.array(betaErrs))\n",
    "            plt.plot(list(range(0, t+1)), betaErrsArr)\n",
    "            plt.scatter(t, betaErrsArr[-1], color=\"red\", s=20)\n",
    "            plt.text(t, betaErrsArr[-1], f\"Error is {np.exp(betaErrsArr[-1]):.3e}\")\n",
    "            \n",
    "            plt.subplot(233)\n",
    "            plt.xlim([0, maxIter])\n",
    "            #plt.ylim([-5, 0])\n",
    "            plt.title(\"Theta Err\")\n",
    "            bThetaErrsArr = np.log(np.array(bThetaErrs))\n",
    "            plt.plot(list(range(0, t+1)), bThetaErrsArr)\n",
    "            plt.scatter(t, bThetaErrsArr[-1], color=\"red\", s=20)\n",
    "            plt.text(t, bThetaErrsArr[-1], f\"Error is {np.exp(bThetaErrsArr[-1]):.3e}\")\n",
    "            \n",
    "            plt.subplot(235)\n",
    "            plt.xlim([0, maxIter])\n",
    "            #plt.ylim([0, p])\n",
    "            plt.title(\"Beta L0\")\n",
    "            plt.plot(list(range(0, t+1)), betaL0s)\n",
    "            plt.scatter(t, betaL0s[-1], color=\"red\", s=20)\n",
    "            plt.text(t, betaL0s[-1], f\"L0 norm is {betaL0s[-1]:.0f}\")\n",
    "            plt.axhline(y=5, color=\"green\", linewidth=2, linestyle='--')\n",
    "            \n",
    "            plt.subplot(236)\n",
    "            plt.xlim([0, maxIter])\n",
    "            #plt.ylim([0, np.min([n, m])])\n",
    "            plt.title(\"Theta Rank\")\n",
    "            plt.plot(list(range(0, t+1)), bThetaRanks)\n",
    "            plt.scatter(t, bThetaRanks[-1], color=\"red\", s=20)\n",
    "            plt.text(t, bThetaRanks[-1], f\"rank is {bThetaRanks[-1]:.0f}\")\n",
    "            plt.axhline(y=5, color=\"green\", linewidth=2, linestyle='--')\n",
    "            \n",
    "            #if (reCh >= tol) and ((bThetaDiff >= tolT) or (betaDiff >= tolb)) and (t<=(maxIter-1)):\n",
    "            display.clear_output(wait=True)\n",
    "            plt.pause(1e-7)\n",
    "            \n",
    "        if (reCh < tol):\n",
    "            break\n",
    "        \n",
    "        if (bThetaDiff < tolT) and (betaDiff < tolb):\n",
    "            break\n",
    "    \n",
    "    res = {}\n",
    "    res[\"beta\"] = betaNew.cpu().numpy()\n",
    "    res[\"bTheta\"] = bThetaNew.cpu().numpy()\n",
    "    res[\"IterNum\"] = t\n",
    "    res[\"betaDiffs\"] = betaDiffs\n",
    "    res[\"bThetaDiffs\"] = bThetaDiffs\n",
    "    res[\"betaErrs\"] = betaErrs\n",
    "    res[\"bThetaErrs\"] = bThetaErrs\n",
    "    res[\"loss\"] = Losses\n",
    "    res[\"betaNorm0\"] = len(torch.nonzero(betaNew))\n",
    "    res[\"bThetaRank\"] = torch.linalg.matrix_rank(bThetaNew).item()\n",
    "    return res"
   ]
  },
  {
   "cell_type": "code",
   "execution_count": 7,
   "id": "a8296057",
   "metadata": {},
   "outputs": [],
   "source": [
    "def fRun(R, CT, Cb, etaT, etab, maxIter=100, is_plot=False, is_showPro=False):\n",
    "    LamT = LamTfn(CT, n, m, p)\n",
    "    Lamb = Lambfn(Cb, n, m)\n",
    "    betaOld, bThetaOld = betainit, bThetainit\n",
    "    \n",
    "    \n",
    "    reCh = 10\n",
    "    Losses = []\n",
    "    betaDiffs = []\n",
    "    bThetaDiffs = []\n",
    "    betaErrs = []\n",
    "    bThetaErrs = []\n",
    "    betaL0s = []\n",
    "    bThetaRanks = []\n",
    "    \n",
    "    if is_showPro:\n",
    "        IterShowBar = tqdm(range(maxIter))\n",
    "    else:\n",
    "        IterShowBar = range(maxIter)\n",
    "    for t in IterShowBar:\n",
    "        betaOldN0 = len(betaOld.nonzero())\n",
    "        t0 = time.time()\n",
    "        if betaOldN0 <= 10:\n",
    "            LvNow = lossLBern(bThetaOld, betaOld, f, X, Y, R, probs=prob, fct=fct, is_logf=False)\n",
    "        else:\n",
    "            LvNow = lossL(bThetaOld, betaOld, f, X, Y, R, fct=fct, is_logf=False)\n",
    "        \n",
    "        t1 = time.time()\n",
    "        # update beta\n",
    "        if betaOldN0 <= 10:\n",
    "            LpbvOld = lossLpbBern(bThetaOld, betaOld, conDenfs[:3], X, Y, R, probs=prob, fct=fct)\n",
    "        else:\n",
    "            LpbvOld = lossLpb(bThetaOld, betaOld, conDenfs[:3], X, Y, R, fct=fct)\n",
    "        betaNewRaw = betaOld - etab * LpbvOld\n",
    "        betaNew = SoftTO(betaNewRaw, etab*Lamb)\n",
    "        #print(betaNewRaw, etab*Lamb)\n",
    "        #print(betaNew, (etab*Lamb).item())\n",
    "       \n",
    "        t2 = time.time()\n",
    "        betaNewN0 = len(betaNew.nonzero())\n",
    "        if betaNewN0 <= 10:\n",
    "            LpTvOld = lossLpTBern(bThetaOld, betaNew, conDenfs[:3], X, Y, R, probs=prob, fct=fct)\n",
    "        else:\n",
    "            LpTvOld = lossLpT(bThetaOld, betaNew, conDenfs[:3], X, Y, R, fct=fct)\n",
    "       \n",
    "        t3 = time.time()\n",
    "        # update Theta\n",
    "        #svdres = torch.svd(bThetaOld-LpTvOld*etaT)\n",
    "        svdres = torch.svd_lowrank(bThetaOld-LpTvOld*etaT, q=10) # it can be very  fast\n",
    "        U, S, V =  svdres\n",
    "        softS = (S-LamT*etaT).clamp_min(0)\n",
    "        bThetaNew = U.matmul(torch.diag(softS)).matmul(V.t())\n",
    "        \n",
    "        LossNow = LossWP(LvNow, softS, betaNew, LamT, Lamb)\n",
    "        Losses.append(LossNow.item())\n",
    "        t4 = time.time()\n",
    "        \n",
    "        ts = np.array([t0, t1, t2, t3, t4])\n",
    "        #print(np.diff(ts), torch.matrix_rank(bThetaOld))\n",
    "    \n",
    "        if t >= 1:\n",
    "            Lk1 = Losses[-1]\n",
    "            Lk = Losses[-2]\n",
    "            reCh = np.abs(Lk1-Lk)/np.max(np.abs((Lk, Lk1, 1))) \n",
    "        betaDiff = (betaOld-betaNew).norm().item()/(betaNew.norm().item()+1e-6)\n",
    "        bThetaDiff = (bThetaOld-bThetaNew).norm().item()/(bThetaNew.norm().item()+1e-6)\n",
    "        betaDiffs.append(betaDiff)\n",
    "        bThetaDiffs.append(bThetaDiff)\n",
    "        betaErrs.append((betaNew-beta0).norm().item())\n",
    "        bThetaErrs.append((bThetaNew-bTheta0).norm().item())\n",
    "        betaL0s.append(len(torch.nonzero(betaNew)))\n",
    "        bThetaRanks.append(torch.linalg.matrix_rank(bThetaNew).item())\n",
    "        \n",
    "        betaOld, bThetaOld = betaNew, bThetaNew \n",
    "        etaT = etaT * 0.96\n",
    "        etab = etab * 0.95\n",
    "        \n",
    "        \n",
    "        # plot res\n",
    "        if t >= 1 and is_plot:\n",
    "            plt.figure(figsize=[15, 10])\n",
    "            \n",
    "            plt.subplot(231)\n",
    "            plt.xlim([0, maxIter])\n",
    "            #plt.ylim([-10, 5])\n",
    "            plt.title(\"Loss Diff\")\n",
    "            lossDifs = np.log(np.abs(np.diff(Losses)))\n",
    "            plt.plot(list(range(0, t)), lossDifs)\n",
    "            plt.scatter(t-1, lossDifs[-1], color=\"red\", s=20)\n",
    "            plt.axhline(y=np.log(tol), color=\"green\", linewidth=2, linestyle='--')\n",
    "            \n",
    "            plt.subplot(232)\n",
    "            plt.xlim([0, maxIter])\n",
    "            #plt.ylim([-5, 0])\n",
    "            plt.title(\"Beta Err\")\n",
    "            betaErrsArr = np.log(np.array(betaErrs))\n",
    "            plt.plot(list(range(0, t+1)), betaErrsArr)\n",
    "            plt.scatter(t, betaErrsArr[-1], color=\"red\", s=20)\n",
    "            plt.text(t, betaErrsArr[-1], f\"Error is {np.exp(betaErrsArr[-1]):.3e}\")\n",
    "            \n",
    "            plt.subplot(233)\n",
    "            plt.xlim([0, maxIter])\n",
    "            #plt.ylim([-5, 0])\n",
    "            plt.title(\"Theta Err\")\n",
    "            bThetaErrsArr = np.log(np.array(bThetaErrs))\n",
    "            plt.plot(list(range(0, t+1)), bThetaErrsArr)\n",
    "            plt.scatter(t, bThetaErrsArr[-1], color=\"red\", s=20)\n",
    "            plt.text(t, bThetaErrsArr[-1], f\"Error is {np.exp(bThetaErrsArr[-1]):.3e}\")\n",
    "            \n",
    "            plt.subplot(235)\n",
    "            plt.xlim([0, maxIter])\n",
    "            #plt.ylim([0, p])\n",
    "            plt.title(\"Beta L0\")\n",
    "            plt.plot(list(range(0, t+1)), betaL0s)\n",
    "            plt.scatter(t, betaL0s[-1], color=\"red\", s=20)\n",
    "            plt.text(t, betaL0s[-1], f\"L0 norm is {betaL0s[-1]:.0f}\")\n",
    "            plt.axhline(y=5, color=\"green\", linewidth=2, linestyle='--')\n",
    "            \n",
    "            plt.subplot(236)\n",
    "            plt.xlim([0, maxIter])\n",
    "            #plt.ylim([0, np.min([n, m])])\n",
    "            plt.title(\"Theta Rank\")\n",
    "            plt.plot(list(range(0, t+1)), bThetaRanks)\n",
    "            plt.scatter(t, bThetaRanks[-1], color=\"red\", s=20)\n",
    "            plt.text(t, bThetaRanks[-1], f\"rank is {bThetaRanks[-1]:.0f}\")\n",
    "            plt.axhline(y=5, color=\"green\", linewidth=2, linestyle='--')\n",
    "            \n",
    "            #if (reCh >= tol) and ((bThetaDiff >= tolT) or (betaDiff >= tolb)) and (t<=(maxIter-1)):\n",
    "            display.clear_output(wait=True)\n",
    "            plt.pause(1e-7)\n",
    "            \n",
    "        if (reCh < tol):\n",
    "            break\n",
    "        if (bThetaDiff < tolT) and (betaDiff < tolb):\n",
    "            break\n",
    "    \n",
    "    res = {}\n",
    "    res[\"beta\"] = betaNew.cpu().numpy()\n",
    "    res[\"bTheta\"] = bThetaNew.cpu().numpy()\n",
    "    res[\"IterNum\"] = t\n",
    "    res[\"betaDiffs\"] = betaDiffs\n",
    "    res[\"bThetaDiffs\"] = bThetaDiffs\n",
    "    res[\"betaErrs\"] = betaErrs\n",
    "    res[\"bThetaErrs\"] = bThetaErrs\n",
    "    res[\"loss\"] = Losses\n",
    "    res[\"betaNorm0\"] = len(torch.nonzero(betaNew))\n",
    "    res[\"bThetaRank\"] = torch.linalg.matrix_rank(bThetaNew).item()\n",
    "    return res"
   ]
  },
  {
   "cell_type": "code",
   "execution_count": 8,
   "id": "7f84d02c",
   "metadata": {},
   "outputs": [],
   "source": [
    "def genR2(Y, D=3):\n",
    "    probs = torch.zeros_like(Y)\n",
    "    Ystd = Y - torch.mean(Y)\n",
    "    probs = torch.exp(Ystd - D)\n",
    "    probs = probs/(1 + probs)\n",
    "    #probs[Ystd<0]\n",
    "    uniSps = torch.rand_like(probs)\n",
    "    R = uniSps <= probs\n",
    "    R = R.type_as(Y).to_sparse()\n",
    "    return R"
   ]
  },
  {
   "cell_type": "code",
   "execution_count": 9,
   "id": "7dcd5ce9",
   "metadata": {},
   "outputs": [],
   "source": [
    "# Generate X from Bernoulli distribution when X is item-sp or user-sp\n",
    "def genXBin2(n, m, p,  prob=0.2, is_sparse=True):\n",
    "    p1 = int(p/2)\n",
    "    p2 = int(p/2)\n",
    "    \n",
    "    X = npr.uniform(0, 1, (p1, n))\n",
    "    idxX = X < prob\n",
    "    pX1 = np.tile(idxX.reshape(p1, n, 1), m) * 1\n",
    "    pX1 = np.transpose(pX1, (1, 2, 0))\n",
    "    \n",
    "    X = npr.uniform(0, 1, (p2, m))\n",
    "    idxX = X < prob\n",
    "    pX2 = np.tile(idxX.reshape(p2, m, 1), n) * 1\n",
    "    pX2 = np.transpose(pX2, (2, 1, 0))\n",
    "    \n",
    "    X = np.concatenate([pX1, pX2], axis=-1)\n",
    "    if is_sparse:\n",
    "        return torch.tensor(X, device=\"cpu\").to(dtorchdtype).to_sparse().cuda()\n",
    "    else:\n",
    "        return torch.tensor(X).to(dtorchdtype)"
   ]
  },
  {
   "cell_type": "markdown",
   "id": "42d48214",
   "metadata": {},
   "source": [
    "## Set parameters"
   ]
  },
  {
   "cell_type": "code",
   "execution_count": 10,
   "id": "8be96cd6",
   "metadata": {},
   "outputs": [
    {
     "data": {
      "text/plain": [
       "tensor(0.1015)"
      ]
     },
     "execution_count": 10,
     "metadata": {},
     "output_type": "execute_result"
    }
   ],
   "source": [
    "n = m = 100\n",
    "p = 50\n",
    "prob = 0.2\n",
    "\n",
    "sigmaY = 5.0\n",
    "\n",
    "# generate the parameters\n",
    "beta0 = torch.cat((torch.tensor([1.0, 0, 2, 0, -3, -4, 5]), torch.zeros(p-7))) \n",
    "bTheta0 = genbTheta(n, m, sigVs=np.array([50, 9, 8, 7, 6])*10)/50\n",
    "initbetapref = 1 + (torch.rand(p)-1/2)/1 #[0.875, 1.125]\n",
    "initthetapref = 1 + (torch.rand(n, m)-1/2)/4\n",
    "betainit = beta0 * initbetapref\n",
    "bThetainit = bTheta0 * initthetapref\n",
    "\n",
    "X = genXBin2(n, m, p, prob=prob) \n",
    "Y = genYnorm(X, bTheta0, beta0, sigmaY)\n",
    "R = genR2(Y, D=7.8)\n",
    "R.to_dense().mean()"
   ]
  },
  {
   "cell_type": "code",
   "execution_count": 11,
   "id": "e2d8d84d",
   "metadata": {},
   "outputs": [],
   "source": [
    "def f(y, m, bsXs=None, sigma=sigmaY):\n",
    "    return fn(y, m, bsXs, sigma)\n",
    "def f2(y, m, bsXs=None, sigma=sigmaY):\n",
    "    return fn2(y, m, bsXs, sigma)\n",
    "conDenfs = [f, f2, fn22]"
   ]
  },
  {
   "cell_type": "code",
   "execution_count": 12,
   "id": "73f4dbbd",
   "metadata": {},
   "outputs": [],
   "source": [
    "tol = 1e-6\n",
    "tolT = 0\n",
    "tolb = 0"
   ]
  },
  {
   "cell_type": "markdown",
   "id": "b901b304",
   "metadata": {},
   "source": [
    "## Simu tuning"
   ]
  },
  {
   "cell_type": "code",
   "execution_count": 13,
   "id": "ebbc1035",
   "metadata": {},
   "outputs": [],
   "source": [
    "optParasMNAR = {}\n",
    "optParasMNAR[1600] =[1e-3, 1e3, 1.3e2, 10] # 1600\n",
    "optParasMNAR[800] =[2e-3, 1e3, 1.3e2, 5] # 800\n",
    "optParasMNAR[400] =[1e-3, 5e2, 1.3e2, 1] # 400\n",
    "optParasMNAR[200] =[1e-3, 5e2, 1.3e2, 1.15] # 200\n",
    "optParasMNAR[100] =[1e-3, 1e2, 1.3e2, 3] # 100\n",
    "\n",
    "optParasMAR = {}\n",
    "optParasMAR[1600] = [1e-3, 2e4, 5e2, 0.5] #1600\n",
    "optParasMAR[800] = [2e-3, 1e4, 2e2, 0.5] #800\n",
    "optParasMAR[400] = [2e-3, 3e3, 1.8e2, 1.0] #400\n",
    "optParasMAR[200] = [1.5e-3, 9e2, 2e2, 1.3] #200\n",
    "optParasMAR[100] = [3e-3, 1e2, 1e2, 5]  #100\n",
    "\n",
    "optParasEM = {}\n",
    "optParasEM[1600] = [1e-2, 2e5, 5e1, 0.03] #1600\n",
    "optParasEM[800] = [2e-2, 1e5, 2e1, 0.1/2] #800\n",
    "optParasEM[400] = [2e-2, 3e4, 1.8e1, 0.10] #400\n",
    "optParasEM[200] = [1e-2, 8e3, 3e1, 0.13] #200\n",
    "optParasEM[100] = [1e-2, 1e3, 3e1, 0.5] #100"
   ]
  },
  {
   "cell_type": "code",
   "execution_count": 20,
   "id": "bb11645d",
   "metadata": {},
   "outputs": [
    {
     "data": {
      "application/vnd.jupyter.widget-view+json": {
       "model_id": "7e0e5743da5840b796e0cf3a56612a59",
       "version_major": 2,
       "version_minor": 0
      },
      "text/plain": [
       "  0%|          | 0/10 [00:00<?, ?it/s]"
      ]
     },
     "metadata": {},
     "output_type": "display_data"
    },
    {
     "data": {
      "application/vnd.jupyter.widget-view+json": {
       "model_id": "c4912ffd0e394e5e94e3694793a6ba96",
       "version_major": 2,
       "version_minor": 0
      },
      "text/plain": [
       "  0%|          | 0/100 [00:00<?, ?it/s]"
      ]
     },
     "metadata": {},
     "output_type": "display_data"
    },
    {
     "data": {
      "application/vnd.jupyter.widget-view+json": {
       "model_id": "079d176b0bed428fbd6ea1e32ff9df73",
       "version_major": 2,
       "version_minor": 0
      },
      "text/plain": [
       "  0%|          | 0/100 [00:00<?, ?it/s]"
      ]
     },
     "metadata": {},
     "output_type": "display_data"
    },
    {
     "data": {
      "application/vnd.jupyter.widget-view+json": {
       "model_id": "ef7a8c2f1de44f9ab470ca3da054591f",
       "version_major": 2,
       "version_minor": 0
      },
      "text/plain": [
       "  0%|          | 0/100 [00:00<?, ?it/s]"
      ]
     },
     "metadata": {},
     "output_type": "display_data"
    },
    {
     "data": {
      "application/vnd.jupyter.widget-view+json": {
       "model_id": "2eeea47b3b594923b8eea69eba323bd1",
       "version_major": 2,
       "version_minor": 0
      },
      "text/plain": [
       "  0%|          | 0/100 [00:00<?, ?it/s]"
      ]
     },
     "metadata": {},
     "output_type": "display_data"
    },
    {
     "data": {
      "application/vnd.jupyter.widget-view+json": {
       "model_id": "b94b06d59ffb4fd89497c4858c5ea9a3",
       "version_major": 2,
       "version_minor": 0
      },
      "text/plain": [
       "  0%|          | 0/100 [00:00<?, ?it/s]"
      ]
     },
     "metadata": {},
     "output_type": "display_data"
    },
    {
     "data": {
      "application/vnd.jupyter.widget-view+json": {
       "model_id": "57536cdbe72e41b3bf82d135aaaeb70c",
       "version_major": 2,
       "version_minor": 0
      },
      "text/plain": [
       "  0%|          | 0/100 [00:00<?, ?it/s]"
      ]
     },
     "metadata": {},
     "output_type": "display_data"
    },
    {
     "data": {
      "application/vnd.jupyter.widget-view+json": {
       "model_id": "95c3273c63604b0a96d75e10eabd1443",
       "version_major": 2,
       "version_minor": 0
      },
      "text/plain": [
       "  0%|          | 0/100 [00:00<?, ?it/s]"
      ]
     },
     "metadata": {},
     "output_type": "display_data"
    },
    {
     "data": {
      "application/vnd.jupyter.widget-view+json": {
       "model_id": "4a8570e77adb46188126cbe580fc49ef",
       "version_major": 2,
       "version_minor": 0
      },
      "text/plain": [
       "  0%|          | 0/100 [00:00<?, ?it/s]"
      ]
     },
     "metadata": {},
     "output_type": "display_data"
    },
    {
     "data": {
      "application/vnd.jupyter.widget-view+json": {
       "model_id": "a721d7a77e7e4e9eb96307f9be7c0a0f",
       "version_major": 2,
       "version_minor": 0
      },
      "text/plain": [
       "  0%|          | 0/100 [00:00<?, ?it/s]"
      ]
     },
     "metadata": {},
     "output_type": "display_data"
    },
    {
     "data": {
      "application/vnd.jupyter.widget-view+json": {
       "model_id": "eb97d67d93034fc58ed1295f91afd81e",
       "version_major": 2,
       "version_minor": 0
      },
      "text/plain": [
       "  0%|          | 0/100 [00:00<?, ?it/s]"
      ]
     },
     "metadata": {},
     "output_type": "display_data"
    }
   ],
   "source": [
    "fct = 1\n",
    "for n in [800]:\n",
    "    m = n\n",
    "    if n >=800:\n",
    "        fct=1\n",
    "    \n",
    "    beta0 = torch.cat((torch.tensor([1.0, 0, 2, 0, -3, -4, 5]), torch.zeros(p-7))) \n",
    "    bTheta0 = genbTheta(n, m, sigVs=np.array([50, 9, 8, 7, 6])*10)/50\n",
    "    \n",
    "    ressMAR = []\n",
    "    ressEM = []\n",
    "    ressMNAR = []\n",
    "    paraXMAR = optParasMAR[n]\n",
    "    paraXEM = optParasEM[n]\n",
    "    paraXMNAR = optParasMNAR[n]\n",
    "    for j in tqdm(range(10)):\n",
    "        initbetapref = 1 + (torch.rand(p)-1/2)/1\n",
    "        initthetapref = 1 + (torch.rand(n, m)-1/2)/4\n",
    "        betainit = beta0 * initbetapref\n",
    "        bThetainit = bTheta0 * initthetapref\n",
    "        X = genXBin2(n, m, p, prob=prob) \n",
    "        Y = genYnorm(X, bTheta0, beta0, sigmaY)\n",
    "        R = genR2(Y, D=7.8)\n",
    "        resMNAR = fRun(R, CT=paraXMNAR[0], Cb=paraXMNAR[1], etaT=paraXMNAR[2], etab=paraXMNAR[3], maxIter=100, is_plot=0, is_showPro=1)\n",
    "        ressMNAR.append((np.linalg.norm(beta0.cpu().numpy()-resMNAR[\"beta\"]), np.linalg.norm(bTheta0.cpu().numpy()-resMNAR[\"bTheta\"])))\n",
    "        \n",
    "        #resEM = emfRun(R, CT=paraXEM[0], Cb=paraXEM[1], etaT=paraXEM[2], etab=paraXEM[3], maxIter=100, is_plot=0, is_showPro=0)\n",
    "        #resMAR = marfRun(R, CT=paraXMAR[0], Cb=paraXMAR[1], etaT=paraXMAR[2], etab=paraXMAR[3], maxIter=100, is_plot=0, is_showPro=0)\n",
    "        #\n",
    "        #ressMAR.append((np.linalg.norm(beta0.cpu().numpy()-resMAR[\"beta\"]), np.linalg.norm(bTheta0.cpu().numpy()-resMAR[\"bTheta\"])))\n",
    "        #ressEM.append((np.linalg.norm(beta0.cpu().numpy()-resEM[\"beta\"]), np.linalg.norm(bTheta0.cpu().numpy()-resEM[\"bTheta\"])))\n",
    "    "
   ]
  },
  {
   "cell_type": "markdown",
   "id": "6de18dfa",
   "metadata": {},
   "source": [
    "print(f\"The n is {n}! and para is {optParasMAR[n]} and {optParasEM[n]}\")\n",
    "print(np.array(ressMAR).mean(axis=0), np.array(ressEM).mean(axis=0))"
   ]
  },
  {
   "cell_type": "code",
   "execution_count": 98,
   "id": "e6398383",
   "metadata": {},
   "outputs": [
    {
     "name": "stdout",
     "output_type": "stream",
     "text": [
      "The n is 400! and para is [0.002, 3000.0, 150.0, 0.7] and [0.02, 30000.0, 15.0, 0.07]\n",
      "[2.46329187 2.02025632] [2.54898791 2.01907063]\n"
     ]
    }
   ],
   "source": [
    "print(f\"The n is {n}! and para is {optParasMAR[n]} and {optParasEM[n]}\")\n",
    "print(np.array(ressMAR).mean(axis=0), np.array(ressEM).mean(axis=0))"
   ]
  },
  {
   "cell_type": "code",
   "execution_count": 79,
   "id": "6b58b927",
   "metadata": {},
   "outputs": [
    {
     "name": "stdout",
     "output_type": "stream",
     "text": [
      "The n is 100! and para is [0.003, 100.0, 100.0, 6] and [0.01, 1000.0, 30.0, 0.5]\n",
      "[4.76399688 3.26663395] [4.74051334 3.29294263]\n"
     ]
    }
   ],
   "source": [
    "print(f\"The n is {n}! and para is {optParasMAR[n]} and {optParasEM[n]}\")\n",
    "print(np.array(ressMAR).mean(axis=0), np.array(ressEM).mean(axis=0))"
   ]
  },
  {
   "cell_type": "code",
   "execution_count": 64,
   "id": "7da3019c",
   "metadata": {},
   "outputs": [
    {
     "name": "stdout",
     "output_type": "stream",
     "text": [
      "The n is 400! and para is [0.002, 3000.0, 200.0, 0.8] and [0.02, 30000.0, 20.0, 0.08]\n",
      "[2.67017248 2.68576061] [2.75894983 2.68848901]\n"
     ]
    }
   ],
   "source": [
    "print(f\"The n is {n}! and para is {optParasMAR[n]} and {optParasEM[n]}\")\n",
    "print(np.array(ressMAR).mean(axis=0), np.array(ressEM).mean(axis=0))"
   ]
  },
  {
   "cell_type": "code",
   "execution_count": 55,
   "id": "0e1c7802",
   "metadata": {},
   "outputs": [
    {
     "name": "stdout",
     "output_type": "stream",
     "text": [
      "The n is 800! and para is [0.002, 10000.0, 200.0, 0.5] and [0.02, 100000.0, 20.0, 0.05]\n",
      "[2.20374239 2.00938876] [2.2857869  2.00916607]\n"
     ]
    }
   ],
   "source": [
    "print(f\"The n is {n}! and para is {optParasMAR[n]} and {optParasEM[n]}\")\n",
    "print(np.array(ressMAR).mean(axis=0), np.array(ressEM).mean(axis=0))"
   ]
  },
  {
   "cell_type": "code",
   "execution_count": 90,
   "id": "246d7297",
   "metadata": {},
   "outputs": [
    {
     "data": {
      "text/plain": [
       "array([[3.43295875, 1.55855209],\n",
       "       [2.3233644 , 1.17376447],\n",
       "       [2.05416622, 0.88187047],\n",
       "       [2.15101883, 0.63450746],\n",
       "       [1.69906173, 0.45514177]])"
      ]
     },
     "execution_count": 90,
     "metadata": {},
     "output_type": "execute_result"
    }
   ],
   "source": [
    "errMNARmean"
   ]
  },
  {
   "cell_type": "code",
   "execution_count": 21,
   "id": "383446b3",
   "metadata": {},
   "outputs": [
    {
     "name": "stdout",
     "output_type": "stream",
     "text": [
      "The n is 800! and para is [0.002, 1000.0, 130.0, 5]\n"
     ]
    },
    {
     "data": {
      "text/plain": [
       "array([1.35367765, 1.30862797])"
      ]
     },
     "execution_count": 21,
     "metadata": {},
     "output_type": "execute_result"
    }
   ],
   "source": [
    "print(f\"The n is {n}! and para is {optParasMNAR[n]}\")\n",
    "np.array(ressMNAR).mean(axis=0)"
   ]
  },
  {
   "cell_type": "code",
   "execution_count": 50,
   "id": "bc5e3b4e",
   "metadata": {},
   "outputs": [
    {
     "name": "stdout",
     "output_type": "stream",
     "text": [
      "The n is 200! and para is [0.001, 500.0, 130.0, 1.15]\n"
     ]
    },
    {
     "data": {
      "text/plain": [
       "array([2.54143844, 1.17643437])"
      ]
     },
     "execution_count": 50,
     "metadata": {},
     "output_type": "execute_result"
    }
   ],
   "source": [
    "print(f\"The n is {n}! and para is {optParasMNAR[n]}\")\n",
    "np.array(ressMNAR).mean(axis=0)"
   ]
  },
  {
   "cell_type": "markdown",
   "id": "795f6123",
   "metadata": {},
   "source": [
    "## Simu p=100"
   ]
  },
  {
   "cell_type": "code",
   "execution_count": 14,
   "id": "655ed994",
   "metadata": {},
   "outputs": [],
   "source": [
    "p=100\n",
    "optParasMNAR = {}\n",
    "optParasMNAR[1600] =[1e-3, 1e3, 1.3e2, 10] # 1600\n",
    "optParasMNAR[800] =[1e-3, 1e3, 1.3e2, 5] # 800\n",
    "optParasMNAR[400] =[1e-3, 1e3, 1.3e2, 1] # 400\n",
    "optParasMNAR[200] =[2e-3, 5e2, 1.3e2, 1.15] # 200\n",
    "optParasMNAR[100] =[2e-3, 1e2, 1.3e2, 3] # 100\n",
    "\n",
    "optParasMAR = {}\n",
    "optParasMAR[1600] = [1e-3, 2e4, 5e2, 0.5] #1600\n",
    "optParasMAR[800] = [2e-3, 1e4, 2e2, 0.5] #800\n",
    "optParasMAR[400] = [2e-3, 3e3, 1.8e2, 1.0] #400\n",
    "optParasMAR[200] = [3e-3, 9e2, 2e2, 1.3] #200\n",
    "optParasMAR[100] = [6e-3, 2e2, 1e2, 5]  #100\n",
    "\n",
    "optParasEM = {}\n",
    "optParasEM[1600] = [1e-2, 2e5, 5e1, 0.03] #1600\n",
    "optParasEM[800] = [2e-2, 1e5, 2e1, 0.1/2] #800\n",
    "optParasEM[400] = [2e-2, 3e4, 1.8e1, 0.10] #400\n",
    "optParasEM[200] = [2e-2, 8e3, 3e1, 0.13] #200\n",
    "optParasEM[100] = [2e-2, 2e3, 3e1, 0.5] #100"
   ]
  },
  {
   "cell_type": "code",
   "execution_count": 15,
   "id": "7a344343",
   "metadata": {},
   "outputs": [
    {
     "data": {
      "application/vnd.jupyter.widget-view+json": {
       "model_id": "28216e090a7f44d394af1beef7c78e9a",
       "version_major": 2,
       "version_minor": 0
      },
      "text/plain": [
       "  0%|          | 0/50 [00:00<?, ?it/s]"
      ]
     },
     "metadata": {},
     "output_type": "display_data"
    },
    {
     "data": {
      "application/vnd.jupyter.widget-view+json": {
       "model_id": "e1ff6f1735df4186b6c082e445f74ff7",
       "version_major": 2,
       "version_minor": 0
      },
      "text/plain": [
       "  0%|          | 0/50 [00:00<?, ?it/s]"
      ]
     },
     "metadata": {},
     "output_type": "display_data"
    },
    {
     "data": {
      "application/vnd.jupyter.widget-view+json": {
       "model_id": "c7ba250b89f74b93a40bb30945199de2",
       "version_major": 2,
       "version_minor": 0
      },
      "text/plain": [
       "  0%|          | 0/50 [00:00<?, ?it/s]"
      ]
     },
     "metadata": {},
     "output_type": "display_data"
    },
    {
     "data": {
      "application/vnd.jupyter.widget-view+json": {
       "model_id": "da22f858f1424dbd9461813681ce7641",
       "version_major": 2,
       "version_minor": 0
      },
      "text/plain": [
       "  0%|          | 0/50 [00:00<?, ?it/s]"
      ]
     },
     "metadata": {},
     "output_type": "display_data"
    },
    {
     "data": {
      "application/vnd.jupyter.widget-view+json": {
       "model_id": "e44586e0145a4b4b943f0b3662d06cdf",
       "version_major": 2,
       "version_minor": 0
      },
      "text/plain": [
       "  0%|          | 0/50 [00:00<?, ?it/s]"
      ]
     },
     "metadata": {},
     "output_type": "display_data"
    }
   ],
   "source": [
    "fct = 1\n",
    "for n in [1600, 800, 400, 200, 100]:\n",
    "    m = n\n",
    "    if n >=800:\n",
    "        fct=1\n",
    "    \n",
    "    beta0 = torch.cat((torch.tensor([1.0, 0, 2, 0, -3, -4, 5]), torch.zeros(p-7))) \n",
    "    bTheta0 = genbTheta(n, m, sigVs=np.array([50, 9, 8, 7, 6])*10)/50\n",
    "    \n",
    "    ressMAR = []\n",
    "    ressEM = []\n",
    "    ressMNAR = []\n",
    "    paraXMAR = optParasMAR[n]\n",
    "    paraXEM = optParasEM[n]\n",
    "    paraXMNAR = optParasMNAR[n]\n",
    "    for j in tqdm(range(50)):\n",
    "        initbetapref = 1 + (torch.rand(p)-1/2)/1\n",
    "        initthetapref = 1 + (torch.rand(n, m)-1/2)/4\n",
    "        betainit = beta0 * initbetapref\n",
    "        bThetainit = bTheta0 * initthetapref\n",
    "        X = genXBin2(n, m, p, prob=prob) \n",
    "        Y = genYnorm(X, bTheta0, beta0, sigmaY)\n",
    "        R = genR2(Y, D=7.8)\n",
    "        resEM = emfRun(R, CT=paraXEM[0], Cb=paraXEM[1], etaT=paraXEM[2], etab=paraXEM[3], maxIter=100, is_plot=0, is_showPro=0)\n",
    "        resMAR = marfRun(R, CT=paraXMAR[0], Cb=paraXMAR[1], etaT=paraXMAR[2], etab=paraXMAR[3], maxIter=100, is_plot=0, is_showPro=0)\n",
    "        resMNAR = fRun(R, CT=paraXMNAR[0], Cb=paraXMNAR[1], etaT=paraXMNAR[2], etab=paraXMNAR[3], maxIter=100, is_plot=0, is_showPro=0)\n",
    "        if n <= 10:\n",
    "            ressMAR.append(resMAR)\n",
    "            ressEM.append(resEM)\n",
    "            ressMNAR.append(resMNAR)\n",
    "        else:\n",
    "            ressMNAR.append((np.linalg.norm(beta0.cpu().numpy()-resMNAR[\"beta\"]), np.linalg.norm(bTheta0.cpu().numpy()-resMNAR[\"bTheta\"])))\n",
    "            ressMAR.append((np.linalg.norm(beta0.cpu().numpy()-resMAR[\"beta\"]), np.linalg.norm(bTheta0.cpu().numpy()-resMAR[\"bTheta\"])))\n",
    "            ressEM.append((np.linalg.norm(beta0.cpu().numpy()-resEM[\"beta\"]), np.linalg.norm(bTheta0.cpu().numpy()-resEM[\"bTheta\"])))\n",
    "            \n",
    "   # with open(f\"./JMLRR3_linearp{p}_n{n}.pkl\", \"rb\") as rf:\n",
    "   #     oldRes = pickle.load(rf)\n",
    "    \n",
    "    ressDic = {}\n",
    "    ressDic[\"ressEM\"] = ressEM\n",
    "    ressDic[\"ressMAR\"] = ressMAR\n",
    "    ressDic[\"ressMNAR\"] = ressMNAR\n",
    "    ressDic[\"beta0\"] = beta0\n",
    "    ressDic[\"bTheta0\"] = bTheta0\n",
    "    with open(f\"./JMLRR3_linearp{p}_n{n}.pkl\", \"wb\") as wf:\n",
    "        pickle.dump(ressDic, wf)"
   ]
  },
  {
   "cell_type": "code",
   "execution_count": 16,
   "id": "04c27648",
   "metadata": {},
   "outputs": [],
   "source": [
    "p = 100\n",
    "errssMARs = []\n",
    "errssEMs = []\n",
    "errssMNARs = []\n",
    "ns = [100, 200, 400, 800, 1600]\n",
    "for n in ns:\n",
    "    with open(f\"./JMLRR3_linearp{p}_n{n}.pkl\", \"rb\") as rf:\n",
    "        ressDic = pickle.load(rf)\n",
    "        \n",
    "    errssMARs.append(np.array(ressDic[\"ressMAR\"]))\n",
    "    errssMNARs.append(np.array(ressDic[\"ressMNAR\"]))\n",
    "    errssEMs.append(np.array(ressDic[\"ressEM\"]))"
   ]
  },
  {
   "cell_type": "code",
   "execution_count": 17,
   "id": "1d301449",
   "metadata": {},
   "outputs": [],
   "source": [
    "errEMmean =  np.array([res.mean(axis=0) for res in errssEMs])\n",
    "errMARmean =  np.array([res.mean(axis=0) for res in errssMARs])\n",
    "errMNARmean = np.array([res.mean(axis=0) for res in errssMNARs])"
   ]
  },
  {
   "cell_type": "code",
   "execution_count": 18,
   "id": "b04787a8",
   "metadata": {},
   "outputs": [
    {
     "data": {
      "text/plain": [
       "<matplotlib.legend.Legend at 0x7fa2cc669da0>"
      ]
     },
     "execution_count": 18,
     "metadata": {},
     "output_type": "execute_result"
    },
    {
     "data": {
      "image/png": "[encoded data removed]",
      "text/plain": [
       "<Figure size 720x360 with 2 Axes>"
      ]
     },
     "metadata": {
      "needs_background": "light"
     },
     "output_type": "display_data"
    }
   ],
   "source": [
    "ns = [100, 200, 400, 800, 1600]\n",
    "#ns = [100, 200, 400, 800]\n",
    "plt.figure(figsize=[10, 5])\n",
    "plt.subplot(121)\n",
    "plt.title(\"beta\")\n",
    "plt.plot(ns, errMNARmean[:, 0], \"o-\", label=\"MNAR\")\n",
    "plt.plot(ns, errMARmean[:, 0], \"o-\", label=\"MAR\")\n",
    "plt.plot(ns, errEMmean[:, 0], \"o-\", label=\"EM\")\n",
    "plt.xscale(\"log\", base=2)\n",
    "plt.legend()\n",
    "\n",
    "plt.subplot(122)\n",
    "plt.title(\"bTheta\")\n",
    "plt.plot(ns, (errMNARmean[:, 1]), \"o-\", label=\"MNAR\")\n",
    "plt.plot(ns, (errMARmean[:, 1]), \"o-\", label=\"MAR\")\n",
    "plt.plot(ns, errEMmean[:, 1], \"o-\", label=\"EM\")\n",
    "plt.xscale(\"log\", base=2)\n",
    "plt.legend()"
   ]
  },
  {
   "cell_type": "code",
   "execution_count": 19,
   "id": "59fd65a6",
   "metadata": {},
   "outputs": [
    {
     "data": {
      "text/plain": [
       "array([[3.31214211, 2.98739426],\n",
       "       [2.49568821, 2.32561799],\n",
       "       [2.05275194, 0.88390969],\n",
       "       [1.95751362, 0.65864148],\n",
       "       [1.73675002, 0.48328192]])"
      ]
     },
     "execution_count": 19,
     "metadata": {},
     "output_type": "execute_result"
    }
   ],
   "source": [
    "errMNARmean"
   ]
  },
  {
   "cell_type": "code",
   "execution_count": 20,
   "id": "f0ce79c2",
   "metadata": {},
   "outputs": [
    {
     "data": {
      "text/plain": [
       "array([[6.29515751, 4.38429236],\n",
       "       [3.33640222, 3.88186622],\n",
       "       [2.60725626, 2.42114281],\n",
       "       [2.16610196, 2.00956935],\n",
       "       [2.15940705, 1.86635601]])"
      ]
     },
     "execution_count": 20,
     "metadata": {},
     "output_type": "execute_result"
    }
   ],
   "source": [
    "errMARmean"
   ]
  },
  {
   "cell_type": "code",
   "execution_count": 23,
   "id": "1f721d04",
   "metadata": {},
   "outputs": [
    {
     "data": {
      "text/plain": [
       "array([[6.7708451 , 4.38287436],\n",
       "       [3.27365671, 3.86975489],\n",
       "       [2.69755982, 2.42254912],\n",
       "       [2.20312339, 2.00983715],\n",
       "       [2.1689355 , 1.8663624 ]])"
      ]
     },
     "execution_count": 23,
     "metadata": {},
     "output_type": "execute_result"
    }
   ],
   "source": [
    "errEMmean"
   ]
  },
  {
   "cell_type": "code",
   "execution_count": 21,
   "id": "0e7a3b5e",
   "metadata": {},
   "outputs": [
    {
     "data": {
      "image/png": "[encoded data removed]",
      "text/plain": [
       "<Figure size 1200x1200 with 1 Axes>"
      ]
     },
     "metadata": {
      "needs_background": "light"
     },
     "output_type": "display_data"
    }
   ],
   "source": [
    "ns = [100, 200, 400, 800, 1600]\n",
    "plt.figure(figsize=[6, 6], dpi=200)\n",
    "font_y = {\"size\": 15, \"va\":\"baseline\"}\n",
    "font_x = {\"size\": 15}\n",
    "plt.xlabel(\"m=n\", font_x)\n",
    "plt.ylabel(r\"$\\Vert\\widehat{\\mathbf{\\beta}} - \\mathbf{\\beta}_0\\Vert_2$\", font_y)\n",
    "plt.plot(ns, errMNARmean[:, 0], \"g-.h\", label=\"MNAR\")\n",
    "plt.plot(ns, errMARmean[:, 0], \"r--o\", label=\"MAR\")\n",
    "plt.plot(ns, errEMmean[:, 0], \"b-*\", label=\"EM\")\n",
    "plt.xscale(\"log\", base=2)\n",
    "plt.legend()\n",
    "plt.savefig(\"./JMLRR3/Linearp100betaNewX.jpg\", bbox_inches='tight')"
   ]
  },
  {
   "cell_type": "code",
   "execution_count": 22,
   "id": "453f5566",
   "metadata": {},
   "outputs": [
    {
     "data": {
      "image/png": "[encoded data removed]",
      "text/plain": [
       "<Figure size 1200x1200 with 1 Axes>"
      ]
     },
     "metadata": {
      "needs_background": "light"
     },
     "output_type": "display_data"
    }
   ],
   "source": [
    "ns = [100, 200, 400, 800, 1600]\n",
    "plt.figure(figsize=[6, 6], dpi=200)\n",
    "font_y = {\"size\": 15, \"va\":\"baseline\"}\n",
    "font_x = {\"size\": 15}\n",
    "plt.xlabel(\"m=n\", font_x)\n",
    "plt.ylabel(r\"$\\Vert\\widehat{\\mathbf{\\Theta}} - \\mathbf{\\Theta}_0\\Vert_F$\", font_y)\n",
    "plt.plot(ns, errMNARmean[:, 1], \"g-.h\", label=\"MNAR\")\n",
    "plt.plot(ns, errMARmean[:, 1], \"r--o\", label=\"MAR\")\n",
    "plt.plot(ns, errEMmean[:, 1], \"b-*\", label=\"EM\")\n",
    "plt.xscale(\"log\", base=2)\n",
    "plt.legend()\n",
    "plt.savefig(\"./JMLRR3/Linearp100thetaNewX.jpg\", bbox_inches='tight')"
   ]
  },
  {
   "cell_type": "code",
   "execution_count": null,
   "id": "2bef780e",
   "metadata": {},
   "outputs": [],
   "source": []
  }
 ],
 "metadata": {
  "kernelspec": {
   "display_name": "Python 3",
   "language": "python",
   "name": "python3"
  },
  "language_info": {
   "codemirror_mode": {
    "name": "ipython",
    "version": 3
   },
   "file_extension": ".py",
   "mimetype": "text/x-python",
   "name": "python",
   "nbconvert_exporter": "python",
   "pygments_lexer": "ipython3",
   "version": "3.6.10"
  },
  "toc": {
   "base_numbering": 1,
   "nav_menu": {},
   "number_sections": true,
   "sideBar": true,
   "skip_h1_title": false,
   "title_cell": "Table of Contents",
   "title_sidebar": "Contents",
   "toc_cell": false,
   "toc_position": {},
   "toc_section_display": true,
   "toc_window_display": true
  }
 },
 "nbformat": 4,
 "nbformat_minor": 5
}

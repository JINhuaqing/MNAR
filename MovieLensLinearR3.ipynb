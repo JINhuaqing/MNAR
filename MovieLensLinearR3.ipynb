{
 "cells": [
  {
   "cell_type": "code",
   "execution_count": 2,
   "id": "e1bf1aa5",
   "metadata": {},
   "outputs": [],
   "source": [
    "from IPython import display\n",
    "import random\n",
    "import numpy as np\n",
    "import torch\n",
    "import pickle\n",
    "import timeit\n",
    "import time\n",
    "import argparse\n",
    "import pprint\n",
    "from pathlib import Path\n",
    "from confs import fn, fn2\n",
    "#from tqdm import tqdm_notebook as tqdm\n",
    "from tqdm.notebook import tqdm\n",
    "import numpy.random as npr\n",
    "from utilsNew import *"
   ]
  },
  {
   "cell_type": "code",
   "execution_count": 3,
   "id": "a74b5b78",
   "metadata": {},
   "outputs": [],
   "source": [
    "import matplotlib.pyplot as plt\n",
    "import pickle"
   ]
  },
  {
   "cell_type": "code",
   "execution_count": 4,
   "id": "28f69a68",
   "metadata": {},
   "outputs": [],
   "source": [
    "from implicit.als import AlternatingLeastSquares\n",
    "from collections import defaultdict as ddict\n",
    "from scipy.sparse import csr_matrix \n",
    "from implicit.nearest_neighbours import bm25_weight"
   ]
  },
  {
   "cell_type": "code",
   "execution_count": 5,
   "id": "a4cfa64a",
   "metadata": {},
   "outputs": [],
   "source": [
    "cudaid = 2\n",
    "torch.cuda.set_device(cudaid)\n",
    "torch.manual_seed(0) # cpu\n",
    "torch.cuda.manual_seed(0) #gpu\n",
    "np.random.seed(0) #numpy\n",
    "random.seed(0) #random and transforms\n",
    "torch.backends.cudnn.deterministic=True # cudnn"
   ]
  },
  {
   "cell_type": "code",
   "execution_count": 6,
   "id": "854e2ff5",
   "metadata": {},
   "outputs": [],
   "source": [
    "torch.set_default_dtype(torch.float64)\n",
    "cuda = torch.cuda.is_available()\n",
    "if cuda:\n",
    "    torch.set_default_tensor_type(torch.cuda.DoubleTensor)"
   ]
  },
  {
   "cell_type": "markdown",
   "id": "8cc9bd42",
   "metadata": {},
   "source": [
    "## Defs of some fns"
   ]
  },
  {
   "cell_type": "markdown",
   "id": "5d80ee84",
   "metadata": {
    "heading_collapsed": true
   },
   "source": [
    "### Misc"
   ]
  },
  {
   "cell_type": "code",
   "execution_count": 6,
   "id": "74049979",
   "metadata": {
    "hidden": true
   },
   "outputs": [],
   "source": [
    "def GenMissing(Yraw, OR=0.03, y1ratio=0.5):\n",
    "    \"\"\"\n",
    "    OR: observed ratio.\n",
    "    y1ratio: num of 1 / (num of 1 and 0) in the removed part\n",
    "    \"\"\"\n",
    "    # get the R\n",
    "    R = Yraw.clone()\n",
    "    R[Yraw!=0] = 1\n",
    "\n",
    "    rawOR = R.sum()/R.numel()\n",
    "    assert OR <= rawOR\n",
    "    \n",
    "    numrv = R.numel() * (rawOR-OR) # number of samples to remove\n",
    "    numrv1 = int(numrv*y1ratio) # number of 1 to remove\n",
    "    numrv0 = int(numrv) - numrv1 # number of 0 to remove\n",
    "\n",
    "    mask1 = (Yraw > 4.5) & (R==1) # matrix with observed 1 as True\n",
    "    mask0 = (Yraw < 4.5) & (R==1) # matrix with observed 0 as True\n",
    "    selidx1 = np.random.choice(int(torch.sum(mask1)), numrv1, replace=0)\n",
    "    selidx0 = np.random.choice(int(torch.sum(mask0)), numrv0, replace=0)\n",
    "\n",
    "    tmp1 = R[mask1] \n",
    "    tmp1[selidx1] = 0\n",
    "    R[mask1] = tmp1\n",
    "\n",
    "    tmp0 = R[mask0] \n",
    "    tmp0[selidx0] = 0\n",
    "    R[mask0] = tmp0\n",
    "\n",
    "    return R.double().to_sparse()\n"
   ]
  },
  {
   "cell_type": "markdown",
   "id": "76605a1b",
   "metadata": {
    "heading_collapsed": true
   },
   "source": [
    "### Evaluations fns"
   ]
  },
  {
   "cell_type": "code",
   "execution_count": 7,
   "id": "aaa37da5",
   "metadata": {
    "hidden": true
   },
   "outputs": [],
   "source": [
    "# for MNAR\n",
    "def RankMetric(res, R, Rtrain):\n",
    "    betaX = torch.tensor(res[\"beta\"])[flatX.long()] #  n x m\n",
    "    eProbs = betaX + torch.tensor(res[\"bTheta\"])\n",
    "    Rdiff = R.to_dense() - Rtrain.to_dense()\n",
    "    eProbsQ = eProbs.argsort(axis=1, descending=True).argsort(axis=1)/eProbs.shape[1]\n",
    "    testProbsQ = eProbsQ[Rdiff==1]\n",
    "    testYraw = Yraw.to_dense()[Rdiff==1]\n",
    "    metric = torch.sum(testProbsQ * testYraw)/torch.sum(testYraw)\n",
    "    return metric\n",
    "\n",
    "# for MNAR during iteration\n",
    "def RankMetricIter(beta, bTheta, R, Rtrain):\n",
    "    eProbs = beta[flatX.long()] + bTheta\n",
    "    Rdiff = R.to_dense() - Rtrain.to_dense()\n",
    "    eProbsQ = eProbs.argsort(axis=1, descending=True).argsort(axis=1)/eProbs.shape[1]\n",
    "    testProbsQ = eProbsQ[Rdiff==1]\n",
    "    testYraw = Yraw.to_dense()[Rdiff==1]\n",
    "    metric = torch.sum(testProbsQ * testYraw)/torch.sum(testYraw)\n",
    "    return metric\n",
    "\n",
    "# for WFS\n",
    "def RankMetricALS(res, R, Rtrain):\n",
    "    eProbs = torch.tensor(np.matmul(res.item_factors, res.user_factors.T))\n",
    "    Rdiff = R.to_dense() - Rtrain.to_dense()\n",
    "    eProbsQ = eProbs.argsort(axis=1, descending=True).argsort(axis=1)/eProbs.shape[1]\n",
    "    testProbsQ = eProbsQ[Rdiff==1]\n",
    "    testYraw = Yraw.to_dense()[Rdiff==1]\n",
    "    metric = torch.sum(testProbsQ * testYraw)/torch.sum(testYraw)\n",
    "    return metric"
   ]
  },
  {
   "cell_type": "code",
   "execution_count": null,
   "id": "14d6f185",
   "metadata": {
    "hidden": true
   },
   "outputs": [],
   "source": []
  },
  {
   "cell_type": "markdown",
   "id": "91f03288",
   "metadata": {},
   "source": [
    "## Load the data"
   ]
  },
  {
   "cell_type": "code",
   "execution_count": 7,
   "id": "92318422",
   "metadata": {},
   "outputs": [],
   "source": [
    "datDir = Path(\"./MovieLens/\")"
   ]
  },
  {
   "cell_type": "code",
   "execution_count": 8,
   "id": "133d3903",
   "metadata": {},
   "outputs": [],
   "source": [
    "with open(datDir/\"mvR3flatX.pkl\", \"rb\") as f:\n",
    "    flatX = pickle.load(f)\n",
    "with open(datDir/\"mvR3Y.pkl\", \"rb\") as f:\n",
    "    Yraw = pickle.load(f)\n",
    "with open(datDir/\"mvR3R.pkl\", \"rb\") as f:\n",
    "    R = pickle.load(f)\n",
    "with open(datDir/\"mvR3Ps.pkl\", \"rb\") as f:\n",
    "    Ps = pickle.load(f)"
   ]
  },
  {
   "cell_type": "code",
   "execution_count": 9,
   "id": "2f181d80",
   "metadata": {},
   "outputs": [],
   "source": [
    "flatX = flatX.cuda().int()\n",
    "R = R.cuda().double()\n",
    "Ps = Ps.cuda().double()\n",
    "Yraw = Yraw.cuda()"
   ]
  },
  {
   "cell_type": "markdown",
   "id": "2f4b72c6",
   "metadata": {},
   "source": [
    "## WFS tuning"
   ]
  },
  {
   "cell_type": "code",
   "execution_count": 20,
   "id": "4703c4f9",
   "metadata": {},
   "outputs": [],
   "source": [
    "numFcts = [1, 2, 4, 8, 16, 32, 64, 128]\n",
    "K1s = [1.2, 1.4, 1.6, 1.8, 2.0]"
   ]
  },
  {
   "cell_type": "code",
   "execution_count": 21,
   "id": "23b25134",
   "metadata": {},
   "outputs": [
    {
     "data": {
      "application/vnd.jupyter.widget-view+json": {
       "model_id": "6d1cd9f434aa438289dd1f69f5f158f9",
       "version_major": 2,
       "version_minor": 0
      },
      "text/plain": [
       "Main loop:   0%|          | 0/5 [00:00<?, ?it/s]"
      ]
     },
     "metadata": {},
     "output_type": "display_data"
    },
    {
     "data": {
      "application/vnd.jupyter.widget-view+json": {
       "model_id": "a4af5762df244f29a3dc191d83bc6c6d",
       "version_major": 2,
       "version_minor": 0
      },
      "text/plain": [
       "  0%|          | 0/8 [00:00<?, ?it/s]"
      ]
     },
     "metadata": {},
     "output_type": "display_data"
    },
    {
     "name": "stderr",
     "output_type": "stream",
     "text": [
      "WARNING:root:OpenBLAS detected. Its highly recommend to set the environment variable 'export OPENBLAS_NUM_THREADS=1' to disable its internal multithreading\n"
     ]
    },
    {
     "data": {
      "application/vnd.jupyter.widget-view+json": {
       "model_id": "4023fc9c8c104382a5b85fea9bf4a635",
       "version_major": 2,
       "version_minor": 0
      },
      "text/plain": [
       "  0%|          | 0/8 [00:00<?, ?it/s]"
      ]
     },
     "metadata": {},
     "output_type": "display_data"
    },
    {
     "data": {
      "application/vnd.jupyter.widget-view+json": {
       "model_id": "8707ff95f7d5416da32b4508855542d5",
       "version_major": 2,
       "version_minor": 0
      },
      "text/plain": [
       "  0%|          | 0/8 [00:00<?, ?it/s]"
      ]
     },
     "metadata": {},
     "output_type": "display_data"
    },
    {
     "data": {
      "application/vnd.jupyter.widget-view+json": {
       "model_id": "fd1cd4a3cdb24ad39e32e478168d08c9",
       "version_major": 2,
       "version_minor": 0
      },
      "text/plain": [
       "  0%|          | 0/8 [00:00<?, ?it/s]"
      ]
     },
     "metadata": {},
     "output_type": "display_data"
    },
    {
     "data": {
      "application/vnd.jupyter.widget-view+json": {
       "model_id": "fb4ee6c2a40b455d99661ffaabb5e53c",
       "version_major": 2,
       "version_minor": 0
      },
      "text/plain": [
       "  0%|          | 0/8 [00:00<?, ?it/s]"
      ]
     },
     "metadata": {},
     "output_type": "display_data"
    }
   ],
   "source": [
    "ressALS = []\n",
    "for K1 in tqdm(K1s, desc=\"Main loop\"):\n",
    "    resALS = ddict(list)\n",
    "    for numFct in tqdm(numFcts):\n",
    "        for i in range(10):\n",
    "            # remove some data\n",
    "            Rtrain = GenMissing(Yraw.to_dense(), 0.03, 0.65)\n",
    "            Yn = Yraw.clone().to_dense()\n",
    "            Yn[Rtrain.to_dense()==0] = 0\n",
    "            \n",
    "            # obtain data for training\n",
    "            YtrainArr = csr_matrix(Yn.cpu().numpy())\n",
    "            YtrainArr.data[YtrainArr.data < 1] = 0\n",
    "            YtrainArr.eliminate_zeros()\n",
    "            YtrainArr = bm25_weight(YtrainArr, B=0.75, K1=K1).tocsr()\n",
    "            \n",
    "            ALSmodel = AlternatingLeastSquares(numFct, use_gpu=False)\n",
    "            ALSmodel.fit(YtrainArr, show_progress=False)\n",
    "            \n",
    "            res = RankMetricALS(ALSmodel, R, Rtrain)\n",
    "            resALS[numFct].append(res.item())\n",
    "    ressALS.append(resALS)"
   ]
  },
  {
   "cell_type": "code",
   "execution_count": 22,
   "id": "5f2abe91",
   "metadata": {},
   "outputs": [],
   "source": [
    "ressMeans = []\n",
    "ressVars = []\n",
    "\n",
    "for resALS in ressALS:\n",
    "    ressMean = []\n",
    "    ressVar = []\n",
    "    for numFct in numFcts:\n",
    "        resMean = torch.tensor(resALS[numFct]).mean()\n",
    "        resVar = torch.tensor(resALS[numFct]).var()\n",
    "        ressMean.append(resMean.item())\n",
    "        ressVar.append(resVar.item())\n",
    "    ressMeans.append(ressMean)\n",
    "    ressVars.append(ressVar)"
   ]
  },
  {
   "cell_type": "code",
   "execution_count": 23,
   "id": "cb9337bc",
   "metadata": {},
   "outputs": [
    {
     "data": {
      "text/plain": [
       "<matplotlib.legend.Legend at 0x7fe3881d0208>"
      ]
     },
     "execution_count": 23,
     "metadata": {},
     "output_type": "execute_result"
    },
    {
     "data": {
      "image/png": "[encoded data removed]",
      "text/plain": [
       "<Figure size 432x432 with 1 Axes>"
      ]
     },
     "metadata": {
      "needs_background": "light"
     },
     "output_type": "display_data"
    }
   ],
   "source": [
    "pchs = [\"o-r\", \"h--b\", \"H-.y\", \"*-g\", \"v--k\"]\n",
    "plt.figure(figsize=[6, 6])\n",
    "for idx in range(len(ressMeans)):\n",
    "    ressMean = ressMeans[idx]\n",
    "    plt.plot(numFcts, ressMean, pchs[idx], label=f\"K1 is {K1s[idx]:.2f}\")\n",
    "#plt.text(optNumFct, minErr, f\"The optimal num is {optNumFct}.\")\n",
    "plt.ylabel(\"Expected percentile ranking\")\n",
    "plt.xscale(\"log\", base=2)\n",
    "plt.legend()"
   ]
  },
  {
   "cell_type": "code",
   "execution_count": 24,
   "id": "950b080a",
   "metadata": {},
   "outputs": [
    {
     "name": "stdout",
     "output_type": "stream",
     "text": [
      "Optimal K1 is 2.0, optimal num of facts is  16, optimal ranking is 0.1041.\n"
     ]
    }
   ],
   "source": [
    "ressMeans = np.array(ressMeans)\n",
    "idxss = np.unravel_index(ressMeans.argmin(), ressMeans.shape)\n",
    "optK1 = K1s[idxss[0]]\n",
    "optNumFct = numFcts[idxss[1]]\n",
    "print(f\"Optimal K1 is {K1s[idxss[0]]}, \"\n",
    "      f\"optimal num of facts is  {numFcts[idxss[1]]}, \"\n",
    "      f\"optimal ranking is {ressMeans.min():.4f}.\")"
   ]
  },
  {
   "cell_type": "code",
   "execution_count": 25,
   "id": "914107ad",
   "metadata": {},
   "outputs": [],
   "source": [
    "with open(\"./JMLRR3/MovieLensWCFTuning.pkl\", \"wb\") as wf:\n",
    "    pickle.dump(ressMeans, wf)"
   ]
  },
  {
   "cell_type": "code",
   "execution_count": 26,
   "id": "f8c2bf9e",
   "metadata": {},
   "outputs": [
    {
     "data": {
      "image/png": "[encoded data removed]",
      "text/plain": [
       "<Figure size 1000x1000 with 1 Axes>"
      ]
     },
     "metadata": {
      "needs_background": "light"
     },
     "output_type": "display_data"
    }
   ],
   "source": [
    "optMeans = ressMeans[idxss[0], :]\n",
    "plt.figure(figsize=[5, 5], dpi=200)\n",
    "plt.plot(numFcts, optMeans*100, \"o-r\")\n",
    "plt.ylabel(\"Expected percentile ranking (%)\")\n",
    "plt.xlabel(\"Number of factors\")\n",
    "plt.xscale(\"log\", base=2)\n",
    "plt.savefig(\"./JMLRR3/MovieLensWCF.jpg\", bbox_inches='tight')"
   ]
  },
  {
   "cell_type": "markdown",
   "id": "58f94a14",
   "metadata": {},
   "source": [
    "## MNAR  related fns"
   ]
  },
  {
   "cell_type": "markdown",
   "id": "7235ad45",
   "metadata": {},
   "source": [
    "### Some fns "
   ]
  },
  {
   "cell_type": "markdown",
   "id": "6efacb7c",
   "metadata": {
    "heading_collapsed": true
   },
   "source": [
    "#### likelihood"
   ]
  },
  {
   "cell_type": "code",
   "execution_count": 11,
   "id": "a56f6db3",
   "metadata": {
    "hidden": true
   },
   "outputs": [],
   "source": [
    "sigmaY = 2\n",
    "# the likelihood under normal \n",
    "def fnSim(y, m, sigma=sigmaY):\n",
    "    # y     : n x m\n",
    "    # m     : n x m \n",
    "    pi = torch.tensor([np.pi])\n",
    "    prefix = torch.sqrt(1/pi/2/sigma**2)\n",
    "    if y.dim() == m.dim():\n",
    "        v = torch.exp(-(y-m)**2/2/sigma**2)\n",
    "    else:\n",
    "        v = torch.exp(-(y.unsqueeze(-1)-m)**2/2/sigma**2)\n",
    "    return prefix*v\n",
    "\n",
    "# first der of the likelihood under normal  with respect to the second part\n",
    "def fnSim2(y, m,  sigma=sigmaY):\n",
    "    pi = torch.tensor([np.pi])\n",
    "    sigma2 = sigma**2\n",
    "    prefix = torch.sqrt(1/pi/2/sigma2)\n",
    "    if y.dim() == m.dim():\n",
    "        return prefix*torch.exp(-(y-m)**2/2/sigma2)*(y-m)/sigma2\n",
    "    else:\n",
    "        return prefix*torch.exp(-(y.unsqueeze(-1)-m)**2/2/sigma2)*(y.unsqueeze(-1)-m)/sigma2"
   ]
  },
  {
   "cell_type": "markdown",
   "id": "966a913f",
   "metadata": {
    "heading_collapsed": true
   },
   "source": [
    "#### Integration"
   ]
  },
  {
   "cell_type": "code",
   "execution_count": 12,
   "id": "c1505464",
   "metadata": {
    "hidden": true
   },
   "outputs": [],
   "source": [
    "# this two fns are for integrations with classes\n",
    "# int f(X) g(X) d X\n",
    "def intCategory(beta, bThetaObs, Yobs, Ps, curf):\n",
    "    msObs = bThetaObs.reshape(-1, 1) + beta # M x p \n",
    "    rawIntVs = curf(Yobs, msObs) # M x p\n",
    "    intVs = (rawIntVs * Ps).sum(axis=-1) # M \n",
    "    #del msObs, rawIntVs\n",
    "    #torch.cuda.empty_cache()\n",
    "    return intVs\n",
    "\n",
    "# int f(X) X g(X) d X\n",
    "def intCategoryX(beta, bThetaObs, Yobs, Ps, curf):\n",
    "    msObs = bThetaObs.reshape(-1, 1) + beta # M xp \n",
    "    rawIntVs = curf(Yobs, msObs) # M x p\n",
    "    intVs = rawIntVs * Ps #M  xp\n",
    "    #del msObs, rawIntVs\n",
    "    #torch.cuda.empty_cache()\n",
    "    return intVs"
   ]
  },
  {
   "cell_type": "markdown",
   "id": "5be857c4",
   "metadata": {
    "heading_collapsed": true
   },
   "source": [
    "#### Fns for MAR"
   ]
  },
  {
   "cell_type": "code",
   "execution_count": 13,
   "id": "209d8f75",
   "metadata": {
    "hidden": true
   },
   "outputs": [],
   "source": [
    "def marLpbCategory(beta, bThetaObs, Yobs, flatXobs):\n",
    "    \"\"\"\n",
    "        args:\n",
    "            beta: covaraite parameters, a vector of p\n",
    "            bThetaObs: theta parameters corresponding to observed value, a vector of M\n",
    "            Yobs: observed Y, a vector of M\n",
    "            flatXobs: the class of each item corresponding to observed value, a vector of M\n",
    "            \n",
    "        Some args in global env\n",
    "            fnSim: likelihood function under normal\n",
    "            fnSim2: first dev of likelihood function under normal\n",
    "            Ps: The distribution of the items for each class, a vector of p, estimated from the X\n",
    "        return:\n",
    "            First dev w.r.t beta, a vector of p\n",
    "    \"\"\"\n",
    "    betaXobs = beta[flatXobs] # M \n",
    "    TbetaXobs = bThetaObs  + betaXobs # M \n",
    "    itm1Raw = fnSim2(Yobs, TbetaXobs)/(fnSim(Yobs, TbetaXobs)+seps) #M \n",
    "    itm1 = torch.zeros_like(beta) #p\n",
    "    for ix in flatXobs.unique():\n",
    "        itm1[ix] = itm1Raw[flatXobs==ix].sum()\n",
    "        \n",
    "    return -itm1/n/m\n",
    "\n",
    "def marLpTCategory(beta, bThetaObs, Yobs, flatXobs):\n",
    "    \"\"\"\n",
    "        args:\n",
    "            beta: covaraite parameters, a vector of p\n",
    "            bThetaObs: theta parameters corresponding to observed value, a vector of M\n",
    "            Yobs: observed Y, a vector of M\n",
    "            flatXobs: the class of each item corresponding to observed value, a vector of M\n",
    "            \n",
    "        Some args in global env\n",
    "            fnSim: likelihood function under normal\n",
    "            fnSim2: first dev of likelihood function under normal\n",
    "            Ps: The distribution of the items for each class, a vector of p, estimated from the X\n",
    "        return:\n",
    "            First dev w.r.t bTheta, a vector of M \n",
    "    \"\"\"\n",
    "    betaXobs = beta[flatXobs]\n",
    "    TbetaXobs = bThetaObs  + betaXobs\n",
    "    itm1 = fnSim2(Yobs, TbetaXobs)/(fnSim(Yobs, TbetaXobs)+seps)\n",
    "        \n",
    "    itmObs = -itm1\n",
    "    return itmObs/n/m\n",
    "\n",
    "def marLCategory(beta, bThetaObs, Yobs, flatXobs):\n",
    "    \"\"\"\n",
    "        args:\n",
    "            beta: covaraite parameters, a vector of p\n",
    "            bThetaObs: theta parameters corresponding to observed value, a vector of M\n",
    "            Yobs: observed Y, a vector of M\n",
    "            flatXobs: the class of each item corresponding to observed value, a vector of M\n",
    "            \n",
    "        Some args in global env\n",
    "            fnSim: likelihood function under normal\n",
    "            Ps: The distribution of the items for each class, a vector of p, estimated from the X\n",
    "        return:\n",
    "            Value of loss function \n",
    "    \"\"\"\n",
    "    betaXobs = beta[flatXobs]\n",
    "    TbetaXobs = bThetaObs  + betaXobs\n",
    "    itm1 = fnSim(Yobs, TbetaXobs)\n",
    "    res = - torch.log(itm1).sum()\n",
    "    return res/n/m"
   ]
  },
  {
   "cell_type": "markdown",
   "id": "09f13c1a",
   "metadata": {
    "heading_collapsed": true
   },
   "source": [
    "#### Fn for MNAR"
   ]
  },
  {
   "cell_type": "code",
   "execution_count": 14,
   "id": "c742e73a",
   "metadata": {
    "hidden": true
   },
   "outputs": [],
   "source": [
    "def LpbCategory(beta, bThetaObs, Yobs, flatXobs):\n",
    "    \"\"\"\n",
    "        args:\n",
    "            beta: covaraite parameters, a vector of p\n",
    "            bThetaObs: theta parameters corresponding to observed value, a vector of M\n",
    "            Yobs: observed Y, a vector of M\n",
    "            flatXobs: the class of each item corresponding to observed value, a vector of M\n",
    "            \n",
    "        Some args in global env\n",
    "            fnSim: likelihood function under normal\n",
    "            fnSim2: first dev of likelihood function under normal\n",
    "            Ps: The distribution of the items for each class, a vector of p, estimated from the X\n",
    "        return:\n",
    "            First dev w.r.t beta, a vector of p\n",
    "    \"\"\"\n",
    "    betaXobs = beta[flatXobs] # M \n",
    "    TbetaXobs = bThetaObs  + betaXobs # M \n",
    "    itm1Raw = fnSim2(Yobs, TbetaXobs)/(fnSim(Yobs, TbetaXobs)+seps) #M \n",
    "    itm1 = torch.zeros_like(beta) #p\n",
    "    for ix in flatXobs.unique():\n",
    "        itm1[ix] = itm1Raw[flatXobs==ix].sum()\n",
    "        \n",
    "    itm2den=  intCategory(beta, bThetaObs, Yobs, Ps, fnSim)\n",
    "    itm2int =  intCategoryX(beta, bThetaObs, Yobs, Ps, fnSim2)\n",
    "    itm2 = itm2int/(itm2den.unsqueeze(-1)+seps)\n",
    "    # del itm2int\n",
    "    # torch.cuda.empty_cache()\n",
    "    itm= (itm1 - itm2.sum(dim=0))\n",
    "    return -itm\n",
    "\n",
    "def LpTCategory(beta, bThetaObs, Yobs, flatXobs):\n",
    "    \"\"\"\n",
    "        args:\n",
    "            beta: covaraite parameters, a vector of p\n",
    "            bThetaObs: theta parameters corresponding to observed value, a vector of M\n",
    "            Yobs: observed Y, a vector of M\n",
    "            flatXobs: the class of each item corresponding to observed value, a vector of M\n",
    "            \n",
    "        Some args in global env\n",
    "            fnSim: likelihood function under normal\n",
    "            fnSim2: first dev of likelihood function under normal\n",
    "            Ps: The distribution of the items for each class, a vector of p, estimated from the X\n",
    "        return:\n",
    "            First dev w.r.t bTheta, a vector of M \n",
    "    \"\"\"\n",
    "    betaXobs = beta[flatXobs]\n",
    "    TbetaXobs = bThetaObs  + betaXobs\n",
    "    itm1 = fnSim2(Yobs, TbetaXobs)/(fnSim(Yobs, TbetaXobs)+seps)\n",
    "        \n",
    "    itm2den=  intCategory(beta, bThetaObs, Yobs, Ps, fnSim)\n",
    "    itm2int =  intCategory(beta, bThetaObs, Yobs, Ps, fnSim2)\n",
    "    itm2 = itm2int/(itm2den+seps)\n",
    "    itmObs = -(itm1 - itm2)\n",
    "    return itmObs\n",
    "\n",
    "def LCategory(beta, bThetaObs, Yobs, flatXobs):\n",
    "    \"\"\"\n",
    "        args:\n",
    "            beta: covaraite parameters, a vector of p\n",
    "            bThetaObs: theta parameters corresponding to observed value, a vector of M\n",
    "            Yobs: observed Y, a vector of M\n",
    "            flatXobs: the class of each item corresponding to observed value, a vector of M\n",
    "            \n",
    "        Some args in global env\n",
    "            fnSim: likelihood function under normal\n",
    "            Ps: The distribution of the items for each class, a vector of p, estimated from the X\n",
    "        return:\n",
    "            Value of loss function \n",
    "    \"\"\"\n",
    "    betaXobs = beta[flatXobs]\n",
    "    TbetaXobs = bThetaObs  + betaXobs\n",
    "    itm1 = fnSim(Yobs, TbetaXobs)\n",
    "    itm2 =  intCategory(beta, bThetaObs, Yobs, Ps, fnSim)\n",
    "    res = - (torch.log(itm1) - torch.log(itm2)).sum()\n",
    "    return res"
   ]
  },
  {
   "cell_type": "code",
   "execution_count": 15,
   "id": "8fa01d80",
   "metadata": {
    "hidden": true
   },
   "outputs": [],
   "source": [
    "def LCategoryPart(beta, bThetaObs, Yobs, flatXobs, fct=10):\n",
    "    \"\"\"\n",
    "        Run LCategory in fct times, to reduce the memory.\n",
    "        args:\n",
    "            fct: Num of parts to integration\n",
    "    \"\"\"\n",
    "    n, m = R.shape\n",
    "    M = Yobs.shape[0]\n",
    "    lenSeg = int(np.ceil(M/fct))\n",
    "    res = 0\n",
    "    for ix in np.arange(0, M, lenSeg):\n",
    "        lower, upper = ix, ix+lenSeg\n",
    "        YobsP = Yobs[lower:upper]\n",
    "        bThetaObsP = bThetaObs[lower:upper]\n",
    "        flatXobsP = flatXobs[lower:upper]\n",
    "        res += LCategory(beta, bThetaObsP, YobsP, flatXobsP)\n",
    "    return res/m/n\n",
    "\n",
    "def LpbCategoryPart(beta, bThetaObs, Yobs, flatXobs, fct=10):\n",
    "    \"\"\"\n",
    "        Run LpbCategory in fct times, to reduce the memory.\n",
    "        args:\n",
    "            fct: Num of parts to integration\n",
    "    \"\"\"\n",
    "    n, m = R.shape\n",
    "    M = Yobs.shape[0]\n",
    "    lenSeg = int(np.ceil(M/fct))\n",
    "    res = 0\n",
    "    for ix in np.arange(0, M, lenSeg):\n",
    "        lower, upper = ix, ix+lenSeg\n",
    "        YobsP = Yobs[lower:upper]\n",
    "        bThetaObsP = bThetaObs[lower:upper]\n",
    "        flatXobsP = flatXobs[lower:upper]\n",
    "        res += LpbCategory(beta, bThetaObsP, YobsP, flatXobsP)\n",
    "    return res/m/n\n",
    "\n",
    "def LpTCategoryPart(beta, bThetaObs, Yobs, flatXobs, fct=10):\n",
    "    \"\"\"\n",
    "        Run LpTCategory in fct times, to reduce the memory.\n",
    "        args:\n",
    "            fct: Num of parts to integration\n",
    "      \"\"\"\n",
    "    n, m = R.shape\n",
    "    M = Yobs.shape[0]\n",
    "    lenSeg = int(np.ceil(M/fct))\n",
    "    res = torch.zeros(M)\n",
    "    for ix in np.arange(0, M, lenSeg):\n",
    "        lower, upper = ix, ix+lenSeg\n",
    "        YobsP = Yobs[lower:upper]\n",
    "        bThetaObsP = bThetaObs[lower:upper]\n",
    "        flatXobsP = flatXobs[lower:upper]\n",
    "        resP = LpTCategory(beta, bThetaObsP, YobsP, flatXobsP)\n",
    "        res[lower:upper] = resP\n",
    "    return res/n/m\n",
    "    "
   ]
  },
  {
   "cell_type": "markdown",
   "id": "128c9890",
   "metadata": {
    "heading_collapsed": true
   },
   "source": [
    "### Loop"
   ]
  },
  {
   "cell_type": "code",
   "execution_count": 16,
   "id": "fd59f28e",
   "metadata": {
    "hidden": true
   },
   "outputs": [
    {
     "data": {
      "text/plain": [
       "[{'fb_memory_usage': {'total': 32475.1875, 'free': 32346.75, 'unit': 'MiB'}},\n",
       " {'fb_memory_usage': {'total': 32478.1875, 'free': 32465.9375, 'unit': 'MiB'}},\n",
       " {'fb_memory_usage': {'total': 32478.1875, 'free': 26967.9375, 'unit': 'MiB'}},\n",
       " {'fb_memory_usage': {'total': 32478.1875, 'free': 32465.9375, 'unit': 'MiB'}}]"
      ]
     },
     "execution_count": 16,
     "metadata": {},
     "output_type": "execute_result"
    }
   ],
   "source": [
    "from pynvml.smi import nvidia_smi\n",
    "nvsmi = nvidia_smi.getInstance()\n",
    "nvsmi.DeviceQuery('memory.free, memory.total')[\"gpu\"]"
   ]
  },
  {
   "cell_type": "markdown",
   "id": "77d39e37",
   "metadata": {
    "heading_collapsed": true,
    "hidden": true
   },
   "source": [
    "#### Loop Fn of MAR"
   ]
  },
  {
   "cell_type": "code",
   "execution_count": 17,
   "id": "32cafd83",
   "metadata": {
    "hidden": true
   },
   "outputs": [],
   "source": [
    "def marfRun(Rtrain, CT, Cb, etaT, etab, is_plot=False, is_showPro=False, is_res=False):\n",
    "    Yobs = Yraw.to_dense()[Rtrain.to_dense().bool()]\n",
    "    flatXobs = flatX[Rtrain.to_dense().bool()].long()\n",
    "    \n",
    "    LamT = LamTfn(CT, n, m, p)\n",
    "    Lamb = Lambfn(Cb, n, m)\n",
    "    betaOld, bThetaOld = betainit, bThetainit\n",
    "    bThetaOldObs = bThetaOld[Rtrain.to_dense()==1]\n",
    "    \n",
    "    \n",
    "    reCh = 10\n",
    "    Losses = []\n",
    "    betaDiffs = []\n",
    "    bThetaDiffs = []\n",
    "    betaNorms = []\n",
    "    bThetaNorms = []\n",
    "    betaL0s = []\n",
    "    bThetaRanks = []\n",
    "    \n",
    "    if is_showPro:\n",
    "        IterShowBar = tqdm(range(maxIter))\n",
    "    else:\n",
    "        IterShowBar = range(maxIter)\n",
    "    for t in IterShowBar:\n",
    "        if is_res:\n",
    "            res = RankMetricIter(betaOld, bThetaOld, Rall, Rtrain)\n",
    "            print(res)\n",
    "        t0 = time.time()\n",
    "        curGPU0 = nvsmi.DeviceQuery('memory.free, memory.total')[\"gpu\"][2][\"fb_memory_usage\"]['free']\n",
    "        LvNow = marLCategory(betaOld, bThetaOldObs, Yobs, flatXobs)\n",
    "        \n",
    "        t1 = time.time()\n",
    "        curGPU1 = nvsmi.DeviceQuery('memory.free, memory.total')[\"gpu\"][2][\"fb_memory_usage\"]['free']\n",
    "        # update beta\n",
    "        LpbvOld = marLpbCategory(betaOld, bThetaOldObs, Yobs, flatXobs)\n",
    "        betaNewRaw = betaOld - etab * LpbvOld\n",
    "        betaNew = betaNewRaw.clone()\n",
    "        betaNew = SoftTO(betaNewRaw, etab*Lamb)\n",
    "       \n",
    "        t2 = time.time()\n",
    "        curGPU2 = nvsmi.DeviceQuery('memory.free, memory.total')[\"gpu\"][2][\"fb_memory_usage\"]['free']\n",
    "        LpTvOldObs = marLpTCategory(betaNew, bThetaOldObs, Yobs, flatXobs)\n",
    "        LpTvOld = torch.zeros((n, m))\n",
    "        LpTvOld[Rtrain.to_dense().bool()] = LpTvOldObs\n",
    "        #print(LpTvOld.norm(), betaNewRaw, betaNew)\n",
    "       \n",
    "        t3 = time.time()\n",
    "        curGPU3 = nvsmi.DeviceQuery('memory.free, memory.total')[\"gpu\"][2][\"fb_memory_usage\"]['free']\n",
    "        # update Theta\n",
    "        #svdres = torch.svd(bThetaOld-LpTvOld*etaT)\n",
    "        svdres = torch.svd_lowrank(bThetaOld-LpTvOld*etaT, q=40) # it can be very  fast\n",
    "        U, S, V =  svdres\n",
    "        #bThetaNew = U[:, :nR].matmul(torch.diag(S[:nR])).matmul(V[:, :nR].t())\n",
    "        softS = (S-LamT*etaT).clamp_min(0)\n",
    "        bThetaNew = U.matmul(torch.diag(softS)).matmul(V.t())\n",
    "        \n",
    "        LossNow = LossWP(LvNow, S, betaNew, LamT, Lamb)\n",
    "        Losses.append(LossNow.item())\n",
    "        t4 = time.time()\n",
    "        curGPU4 = nvsmi.DeviceQuery('memory.free, memory.total')[\"gpu\"][2][\"fb_memory_usage\"]['free']\n",
    "        \n",
    "        ts = np.array([t0, t1, t2, t3, t4])\n",
    "        #print(np.diff(ts))\n",
    "        #print(np.diff(ts), torch.matrix_rank(bThetaOld))\n",
    "        #print([curGPU0, curGPU1, curGPU2, curGPU3, curGPU4])\n",
    "    \n",
    "        if t >= 1:\n",
    "            Lk1 = Losses[-1]\n",
    "            Lk = Losses[-2]\n",
    "            reCh = np.abs(Lk1-Lk)/np.max(np.abs((Lk, Lk1, 1))) \n",
    "        betaDiff = (betaOld-betaNew).norm().item()/(betaNew.norm().item()+1e-6)\n",
    "        bThetaDiff = (bThetaOld-bThetaNew).norm().item()/(bThetaNew.norm().item()+1e-6)\n",
    "        betaDiffs.append(betaDiff)\n",
    "        bThetaDiffs.append(bThetaDiff)\n",
    "        bThetaNorms.append(bThetaNew.norm().item())\n",
    "        betaNorms.append(betaNew.norm().item())\n",
    "        betaL0s.append(len(torch.nonzero(betaNew)))\n",
    "        #bThetaRanks.append(torch.linalg.matrix_rank(bThetaNew).item())\n",
    "        \n",
    "        betaOld, bThetaOld = betaNew, bThetaNew \n",
    "        bThetaOldObs = bThetaOld[Rtrain.to_dense()==1]\n",
    "        etaT = etaT * 0.99\n",
    "        etab = etab * 0.99\n",
    "        \n",
    "        \n",
    "        # plot res\n",
    "        if t >= 1 and is_plot:\n",
    "            plt.figure(figsize=[15, 5])\n",
    "            plt.figure(figsize=[15, 10])\n",
    "            \n",
    "            plt.subplot(231)\n",
    "            plt.xlim([0, maxIter])\n",
    "            #plt.ylim([-10, 5])\n",
    "            plt.title(\"Loss Diff\")\n",
    "            lossDifs = np.log(np.abs(np.diff(Losses)))\n",
    "            plt.plot(list(range(0, t)), lossDifs)\n",
    "            plt.scatter(t-1, lossDifs[-1], color=\"red\", s=20)\n",
    "            plt.axhline(y=np.log(tol), color=\"green\", linewidth=2, linestyle='--')\n",
    "            \n",
    "            plt.subplot(232)\n",
    "            plt.xlim([0, maxIter])\n",
    "            #plt.ylim([0, p])\n",
    "            plt.title(\"Theta Norm\")\n",
    "            plt.plot(list(range(0, t+1)), bThetaNorms)\n",
    "            plt.scatter(t, bThetaNorms[-1], color=\"red\", s=20)\n",
    "            plt.text(t, bThetaNorms[-1], f\"Theta norm is {bThetaNorms[-1]:.3f}\")\n",
    "            #plt.axhline(y=5, color=\"green\", linewidth=2, linestyle='--')\n",
    "            \n",
    "            plt.subplot(233)\n",
    "            plt.xlim([0, maxIter])\n",
    "            #plt.ylim([0, np.min([n, m])])\n",
    "            plt.title(\"beta norm\")\n",
    "            plt.plot(list(range(0, t+1)), betaNorms)\n",
    "            plt.scatter(t, betaNorms[-1], color=\"red\", s=20)\n",
    "            plt.text(t, betaNorms[-1], f\"Beta norm is {betaNorms[-1]:.3f}\")\n",
    "            \n",
    "            \n",
    "            plt.subplot(235)\n",
    "            plt.xlim([0, maxIter])\n",
    "            #plt.ylim([0, p])\n",
    "            plt.title(\"Beta L0\")\n",
    "            plt.plot(list(range(0, t+1)), betaL0s)\n",
    "            plt.scatter(t, betaL0s[-1], color=\"red\", s=20)\n",
    "            plt.text(t, betaL0s[-1], f\"L0 norm is {betaL0s[-1]:.0f}\")\n",
    "            plt.axhline(y=5, color=\"green\", linewidth=2, linestyle='--')\n",
    "            \n",
    "            plt.subplot(236)\n",
    "            plt.xlim([0, maxIter])\n",
    "            #plt.ylim([0, np.min([n, m])])\n",
    "            plt.title(\"Theta Rank\")\n",
    "            plt.plot(list(range(0, t+1)), bThetaRanks)\n",
    "            plt.scatter(t, bThetaRanks[-1], color=\"red\", s=20)\n",
    "            plt.text(t, bThetaRanks[-1], f\"rank is {bThetaRanks[-1]:.0f}\")\n",
    "            plt.axhline(y=5, color=\"green\", linewidth=2, linestyle='--')\n",
    "            \n",
    "            #if (reCh >= tol) and ((bThetaDiff >= tolT) or (betaDiff >= tolb)) and (t<=(maxIter-1)):\n",
    "            display.clear_output(wait=True)\n",
    "            plt.pause(1e-7)\n",
    "            \n",
    "            \n",
    "        if (reCh < tol):\n",
    "            break\n",
    "        if (bThetaDiff < tolT) and (betaDiff < tolb):\n",
    "            break\n",
    "    \n",
    "    res = {}\n",
    "    res[\"beta\"] = betaNew.cpu().numpy()\n",
    "    res[\"bTheta\"] = bThetaNew.cpu().numpy()\n",
    "    res[\"IterNum\"] = t\n",
    "    res[\"betaDiffs\"] = betaDiffs\n",
    "    res[\"bThetaDiffs\"] = bThetaDiffs\n",
    "    res[\"loss\"] = Losses\n",
    "    res[\"betaNorm0\"] = len(torch.nonzero(betaNew))\n",
    "    res[\"bThetaRank\"] = torch.linalg.matrix_rank(bThetaNew).item()\n",
    "    return res"
   ]
  },
  {
   "cell_type": "markdown",
   "id": "87f2753d",
   "metadata": {
    "heading_collapsed": true,
    "hidden": true
   },
   "source": [
    "#### Loop fn for MNAR"
   ]
  },
  {
   "cell_type": "code",
   "execution_count": 18,
   "id": "589e68f3",
   "metadata": {
    "hidden": true
   },
   "outputs": [],
   "source": [
    "def fRun(Rtrain, CT, Cb, etaT, etab, is_plot=False, is_showPro=False, is_res=False):\n",
    "    Yobs = Yraw.to_dense()[Rtrain.to_dense().bool()]\n",
    "    flatXobs = flatX[Rtrain.to_dense().bool()].long()\n",
    "    \n",
    "    LamT = LamTfn(CT, n, m, p)\n",
    "    Lamb = Lambfn(Cb, n, m)\n",
    "    betaOld, bThetaOld = betainit, bThetainit\n",
    "    bThetaOldObs = bThetaOld[Rtrain.to_dense()==1]\n",
    "    \n",
    "    \n",
    "    reCh = 10\n",
    "    Losses = []\n",
    "    betaDiffs = []\n",
    "    bThetaDiffs = []\n",
    "    betaNorms = []\n",
    "    bThetaNorms = []\n",
    "    betaL0s = []\n",
    "    bThetaRanks = []\n",
    "    \n",
    "    if is_showPro:\n",
    "        IterShowBar = tqdm(range(maxIter))\n",
    "    else:\n",
    "        IterShowBar = range(maxIter)\n",
    "    for t in IterShowBar:\n",
    "        if is_res:\n",
    "            res = RankMetricIter(betaOld, bThetaOld, Rall, Rtrain)\n",
    "            print(res)\n",
    "        t0 = time.time()\n",
    "        curGPU0 = nvsmi.DeviceQuery('memory.free, memory.total')[\"gpu\"][2][\"fb_memory_usage\"]['free']\n",
    "        LvNow = LCategoryPart(betaOld, bThetaOldObs, Yobs, flatXobs, fct=fct)\n",
    "        \n",
    "        t1 = time.time()\n",
    "        curGPU1 = nvsmi.DeviceQuery('memory.free, memory.total')[\"gpu\"][2][\"fb_memory_usage\"]['free']\n",
    "        # update beta\n",
    "        LpbvOld = LpbCategoryPart(betaOld, bThetaOldObs, Yobs, flatXobs, fct=fct)\n",
    "        betaNewRaw = betaOld - etab * LpbvOld\n",
    "        betaNew = betaNewRaw.clone()\n",
    "        betaNew = SoftTO(betaNewRaw, etab*Lamb)\n",
    "       \n",
    "        t2 = time.time()\n",
    "        curGPU2 = nvsmi.DeviceQuery('memory.free, memory.total')[\"gpu\"][2][\"fb_memory_usage\"]['free']\n",
    "        LpTvOldObs = LpTCategoryPart(betaNew, bThetaOldObs, Yobs, flatXobs, fct=fct)\n",
    "        LpTvOld = torch.zeros((n, m))\n",
    "        LpTvOld[Rtrain.to_dense().bool()] = LpTvOldObs\n",
    "        #print(LpTvOld.norm(), betaNewRaw, betaNew)\n",
    "       \n",
    "        t3 = time.time()\n",
    "        curGPU3 = nvsmi.DeviceQuery('memory.free, memory.total')[\"gpu\"][2][\"fb_memory_usage\"]['free']\n",
    "        # update Theta\n",
    "        #svdres = torch.svd(bThetaOld-LpTvOld*etaT)\n",
    "        svdres = torch.svd_lowrank(bThetaOld-LpTvOld*etaT, q=40) # it can be very  fast\n",
    "        U, S, V =  svdres\n",
    "        #bThetaNew = U[:, :nR].matmul(torch.diag(S[:nR])).matmul(V[:, :nR].t())\n",
    "        softS = (S-LamT*etaT).clamp_min(0)\n",
    "        bThetaNew = U.matmul(torch.diag(softS)).matmul(V.t())\n",
    "        \n",
    "        LossNow = LossWP(LvNow, S, betaNew, LamT, Lamb)\n",
    "        Losses.append(LossNow.item())\n",
    "        t4 = time.time()\n",
    "        curGPU4 = nvsmi.DeviceQuery('memory.free, memory.total')[\"gpu\"][2][\"fb_memory_usage\"]['free']\n",
    "        \n",
    "        ts = np.array([t0, t1, t2, t3, t4])\n",
    "        #print(np.diff(ts))\n",
    "        #print(np.diff(ts), torch.matrix_rank(bThetaOld))\n",
    "        #print([curGPU0, curGPU1, curGPU2, curGPU3, curGPU4])\n",
    "    \n",
    "        if t >= 1:\n",
    "            Lk1 = Losses[-1]\n",
    "            Lk = Losses[-2]\n",
    "            reCh = np.abs(Lk1-Lk)/np.max(np.abs((Lk, Lk1, 1))) \n",
    "        betaDiff = (betaOld-betaNew).norm().item()/(betaNew.norm().item()+1e-6)\n",
    "        bThetaDiff = (bThetaOld-bThetaNew).norm().item()/(bThetaNew.norm().item()+1e-6)\n",
    "        betaDiffs.append(betaDiff)\n",
    "        bThetaDiffs.append(bThetaDiff)\n",
    "        bThetaNorms.append(bThetaNew.norm().item())\n",
    "        betaNorms.append(betaNew.norm().item())\n",
    "        betaL0s.append(len(torch.nonzero(betaNew)))\n",
    "        bThetaRanks.append(torch.linalg.matrix_rank(bThetaNew).item())\n",
    "        \n",
    "        betaOld, bThetaOld = betaNew, bThetaNew \n",
    "        bThetaOldObs = bThetaOld[Rtrain.to_dense()==1]\n",
    "        etaT = etaT * 0.9\n",
    "        etab = etab * 0.9\n",
    "        \n",
    "        \n",
    "        # plot res\n",
    "        if t >= 1 and is_plot:\n",
    "            plt.figure(figsize=[15, 5])\n",
    "            plt.figure(figsize=[15, 10])\n",
    "            \n",
    "            plt.subplot(231)\n",
    "            plt.xlim([0, maxIter])\n",
    "            #plt.ylim([-10, 5])\n",
    "            plt.title(\"Loss Diff\")\n",
    "            lossDifs = np.log(np.abs(np.diff(Losses)))\n",
    "            plt.plot(list(range(0, t)), lossDifs)\n",
    "            plt.scatter(t-1, lossDifs[-1], color=\"red\", s=20)\n",
    "            plt.axhline(y=np.log(tol), color=\"green\", linewidth=2, linestyle='--')\n",
    "            \n",
    "            plt.subplot(232)\n",
    "            plt.xlim([0, maxIter])\n",
    "            #plt.ylim([0, p])\n",
    "            plt.title(\"Theta Norm\")\n",
    "            plt.plot(list(range(0, t+1)), bThetaNorms)\n",
    "            plt.scatter(t, bThetaNorms[-1], color=\"red\", s=20)\n",
    "            plt.text(t, bThetaNorms[-1], f\"Theta norm is {bThetaNorms[-1]:.3f}\")\n",
    "            #plt.axhline(y=5, color=\"green\", linewidth=2, linestyle='--')\n",
    "            \n",
    "            plt.subplot(233)\n",
    "            plt.xlim([0, maxIter])\n",
    "            #plt.ylim([0, np.min([n, m])])\n",
    "            plt.title(\"beta norm\")\n",
    "            plt.plot(list(range(0, t+1)), betaNorms)\n",
    "            plt.scatter(t, betaNorms[-1], color=\"red\", s=20)\n",
    "            plt.text(t, betaNorms[-1], f\"Beta norm is {betaNorms[-1]:.3f}\")\n",
    "            \n",
    "            \n",
    "            plt.subplot(235)\n",
    "            plt.xlim([0, maxIter])\n",
    "            #plt.ylim([0, p])\n",
    "            plt.title(\"Beta L0\")\n",
    "            plt.plot(list(range(0, t+1)), betaL0s)\n",
    "            plt.scatter(t, betaL0s[-1], color=\"red\", s=20)\n",
    "            plt.text(t, betaL0s[-1], f\"L0 norm is {betaL0s[-1]:.0f}\")\n",
    "            plt.axhline(y=5, color=\"green\", linewidth=2, linestyle='--')\n",
    "            \n",
    "            plt.subplot(236)\n",
    "            plt.xlim([0, maxIter])\n",
    "            #plt.ylim([0, np.min([n, m])])\n",
    "            plt.title(\"Theta Rank\")\n",
    "            plt.plot(list(range(0, t+1)), bThetaRanks)\n",
    "            plt.scatter(t, bThetaRanks[-1], color=\"red\", s=20)\n",
    "            plt.text(t, bThetaRanks[-1], f\"rank is {bThetaRanks[-1]:.0f}\")\n",
    "            plt.axhline(y=5, color=\"green\", linewidth=2, linestyle='--')\n",
    "            \n",
    "            #if (reCh >= tol) and ((bThetaDiff >= tolT) or (betaDiff >= tolb)) and (t<=(maxIter-1)):\n",
    "            display.clear_output(wait=True)\n",
    "            plt.pause(1e-7)\n",
    "            \n",
    "            \n",
    "        if (reCh < tol):\n",
    "            break\n",
    "        if (bThetaDiff < tolT) and (betaDiff < tolb):\n",
    "            break\n",
    "    \n",
    "    res = {}\n",
    "    res[\"beta\"] = betaNew.cpu().numpy()\n",
    "    res[\"bTheta\"] = bThetaNew.cpu().numpy()\n",
    "    res[\"IterNum\"] = t\n",
    "    res[\"betaDiffs\"] = betaDiffs\n",
    "    res[\"bThetaDiffs\"] = bThetaDiffs\n",
    "    res[\"loss\"] = Losses\n",
    "    res[\"betaNorm0\"] = len(torch.nonzero(betaNew))\n",
    "    res[\"bThetaRank\"] = torch.linalg.matrix_rank(bThetaNew).item()\n",
    "    return res"
   ]
  },
  {
   "cell_type": "markdown",
   "id": "0403ded9",
   "metadata": {
    "heading_collapsed": true,
    "hidden": true
   },
   "source": [
    "#### Run"
   ]
  },
  {
   "cell_type": "code",
   "execution_count": 57,
   "id": "20712dd3",
   "metadata": {
    "hidden": true
   },
   "outputs": [],
   "source": [
    "n, m = Yraw.shape\n",
    "Yobs = Yraw.to_dense()[R.to_dense().bool()]\n",
    "flatXobs = flatX[R.to_dense().bool()].long()\n",
    "p = Ps.shape[0]\n",
    "betainit = torch.zeros(p) \n",
    "bThetainit = torch.rand(n, m)\n",
    "Rall = R\n",
    "Rtrain = GenMissing(Yraw.to_dense(), 0.03, 0.65)"
   ]
  },
  {
   "cell_type": "code",
   "execution_count": 58,
   "id": "ccf7aa6f",
   "metadata": {
    "hidden": true
   },
   "outputs": [
    {
     "data": {
      "application/vnd.jupyter.widget-view+json": {
       "model_id": "0887e94a69d14059b01e5591270efd45",
       "version_major": 2,
       "version_minor": 0
      },
      "text/plain": [
       "  0%|          | 0/50 [00:00<?, ?it/s]"
      ]
     },
     "metadata": {},
     "output_type": "display_data"
    },
    {
     "data": {
      "text/plain": [
       "tensor(0.0913)"
      ]
     },
     "execution_count": 58,
     "metadata": {},
     "output_type": "execute_result"
    }
   ],
   "source": [
    "maxIter = 50 \n",
    "tol, tolT, tolb =1e-8, 0, 0\n",
    "marCT, marCb, marEtaT, marEtab = [5e-6, 5e2, 1e8, 5e3] #MAR\n",
    "resMAR = marfRun(Rtrain, marCT, marCb, marEtaT, marEtab, is_plot=False, is_showPro=True, is_res=False)\n",
    "\n",
    "RankMetric(resMAR, Rall, Rtrain)"
   ]
  },
  {
   "cell_type": "code",
   "execution_count": null,
   "id": "5339f599",
   "metadata": {
    "hidden": true
   },
   "outputs": [],
   "source": [
    "fct = 4\n",
    "maxIter = 20 \n",
    "tol, tolT, tolb =1e-8, 0, 0\n",
    "CT, Cb, etaT, etab =  [2e-05, 1e5, 1e7, 3]\n",
    "bThetainit = torch.tensor(resMAR['bTheta'])\n",
    "betainit = torch.tensor(resMAR['beta'])\n",
    "#betainit = torch.zeros(p) \n",
    "#bThetainit = torch.rand(n, m)\n",
    "resMNAR = fRun(Rtrain, CT, Cb, etaT, etab, is_plot=False, is_showPro=True, is_res=True)"
   ]
  },
  {
   "cell_type": "code",
   "execution_count": 80,
   "id": "3d2cb49b",
   "metadata": {
    "hidden": true
   },
   "outputs": [
    {
     "data": {
      "text/plain": [
       "0.6453554462869824"
      ]
     },
     "execution_count": 80,
     "metadata": {},
     "output_type": "execute_result"
    }
   ],
   "source": [
    "np.sum(resMNAR[\"beta\"])"
   ]
  },
  {
   "cell_type": "markdown",
   "id": "c03c966d",
   "metadata": {
    "heading_collapsed": true
   },
   "source": [
    "## MNAR tuning"
   ]
  },
  {
   "cell_type": "code",
   "execution_count": 19,
   "id": "a64d4271",
   "metadata": {
    "hidden": true
   },
   "outputs": [],
   "source": [
    "n, m = Yraw.shape\n",
    "Yobs = Yraw.to_dense()[R.to_dense().bool()]\n",
    "flatXobs = flatX[R.to_dense().bool()].long()\n",
    "p = Ps.shape[0]\n",
    "betainit = torch.zeros(p) \n",
    "bThetainit = torch.rand(n, m)\n",
    "Rall = R\n",
    "tol, tolT, tolb =1e-8, 0, 0\n",
    "fct = 4"
   ]
  },
  {
   "cell_type": "code",
   "execution_count": 20,
   "id": "0dc943ad",
   "metadata": {
    "hidden": true
   },
   "outputs": [],
   "source": [
    "paraXs = [\n",
    "[2e-05, 1e5, 1e7, 3],\n",
    "[2e-05, 1e5, 2e7, 3],\n",
    "[2e-05, 2e5, 1e7, 3],\n",
    "[2e-05, 1e5, 1e7, 4],\n",
    "[2e-05, 1e5, 1e6, 3],\n",
    "[2e-05, 5e5, 1e7, 3]\n",
    "]"
   ]
  },
  {
   "cell_type": "code",
   "execution_count": 21,
   "id": "9b4b665e",
   "metadata": {
    "hidden": true
   },
   "outputs": [
    {
     "data": {
      "application/vnd.jupyter.widget-view+json": {
       "model_id": "5a9857f9ac0e4c5484b50d93d406fbc2",
       "version_major": 2,
       "version_minor": 0
      },
      "text/plain": [
       "Main Loop:   0%|          | 0/6 [00:00<?, ?it/s]"
      ]
     },
     "metadata": {},
     "output_type": "display_data"
    },
    {
     "data": {
      "application/vnd.jupyter.widget-view+json": {
       "model_id": "3943a67d6b704623a1bb8d97e9bc355d",
       "version_major": 2,
       "version_minor": 0
      },
      "text/plain": [
       "Inner Loop:   0%|          | 0/100 [00:00<?, ?it/s]"
      ]
     },
     "metadata": {},
     "output_type": "display_data"
    },
    {
     "data": {
      "application/vnd.jupyter.widget-view+json": {
       "model_id": "0b3dbbc1309449549d112c42c45a97c9",
       "version_major": 2,
       "version_minor": 0
      },
      "text/plain": [
       "Inner Loop:   0%|          | 0/100 [00:00<?, ?it/s]"
      ]
     },
     "metadata": {},
     "output_type": "display_data"
    },
    {
     "data": {
      "application/vnd.jupyter.widget-view+json": {
       "model_id": "d21a03d694f24240bfc4ee0c2a7cd088",
       "version_major": 2,
       "version_minor": 0
      },
      "text/plain": [
       "Inner Loop:   0%|          | 0/100 [00:00<?, ?it/s]"
      ]
     },
     "metadata": {},
     "output_type": "display_data"
    },
    {
     "data": {
      "application/vnd.jupyter.widget-view+json": {
       "model_id": "f0517d309f6f469fbbf5e7a0390bb3c2",
       "version_major": 2,
       "version_minor": 0
      },
      "text/plain": [
       "Inner Loop:   0%|          | 0/100 [00:00<?, ?it/s]"
      ]
     },
     "metadata": {},
     "output_type": "display_data"
    },
    {
     "data": {
      "application/vnd.jupyter.widget-view+json": {
       "model_id": "c36f55e53e3446f195fc2e6904050cc2",
       "version_major": 2,
       "version_minor": 0
      },
      "text/plain": [
       "Inner Loop:   0%|          | 0/100 [00:00<?, ?it/s]"
      ]
     },
     "metadata": {},
     "output_type": "display_data"
    },
    {
     "data": {
      "application/vnd.jupyter.widget-view+json": {
       "model_id": "30f2b5798b154872b48c1588d2c0af60",
       "version_major": 2,
       "version_minor": 0
      },
      "text/plain": [
       "Inner Loop:   0%|          | 0/100 [00:00<?, ?it/s]"
      ]
     },
     "metadata": {},
     "output_type": "display_data"
    }
   ],
   "source": [
    "resMNARss = []\n",
    "resMARss = []\n",
    "for paraX in tqdm(paraXs, desc=\"Main Loop\"):\n",
    "    CT, Cb, etaT, etab = paraX\n",
    "    resMNARs = []\n",
    "    resMARs = []\n",
    "    for i in tqdm(range(100), desc=\"Inner Loop\"):\n",
    "        Rtrain = GenMissing(Yraw.to_dense(), 0.03, 0.65)\n",
    "        \n",
    "        betainit = torch.zeros(p) \n",
    "        bThetainit = torch.rand(n, m)\n",
    "        try:\n",
    "            marCT, marCb, marEtaT, marEtab = [5e-6, 5e2, 1e8, 5e3] #MAR\n",
    "            maxIter = 50\n",
    "            resMAR = marfRun(Rtrain, marCT, marCb, marEtaT, marEtab, is_plot=False, is_showPro=False, is_res=False)\n",
    "            \n",
    "            maxIter = 10\n",
    "            bThetainit = torch.tensor(resMAR['bTheta'])\n",
    "            betainit = torch.tensor(resMAR['beta'])\n",
    "            resMNAR = fRun(Rtrain, CT, Cb, etaT, etab, is_plot=False, is_showPro=False, is_res=False)\n",
    "        except: \n",
    "            pass\n",
    "        else:\n",
    "            resMNARs.append(RankMetric(resMNAR, R, Rtrain).item())\n",
    "            resMARs.append(RankMetric(resMAR, R, Rtrain).item())\n",
    "        if len(resMNARs) >= 10:\n",
    "            break\n",
    "    resMNARss.append((paraX, resMNARs, resMARs))"
   ]
  },
  {
   "cell_type": "code",
   "execution_count": 22,
   "id": "f54fc1c1",
   "metadata": {
    "hidden": true
   },
   "outputs": [
    {
     "name": "stdout",
     "output_type": "stream",
     "text": [
      "The optimal parameters are [2e-05, 100000.0, 10000000.0, 4], the ranking is 0.0881.\n"
     ]
    }
   ],
   "source": [
    "resMs = [np.mean(resMNARs[1]) for resMNARs in resMNARss]\n",
    "optX = resMNARss[np.argmin(resMs)][0]\n",
    "print(f\"The optimal parameters are {optX}, the ranking is {np.min(resMs):.4f}.\")"
   ]
  },
  {
   "cell_type": "markdown",
   "id": "8229dd81",
   "metadata": {},
   "source": [
    "## Compare MNAR with ALS"
   ]
  },
  {
   "cell_type": "code",
   "execution_count": 30,
   "id": "6363a27c",
   "metadata": {},
   "outputs": [],
   "source": [
    "n, m = Yraw.shape\n",
    "Yobs = Yraw.to_dense()[R.to_dense().bool()]\n",
    "flatXobs = flatX[R.to_dense().bool()].long()\n",
    "p = Ps.shape[0]\n",
    "betainit = torch.zeros(p) \n",
    "bThetainit = torch.rand(n, m)\n",
    "Rall = R\n",
    "tol, tolT, tolb =1e-8, 0, 0\n",
    "fct = 4"
   ]
  },
  {
   "cell_type": "code",
   "execution_count": 31,
   "id": "d2123acc",
   "metadata": {},
   "outputs": [],
   "source": [
    "# opt parameters  by tuning \n",
    "optNumFct = 16\n",
    "optK1 = 2\n",
    "CT, Cb, etaT, etab = [2e-05, 100000.0, 10000000.0, 4]"
   ]
  },
  {
   "cell_type": "code",
   "execution_count": 32,
   "id": "812e85f0",
   "metadata": {},
   "outputs": [
    {
     "data": {
      "application/vnd.jupyter.widget-view+json": {
       "model_id": "fce932b5278e4be0a615ceee5b463799",
       "version_major": 2,
       "version_minor": 0
      },
      "text/plain": [
       "Loop:   0%|          | 0/20 [00:00<?, ?it/s]"
      ]
     },
     "metadata": {},
     "output_type": "display_data"
    },
    {
     "name": "stderr",
     "output_type": "stream",
     "text": [
      "WARNING:root:OpenBLAS detected. Its highly recommend to set the environment variable 'export OPENBLAS_NUM_THREADS=1' to disable its internal multithreading\n"
     ]
    }
   ],
   "source": [
    "resRanks = []\n",
    "for i in tqdm(range(20), desc=\"Loop\"):\n",
    "    Rtrain = GenMissing(Yraw.to_dense(), 0.03, 0.65)\n",
    "    Yn = Yraw.clone().to_dense()\n",
    "    Yn[Rtrain.to_dense()==0] = 0\n",
    "    \n",
    "    # obtain data for training\n",
    "    YtrainArr = csr_matrix(Yn.cpu().numpy())\n",
    "    YtrainArr.data[YtrainArr.data < 1] = 0\n",
    "    YtrainArr.eliminate_zeros()\n",
    "    YtrainArr = bm25_weight(YtrainArr, B=0.75, K1=optK1).tocsr()\n",
    "    \n",
    "    ALSmodel = AlternatingLeastSquares(optNumFct, use_gpu=False)\n",
    "    ALSmodel.fit(YtrainArr, show_progress=False)\n",
    "    \n",
    "    resALSrank = RankMetricALS(ALSmodel, R, Rtrain).item()\n",
    "    \n",
    "    betainit = torch.zeros(p) \n",
    "    bThetainit = torch.rand(n, m)\n",
    "    try:\n",
    "        marCT, marCb, marEtaT, marEtab = [5e-6, 5e2, 1e8, 5e3] #MAR\n",
    "        maxIter = 50\n",
    "        resMAR = marfRun(Rtrain, marCT, marCb, marEtaT, marEtab, is_plot=False, is_showPro=False, is_res=False)\n",
    "            \n",
    "        maxIter = 10\n",
    "        bThetainit = torch.tensor(resMAR['bTheta'])\n",
    "        betainit = torch.tensor(resMAR['beta'])\n",
    "        resMNAR = fRun(Rtrain, CT, Cb, etaT, etab, is_plot=False, is_showPro=False, is_res=False)\n",
    "    except: \n",
    "        pass\n",
    "    else:\n",
    "        resMNARrank = RankMetric(resMNAR, R, Rtrain).item()\n",
    "        resRanks.append([resALSrank, resMNARrank])"
   ]
  },
  {
   "cell_type": "code",
   "execution_count": 33,
   "id": "2d9b3d9e",
   "metadata": {},
   "outputs": [],
   "source": [
    "ms = np.mean(resRanks, axis=0)\n",
    "stds = np.std(resRanks, axis=0)"
   ]
  },
  {
   "cell_type": "code",
   "execution_count": 34,
   "id": "fe86e757",
   "metadata": {},
   "outputs": [],
   "source": [
    "ups = ms + 1.96*stds\n",
    "lowers = ms - 1.96*stds"
   ]
  },
  {
   "cell_type": "code",
   "execution_count": 35,
   "id": "d32fa669",
   "metadata": {},
   "outputs": [
    {
     "name": "stdout",
     "output_type": "stream",
     "text": [
      "95% CI for ALS is (0.1036, 0.1046).\n"
     ]
    }
   ],
   "source": [
    "print(f\"95% CI for ALS is ({lowers[0]:.4f}, {ups[0]:.4f}).\")"
   ]
  },
  {
   "cell_type": "code",
   "execution_count": 36,
   "id": "19353686",
   "metadata": {},
   "outputs": [
    {
     "name": "stdout",
     "output_type": "stream",
     "text": [
      "95% CI for MNAR is (0.0879, 0.0884).\n"
     ]
    }
   ],
   "source": [
    "print(f\"95% CI for MNAR is ({lowers[1]:.4f}, {ups[1]:.4f}).\")"
   ]
  },
  {
   "cell_type": "code",
   "execution_count": 37,
   "id": "99ca01a6",
   "metadata": {},
   "outputs": [],
   "source": [
    "with open(\"./JMLRR3/MovieLensLargePRes.pkl\", \"wb\") as wf:\n",
    "    pickle.dump(resRanks, wf)"
   ]
  },
  {
   "cell_type": "code",
   "execution_count": 38,
   "id": "ae4a5f5e",
   "metadata": {},
   "outputs": [
    {
     "data": {
      "image/png": "[encoded data removed]",
      "text/plain": [
       "<Figure size 1000x1000 with 1 Axes>"
      ]
     },
     "metadata": {
      "needs_background": "light"
     },
     "output_type": "display_data"
    }
   ],
   "source": [
    "plt.figure(figsize=[5, 5], dpi=200)\n",
    "plt.boxplot(np.array(resRanks)*100)\n",
    "plt.ylabel(\"Expected percentile ranking (%)\")\n",
    "_ = plt.xticks([1, 2], [\"WCF\", \"MNAR\"])\n",
    "plt.savefig(\"./JMLRR3/MovieLensLPBoxplot.jpg\", bbox_inches='tight')"
   ]
  },
  {
   "cell_type": "code",
   "execution_count": null,
   "id": "d03cbf24",
   "metadata": {},
   "outputs": [],
   "source": []
  }
 ],
 "metadata": {
  "kernelspec": {
   "display_name": "Python 3",
   "language": "python",
   "name": "python3"
  },
  "language_info": {
   "codemirror_mode": {
    "name": "ipython",
    "version": 3
   },
   "file_extension": ".py",
   "mimetype": "text/x-python",
   "name": "python",
   "nbconvert_exporter": "python",
   "pygments_lexer": "ipython3",
   "version": "3.6.10"
  },
  "toc": {
   "base_numbering": 1,
   "nav_menu": {},
   "number_sections": true,
   "sideBar": true,
   "skip_h1_title": false,
   "title_cell": "Table of Contents",
   "title_sidebar": "Contents",
   "toc_cell": false,
   "toc_position": {},
   "toc_section_display": true,
   "toc_window_display": true
  }
 },
 "nbformat": 4,
 "nbformat_minor": 5
}
